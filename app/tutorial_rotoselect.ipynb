{
  "cells": [
    {
      "cell_type": "code",
      "execution_count": null,
      "metadata": {
        "collapsed": false
      },
      "outputs": [],
      "source": [
        "# This cell is added by sphinx-gallery\n# It can be customized to whatever you like\n%matplotlib inline"
      ]
    },
    {
      "cell_type": "markdown",
      "metadata": {},
      "source": [
        "\n\n\nQuantum circuit structure learning\n==================================\n\n"
      ]
    },
    {
      "cell_type": "markdown",
      "metadata": {},
      "source": [
        "This example shows how to learn a good selection of rotation\ngates so as to minimize a cost\nfunction using the Rotoselect algorithm of `Ostaszewski et al.\n(2019) <https://arxiv.org/abs/1905.09692>`__. We apply this algorithm to minimize a Hamiltonian for a\nvariational quantum eigensolver (VQE) problem,\nand improve upon an initial circuit structure ansatz.\n\nBackground\n----------\n\nIn quantum machine learning and optimization problems,\none wishes to minimize a cost function with respect to some parameters in the circuit. It is desirable\nto keep the circuit as shallow as possible to reduce the effects of noise, but an arbitrary\nchoice of gates is generally suboptimal for performing the optimization.\nTherefore, it would be useful to employ an\nalgorithm which learns a good circuit structure at fixed depth to minimize the cost function.\n\nFurthermore, PennyLane's optimizers perform automatic differentiation of quantum nodes by evaluating phase-shifted\nexpectation values using the quantum circuit itself.\nThe output of these calculations, the gradient, is used in optimization methods to minimize\nthe cost function. However,\nthere exists a technique to discover the optimal parameters of a quantum circuit through phase-shifted evaluations,\nwithout the need for calculating the gradient as an intermediate step (i.e., a gradient-free optimization).\nIt could be desirable, in some cases, to\ntake advantage of this.\n\n\nThe Rotoselect algorithm addresses the above two points: it allows one to jump directly to the\noptimal value for a single parameter\nwith respect to fixed values for the other parameters, skipping gradient descent, and tries various\nrotation gates along the way.\nThe algorithm works by updating the parameters $\\boldsymbol{\\theta}=\\theta_1,\\dots,\\theta_D$ and gate choices\n$\\boldsymbol{R}=R_1,\\dots,R_D$\none at a time according to a *closed-form expression* for the optimal value of the $d^{\\text{th}}$ parameter\n$\\theta^{*}_d$ when the other parameters and gate choices are fixed:\n\n\\begin{align}\\theta^{*}_d &= \\underset{\\theta_d}{\\text{argmin}} \\langle H \\rangle_{\\theta_d} \\\\\n               &= -\\frac{\\pi}{2} - \\text{arctan}\\left(\\frac{2\\langle H \\rangle_{\\theta_d = 0} -\n               \\langle H \\rangle_{\\theta_d=\\pi/2} - \\langle H \\rangle_{\\theta_d=-\\pi/2}}{\\langle\n               H \\rangle_{\\theta_d=\\pi/2} -\n               \\langle H \\rangle_{\\theta_d=-\\pi/2}}\\right)\\end{align}\n\nThe calculation makes use of 3 separate evaluations\nof the expectation value $\\langle H \\rangle_{\\theta_d}$ using the quantum circuit. Although\n$\\langle H \\rangle$ is really a function of all parameters and gate choices\n($\\boldsymbol{\\theta}$, $\\boldsymbol{R}$), we\nare fixing every parameter and gate choice apart from $\\theta_d$ in this expression so we write it as\n$\\langle H \\rangle = \\langle H \\rangle_{\\theta_d}$.\nFor each parameter in the quantum circuit, the algorithm proceeds by evaluating $\\theta^{*}_d$\nfor each choice of\ngate $R_d \\in \\{R_x,R_y,R_z\\}$ and selecting the gate which yields the minimum value of\n$\\langle H \\rangle$.\n\nThus, one might expect the number of circuit evaluations required to be 9 for each parameter (3 for each gate\nchoice). However, since all 3 rotation gates yield identity when $\\theta_d=0$,\n\n\\begin{align}R_x(0) = R_y(0) = R_z(0) = 1,\\end{align}\n\nthe value of $\\langle H \\rangle_{\\theta_d=0}$ in the expression for $\\theta_d^{*}$ above\nis the same for each of the gate choices, and this 3-fold\ndegeneracy reduces the number of evaluations required to 7.\n\nOne cycle of the Rotoselect algorithm involves\niterating through every parameter and performing the calculation above.\nThis cycle is repeated for a fixed number of steps or until convergence. In this way, one could learn both\nthe optimal parameters and gate choices for the task of minimizing\na given cost function. Next, we present an example of this algorithm\napplied to a VQE Hamiltonian.\n\nExample VQE Problem\n-------------------\n\nWe focus on a 2-qubit VQE circuit for simplicity. Here, the Hamiltonian\nis\n\n\\begin{align}H = 0.5Y_2 + 0.8Z_1 - 0.2X_1\\end{align}\n\nwhere the subscript denotes the qubit upon which the Pauli operator acts. The\nexpectation value of this quantity acts as the cost function for our\noptimization.\n\nRotosolve\n---------\nAs a precursor to implementing Rotoselect we can analyze a version of the algorithm\nwhich does not optimize the choice of gates and only optimizes the parameters for a given circuit ansatz,\ncalled Rotosolve. Later, we will build on this example\nto implement Rotoselect and vary the circuit structure.\n\nImports\n~~~~~~~\nTo get started, we import PennyLane and the PennyLane-wrapped version of NumPy. We also\ncreate a 2-qubit device using the ``default.qubit`` plugin and set the ``analytic`` keyword to ``True``\nin order to obtain exact values for any expectation values calculated. In contrast to real\ndevices, simulators have the capability of doing these calculations without sampling.\n\n"
      ]
    },
    {
      "cell_type": "code",
      "execution_count": null,
      "metadata": {
        "collapsed": false
      },
      "outputs": [],
      "source": [
        "import pennylane as qml\nfrom pennylane import numpy as np\n\nn_wires = 2\n\ndev = qml.device(\"default.qubit\", analytic=True, wires=2)"
      ]
    },
    {
      "cell_type": "markdown",
      "metadata": {},
      "source": [
        "Creating a fixed quantum circuit\n~~~~~~~~~~~~~~~~~~~~~~~~~~~~~~~~\n\n.. figure:: ../implementations/rotoselect/original_ansatz.png\n   :scale: 65%\n   :align: center\n   :alt: original_ansatz\n\n|\n\nNext, we set up a circuit with a fixed ansatz structure---which will later be subject to change---and encode\nthe Hamiltonian into a cost function. The structure is shown in the figure above.\n\n"
      ]
    },
    {
      "cell_type": "code",
      "execution_count": null,
      "metadata": {
        "collapsed": false
      },
      "outputs": [],
      "source": [
        "def ansatz(params):\n    qml.RX(params[0], wires=0)\n    qml.RY(params[1], wires=1)\n    qml.CNOT(wires=[0, 1])\n\n\n@qml.qnode(dev)\ndef circuit(params):\n    ansatz(params)\n    return qml.expval(qml.PauliZ(0)), qml.expval(qml.PauliY(1))\n\n\n@qml.qnode(dev)\ndef circuit2(params):\n    ansatz(params)\n    return qml.expval(qml.PauliX(0))\n\n\ndef cost(params):\n    Z_1, Y_2 = circuit(params)\n    X_1 = circuit2(params)\n    return 0.5 * Y_2 + 0.8 * Z_1 - 0.2 * X_1"
      ]
    },
    {
      "cell_type": "markdown",
      "metadata": {},
      "source": [
        "Helper methods for the algorithm\n~~~~~~~~~~~~~~~~~~~~~~~~~~~~~~~~\nWe define methods to evaluate\nthe expression in the previous section. These will serve as the basis for\nour optimization algorithm.\n\n"
      ]
    },
    {
      "cell_type": "code",
      "execution_count": null,
      "metadata": {
        "collapsed": false
      },
      "outputs": [],
      "source": [
        "# calculation as described above\ndef opt_theta(d, params, cost):\n    params[d] = 0.0\n    M_0 = cost(params)\n    params[d] = np.pi / 2.0\n    M_0_plus = cost(params)\n    params[d] = -np.pi / 2.0\n    M_0_minus = cost(params)\n    a = np.arctan2(\n        2.0 * M_0 - M_0_plus - M_0_minus, M_0_plus - M_0_minus\n    )  # returns value in (-pi,pi]\n    params[d] = -np.pi / 2.0 - a\n    # restrict output to lie in (-pi,pi], a convention\n    # consistent with the Rotosolve paper\n    if params[d] <= -np.pi:\n        params[d] += 2 * np.pi\n\n\n# one cycle of rotosolve\ndef rotosolve_cycle(cost, params):\n    for d in range(len(params)):\n        opt_theta(d, params, cost)\n    return params"
      ]
    },
    {
      "cell_type": "markdown",
      "metadata": {},
      "source": [
        "Optimization and comparison with gradient descent\n~~~~~~~~~~~~~~~~~~~~~~~~~~~~~~~~~~~~~~~~~~~~~~~~~\nWe set up some initial parameters for the $R_x$ and $R_y$\ngates in the ansatz circuit structure and perform an optimization using the\nRotosolve algorithm.\n\n"
      ]
    },
    {
      "cell_type": "code",
      "execution_count": null,
      "metadata": {
        "collapsed": false
      },
      "outputs": [],
      "source": [
        "init_params = [0.3, 0.25]\nparams_rsol = init_params.copy()\nn_steps = 30\n\ncosts_rotosolve = []\n\nfor i in range(n_steps):\n    costs_rotosolve.append(cost(params_rsol))\n    params_rsol = rotosolve_cycle(cost, params_rsol)"
      ]
    },
    {
      "cell_type": "markdown",
      "metadata": {},
      "source": [
        "We then compare the results of Rotosolve to an optimization\nperformed with gradient descent and plot\nthe cost functions at each step (or cycle in the case of Rotosolve).\nThis comparison is fair since the number of circuit\nevaluations involved in a cycle of Rotosolve is similar to those required to calculate\nthe gradient of the circuit and step in this direction. Evidently, the Rotosolve algorithm\nconverges on the minimum after the first cycle for this simple circuit.\n\n"
      ]
    },
    {
      "cell_type": "code",
      "execution_count": null,
      "metadata": {
        "collapsed": false
      },
      "outputs": [],
      "source": [
        "params_gd = init_params.copy()\nopt = qml.GradientDescentOptimizer(stepsize=0.5)\ncosts_gd = []\nfor i in range(n_steps):\n    costs_gd.append(cost(params_gd))\n    params_gd = opt.step(cost, params_gd)\n\n\n# plot cost function optimization using the 2 techniques\nimport matplotlib.pyplot as plt\n\nsteps = np.arange(0, n_steps)\nfig, (ax1, ax2) = plt.subplots(1, 2, figsize=(7, 3))\nplt.subplot(1, 2, 1)\nplt.plot(steps, costs_gd, \"o-\")\nplt.title(\"grad. desc.\")\nplt.xlabel(\"steps\")\nplt.ylabel(\"cost\")\nplt.subplot(1, 2, 2)\nplt.plot(steps, costs_rotosolve, \"o-\")\nplt.title(\"rotosolve\")\nplt.xlabel(\"cycles\")\nplt.ylabel(\"cost\")\nplt.tight_layout()\nplt.show()"
      ]
    },
    {
      "cell_type": "markdown",
      "metadata": {},
      "source": [
        "Cost function surface for circuit ansatz\n~~~~~~~~~~~~~~~~~~~~~~~~~~~~~~~~~~~~~~~~\nNow, we plot the cost function surface for later comparison with the surface generated\nby learning the circuit structure.\n\n"
      ]
    },
    {
      "cell_type": "code",
      "execution_count": null,
      "metadata": {
        "collapsed": false
      },
      "outputs": [],
      "source": [
        "from matplotlib import cm\nfrom matplotlib.ticker import MaxNLocator\nfrom mpl_toolkits.mplot3d import Axes3D\n\nfig = plt.figure(figsize=(6, 4))\nax = fig.gca(projection=\"3d\")\n\nX = np.linspace(-4.0, 4.0, 40)\nY = np.linspace(-4.0, 4.0, 40)\nxx, yy = np.meshgrid(X, Y)\nZ = np.array([[cost([x, y]) for x in X] for y in Y]).reshape(len(Y), len(X))\nsurf = ax.plot_surface(xx, yy, Z, cmap=cm.coolwarm, antialiased=False)\n\nax.set_xlabel(r\"$\\theta_1$\")\nax.set_ylabel(r\"$\\theta_2$\")\nax.zaxis.set_major_locator(MaxNLocator(nbins=5, prune=\"lower\"))\n\nplt.show()"
      ]
    },
    {
      "cell_type": "markdown",
      "metadata": {},
      "source": [
        "It is apparent that, based on the circuit structure\nchosen above, the cost function does not depend on the angle parameter $\\theta_2$\nfor the rotation gate $R_y$. As we will show in the following sections, this independence is not true\nfor alternative gate choices.\n\nRotoselect\n----------\n\n.. figure:: ../implementations/rotoselect/rotoselect_structure.png\n   :scale: 65%\n   :align: center\n   :alt: rotoselect_structure\n\n|\n\nWe now implement the Rotoselect algorithm to learn a good selection of gates to minimize\nour cost function. The structure is similar to the original ansatz, but the generators of rotation are\nselected from the set of Pauli gates $P_d \\in \\{X,Y,Z\\}$ as shown in the figure above. For example,\n$U(\\theta,Z) = R_z(\\theta)$.\n\nCreating a quantum circuit with variable gates\n~~~~~~~~~~~~~~~~~~~~~~~~~~~~~~~~~~~~~~~~~~~~~~\nFirst, we set up a quantum circuit with a similar structure to the one above, but\ninstead of fixed rotation gates $R_x$ and $R_y$, we allow the gates to be specified with the\n``generators`` keyword, which is a list of the generators of rotation that will be used for the gates in the circuit.\nFor example, ``generators=['X', 'Y']`` reproduces the original circuit ansatz used in the Rotosolve example\nabove.\nA helper method ``RGen`` returns the correct unitary gate according to the\nrotation specified by an element of ``generators``.\n\n"
      ]
    },
    {
      "cell_type": "code",
      "execution_count": null,
      "metadata": {
        "collapsed": false
      },
      "outputs": [],
      "source": [
        "def RGen(param, generator, wires):\n    if generator == \"X\":\n        qml.RX(param, wires=wires)\n    elif generator == \"Y\":\n        qml.RY(param, wires=wires)\n    elif generator == \"Z\":\n        qml.RZ(param, wires=wires)\n\n\ndef ansatz_rsel(params, generators):\n    RGen(params[0], generators[0], wires=0)\n    RGen(params[1], generators[1], wires=1)\n    qml.CNOT(wires=[0, 1])\n\n\n@qml.qnode(dev)\ndef circuit_rsel(params, generators=None):  # generators will be passed as a keyword arg\n    ansatz_rsel(params, generators)\n    return qml.expval(qml.PauliZ(0)), qml.expval(qml.PauliY(1))\n\n\n@qml.qnode(dev)\ndef circuit_rsel2(params, generators=None):  # generators will be passed as a keyword arg\n    ansatz_rsel(params, generators)\n    return qml.expval(qml.PauliX(0))\n\n\ndef cost_rsel(params, generators):\n    Z_1, Y_2 = circuit_rsel(params, generators=generators)\n    X_1 = circuit_rsel2(params, generators=generators)\n    return 0.5 * Y_2 + 0.8 * Z_1 - 0.2 * X_1"
      ]
    },
    {
      "cell_type": "markdown",
      "metadata": {},
      "source": [
        "Helper methods\n~~~~~~~~~~~~~~\nWe define helper methods in a similar fashion to Rotosolve. In this case,\nwe must iterate through the possible gate choices in addition to optimizing each parameter.\n\n"
      ]
    },
    {
      "cell_type": "code",
      "execution_count": null,
      "metadata": {
        "collapsed": false
      },
      "outputs": [],
      "source": [
        "def rotosolve(d, params, generators, cost, M_0):  # M_0 only calculated once\n    params[d] = np.pi / 2.0\n    M_0_plus = cost(params, generators)\n    params[d] = -np.pi / 2.0\n    M_0_minus = cost(params, generators)\n    a = np.arctan2(\n        2.0 * M_0 - M_0_plus - M_0_minus, M_0_plus - M_0_minus\n    )  # returns value in (-pi,pi]\n    params[d] = -np.pi / 2.0 - a\n    if params[d] <= -np.pi:\n        params[d] += 2 * np.pi\n    return cost(params, generators)\n\n\ndef optimal_theta_and_gen_helper(d, params, generators, cost):\n    params[d] = 0.0\n    M_0 = cost(params, generators)  # M_0 independent of generator selection\n    for generator in [\"X\", \"Y\", \"Z\"]:\n        generators[d] = generator\n        params_cost = rotosolve(d, params, generators, cost, M_0)\n        # initialize optimal generator with first item in list, \"X\", and update if necessary\n        if generator == \"X\" or params_cost <= params_opt_cost:\n            params_opt_d = params[d]\n            params_opt_cost = params_cost\n            generators_opt_d = generator\n    return params_opt_d, generators_opt_d\n\n\ndef rotoselect_cycle(cost, params, generators):\n    for d in range(len(params)):\n        params[d], generators[d] = optimal_theta_and_gen_helper(d, params, generators, cost)\n    return params, generators"
      ]
    },
    {
      "cell_type": "markdown",
      "metadata": {},
      "source": [
        "Optimizing the circuit structure\n~~~~~~~~~~~~~~~~~~~~~~~~~~~~~~~~\nWe perform the optimization and print the optimal generators for the rotation gates. The minimum value of the\ncost function obtained by optimizing using Rotoselect is less than the minimum value of the cost function obtained by\ngradient descent or Rotosolve, which were performed on the original circuit structure ansatz.\nIn other words, Rotoselect performs better without\nincreasing the depth of the circuit by selecting better gates for the task of minimizing the cost function.\n\n"
      ]
    },
    {
      "cell_type": "code",
      "execution_count": null,
      "metadata": {
        "collapsed": false
      },
      "outputs": [],
      "source": [
        "costs_rsel = []\nparams_rsel = init_params.copy()\ninit_generators = [\"X\", \"Y\"]\ngenerators = init_generators\nfor _ in range(n_steps):\n    costs_rsel.append(cost_rsel(params_rsel, generators))\n    params_rsel, generators = rotoselect_cycle(cost_rsel, params_rsel, generators)\n\nprint(\"Optimal generators are: {}\".format(generators))\n\n# plot cost function vs. steps comparison\nfig, (ax1, ax2) = plt.subplots(1, 2, figsize=(7, 3))\nplt.subplot(1, 2, 1)\nplt.plot(steps, costs_gd, \"o-\")\nplt.title(\"grad. desc. on original ansatz\")\nplt.xlabel(\"steps\")\nplt.ylabel(\"cost\")\nplt.subplot(1, 2, 2)\nplt.plot(steps, costs_rsel, \"o-\")\nplt.title(\"rotoselect\")\nplt.xlabel(\"cycles\")\nplt.ylabel(\"cost\")\nplt.yticks(np.arange(-1.25, 0.80, 0.25))\nplt.tight_layout()\nplt.show()"
      ]
    },
    {
      "cell_type": "markdown",
      "metadata": {},
      "source": [
        "Cost function surface for learned circuit structure\n~~~~~~~~~~~~~~~~~~~~~~~~~~~~~~~~~~~~~~~~~~~~~~~~~~~\n\n.. figure:: ../implementations/rotoselect/learned_structure.png\n   :scale: 65%\n   :align: center\n   :alt: learned_structure\n\n|\n\nFinally, we plot the cost function surface for the newly discovered optimized\ncircuit structure shown in the figure above. It is apparent from the minima in the plot that\nthe new circuit structure is better suited for the problem.\n\n"
      ]
    },
    {
      "cell_type": "code",
      "execution_count": null,
      "metadata": {
        "collapsed": false
      },
      "outputs": [],
      "source": [
        "fig = plt.figure(figsize=(6, 4))\nax = fig.gca(projection=\"3d\")\n\nX = np.linspace(-4.0, 4.0, 40)\nY = np.linspace(-4.0, 4.0, 40)\nxx, yy = np.meshgrid(X, Y)\n# plot cost for fixed optimal generators\nZ = np.array([[cost_rsel([x, y], generators=generators) for x in X] for y in Y]).reshape(\n    len(Y), len(X)\n)\nsurf = ax.plot_surface(xx, yy, Z, cmap=cm.coolwarm, antialiased=False)\n\nax.set_xlabel(r\"$\\theta_1$\")\nax.set_ylabel(r\"$\\theta_2$\")\nax.zaxis.set_major_locator(MaxNLocator(nbins=5, prune=\"lower\"))\n\nplt.show()"
      ]
    },
    {
      "cell_type": "markdown",
      "metadata": {},
      "source": [
        "References\n----------\n\n1. Mateusz Ostaszewski, Edward Grant, Marcello Bendetti. \"Quantum circuit structure learning.\"\n   `arxiv:1905.09692 <https://arxiv.org/abs/1905.09692>`__, 2019.\n\n"
      ]
    }
  ],
  "metadata": {
    "kernelspec": {
      "display_name": "Python 3",
      "language": "python",
      "name": "python3"
    },
    "language_info": {
      "codemirror_mode": {
        "name": "ipython",
        "version": 3
      },
      "file_extension": ".py",
      "mimetype": "text/x-python",
      "name": "python",
      "nbconvert_exporter": "python",
      "pygments_lexer": "ipython3",
      "version": "3.6.9"
    }
  },
  "nbformat": 4,
  "nbformat_minor": 0
}