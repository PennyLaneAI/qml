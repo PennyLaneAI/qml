{
  "cells": [
    {
      "cell_type": "code",
      "execution_count": null,
      "metadata": {
        "collapsed": false
      },
      "outputs": [],
      "source": [
        "# This cell is added by sphinx-gallery\n# It can be customized to whatever you like\n%matplotlib inline"
      ]
    },
    {
      "cell_type": "markdown",
      "metadata": {},
      "source": [
        "\n\nQAOA for MaxCut\n===============\n\n"
      ]
    },
    {
      "cell_type": "markdown",
      "metadata": {},
      "source": [
        "In this tutorial we implement the quantum approximate optimization algorithm (QAOA) for the MaxCut\nproblem as proposed by `Farhi, Goldstone, and Gutmann (2014) <https://arxiv.org/abs/1411.4028>`__. First, we\ngive an overview of the MaxCut problem using a simple example, a graph with 4 vertices and 4 edges. We then\nshow how to find the maximum cut by running the QAOA algorithm using PennyLane.\n\nBackground\n----------\n\nThe MaxCut problem\n~~~~~~~~~~~~~~~~~~\nThe aim of MaxCut is to maximize the number of edges (yellow lines) in a graph that are \"cut\" by\na given partition of the vertices (blue circles) into two sets (see figure below).\n\n.. figure:: ../implementations/qaoa_maxcut/qaoa_maxcut_partition.png\n   :align: center\n   :scale: 65%\n   :alt: qaoa_operators\n\n|\n\nConsider a graph with $m$ edges and $n$ vertices. We seek the partition\n$z$ of the vertices into two sets\n$A$ and $B$ which maximizes\n\n\\begin{align}C(z) = \\sum_{\\alpha=1}^{m}C_\\alpha(z),\\end{align}\n\nwhere $C$ counts the number of edges cut. $C_\\alpha(z)=1$ if $z$ places one vertex from the\n$\\alpha^\\text{th}$ edge in set $A$ and the other in set $B$, and $C_\\alpha(z)=0$ otherwise.\nFinding a cut which yields the maximum possible value of $C$ is an NP-complete problem, so our best hope for a\npolynomial-time algorithm lies in an approximate optimization.\nIn the case of MaxCut, this means finding a partition $z$ which\nyields a value for $C(z)$ that is close to the maximum possible value.\n\nWe can represent the assignment of vertices to set $A$ or $B$ using a bitstring,\n$z=z_1...z_n$ where $z_i=0$ if the $i^\\text{th}$ vertex is in $A$ and\n$z_i = 1$ if it is in $B$. For instance,\nin the situation depicted in the figure above the bitstring representation is $z=0101\\text{,}$\nindicating that the $0^{\\text{th}}$ and $2^{\\text{nd}}$ vertices are in $A$\nwhile the $1^{\\text{st}}$ and $3^{\\text{rd}}$ are in\n$B$. This assignment yields a value for the objective function (the number of yellow lines cut)\n$C=4$, which turns out to be the maximum cut. In the following sections,\nwe will represent partitions using computational basis states and use PennyLane to\nrediscover this maximum cut.\n\n<div class=\"alert alert-info\"><h4>Note</h4><p>In the graph above, $z=1010$ could equally well serve as the maximum cut.</p></div>\n\nA circuit for QAOA\n~~~~~~~~~~~~~~~~~~~~\nThis section describes implementing a circuit for QAOA using basic unitary gates to find approximate\nsolutions to the MaxCut problem.\nFirstly, denoting the partitions using computational basis states $|z\\rangle$, we can represent the terms in the\nobjective function as operators acting on these states\n\n\\begin{align}C_\\alpha = \\frac{1}{2}\\left(1-\\sigma_{z}^j\\sigma_{z}^k\\right),\\end{align}\n\nwhere the $\\alpha\\text{th}$ edge is between vertices $(j,k)$.\n$C_\\alpha$ has eigenvalue 1 if and only if the $j\\text{th}$ and $k\\text{th}$\nqubits have different z-axis measurement values, representing separate partitions.\nThe objective function $C$ can be considered a diagonal operator with integer eigenvalues.\n\nQAOA starts with a uniform superposition over the $n$ bitstring basis states,\n\n\\begin{align}|+_{n}\\rangle = \\frac{1}{\\sqrt{2^n}}\\sum_{z\\in \\{0,1\\}^n} |z\\rangle.\\end{align}\n\n\nWe aim to explore the space of bitstring states for a superposition which is likely to yield a\nlarge value for the $C$ operator upon performing a measurement in the computational basis.\nUsing the $2p$ angle parameters\n$\\boldsymbol{\\gamma} = \\gamma_1\\gamma_2...\\gamma_p$, $\\boldsymbol{\\beta} = \\beta_1\\beta_2...\\beta_p$\nwe perform a sequence of operations on our initial state:\n\n\\begin{align}|\\boldsymbol{\\gamma},\\boldsymbol{\\beta}\\rangle = U_{B_p}U_{C_p}U_{B_{p-1}}U_{C_{p-1}}...U_{B_1}U_{C_1}|+_n\\rangle\\end{align}\n\nwhere the operators have the explicit forms\n\n\\begin{align}U_{B_l} &= e^{-i\\beta_lB} = \\prod_{j=1}^n e^{-i\\beta_l\\sigma_x^j}, \\\\\n  U_{C_l} &= e^{-i\\gamma_lC} = \\prod_{\\text{edge (j,k)}} e^{-i\\gamma_l(1-\\sigma_z^j\\sigma_z^k)/2}.\\end{align}\n\nIn other words, we make $p$ layers of parametrized $U_bU_C$ gates.\nThese can be implemented on a quantum circuit using the gates depicted below, up to an irrelevant constant\nthat gets absorbed into the parameters.\n\n.. figure:: ../implementations/qaoa_maxcut/qaoa_operators.png\n   :align: center\n   :scale: 100%\n   :alt: qaoa_operators\n\n|\n\nLet $\\langle \\boldsymbol{\\gamma},\n\\boldsymbol{\\beta} | C | \\boldsymbol{\\gamma},\\boldsymbol{\\beta} \\rangle$ be the expectation of the objective operator.\nIn the next section, we will use PennyLane to perform classical optimization\nover the circuit parameters $(\\boldsymbol{\\gamma}, \\boldsymbol{\\beta})$.\nThis will specify a state $|\\boldsymbol{\\gamma},\\boldsymbol{\\beta}\\rangle$ which is\nlikely to yield an approximately optimal partition $|z\\rangle$ upon performing a measurement in the\ncomputational basis.\nIn the case of the graph shown above, we want to measure either 0101 or 1010 from our state since these correspond to\nthe optimal partitions.\n\n.. figure:: ../implementations/qaoa_maxcut/qaoa_optimal_state.png\n  :align: center\n  :scale: 60%\n  :alt: optimal_state\n\n|\n\nQualitatively, QAOA tries to evolve the initial state into the plane of the\n$|0101\\rangle$, $|1010\\rangle$ basis states (see figure above).\n\n\nImplementing QAOA in PennyLane\n------------------------------\n\nImports and setup\n~~~~~~~~~~~~~~~~~\n\nTo get started, we import PennyLane along with the PennyLane-provided\nversion of NumPy.\n\n"
      ]
    },
    {
      "cell_type": "code",
      "execution_count": null,
      "metadata": {
        "collapsed": false
      },
      "outputs": [],
      "source": [
        "import pennylane as qml\nfrom pennylane import numpy as np"
      ]
    },
    {
      "cell_type": "markdown",
      "metadata": {},
      "source": [
        "Operators\n~~~~~~~~~\nWe specify the number of qubits (vertices) with ``n_wires`` and\ncompose the unitary operators using the definitions\nabove. $U_B$ operators act on individual wires, while $U_C$\noperators act on wires whose corresponding vertices are joined by an edge in\nthe graph. We also define the graph using\nthe list ``graph``, which contains the tuples of vertices defining\neach edge in the graph.\n\n"
      ]
    },
    {
      "cell_type": "code",
      "execution_count": null,
      "metadata": {
        "collapsed": false
      },
      "outputs": [],
      "source": [
        "n_wires = 4\ngraph = [(0, 1), (0, 3), (1, 2), (2, 3)]\n\n# unitary operator U_B with parameter beta\ndef U_B(beta):\n    for wire in range(n_wires):\n        qml.RX(2 * beta, wires=wire)\n\n\n# unitary operator U_C with parameter gamma\ndef U_C(gamma):\n    for edge in graph:\n        wire1 = edge[0]\n        wire2 = edge[1]\n        qml.CNOT(wires=[wire1, wire2])\n        qml.RZ(gamma, wires=wire2)\n        qml.CNOT(wires=[wire1, wire2])"
      ]
    },
    {
      "cell_type": "markdown",
      "metadata": {},
      "source": [
        "We will need a way to sample\na measurement of multiple qubits in the computational basis, so we define\na Hermitian operator to do this. The eigenvalues of the operator are\nthe qubit measurement values in integer form.\n\n"
      ]
    },
    {
      "cell_type": "code",
      "execution_count": null,
      "metadata": {
        "collapsed": false
      },
      "outputs": [],
      "source": [
        "def comp_basis_measurement(wires):\n    n_wires = len(wires)\n    return qml.Hermitian(np.diag(range(2 ** n_wires)), wires=wires)"
      ]
    },
    {
      "cell_type": "markdown",
      "metadata": {},
      "source": [
        "Circuit\n~~~~~~~\nNext, we create a quantum device with 4 qubits.\n\n"
      ]
    },
    {
      "cell_type": "code",
      "execution_count": null,
      "metadata": {
        "collapsed": false
      },
      "outputs": [],
      "source": [
        "dev = qml.device(\"default.qubit\", wires=n_wires, analytic=True, shots=1)"
      ]
    },
    {
      "cell_type": "markdown",
      "metadata": {},
      "source": [
        "We also require a quantum node which will apply the operators according to the\nangle parameters, and return the expectation value of the observable\n$\\sigma_z^{j}\\sigma_z^{k}$ to be used in each term of the objective function later on. The\nargument ``edge`` specifies the chosen edge term in the objective function, $(j,k)$.\nOnce optimized, the same quantum node can be used for sampling an approximately optimal bitstring\nif executed with the ``edge`` keyword set to ``None``. Additionally, we specify the number of layers\n(repeated applications of $U_BU_C$) using the keyword ``n_layers``.\n\n"
      ]
    },
    {
      "cell_type": "code",
      "execution_count": null,
      "metadata": {
        "collapsed": false
      },
      "outputs": [],
      "source": [
        "pauli_z = [[1, 0], [0, -1]]\npauli_z_2 = np.kron(pauli_z, pauli_z)\n\n\n@qml.qnode(dev)\ndef circuit(gammas, betas, edge=None, n_layers=1):\n    # apply Hadamards to get the n qubit |+> state\n    for wire in range(n_wires):\n        qml.Hadamard(wires=wire)\n    # p instances of unitary operators\n    for i in range(n_layers):\n        U_C(gammas[i])\n        U_B(betas[i])\n    if edge is None:\n        # measurement phase\n        return qml.sample(comp_basis_measurement(range(n_wires)))\n    # during the optimization phase we are evaluating a term\n    # in the objective using expval\n    return qml.expval(qml.Hermitian(pauli_z_2, wires=edge))"
      ]
    },
    {
      "cell_type": "markdown",
      "metadata": {},
      "source": [
        "Optimization\n~~~~~~~~~~~~\nFinally, we optimize the objective over the\nangle parameters $\\boldsymbol{\\gamma}$ (``params[0]``) and $\\boldsymbol{\\beta}$\n(``params[1]``)\nand then sample the optimized\ncircuit multiple times to yield a distribution of bitstrings. One of the optimal partitions\n($z=0101$ or $z=1010$) should be the most frequently sampled bitstring.\nWe perform a maximization of $C$ by\nminimizing $-C$, following the convention that optimizations are cast as minimizations\nin PennyLane.\n\n"
      ]
    },
    {
      "cell_type": "code",
      "execution_count": null,
      "metadata": {
        "collapsed": false
      },
      "outputs": [],
      "source": [
        "def qaoa_maxcut(n_layers=1):\n    print(\"\\np={:d}\".format(n_layers))\n\n    # initialize the parameters near zero\n    init_params = 0.01 * np.random.rand(2, n_layers)\n\n    # minimize the negative of the objective function\n    def objective(params):\n        gammas = params[0]\n        betas = params[1]\n        neg_obj = 0\n        for edge in graph:\n            # objective for the MaxCut problem\n            neg_obj -= 0.5 * (1 - circuit(gammas, betas, edge=edge, n_layers=n_layers))\n        return neg_obj\n\n    # initialize optimizer: Adagrad works well empirically\n    opt = qml.AdagradOptimizer(stepsize=0.5)\n\n    # optimize parameters in objective\n    params = init_params\n    steps = 30\n    for i in range(steps):\n        params = opt.step(objective, params)\n        if (i + 1) % 5 == 0:\n            print(\"Objective after step {:5d}: {: .7f}\".format(i + 1, -objective(params)))\n\n    # sample measured bitstrings 100 times\n    bit_strings = []\n    n_samples = 100\n    for i in range(0, n_samples):\n        bit_strings.append(int(circuit(params[0], params[1], edge=None, n_layers=n_layers)))\n\n    # print optimal parameters and most frequently sampled bitstring\n    counts = np.bincount(np.array(bit_strings))\n    most_freq_bit_string = np.argmax(counts)\n    print(\"Optimized (gamma, beta) vectors:\\n{}\".format(params))\n    print(\"Most frequently sampled bit string is: {:04b}\".format(most_freq_bit_string))\n\n    return -objective(params), bit_strings\n\n\n# perform qaoa on our graph with p=1,2 and\n# keep the bitstring sample lists\nbitstrings1 = qaoa_maxcut(n_layers=1)[1]\nbitstrings2 = qaoa_maxcut(n_layers=2)[1]"
      ]
    },
    {
      "cell_type": "markdown",
      "metadata": {},
      "source": [
        "In the case where we set ``n_layers=2``, we recover the optimal\nobjective function $C=4$\n\n"
      ]
    },
    {
      "cell_type": "markdown",
      "metadata": {},
      "source": [
        "Plotting the results\n--------------------\nWe can plot the distribution of measurements obtained from the optimized circuits. As\nexpected for this graph, the partitions 0101 and 1010 are measured with the highest frequencies,\nand in the case where we set ``n_layers=2`` we obtain one of the optimal partitions with 100% certainty.\n\n"
      ]
    },
    {
      "cell_type": "code",
      "execution_count": null,
      "metadata": {
        "collapsed": false
      },
      "outputs": [],
      "source": [
        "import matplotlib.pyplot as plt\n\nxticks = range(0, 16)\nxtick_labels = list(map(lambda x: format(x, \"04b\"), xticks))\nbins = np.arange(0, 17) - 0.5\n\nfig, (ax1, ax2) = plt.subplots(1, 2, figsize=(8, 4))\nplt.subplot(1, 2, 1)\nplt.title(\"n_layers=1\")\nplt.xlabel(\"bitstrings\")\nplt.ylabel(\"freq.\")\nplt.xticks(xticks, xtick_labels, rotation=\"vertical\")\nplt.hist(bitstrings1, bins=bins)\nplt.subplot(1, 2, 2)\nplt.title(\"n_layers=2\")\nplt.xlabel(\"bitstrings\")\nplt.ylabel(\"freq.\")\nplt.xticks(xticks, xtick_labels, rotation=\"vertical\")\nplt.hist(bitstrings2, bins=bins)\nplt.tight_layout()\nplt.show()"
      ]
    }
  ],
  "metadata": {
    "kernelspec": {
      "display_name": "Python 3",
      "language": "python",
      "name": "python3"
    },
    "language_info": {
      "codemirror_mode": {
        "name": "ipython",
        "version": 3
      },
      "file_extension": ".py",
      "mimetype": "text/x-python",
      "name": "python",
      "nbconvert_exporter": "python",
      "pygments_lexer": "ipython3",
      "version": "3.6.9"
    }
  },
  "nbformat": 4,
  "nbformat_minor": 0
}