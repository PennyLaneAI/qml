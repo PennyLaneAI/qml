{
 "cells": [
  {
   "cell_type": "markdown",
   "id": "a5e4392a",
   "metadata": {},
   "source": [
    "# Time-Domain X-ray Absorption Spectroscopy Simulation"
   ]
  },
  {
   "cell_type": "markdown",
   "id": "d10aafdf",
   "metadata": {},
   "source": [
    "X-ray absorption spectroscopy (XAS) is a technique for understanding unwanted structures in battery materials. This demo will show you how to implement an algorithm developed in the paper \"Fast simulations of X-ray absorption spectroscopy for battery materials on a quantum computer\" [Fomichev:2025].  XAS was identified as a potential application for early fault-tolerant quantum computers. X-rays are high energy, and so are short wavelength. Therefore, they probe a very localized grouping of atoms in a materials. We only need to simulate a small number of molecular orbitals to estimate the energy of the orbitals, and the ones accessible by X-rays. However, there is a large amount of correlations between these molecular states. This is the sweet spot between not having to require too many qubits, but having enough correlations that make the calculation intractible on a quantum computer. The ground state is computable, but the highly correlated high-energy states are very difficult to compute in a quantum chemistry classical computation"
   ]
  },
  {
   "cell_type": "markdown",
   "id": "2942adc1",
   "metadata": {},
   "source": [
    "In this demo we will implement a simplified version of the algorithm as it appears in the paper -- we will not be applying all of the optimizations present. We will show how to determine and prepare a group state, how determine the states that result from acting on the group state by the dipole operator (representing the electromagnetic field from the X-ray) and how to code the time-domain analysis circuit which can determine the spectrum.\n",
    "\n",
    "We will be using concepts that were introduced in other PennyLane demos, such as utilizing pyscf with PennyLane, initial state preparation of molecules, and building compressed double-factorized Hamiltonians. If you haven't checked out those demos yet, it might be best to do so and then come back here."
   ]
  },
  {
   "cell_type": "markdown",
   "id": "10ec7e66",
   "metadata": {},
   "source": [
    "## Why simulate X-ray absorption spectroscopy?"
   ]
  },
  {
   "cell_type": "markdown",
   "id": "c7784f7d",
   "metadata": {},
   "source": [
    "- method for studying local electronic structure\n",
    "- can directly probe local structure by exciting tightly bound core electrons\n",
    "- determining battery degredation relevant mechanisms, such as oxidation states, from an observed spectrum is difficult without simulations\n",
    "- the way one could do this is through spectral fingerprinting\n",
    "- each oxidized state would have some spectrum, that one would determine through simulation\n",
    "- this could be repeated for all possible oxidized states\n",
    "- the observed spectrum could then be matched to combinations of these single cluster spectra\n",
    "- this \"finger printing\" method could allow one to determine the composition of oxidized states in the material"
   ]
  },
  {
   "cell_type": "markdown",
   "id": "45e18366",
   "metadata": {},
   "source": [
    "**insert figure demonstrating fingerprinting**\n",
    "observed spectrum, decomposition into single cluster spectra, which come from simulations from a quantum computer"
   ]
  },
  {
   "cell_type": "markdown",
   "id": "32ec90fe",
   "metadata": {},
   "source": [
    "- this method is particularly difficult for classical computers when strongly-correlated transition metals are present, such as those typically in lithium-excess materials which are battery cathod candidates"
   ]
  },
  {
   "cell_type": "markdown",
   "id": "74922fe2",
   "metadata": {},
   "source": [
    "## Algorithm"
   ]
  },
  {
   "cell_type": "markdown",
   "id": "6c591ff4",
   "metadata": {},
   "source": [
    "### Absorption cross-section"
   ]
  },
  {
   "cell_type": "markdown",
   "id": "a8452adf",
   "metadata": {},
   "source": [
    "In XAS experiments, the spectrum observed is a measure of the absorption cross section as a function of the frequency of the incident X-rays $\\sigma_A(\\omega)$. For our situation, the electrons in the molecular cluster start in a ground molecular state $|I\\rangle$ with energy $E_I$, and will be coupled to an excited state $|F\\rangle$ with energy $E_F$ through the action of the dipole operator $\\hat m_rho$, which represents the effect of the radiative field, where $\\rho$ is any of the Cartesian directions $\\{x,y,z\\}$. \n",
    "\n",
    "Using Fermi's golden rule, the absorption cross-section is given by\n",
    "\n",
    "$$ \\sigma_A(\\omega) = \\frac{4 \\pi}{3 \\hbar c} \\omega \\sum_{F \\neq I}\\sum_{\\rho=x,y,z} \\frac{|\\langle F|\\hat m_\\rho|I \\rangle|^2 \\eta}{((E_F - E_I)-\\omega)^2 + \\eta^2}\\,, $$\n",
    "\n",
    "where $c$ is the speed of light, $\\hbar$ is Plank's constant, and $\\eta$ is the line broadening which represents the experimental resolution of the spectroscopy, and is typically around $1$ eV."
   ]
  },
  {
   "cell_type": "markdown",
   "id": "a6226896",
   "metadata": {},
   "source": [
    "### Core-valence separation approximation"
   ]
  },
  {
   "cell_type": "markdown",
   "id": "354fcbd8",
   "metadata": {},
   "source": [
    "We can restrict the range of frequencies, and consequently the range of final states, by only considering final states for which *core* electrons are excited, i.e. there exists a hole in the core orbitals. These are known as core-excited states, and lie significally above the valance-excited states in energy. Typically the frequency range is focused on a target atom in a molecular cluster, and also near a transition energy, such as targetting core $1s$ electrons. We will also neglect relativistic corrections, and focus on frequencies for which the dipole approximation is valid, which is the assumption that the wavelength of the radiation is large compared to the extent of the electronic wavefunction.\n",
    "\n",
    "Atomic species and oxidations states will determine the energy difference between states with different principle quantum numbers, and this difference will show as a peak in spectroscopy, known as the *absorption edge*. Focusing spctroscopy near this edge for $1s$ to $2p$ is called the $K$-edge, and in general X-ray absorption near-edge spectroscopy is known as XANES. We will focus on simulating spectroscopy in this XANES regime."
   ]
  },
  {
   "cell_type": "markdown",
   "id": "05e3607c",
   "metadata": {},
   "source": [
    "**insert figure which is a single particle energy diagram**\n",
    "should show XANES excitation from core to excited compared to UV/vis light excitations of valence electrons to excited"
   ]
  },
  {
   "cell_type": "markdown",
   "id": "329fe841",
   "metadata": {},
   "source": [
    "### Time-domain determination of the cross section"
   ]
  },
  {
   "cell_type": "markdown",
   "id": "9fc91dfa",
   "metadata": {},
   "source": [
    "We will use a mathematical trick of a frequency-domain Green's function to link the absorption cross section we want to estimate to the time-propagation of our initial state through a Fourier transform. The expectation value of our initial state $m_\\rho|I\\rangle$ propagated various amounts in time by the molecular hamiltonian $H$ will give us a time-domain Green's function, the Fourier transform of which is the frequency-domain Green's function, and that is directly related to the absorption cross section. What we have to do is:\n",
    "- determine our initial state $|I\\rangle$\n",
    "- determine how the dipole operator acts on that state to obtain $\\hat m_\\rho|I\\rangle$\n",
    "- determine how best to efficiently time propagate that state with the molecular Hamiltonian\n",
    "- run the time propagation for various times, and from the expectation value determine the time-domain Green's function\n",
    "- Fourier transform (classically) the Green's function to obtain it in the freuency domain, which gives us the absorption cross section as a function of frequency"
   ]
  },
  {
   "cell_type": "markdown",
   "id": "3d242f3d",
   "metadata": {},
   "source": [
    "**insert figure that is a block-diagram outline of this procedure**\n",
    "follows the steps above, includes some loops showing repeated shots and various time selections, classical computer computing the Fourier transform, final spectrum"
   ]
  },
  {
   "cell_type": "markdown",
   "id": "d5e89cf0",
   "metadata": {},
   "source": [
    "## Implementation"
   ]
  },
  {
   "cell_type": "markdown",
   "id": "410ca853",
   "metadata": {},
   "source": [
    "### Initial state preparation"
   ]
  },
  {
   "cell_type": "markdown",
   "id": "18f60e84",
   "metadata": {},
   "source": [
    "### Dipole operator action"
   ]
  },
  {
   "cell_type": "markdown",
   "id": "e88782ef",
   "metadata": {},
   "source": [
    "### Molecular Hamiltonian"
   ]
  },
  {
   "cell_type": "markdown",
   "id": "df1436af",
   "metadata": {},
   "source": [
    "### Time-propagation circuit"
   ]
  },
  {
   "cell_type": "markdown",
   "id": "21af7b18",
   "metadata": {},
   "source": [
    "### Run Simulation"
   ]
  },
  {
   "cell_type": "markdown",
   "id": "eb8d40d2",
   "metadata": {},
   "source": [
    "### Plot Results"
   ]
  },
  {
   "cell_type": "markdown",
   "id": "6a817a1e",
   "metadata": {},
   "source": [
    "### Further Optimizations"
   ]
  },
  {
   "cell_type": "markdown",
   "id": "0ee58c83",
   "metadata": {},
   "source": [
    "## Conclusion"
   ]
  }
 ],
 "metadata": {
  "language_info": {
   "name": "python"
  }
 },
 "nbformat": 4,
 "nbformat_minor": 5
}
