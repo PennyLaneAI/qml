{
  "cells": [
    {
      "cell_type": "code",
      "execution_count": null,
      "metadata": {
        "collapsed": false
      },
      "outputs": [],
      "source": [
        "# This cell is added by sphinx-gallery\n# It can be customized to whatever you like\n%matplotlib inline"
      ]
    },
    {
      "cell_type": "markdown",
      "metadata": {},
      "source": [
        "\nDoubly stochastic gradient descent\n==================================\n\nIn this tutorial we investigate and implement the doubly stochastic gradient descent\npaper from `Ryan Sweke et al. (2019) <https://arxiv.org/abs/1910.01155>`__. In this paper,\nit is shown that quantum gradient descent, where a finite number of measurement samples\n(or *shots*) are used to estimate the gradient, is a form of stochastic gradient descent.\nFurthermore, if the optimization involves a linear combination of expectation values\n(such as VQE), sampling from the terms in this linear combination can further reduce required\nresources, allowing for \"doubly stochastic gradient descent\".\n\nNote that based on very similar observations, `Jonas Kuebler et al. (2019) <https://arxiv.org/abs/1909.09083>`_\nrecently proposed an optimizer (which they call the *individual Coupled Adaptive\nNumber of Shots (iCANS)* optimizer) that adapts the shot number of\nmeasurements during training.\n\nBackground\n----------\n\nIn classical machine learning, `stochastic gradient descent\n<https://en.wikipedia.org/wiki/Stochastic_gradient_descent>`_ is a common optimization strategy\nwhere the standard gradient descent parameter update rule,\n\n\\begin{align}\\theta^{(t+1)} = \\theta^{(t)} - \\eta \\nabla \\mathcal{L}(\\theta^{(t)}),\\end{align}\n\nis modified such that\n\n\\begin{align}\\theta^{(t+1)} = \\theta^{(t)} - \\eta g^{(t)}(\\theta^{(t)})\\end{align}\n\nwhere $\\eta$ is the step-size, and $\\{g^{(t)}(\\theta)\\}$ is a sequence of random\nvariables such that\n\n\\begin{align}\\mathbb{E}[g^{(t)}(\\theta)] = \\nabla\\mathcal{L}(\\theta).\\end{align}\n\nIn general, stochastic gradient descent is preferred over standard gradient\ndescent for several reasons:\n\n1. Samples of the gradient estimator $g^{(t)}(\\theta)$ can typically\n   be computed much more efficiently than $\\mathcal{L}(\\theta)$,\n\n2. Stochasticity can help to avoid local minima and saddle points,\n\n3. Numerical evidence shows that convergence properties are superior to regular gradient descent.\n\nIn variational quantum algorithms, a parametrized quantum circuit $U(\\theta)$\nis optimized by a classical optimization loop in order to minimize a function of the expectation\nvalues. For example, consider the expectation values\n\n\\begin{align}\\langle A_i \\rangle = \\langle 0 | U(\\theta)^\\dagger A_i U(\\theta) | 0\\rangle\\end{align}\n\nfor a set of observables $\\{A_i\\}$, and loss function\n\n\\begin{align}\\mathcal{L}(\\theta, \\langle A_1 \\rangle, \\dots, \\langle A_M \\rangle).\\end{align}\n\nWhile the expectation values can be calculated analytically in classical simulations,\non quantum hardware we are limited to *sampling* from the expectation values; as the\nnumber of samples (or shots) increase, we converge on the analytic expectation value, but can\nnever recover the exact expression. Furthermore, the parameter-shift rule\n(`Schuld et al., 2018 <https://arxiv.org/abs/1811.11184>`__) allows for analytic\nquantum gradients to be computed from a linear combination of the variational circuits'\nexpectation values.\n\nPutting these two results together, `Sweke et al. (2019) <https://arxiv.org/abs/1910.01155>`__\nshow that samples of the expectation value fed into the parameter-shift rule provide\nunbiased estimators of the quantum gradient---resulting in a form of stochastic gradient descent\n(referred to as QSGD). Moreover, they show that convergence of the stochastic gradient\ndescent is guaranteed in sufficiently simplified settings, even in the case where the number\nof shots is 1!\n\n<div class=\"alert alert-info\"><h4>Note</h4><p>It is worth noting that the smaller the number of shots used, the larger the\n    variance in the estimated expectation value. As a result, it may take\n    more optimization steps for convergence than using a larger number of shots,\n    or an exact value.\n\n    At the same time, a reduced number of shots may significantly reduce the\n    wall time of each optimization step, leading to a reduction in the overall\n    optimization time.</p></div>\n\n"
      ]
    },
    {
      "cell_type": "markdown",
      "metadata": {},
      "source": [
        "Let's consider a simple example in PennyLane, comparing analytic gradient\ndescent (with exact expectation values) to stochastic gradient descent\nusing a finite number of shots.\n\nA single-shot stochastic gradient descent\n-----------------------------------------\n\nConsider the Hamiltonian\n\n\\begin{align}H = \\begin{bmatrix}\n          8 & 4 & 0 & -6\\\\\n          4 & 0 & 4 & 0\\\\\n          0 & 4 & 8 & 0\\\\\n          -6 & 0 & 0 & 0\n        \\end{bmatrix}.\\end{align}\n\nWe can solve for the ground state energy using\nthe variational quantum eigensolver (VQE) algorithm.\n\nLet's use the ``default.qubit`` simulator for both the analytic gradient,\nas well as the estimated gradient using number of shots $N\\in\\{1, 100\\}$.\n\n"
      ]
    },
    {
      "cell_type": "code",
      "execution_count": null,
      "metadata": {
        "collapsed": false
      },
      "outputs": [],
      "source": [
        "import pennylane as qml\nfrom pennylane import numpy as np\n\nnp.random.seed(3)\n\nfrom pennylane import expval\nfrom pennylane.init import strong_ent_layers_uniform\nfrom pennylane.templates.layers import StronglyEntanglingLayers\n\nnum_layers = 2\nnum_wires = 2\neta = 0.01\nsteps = 200\n\ndev_analytic = qml.device(\"default.qubit\", wires=num_wires, analytic=True)\ndev_stochastic = qml.device(\"default.qubit\", wires=num_wires, analytic=False)"
      ]
    },
    {
      "cell_type": "markdown",
      "metadata": {},
      "source": [
        "We can use ``qml.Hermitian`` to directly specify that we want to measure\nthe expectation value of the matrix $H$:\n\n"
      ]
    },
    {
      "cell_type": "code",
      "execution_count": null,
      "metadata": {
        "collapsed": false
      },
      "outputs": [],
      "source": [
        "H = np.array([[8, 4, 0, -6], [4, 0, 4, 0], [0, 4, 8, 0], [-6, 0, 0, 0]])\n\n\ndef circuit(params):\n    StronglyEntanglingLayers(weights=params, wires=[0, 1])\n    return expval(qml.Hermitian(H, wires=[0, 1]))"
      ]
    },
    {
      "cell_type": "markdown",
      "metadata": {},
      "source": [
        "Now, we create three QNodes, each corresponding to a device above,\nand optimize them using gradient descent via the parameter-shift rule.\n\n"
      ]
    },
    {
      "cell_type": "code",
      "execution_count": null,
      "metadata": {
        "collapsed": false
      },
      "outputs": [],
      "source": [
        "qnode_analytic = qml.QNode(circuit, dev_analytic)\nqnode_stochastic = qml.QNode(circuit, dev_stochastic)\n\ninit_params = strong_ent_layers_uniform(num_layers, num_wires)\n\n# Optimizing using exact gradient descent\n\ncost_GD = []\nparams_GD = init_params\nopt = qml.GradientDescentOptimizer(eta)\n\nfor _ in range(steps):\n    cost_GD.append(qnode_analytic(params_GD))\n    params_GD = opt.step(qnode_analytic, params_GD)\n\n# Optimizing using stochastic gradient descent with shots=1\n\ndev_stochastic.shots = 1\ncost_SGD1 = []\nparams_SGD1 = init_params\nopt = qml.GradientDescentOptimizer(eta)\n\nfor _ in range(steps):\n    cost_SGD1.append(qnode_stochastic(params_SGD1))\n    params_SGD1 = opt.step(qnode_stochastic, params_SGD1)\n\n# Optimizing using stochastic gradient descent with shots=100\n\ndev_stochastic.shots = 100\ncost_SGD100 = []\nparams_SGD100 = init_params\nopt = qml.GradientDescentOptimizer(eta)\n\nfor _ in range(steps):\n    cost_SGD100.append(qnode_stochastic(params_SGD100))\n    params_SGD100 = opt.step(qnode_stochastic, params_SGD100)"
      ]
    },
    {
      "cell_type": "markdown",
      "metadata": {},
      "source": [
        "Note that in the latter two cases we are sampling from an unbiased\nestimator of the cost function, not the analytic cost function.\n\nTo track optimization convergence, approaches could include:\n\n* Evaluating the cost function with a larger number of samples at specified\n  intervals,\n\n* Keeping track of the *moving average* of the low-shot cost evaluations.\n\nWe can now plot the cost against optimization step for the three cases above.\n\n"
      ]
    },
    {
      "cell_type": "code",
      "execution_count": null,
      "metadata": {
        "collapsed": false
      },
      "outputs": [],
      "source": [
        "from matplotlib import pyplot as plt\n\nplt.style.use(\"seaborn\")\nplt.plot(cost_GD[:100], label=\"Vanilla gradient descent\")\nplt.plot(cost_SGD100[:100], \"--\", label=\"QSGD (100 shots)\")\nplt.plot(cost_SGD1[:100], \".\", label=\"QSGD (1 shot)\")\n\n# analytic ground state\nmin_energy = min(np.linalg.eigvalsh(H))\nplt.hlines(min_energy, 0, 100, linestyles=\":\", label=\"Ground-state energy\")\n\nplt.ylabel(\"Cost function value\")\nplt.xlabel(\"Optimization steps\")\nplt.legend()\nplt.show()"
      ]
    },
    {
      "cell_type": "markdown",
      "metadata": {},
      "source": [
        "Using the trained parameters from each optimization strategy, we can\nevaluate the analytic quantum device:\n\n"
      ]
    },
    {
      "cell_type": "code",
      "execution_count": null,
      "metadata": {
        "collapsed": false
      },
      "outputs": [],
      "source": [
        "print(\"Vanilla gradient descent min energy = \", qnode_analytic(params_GD))\nprint(\"Stochastic gradient descent (shots=100) min energy = \", qnode_analytic(params_SGD100))\nprint(\"Stochastic gradient descent (shots=1) min energy = \", qnode_analytic(params_SGD1))"
      ]
    },
    {
      "cell_type": "markdown",
      "metadata": {},
      "source": [
        "Amazingly, we see that even the ``shots=1`` optimization converged\nto a reasonably close approximation of the ground-state energy!\n\n"
      ]
    },
    {
      "cell_type": "markdown",
      "metadata": {},
      "source": [
        "Doubly stochastic gradient descent for VQE\n------------------------------------------\n\nAs noted in `Sweke et al. (2019) <https://arxiv.org/abs/1910.01155>`__,\nvariational quantum algorithms often include terms consisting of linear combinations\nof expectation values. This is true of the parameter-shift rule (where the\ngradient of each parameter is determined by shifting the parameter by macroscopic\namounts and taking the difference), as well as VQE, where the Hamiltonian\nis usually decomposed into a sum of Pauli expectation values.\n\nConsider the Hamiltonian from the previous section. As this Hamiltonian is a\nHermitian observable, we can always express it as a sum of Pauli matrices using\nthe relation\n\n\\begin{align}H = \\sum_{i,j=0,1,2,3} a_{i,j} (\\sigma_i\\otimes \\sigma_j),\\end{align}\n\nwhere\n\n\\begin{align}a_{i,j} = \\frac{1}{4}\\text{tr}[(\\sigma_i\\otimes \\sigma_j )H], ~~ \\sigma = \\{I, X, Y, Z\\}.\\end{align}\n\nApplying this, we can see that\n\n\\begin{align}H = 4  + 2I\\otimes X + 4I \\otimes Z - X\\otimes X + 5 Y\\otimes Y + 2Z\\otimes X.\\end{align}\n\nTo perform \"doubly stochastic\" gradient descent, we simply apply the stochastic\ngradient descent approach from above, but in addition also uniformly sample\na subset of the terms for the Hamiltonian expectation at each optimization step.\nThis inserts another element of stochasticity into the system---all the while\nconvergence continues to be guaranteed!\n\nLet's create a QNode that randomly samples a single term from the above\nHamiltonian as the observable to be measured.\n\n"
      ]
    },
    {
      "cell_type": "code",
      "execution_count": null,
      "metadata": {
        "collapsed": false
      },
      "outputs": [],
      "source": [
        "I = np.identity(2)\nX = np.array([[0, 1], [1, 0]])\nY = np.array([[0, -1j], [1j, 0]])\nZ = np.array([[1, 0], [0, -1]])\n\nterms = np.array(\n    [2 * np.kron(I, X), 4 * np.kron(I, Z), -np.kron(X, X), 5 * np.kron(Y, Y), 2 * np.kron(Z, X)]\n)\n\n\n@qml.qnode(dev_stochastic)\ndef circuit(params, n=None):\n    StronglyEntanglingLayers(weights=params, wires=[0, 1])\n    idx = np.random.choice(np.arange(5), size=n, replace=False)\n    A = np.sum(terms[idx], axis=0)\n    return expval(qml.Hermitian(A, wires=[0, 1]))\n\n\ndef loss(params):\n    return 4 + (5 / 1) * circuit(params, n=1)"
      ]
    },
    {
      "cell_type": "markdown",
      "metadata": {},
      "source": [
        "Optimizing the circuit using gradient descent via the parameter-shift rule:\n\n"
      ]
    },
    {
      "cell_type": "code",
      "execution_count": null,
      "metadata": {
        "collapsed": false
      },
      "outputs": [],
      "source": [
        "dev_stochastic.shots = 100\ncost = []\nparams = init_params\nopt = qml.GradientDescentOptimizer(0.005)\n\nfor _ in range(250):\n    cost.append(loss(params))\n    params = opt.step(loss, params)"
      ]
    },
    {
      "cell_type": "markdown",
      "metadata": {},
      "source": [
        "During doubly stochastic gradient descent, we are sampling from terms of the\nanalytic cost function, so it is not entirely instructive to plot the cost\nversus optimization step---partial sums of the terms in the Hamiltonian\nmay have minimum energy below the ground state energy of the total Hamiltonian.\nNevertheless, we can keep track of the cost value moving average during doubly\nstochastic gradient descent as an indicator of convergence.\n\n"
      ]
    },
    {
      "cell_type": "code",
      "execution_count": null,
      "metadata": {
        "collapsed": false
      },
      "outputs": [],
      "source": [
        "def moving_average(data, n=3):\n    ret = np.cumsum(data, dtype=np.float64)\n    ret[n:] = ret[n:] - ret[:-n]\n    return ret[n - 1 :] / n\n\n\naverage = np.vstack([np.arange(25, 200), moving_average(cost, n=50)[:-26]])\n\nplt.plot(cost_GD, label=\"Vanilla gradient descent\")\nplt.plot(cost, \".\", label=\"Doubly QSGD\")\nplt.plot(average[0], average[1], \"--\", label=\"Doubly QSGD (moving average)\")\nplt.hlines(min_energy, 0, 200, linestyles=\":\", label=\"Ground state energy\")\n\nplt.ylabel(\"Cost function value\")\nplt.xlabel(\"Optimization steps\")\nplt.xlim(-2, 200)\nplt.legend()\nplt.show()"
      ]
    },
    {
      "cell_type": "markdown",
      "metadata": {},
      "source": [
        "Finally, verifying that the doubly stochastic gradient descent optimization\ncorrectly provides the ground state energy when evaluated for a larger\nnumber of shots:\n\n"
      ]
    },
    {
      "cell_type": "code",
      "execution_count": null,
      "metadata": {
        "collapsed": false
      },
      "outputs": [],
      "source": [
        "print(\"Doubly stochastic gradient descent min energy = \", qnode_analytic(params))"
      ]
    },
    {
      "cell_type": "markdown",
      "metadata": {},
      "source": [
        "While stochastic gradient descent requires more optimization steps to achieve\nconvergence, it is worth noting that it requires significantly fewer quantum\ndevice evaluations, and thus may as a result take less time overall.\n\n"
      ]
    },
    {
      "cell_type": "markdown",
      "metadata": {},
      "source": [
        "Adaptive stochasticity\n----------------------\n\nTo improve on the convergence, we may even consider a crude \"adaptive\" modification\nof the doubly stochastic gradient descent optimization performed above. In this\napproach, we successively increase the number of terms we are sampling from as\nthe optimization proceeds, as well as increasing the number of shots.\n\n"
      ]
    },
    {
      "cell_type": "code",
      "execution_count": null,
      "metadata": {
        "collapsed": false
      },
      "outputs": [],
      "source": [
        "cost = []\nparams = init_params\nopt = qml.GradientDescentOptimizer(0.005)\n\nfor i in range(250):\n    n = min(i // 25 + 1, 5)\n    dev_stochastic.shots = int(1 + (n - 1) ** 2)\n\n    def loss(params):\n        return 4 + (5 / n) * circuit(params, n=n)\n\n    cost.append(loss(params))\n    params = opt.step(loss, params)\n\naverage = np.vstack([np.arange(25, 200), moving_average(cost, n=50)[:-26]])\n\nplt.plot(cost_GD, label=\"Vanilla gradient descent\")\nplt.plot(cost, \".\", label=\"Adaptive QSGD\")\nplt.plot(average[0], average[1], \"--\", label=\"Adaptive QSGD (moving average)\")\nplt.hlines(min_energy, 0, 250, linestyles=\":\", label=\"Ground state energy\")\n\nplt.ylabel(\"Cost function value\")\nplt.xlabel(\"Optimization steps\")\nplt.xlim(-2, 200)\nplt.legend()\nplt.show()\n\nprint(\"Adaptive QSGD min energy = \", qnode_analytic(params))"
      ]
    },
    {
      "cell_type": "markdown",
      "metadata": {},
      "source": [
        "References\n----------\n\n1. Ryan Sweke, Frederik Wilde, Johannes Jakob Meyer, Maria Schuld, Paul K. F\u00e4hrmann,\n   Barth\u00e9l\u00e9my Meynard-Piganeau, Jens Eisert. \"Stochastic gradient descent for\n   hybrid quantum-classical optimization.\" `arXiv:1910.01155\n   <https://arxiv.org/abs/1910.01155>`__, 2019.\n\n"
      ]
    }
  ],
  "metadata": {
    "kernelspec": {
      "display_name": "Python 3",
      "language": "python",
      "name": "python3"
    },
    "language_info": {
      "codemirror_mode": {
        "name": "ipython",
        "version": 3
      },
      "file_extension": ".py",
      "mimetype": "text/x-python",
      "name": "python",
      "nbconvert_exporter": "python",
      "pygments_lexer": "ipython3",
      "version": "3.6.9"
    }
  },
  "nbformat": 4,
  "nbformat_minor": 0
}