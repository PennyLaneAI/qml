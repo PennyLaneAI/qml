{
  "cells": [
    {
      "cell_type": "code",
      "execution_count": null,
      "metadata": {
        "collapsed": false
      },
      "outputs": [],
      "source": [
        "# This cell is added by sphinx-gallery\n# It can be customized to whatever you like\n%matplotlib inline"
      ]
    },
    {
      "cell_type": "markdown",
      "metadata": {},
      "source": [
        "\n\nBarren plateaus in quantum neural networks\n==========================================\n*Author: Shahnawaz Ahmed (shahnawaz.ahmed95@gmail.com)*\n\nIn classical optimization, it is suggested that saddle\npoints, not local minima, provide a fundamental impediment\nto rapid high-dimensional non-convex optimization\n(Dauphin et al., 2014).\n\nThe problem of such barren plateaus manifests in a different\nform in variational quantum circuits, which are at the heart\nof techniques such as quantum neural networks or approximate\noptimization e.g., QAOA (Quantum Adiabatic Optimization Algorithm)\nwhich can be found in this `PennyLane QAOA tutorial\n<https://pennylane.readthedocs.io/en/latest/tutorials/pennylane_run_qaoa_maxcut.html#qaoa-maxcut>`_.\n\nWhile starting from a parameterized\nrandom quantum circuit seems like a good unbiased choice if\nwe do not know the problem structure, McClean et al. (2018)\nshow that\n\n*\"for a wide class of reasonable parameterized quantum\ncircuits, the probability that the gradient along any\nreasonable direction is non-zero to some fixed precision\nis exponentially small as a function of the number\nof qubits.\"*\n\nThus, randomly selected quantum circuits might not be the best\noption to choose while implementing variational quantum\nalgorithms.\n\n\n.. figure:: ../implementations/barren_plateaus/surface.png\n   :width: 90%\n   :align: center\n   :alt: surface\n\n|\n\nIn this tutorial, we will show how randomized quantum circuits\nface the problem of barren plateaus using PennyLane. We will\npartly reproduce some of the findings in McClean et. al., 2018\nwith just a few lines of code.\n\n<div class=\"alert alert-info\"><h4>Note</h4><p>**An initialization strategy to tackle barren plateaus**\n\n    How do we avoid the problem of barren plateaus?\n    In Grant et al. (2019), the authors present one strategy to\n    tackle the barren plateau problem in randomized quantum circuits:\n\n    *\"The technique involves randomly selecting some of the initial\n    parameter values, then choosing the remaining values so that\n    the final circuit is a sequence of shallow unitary blocks that\n    each evaluates to the identity. Initializing in this way limits\n    the effective depth of the circuits used to calculate the first\n    parameter update so that they cannot be stuck in a barren plateau\n    at the start of training.\"*</p></div>\n\n"
      ]
    },
    {
      "cell_type": "markdown",
      "metadata": {},
      "source": [
        "Exploring the barren plateau problem with PennyLane\n---------------------------------------------------\n\nFirst, we import PennyLane, NumPy, and Matplotlib\n\n"
      ]
    },
    {
      "cell_type": "code",
      "execution_count": null,
      "metadata": {
        "collapsed": false
      },
      "outputs": [],
      "source": [
        "import pennylane as qml\nfrom pennylane import numpy as np\nimport matplotlib.pyplot as plt"
      ]
    },
    {
      "cell_type": "markdown",
      "metadata": {},
      "source": [
        "Next, we create a randomized variational circuit\n\n"
      ]
    },
    {
      "cell_type": "code",
      "execution_count": null,
      "metadata": {
        "collapsed": false
      },
      "outputs": [],
      "source": [
        "# Set a seed for reproducibility\nnp.random.seed(42)\n\nnum_qubits = 4\ndev = qml.device(\"default.qubit\", wires=num_qubits)\ngate_set = [qml.RX, qml.RY, qml.RZ]\n\n\ndef rand_circuit(params, random_gate_sequence=None, num_qubits=None):\n    \"\"\"A random variational quantum circuit.\n\n    Args:\n        params (array[float]): array of parameters\n        random_gate_sequence (dict): a dictionary of random gates\n        num_qubits (int): the number of qubits in the circuit\n\n    Returns:\n        float: the expectation value of the target observable\n    \"\"\"\n    for i in range(num_qubits):\n        qml.RY(np.pi / 4, wires=i)\n\n    for i in range(num_qubits):\n        random_gate_sequence[i](params[i], wires=i)\n\n    for i in range(num_qubits - 1):\n        qml.CZ(wires=[i, i + 1])\n\n    H = np.zeros((2 ** num_qubits, 2 ** num_qubits))\n    H[0, 0] = 1\n    wirelist = [i for i in range(num_qubits)]\n    return qml.expval(qml.Hermitian(H, wirelist))"
      ]
    },
    {
      "cell_type": "markdown",
      "metadata": {},
      "source": [
        "Now we can compute the gradient and calculate the variance.\nWhile we only sample 200 random circuits to allow the code\nto run in a reasonable amount of time, this can be\nincreased for more accurate results. We only consider the\ngradient of the output with respect to the last parameter in the\ncircuit. Hence we choose to save ``gradient[-1]`` only.\n\n"
      ]
    },
    {
      "cell_type": "code",
      "execution_count": null,
      "metadata": {
        "collapsed": false
      },
      "outputs": [],
      "source": [
        "grad_vals = []\nnum_samples = 200\n\nfor i in range(num_samples):\n    gate_sequence = {i: np.random.choice(gate_set) for i in range(num_qubits)}\n    qcircuit = qml.QNode(rand_circuit, dev)\n    grad = qml.grad(qcircuit, argnum=0)\n    params = np.random.uniform(0, 2 * np.pi, size=num_qubits)\n    gradient = grad(params, random_gate_sequence=gate_sequence, num_qubits=num_qubits)\n    grad_vals.append(gradient[-1])\n\nprint(\"Variance of the gradients for {} random circuits: {}\".format(num_samples, np.var(grad_vals)))\nprint(\"Mean of the gradients for {} random circuits: {}\".format(num_samples, np.mean(grad_vals)))"
      ]
    },
    {
      "cell_type": "markdown",
      "metadata": {},
      "source": [
        "Evaluate the gradient for more qubits\n~~~~~~~~~~~~~~~~~~~~~~~~~~~~~~~~~~~~~\nWe can repeat the above analysis with increasing number of qubits.\n\n"
      ]
    },
    {
      "cell_type": "code",
      "execution_count": null,
      "metadata": {
        "collapsed": false
      },
      "outputs": [],
      "source": [
        "qubits = [2, 3, 4, 5, 6]\nvariances = []\n\n\nfor num_qubits in qubits:\n    grad_vals = []\n    for i in range(num_samples):\n        dev = qml.device(\"default.qubit\", wires=num_qubits)\n        qcircuit = qml.QNode(rand_circuit, dev)\n        grad = qml.grad(qcircuit, argnum=0)\n\n        gate_set = [qml.RX, qml.RY, qml.RZ]\n        random_gate_sequence = {i: np.random.choice(gate_set) for i in range(num_qubits)}\n\n        params = np.random.uniform(0, np.pi, size=num_qubits)\n        gradient = grad(params, random_gate_sequence=random_gate_sequence, num_qubits=num_qubits)\n        grad_vals.append(gradient[-1])\n    variances.append(np.var(grad_vals))\n\nvariances = np.array(variances)\nqubits = np.array(qubits)\n\n\n# Fit the semilog plot to a straight line\np = np.polyfit(qubits, np.log(variances), 1)\n\n\n# Plot the straight line fit to the semilog\nplt.semilogy(qubits, variances, \"o\")\nplt.semilogy(qubits, np.exp(p[0] * qubits + p[1]), \"o-.\", label=\"Slope {:3.2f}\".format(p[0]))\nplt.xlabel(r\"N Qubits\")\nplt.ylabel(r\"$\\langle \\partial \\theta_{1, 1} E\\rangle$ variance\")\nplt.legend()\nplt.show()"
      ]
    },
    {
      "cell_type": "markdown",
      "metadata": {},
      "source": [
        "This tutorial was generated using the following PennyLane version:\n\n"
      ]
    },
    {
      "cell_type": "code",
      "execution_count": null,
      "metadata": {
        "collapsed": false
      },
      "outputs": [],
      "source": [
        "qml.about()"
      ]
    },
    {
      "cell_type": "markdown",
      "metadata": {},
      "source": [
        "References\n----------\n\n1. Dauphin, Yann N., et al.,\n   Identifying and attacking the saddle point problem in high-dimensional non-convex\n   optimization. Advances in Neural Information Processing\n   systems (2014).\n\n2. McClean, Jarrod R., et al.,\n   Barren plateaus in quantum neural network training landscapes.\n   Nature communications 9.1 (2018): 4812.\n\n3. Grant, Edward, et al.\n   An initialization strategy for addressing barren plateaus in\n   parametrized quantum circuits. arXiv preprint arXiv:1903.05076 (2019).\n\n"
      ]
    }
  ],
  "metadata": {
    "kernelspec": {
      "display_name": "Python 3",
      "language": "python",
      "name": "python3"
    },
    "language_info": {
      "codemirror_mode": {
        "name": "ipython",
        "version": 3
      },
      "file_extension": ".py",
      "mimetype": "text/x-python",
      "name": "python",
      "nbconvert_exporter": "python",
      "pygments_lexer": "ipython3",
      "version": "3.6.7"
    }
  },
  "nbformat": 4,
  "nbformat_minor": 0
}