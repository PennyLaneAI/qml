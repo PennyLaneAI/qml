{
 "cells": [
  {
   "cell_type": "markdown",
   "id": "c33a7fbe-b311-41ae-b456-ef8fb039495c",
   "metadata": {},
   "source": [
    "# Classically-Boosted Variational Quantum Eigensolver"
   ]
  },
  {
   "cell_type": "markdown",
   "id": "2fccc2ab-b7db-4f69-a8b3-36aa5eb4906d",
   "metadata": {},
   "source": [
    "One of the most important applications of quantum computers is expected to be the computation of ground-state energies of complicated molecules and materials. Even though there are already some solid proposals on how to tackle these problems when fault-tolerant quantum computation comes into play, we currently live in the [`NISQ`](https://en.wikipedia.org/wiki/Noisy_intermediate-scale_quantum_era) era, meaning that we can only access very noisy and limited devices. That is why a large part of the research on quantum algorithms is focusing on what can be done with few resources. In particular, most proposals rely on variational quantum algorithms (VQA), which are optimized classically and adapt to the limitations of the quantum devices. For the specific problem of computing ground-state energies, this reduces to the very well-known Variational Quantum Eigensolver (VQE) algorithm.\n",
    "\n",
    "<img src=\"classically_boosted-vqe/quantum_algorithms.png\" width=500px>\n",
    "\n",
    "Although VQE is intended to run on NISQ devices, it is nonetheless sensitive to noise. This is in particular problematic when applying a large number of gates. As a consequence, several modifications to the original VQE algorithm have been proposed. These variants are usually intended to improve the algorithm's performance on NISQ-era devices. \n",
    "\n",
    "Here we will go through one of these proposals step-by-step: the Classically-Boosted Variational Quantum Eigensolver (CB-VQE), which was recently proposed in this [`paper`](https://arxiv.org/abs/2106.04755). Implementing CB-VQE allows to reduce the number of measurements required to obtain the ground-state energy with a certain precision. This is done by making use of classical states which already contain some information about the ground-state of the problem. \n",
    "\n",
    "<img src=\"classically_boosted-vqe/CB_VQE.png\" width=500px>\n",
    "\n",
    "In this demo, we will restrict ourselves to the $H_2$ molecule for the sake of simplicity. First, we will give a short introduction on how to perform standard VQE for the molecule of interest. For more details, we recommend the following [`demo`](https://pennylane.ai/qml/demos/tutorial_vqe.html) to learn how to implement VQE for molecules step-by-step. Then, we will implement the CB-VQE algorithm for the specific case in which we rely only on one classical state, that being the Hartree-Fock state. Finally, we will discuss the number of measurements needed to obtain a certain error-threshold by comparing the two methods. \n",
    "\n",
    "\n",
    "\n",
    "Let's get started!"
   ]
  },
  {
   "cell_type": "markdown",
   "id": "7949f092-2639-46b9-99d4-9b6e06196bbe",
   "metadata": {
    "tags": []
   },
   "source": [
    "## Prequisites: Standard VQE\n",
    "\n",
    "If you are not already familiar with the VQE family of algorithms and wish to see how one can apply it the $H_2$ molecule, feel free to work through [`VQE overview demo`](https://pennylane.ai/qml/demos/tutorial_vqe.html) before reading this Section. Here, we will only briefly review the main idea behind standard VQE and highlight the important concepts in connection with CB-VQE.\n",
    "\n",
    "The main goal of VQE is to find the ground energy of the Schrödinger equation \n",
    "\n",
    "$$H \\vert \\phi \\rangle = E  \\vert \\phi \\rangle.$$ \n",
    "\n",
    "This corresponds to the problem of diagonalizing the Hamiltonian and finding the smallest eigenvalue. Alternatively, one can formulate the problem using the variational principle, in which we are interested in minimizing the energy \n",
    "\n",
    "$$E = \\langle \\phi \\vert H \\vert \\phi \\rangle.$$ \n",
    "\n",
    "In VQE, we prepare a statevector $\\vert \\phi \\rangle$ by applying a parameterized ansatz $A(\\Theta)$ to an inital state $\\vert 0^N \\rangle$. Then, the parameters $\\Theta$ are optimized to minimize a cost function, which in this case is the energy:\n",
    "\n",
    "$$ E(\\Theta) = \\langle 0^{N} \\vert A(\\Theta)^{\\dagger} H A(\\Theta) \\vert 0^{N} \\rangle. $$\n",
    "\n",
    "This is done using a classical optimization method, which is typically gradient descent.\n",
    "\n",
    "To implement our example of VQE, we first define the molecular Hamiltonian for the $H_2$ molecule in the minimal *STO-3G basis*  using PennyLane"
   ]
  },
  {
   "cell_type": "code",
   "execution_count": 14,
   "id": "04da059b-c432-42d2-b342-30b7a9dc1ef9",
   "metadata": {
    "execution": {
     "iopub.execute_input": "2022-07-27T18:13:11.182026Z",
     "iopub.status.busy": "2022-07-27T18:13:11.181779Z",
     "iopub.status.idle": "2022-07-27T18:13:11.238690Z",
     "shell.execute_reply": "2022-07-27T18:13:11.238107Z",
     "shell.execute_reply.started": "2022-07-27T18:13:11.182011Z"
    },
    "tags": []
   },
   "outputs": [],
   "source": [
    "import pennylane as qml\n",
    "from pennylane import qchem\n",
    "from pennylane import numpy as np\n",
    "\n",
    "symbols = [\"H\", \"H\"]\n",
    "coordinates = np.array([0.0, 0.0, -0.6614, 0.0, 0.0, 0.6614])\n",
    "basis_set = \"sto-3g\"\n",
    "electrons = 2\n",
    "\n",
    "H, qubits = qchem.molecular_hamiltonian(\n",
    "    symbols,\n",
    "    coordinates,\n",
    "    basis=basis_set,\n",
    ")"
   ]
  },
  {
   "cell_type": "markdown",
   "id": "366ee7de-3614-4f6e-8516-ac77183537fe",
   "metadata": {},
   "source": [
    "We then initialize the Hartree-Fock state $\\vert \\phi_{HF}\\rangle=\\vert 1100 \\rangle$"
   ]
  },
  {
   "cell_type": "code",
   "execution_count": 15,
   "id": "293d2efb-3c7d-4c44-8144-f73859e5b567",
   "metadata": {
    "execution": {
     "iopub.execute_input": "2022-07-27T18:13:11.566044Z",
     "iopub.status.busy": "2022-07-27T18:13:11.565787Z",
     "iopub.status.idle": "2022-07-27T18:13:11.569653Z",
     "shell.execute_reply": "2022-07-27T18:13:11.569105Z",
     "shell.execute_reply.started": "2022-07-27T18:13:11.566023Z"
    },
    "tags": []
   },
   "outputs": [],
   "source": [
    "hf = qml.qchem.hf_state(electrons, qubits)"
   ]
  },
  {
   "cell_type": "markdown",
   "id": "58f4446f-9a08-4618-ade9-3c5aa43c9e8d",
   "metadata": {},
   "source": [
    "and implement the ansatz $A(\\Theta)$. In this case, we use the [`AllSinglesDoubles`](https://pennylane.readthedocs.io/en/stable/code/api/pennylane.AllSinglesDoubles.html?highlight=allsinglesdoubles#pennylane.AllSinglesDoubles) class, which enables us to apply all possible combinations of single and double excitations obeying the Pauli principle to the Hartree-Fock state. Single and double excitation gates $G^{(1, 2)}(\\Theta)$ are conveniently implemented in PennyLane with [`SingleExcitation`](https://pennylane.readthedocs.io/en/latest/code/api/pennylane.SingleExcitation.html) and [`DoubleExcitation`](https://pennylane.readthedocs.io/en/latest/code/api/pennylane.DoubleExcitation.html) classes. "
   ]
  },
  {
   "cell_type": "code",
   "execution_count": 16,
   "id": "7acd9bea-e8c6-4c88-af02-8d5891451371",
   "metadata": {
    "execution": {
     "iopub.execute_input": "2022-07-27T18:13:11.990577Z",
     "iopub.status.busy": "2022-07-27T18:13:11.989849Z",
     "iopub.status.idle": "2022-07-27T18:13:11.996755Z",
     "shell.execute_reply": "2022-07-27T18:13:11.996306Z",
     "shell.execute_reply.started": "2022-07-27T18:13:11.990514Z"
    },
    "tags": []
   },
   "outputs": [],
   "source": [
    "singles, doubles = qml.qchem.excitations(electrons=electrons, orbitals=qubits)\n",
    "num_theta = len(singles) + len(doubles)\n",
    "\n",
    "def circuit_VQE(theta, wires):\n",
    "    qml.AllSinglesDoubles(\n",
    "        weights = theta,\n",
    "        wires = wires,\n",
    "        hf_state = hf,\n",
    "        singles = singles,\n",
    "        doubles = doubles)"
   ]
  },
  {
   "cell_type": "markdown",
   "id": "86d8cfb5-8f9f-499f-89ea-040f4aa0b0ac",
   "metadata": {},
   "source": [
    "Once this is defined, we can run the VQE algorithm. \n",
    "We first need to define a circuit for the cost function. For our purposes of studying the performance of VQE with the number of measurements, we will take a finite number of shots `num_shots = 100`"
   ]
  },
  {
   "cell_type": "code",
   "execution_count": 17,
   "id": "73a931d8-1a66-45f0-9fa7-ec26a0812066",
   "metadata": {
    "execution": {
     "iopub.execute_input": "2022-07-27T18:13:12.595446Z",
     "iopub.status.busy": "2022-07-27T18:13:12.594649Z",
     "iopub.status.idle": "2022-07-27T18:13:12.602382Z",
     "shell.execute_reply": "2022-07-27T18:13:12.601668Z",
     "shell.execute_reply.started": "2022-07-27T18:13:12.595378Z"
    },
    "tags": []
   },
   "outputs": [],
   "source": [
    "num_shots = 100\n",
    "dev = qml.device('default.qubit', wires=qubits, shots=int(num_shots))\n",
    "@qml.qnode(dev)\n",
    "def cost_fn(theta):\n",
    "    circuit_VQE(theta,range(qubits))\n",
    "    return qml.expval(H)"
   ]
  },
  {
   "cell_type": "markdown",
   "id": "fbc272bc-be0a-40a3-9c89-e0c9ff3311e4",
   "metadata": {},
   "source": [
    "we then fix the classical optimization parameters `stepsize` and `max_iteration` "
   ]
  },
  {
   "cell_type": "code",
   "execution_count": 18,
   "id": "1c67a01d-9353-4d4e-a037-c98f05e51045",
   "metadata": {
    "execution": {
     "iopub.execute_input": "2022-07-27T18:13:13.021677Z",
     "iopub.status.busy": "2022-07-27T18:13:13.021404Z",
     "iopub.status.idle": "2022-07-27T18:13:13.025635Z",
     "shell.execute_reply": "2022-07-27T18:13:13.025024Z",
     "shell.execute_reply.started": "2022-07-27T18:13:13.021655Z"
    },
    "tags": []
   },
   "outputs": [],
   "source": [
    "stepsize = 0.4\n",
    "max_iterations = 10\n",
    "opt = qml.GradientDescentOptimizer(stepsize=stepsize)\n",
    "theta = np.zeros(num_theta, requires_grad=True)"
   ]
  },
  {
   "cell_type": "markdown",
   "id": "0e9fccf1-f4cf-47de-aa5c-5ad697832869",
   "metadata": {},
   "source": [
    "and finally we run the algorithm"
   ]
  },
  {
   "cell_type": "code",
   "execution_count": 19,
   "id": "7b790091-df3c-4fd1-9b38-5fd6492fbba6",
   "metadata": {
    "execution": {
     "iopub.execute_input": "2022-07-27T18:13:13.517785Z",
     "iopub.status.busy": "2022-07-27T18:13:13.517021Z",
     "iopub.status.idle": "2022-07-27T18:13:15.044406Z",
     "shell.execute_reply": "2022-07-27T18:13:15.043861Z",
     "shell.execute_reply.started": "2022-07-27T18:13:13.517694Z"
    },
    "tags": []
   },
   "outputs": [
    {
     "name": "stdout",
     "output_type": "stream",
     "text": [
      "VQE for num. of shots 100 \n",
      "Energy -1.1493\n"
     ]
    }
   ],
   "source": [
    "for n in range(max_iterations):\n",
    "\n",
    "    theta, prev_energy = opt.step_and_cost(cost_fn, theta)\n",
    "    samples = cost_fn(theta)\n",
    "           \n",
    "energy_VQE = cost_fn(theta)\n",
    "theta_opt = theta\n",
    "\n",
    "print('VQE for num. of shots %.0f \\nEnergy %.4f' %(num_shots, energy_VQE))"
   ]
  },
  {
   "cell_type": "markdown",
   "id": "e79909a1-6fb8-45c3-afb0-2e2d7125c0b1",
   "metadata": {},
   "source": [
    "Note that as an output we obtain the VQE approximation to the ground state energy and a set of optimized parameters $\\Theta$ that define the grounstate through the ansatz $A(\\Theta)$. We will need to save these two quantities, as they are necessary to implement CB-VQE in the following steps."
   ]
  },
  {
   "cell_type": "markdown",
   "id": "93a0f000-0418-4309-92c3-64db030a4963",
   "metadata": {
    "tags": []
   },
   "source": [
    "## Classically-Boosted VQE\n",
    "\n",
    "Now we are ready to present the classically-boosted version of VQE. \n",
    "\n",
    "The key of this new method relies on the notion of [`generalized eigenvalue problem`](https://en.wikipedia.org/wiki/Generalized_eigenvalue_problem). The main idea is to restrict the problem of finding the ground state to an eigenvalue problem in a subspace $\\mathcal{H}^{\\prime}$ of the complete Hilbert space $\\mathcal{H}$. If this subspace is spanned by a combination of both classical and quantum states, we can run parts of our algorithm on classical hardware and thus reduce the number of measurements needed to reach a certain precision threshold. For a subspace spanned by the states $\\{\\vert \\phi_\\alpha \\rangle\\}_{\\alpha\\in \\mathcal{H}^{\\prime}}$, the generalized eigenvalue problem is expressed as \n",
    "\n",
    "$$\\bar{H} \\vec{v}=  \\lambda \\bar{S} \\vec{v},$$\n",
    "\n",
    "where $\\bar{H}$ is the Hamiltonian $H$ projected into the subspace of interest, i.e. with the entries\n",
    "\n",
    "$$\\bar{H}_{\\alpha, \\beta} = \\langle \\phi_\\alpha \\vert H \\vert \\phi_\\beta \\rangle \\quad \\forall \\alpha, \\beta \\in \\mathcal{H}^{\\prime} ,$$\n",
    "\n",
    "and the matrix $\\bar{S}$ contains the overlaps between the basis states. For a complete orthonormal basis, the overlap matrix $\\hat{S}$ would simply be the identity matrix. However, we need to take a more general approach which works for a subspace spanned by potentially non-orthogonal states. We can retrieve the representation of $S$ in terms of $\\{\\vert \\phi_\\alpha \\rangle\\}_\\alpha$ by calculating \n",
    "\n",
    "$$\\bar{S}_{\\alpha, \\beta} = \\langle \\phi_\\alpha \\vert \\phi_\\beta \\rangle \\quad \\forall \\alpha, \\beta \\in \\mathcal{H}^{\\prime}.$$\n",
    "\n",
    "Note that $\\vec{v}$ and $\\lambda$ are the eigenvectors and eigenvalues respectively. In particular, our goal is to find the lowest eigenvalue $\\lambda_0$. "
   ]
  },
  {
   "cell_type": "markdown",
   "id": "0e0bedd6-ea44-493c-b936-d3092f5455ec",
   "metadata": {},
   "source": [
    "Equipped with the useful mathematical description of generalized eigenvalue problems, we can now choose our subspace such that some of the states $\\phi_{\\alpha} \\in \\mathcal{H}^{\\prime}$ are classically tractable. \n",
    "\n",
    "We will consider the simplest case in which the subspace is spanned only by one classical state $\\vert \\phi_{HF} \\rangle$ and one quantum state $\\vert \\phi_{q} \\rangle$. More precisely, we define the classical state to be a single [`Slater determinant`](https://en.wikipedia.org/wiki/Slater_determinant), which directly hints towards using the *Hartree-Fock* state for several reasons. First of all, it is well-known that the Hartree-Fock state is a good candidate to approximate the ground state in the mean-field limit. Secondly, we already compute it when we build the molecular Hamiltonian for the standard VQE!"
   ]
  },
  {
   "cell_type": "markdown",
   "id": "61fb5c8d-7de1-4cb5-b8bf-7583d61d05b9",
   "metadata": {},
   "source": [
    "To summarize, our goal is to build the hamiltonian $\\bar{H}$ and the overlap matrix $\\bar{S}$, which act on the subspace $\\mathcal{H}^{\\prime} \\subseteq \\mathcal{H}$ spanned by $\\{\\vert \\phi_{HF} \\rangle, \\vert \\phi_q \\rangle\\}$. These will be two-dimensional matrices, and in the following Sections we will show how to compute all their entries step by step.\n",
    "\n",
    "As done previously, we start by importing *PennyLane*, *Qchem* and differentiable *NumPy* followed by defining the molecular hamiltonian in the Hartree-Fock basis for $H_2$."
   ]
  },
  {
   "cell_type": "code",
   "execution_count": 20,
   "id": "ebf01fe9-7534-42d2-bd11-33f65b4133cc",
   "metadata": {
    "execution": {
     "iopub.execute_input": "2022-07-27T18:13:15.045688Z",
     "iopub.status.busy": "2022-07-27T18:13:15.045524Z",
     "iopub.status.idle": "2022-07-27T18:13:15.106432Z",
     "shell.execute_reply": "2022-07-27T18:13:15.105855Z",
     "shell.execute_reply.started": "2022-07-27T18:13:15.045674Z"
    },
    "tags": []
   },
   "outputs": [],
   "source": [
    "import pennylane as qml\n",
    "from pennylane import qchem\n",
    "from pennylane import numpy as np\n",
    "\n",
    "# Define the molecular Hamiltonian\n",
    "symbols = [\"H\", \"H\"]\n",
    "coordinates = np.array([0.0, 0.0, -0.6614, 0.0, 0.0, 0.6614])\n",
    "basis_set = \"sto-3g\"\n",
    "\n",
    "H, qubits = qchem.molecular_hamiltonian(\n",
    "    symbols,\n",
    "    coordinates,\n",
    "    basis=basis_set,\n",
    ")"
   ]
  },
  {
   "cell_type": "markdown",
   "id": "fe0af911-e28c-40aa-98d8-d74658159652",
   "metadata": {},
   "source": [
    "### Computing Classical Quantities"
   ]
  },
  {
   "cell_type": "markdown",
   "id": "d7025888-8d57-4941-9e83-6f1fc8273b1f",
   "metadata": {},
   "source": [
    "We first set out to calculate the purely classical part of the Hamiltonian $H$. Since we only have one classical state this will already correspond to a scalar energy value. The terms can be expressed as \n",
    "\n",
    "$$H_{11} = \\langle \\phi_{HF} \\vert H \\vert \\phi_{HF} \\rangle \\quad \\text{and} \\quad S_{11} = \\langle \\phi_{HF} \\vert \\phi_{HF} \\rangle$$\n",
    "\n",
    "which is tractable using classical methods. This energy corresponds to the Hatree-Fock energy due to our convenient choice of the classical state. Note that the computation of the classical compononent of the overlap matrix $S_{11} = \\langle \\phi_{HF} \\vert \\phi_{HF} \\rangle = 1$ is trivial. \n",
    "\n",
    "Using PennyLane, we can access the Hartree-Fock energy by looking at the fermionic Hamiltonian, which is the Hamiltonian in the basis of Slater determinants. The basis is organized in lexicographic order, meaning that if we want the entry corresponding to the Hartree Fock determinant $\\vert 1100 \\rangle$, we will have to take the entry $H_{i,i}$, where $1100$ is the binary representation of the index $i$."
   ]
  },
  {
   "cell_type": "code",
   "execution_count": 21,
   "id": "21028aaa-ab81-4861-a866-0798f432ef52",
   "metadata": {
    "execution": {
     "iopub.execute_input": "2022-07-27T18:13:15.522902Z",
     "iopub.status.busy": "2022-07-27T18:13:15.522169Z",
     "iopub.status.idle": "2022-07-27T18:13:15.541241Z",
     "shell.execute_reply": "2022-07-27T18:13:15.540864Z",
     "shell.execute_reply.started": "2022-07-27T18:13:15.522839Z"
    },
    "tags": []
   },
   "outputs": [],
   "source": [
    "hf_state = qml.qchem.hf_state(electrons, qubits)\n",
    "fermionic_Hamiltonian = qml.utils.sparse_hamiltonian(H).toarray()\n",
    "\n",
    "binary_string = ''.join([str(i) for i in hf_state])\n",
    "idx0 = int(binary_string, 2)\n",
    "H11 = fermionic_Hamiltonian[idx0][idx0]\n",
    "S11 = 1"
   ]
  },
  {
   "cell_type": "markdown",
   "id": "0c39d96e-1656-4b04-b5e7-dd516e763baf",
   "metadata": {},
   "source": [
    "### Computing Quatum Quantities"
   ]
  },
  {
   "cell_type": "markdown",
   "id": "30b0fcad-9920-423c-969f-f768e3be2bd2",
   "metadata": {},
   "source": [
    "We now move on to the purely quantum part of the Hamiltonian, i.e. the entry \n",
    "\n",
    "$$H_{22} = \\langle \\phi_{q} \\vert H \\vert \\phi_{q} \\rangle,$$\n",
    "\n",
    "where $\\vert \\phi_q \\rangle$ is the quantum state.  This state is just the output of the standard VQE with a given ansatz, following the steps in the first Section. Therefore the entry $H_{22}$ just corresponds to the final energy of the VQE. In particular, note that the quantum state can be written as $\\vert \\phi_{q} \\rangle = A(\\theta^*) \\vert \\phi_{HF} \\rangle$ where $A(\\theta^*)$ is the ansatz of the VQE with the optimised parameters $\\theta^*$. Once again, we have $S_{22}=\\langle \\phi_{q} \\vert \\phi_{q} \\rangle = 1$ for the overlap matrix. "
   ]
  },
  {
   "cell_type": "code",
   "execution_count": 22,
   "id": "9b8d12c0-5682-4bc3-ad95-0a2f0a04c739",
   "metadata": {
    "execution": {
     "iopub.execute_input": "2022-07-27T18:13:16.287293Z",
     "iopub.status.busy": "2022-07-27T18:13:16.286486Z",
     "iopub.status.idle": "2022-07-27T18:13:16.292640Z",
     "shell.execute_reply": "2022-07-27T18:13:16.292125Z",
     "shell.execute_reply.started": "2022-07-27T18:13:16.287223Z"
    },
    "tags": []
   },
   "outputs": [],
   "source": [
    "H22 = energy_VQE\n",
    "S22 = 1"
   ]
  },
  {
   "cell_type": "markdown",
   "id": "8a502255-4b5e-4af2-9989-0cae27995e4a",
   "metadata": {},
   "source": [
    "### Computing Mixed Quantities"
   ]
  },
  {
   "cell_type": "markdown",
   "id": "38612a9c-bdb0-4ba0-9303-ef143c5261b3",
   "metadata": {},
   "source": [
    "The final part of the algorithm computes the cross-terms between the classical and quantum state\n",
    "\n",
    "$$H_{12} = \\langle \\phi_{HF} \\vert H \\vert \\phi_{q} \\rangle = H_{21}^{\\dagger}.$$\n",
    "\n",
    "This part of the algorithm is slightly more complicated than the previous steps, since we still want make use of the classical component of the problem in order to minimize the number of required shots. \n",
    "\n",
    "Keep in mind that most algorithms usually perform computations either on fully classically or quantum tractable Hilbert spaces. CB-VQE takes advantage of the classical part of the problem while still calculating a classically-intractable quantity by using the so-called [`Hadamard test`](https://en.wikipedia.org/wiki/Hadamard_test_(quantum_computation)) to construct $H_{12}$. The Hadamard test is a prime example of an indirect measurement, which allows us to measure properties of a state without (completely) destroying it. \n",
    "\n",
    "In our case, we are interested in calculating the quantities\n",
    "\n",
    "$$H_{12} = \\sum_{i} Re(\\langle \\phi_q \\vert i \\rangle) \\langle i \\vert H \\vert \\phi_{HF} \\rangle$$\n",
    "$$S_{12} = Re(\\langle \\phi_q \\vert \\phi_{HF} \\rangle) $$\n",
    "\n",
    "where $i$ are the computational basis states of the system, i.e. the basis of single Slater determinants. For the problem under consideration, the set of relevant computational basis states for which $\\langle i \\vert H \\vert \\phi_{HF}\\rangle \\neq 0$ contains all the single and double excitations (allowed by spin symmteries)\n",
    "\n",
    "$$\\vert 1100 \\rangle, \\vert 1001 \\rangle, \\vert 0110 \\rangle, \\vert 0011 \\rangle.$$\n",
    "\n",
    "Note that the set of computational basis states includes the *Hartree-Fock* state $i_0 = \\phi_{HF} = \\vert 1100 \\rangle$. The projections $\\langle i \\vert H \\vert \\phi_{HF} \\rangle$ can be extracted analytically from the fermionic Hamiltonian that we computed above, by accessing the entries by the index given by the binary expression of each Slater determinant.\n",
    "\n",
    "The Hadamard test is required in order to compute the real part of $\\langle \\phi_q \\vert i \\rangle$.\n",
    "\n",
    "<img src=\"classically_boosted-vqe/hadamard_test.png\" width=500px>\n",
    "\n",
    "To implement the Hadamard test, we need a register of $N$ qubits given by the size of the molecular Hamiltonian ($N=4$ in our case) initialized in the state $\\rvert 0^N \\rangle$ and an ancillary qubit prepared in the $\\rvert 0 \\rangle$ state.\n",
    "\n",
    "In order to generate $\\langle \\phi_q \\vert i \\rangle$, we take $U_q$ such that $U_q \\vert 0^N \\rangle = \\vert \\phi_q \\rangle$. In particular, this is equivalent to using the standard VQE ansatz with the optimized parameters $\\Theta*$ that we obtained in the previous section $U_q = A(\\Theta*)$ applied on the *Hartree-Fock* state. Moreover, we also need $U_i$ such that $U_i \\vert 0^N \\rangle = \\vert \\phi_i \\rangle$. In this case, this is just a mapping of a classical basis state into the circuit consisting of $X$ gates and can be easily implemented using PennyLane's function `qml.BasisState(i, N))`."
   ]
  },
  {
   "cell_type": "code",
   "execution_count": 23,
   "id": "b113f844-a0b5-42ae-ba3a-12e038c5be1f",
   "metadata": {
    "execution": {
     "iopub.execute_input": "2022-07-27T18:13:17.349385Z",
     "iopub.status.busy": "2022-07-27T18:13:17.349144Z",
     "iopub.status.idle": "2022-07-27T18:13:17.354351Z",
     "shell.execute_reply": "2022-07-27T18:13:17.353835Z",
     "shell.execute_reply.started": "2022-07-27T18:13:17.349372Z"
    },
    "tags": []
   },
   "outputs": [],
   "source": [
    "num_shots = 100\n",
    "wires = range(qubits + 1)\n",
    "dev = qml.device(\"default.qubit\", wires=wires, shots=num_shots)\n",
    "\n",
    "@qml.qnode(dev)\n",
    "def hadamard_test(Uq, Ucl, component='real'):\n",
    "\n",
    "    if component == 'imag':\n",
    "        qml.RX(math.pi/2, wires=wires[1:])\n",
    "\n",
    "    qml.Hadamard(wires=[0])\n",
    "    qml.ControlledQubitUnitary(Uq.conjugate().T @ Ucl, control_wires=[0], wires=wires[1:])\n",
    "    qml.Hadamard(wires=[0])\n",
    "\n",
    "    return qml.probs(wires=[0])"
   ]
  },
  {
   "cell_type": "markdown",
   "id": "5d904a13-332f-4563-b513-ead817e624a4",
   "metadata": {},
   "source": [
    "Once we have built the Hadamard test we can compute the Hamiltonian crossed terms."
   ]
  },
  {
   "cell_type": "code",
   "execution_count": 24,
   "id": "b2444917-a3ee-4a4d-910a-fe1b2419557c",
   "metadata": {
    "execution": {
     "iopub.execute_input": "2022-07-27T18:13:18.008997Z",
     "iopub.status.busy": "2022-07-27T18:13:18.008755Z",
     "iopub.status.idle": "2022-07-27T18:13:18.031408Z",
     "shell.execute_reply": "2022-07-27T18:13:18.030929Z",
     "shell.execute_reply.started": "2022-07-27T18:13:18.008984Z"
    },
    "tags": []
   },
   "outputs": [],
   "source": [
    "def circuit_product_state(state):\n",
    "    qml.BasisState(state, range(qubits))\n",
    "\n",
    "Uq = qml.matrix(circuit_VQE)(theta_opt, range(qubits)) @ qml.matrix(circuit_product_state)([1,1,0,0])\n",
    "\n",
    "H12 = 0\n",
    "relevant_basis_states = np.array([[1,1,0,0], [0,1,1,0], [1,0,0,1], [0,0,1,1]], requires_grad=True)\n",
    "for j, basis_state in enumerate(relevant_basis_states):\n",
    "    Ucl = qml.matrix(circuit_product_state)(basis_state)\n",
    "    probs = hadamard_test(Uq, Ucl)\n",
    "    y = 2*abs(probs[0])-1\n",
    "    binary_string = ''.join([str(coeff) for coeff in basis_state])\n",
    "    idx = int(binary_string, 2)\n",
    "    overlap_H = fermionic_Hamiltonian[idx0][idx]\n",
    "    H12 += y * overlap_H\n",
    "    if j == 0:\n",
    "        y0 = y\n",
    "        \n",
    "H21 = np.conjugate(H12)"
   ]
  },
  {
   "cell_type": "markdown",
   "id": "b4fa1bd0-1de9-4a4a-a140-12a476e64813",
   "metadata": {
    "execution": {
     "iopub.execute_input": "2022-07-26T22:08:42.962899Z",
     "iopub.status.busy": "2022-07-26T22:08:42.962285Z",
     "iopub.status.idle": "2022-07-26T22:08:42.966461Z",
     "shell.execute_reply": "2022-07-26T22:08:42.965692Z",
     "shell.execute_reply.started": "2022-07-26T22:08:42.962882Z"
    },
    "tags": []
   },
   "source": [
    "Finally, we can define the cross terms of the $S$ matrix making use of the projections with the *Hartree-Fock* state."
   ]
  },
  {
   "cell_type": "code",
   "execution_count": 25,
   "id": "77c208e7-dc06-473c-bf33-54785b51b869",
   "metadata": {
    "execution": {
     "iopub.execute_input": "2022-07-27T18:13:18.639007Z",
     "iopub.status.busy": "2022-07-27T18:13:18.638787Z",
     "iopub.status.idle": "2022-07-27T18:13:18.641670Z",
     "shell.execute_reply": "2022-07-27T18:13:18.641254Z",
     "shell.execute_reply.started": "2022-07-27T18:13:18.638994Z"
    },
    "tags": []
   },
   "outputs": [],
   "source": [
    "S12 = y0\n",
    "S21 = y0.conjugate()"
   ]
  },
  {
   "cell_type": "markdown",
   "id": "1c9c37be-2ff6-4e2a-ac07-7377432f07ba",
   "metadata": {},
   "source": [
    "### Solving the generalized eigenvalue problem"
   ]
  },
  {
   "cell_type": "markdown",
   "id": "d440d37c-3170-4bfe-96a3-ff5fea73f8e3",
   "metadata": {},
   "source": [
    "Finally, we are ready to solve the generalized eigenvalue problem. For this, we will build the matrices $H$ and $S$ and use scipy to obtain the lowest eigenvalue."
   ]
  },
  {
   "cell_type": "code",
   "execution_count": 26,
   "id": "e048acfe-55b4-4e89-9384-8db5b1497afb",
   "metadata": {
    "execution": {
     "iopub.execute_input": "2022-07-27T18:13:19.437392Z",
     "iopub.status.busy": "2022-07-27T18:13:19.436659Z",
     "iopub.status.idle": "2022-07-27T18:13:19.444643Z",
     "shell.execute_reply": "2022-07-27T18:13:19.444230Z",
     "shell.execute_reply.started": "2022-07-27T18:13:19.437330Z"
    },
    "tags": []
   },
   "outputs": [
    {
     "name": "stdout",
     "output_type": "stream",
     "text": [
      "CB-VQE for num. of shots 100 \n",
      "Energy -1.1684\n"
     ]
    }
   ],
   "source": [
    "from scipy import linalg\n",
    "\n",
    "S = np.array([[S11, S12],[S21, S22]])\n",
    "H = np.array([[H11, H12],[H21, H22]])\n",
    "\n",
    "evals = linalg.eigvals(H, S)\n",
    "energy_CBVQE = np.min(evals).real\n",
    "\n",
    "print('CB-VQE for num. of shots %.0f \\nEnergy %.4f' %(num_shots, energy_CBVQE))"
   ]
  },
  {
   "cell_type": "markdown",
   "id": "5f027ae3-a7f8-4d01-9a32-21201a3bcbdb",
   "metadata": {},
   "source": [
    "## Measurement analysis"
   ]
  },
  {
   "cell_type": "markdown",
   "id": "3bf7108e-4520-4a75-aa4b-3aa113e1e41f",
   "metadata": {
    "execution": {
     "iopub.execute_input": "2022-07-26T22:04:01.507246Z",
     "iopub.status.busy": "2022-07-26T22:04:01.507056Z",
     "iopub.status.idle": "2022-07-26T22:04:01.510639Z",
     "shell.execute_reply": "2022-07-26T22:04:01.510016Z",
     "shell.execute_reply.started": "2022-07-26T22:04:01.507230Z"
    }
   },
   "source": [
    "CB-VQE is helpful when it comes to reducing the number of measurements that are required to reach a given precision in the ground state energy. In the [`paper`](https://arxiv.org/abs/2106.04755), they estimate these numbers by computing the variances associated to both standard VQE and CB-VQE for different molecules, showing that for very small systems the classically-boosted method reduces the number of measurements by a factor of $1000$. \n",
    "\n",
    "For this demo, we run the standard VQE and CB-VQE algorihtms $100$ times for different values of `num_shots`. We then compute the mean value of the energies and the standard deviation for both cases.\n",
    "\n",
    "<img src=\"classically_boosted-vqe/energy_deviation.png\" width=500px>\n",
    "\n",
    "We see that CB-VQE leads to lower energies improving the results given by standard VQE. For the limit of large `num_shots` we see that, as expected, both algorithms converge to the same value of the ground state energy."
   ]
  },
  {
   "cell_type": "code",
   "execution_count": null,
   "id": "e0cc61df-5e09-4772-a958-e2b91d12fbca",
   "metadata": {},
   "outputs": [],
   "source": []
  }
 ],
 "metadata": {
  "interpreter": {
   "hash": "f93c1bf5150e223d261983eb718c1d51467fc7ce31b6e7b0c76800af9d182229"
  },
  "kernelspec": {
   "display_name": "Python 3 (ipykernel)",
   "language": "python",
   "name": "python3"
  },
  "language_info": {
   "codemirror_mode": {
    "name": "ipython",
    "version": 3
   },
   "file_extension": ".py",
   "mimetype": "text/x-python",
   "name": "python",
   "nbconvert_exporter": "python",
   "pygments_lexer": "ipython3",
   "version": "3.9.12"
  }
 },
 "nbformat": 4,
 "nbformat_minor": 5
}
