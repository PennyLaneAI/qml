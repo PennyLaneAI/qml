{
 "cells": [
  {
   "cell_type": "markdown",
   "id": "c33a7fbe-b311-41ae-b456-ef8fb039495c",
   "metadata": {},
   "source": [
    "# Classically-Boosted Variational Quantum Eigensolver"
   ]
  },
  {
   "cell_type": "markdown",
   "id": "2fccc2ab-b7db-4f69-a8b3-36aa5eb4906d",
   "metadata": {},
   "source": [
    "One of the game-changing applications of quantum computers is expected to be the computation of ground state energies of complicated molecules and materials. Even though there are already some solid proposals on how to tackle these problems when fault-tolerant quantum computation becomes a reality, right now we live in the [`NISQ`](https://en.wikipedia.org/wiki/Noisy_intermediate-scale_quantum_era) era, where we can only access very noisy and limited devices. A large part of the research on quantum algorithms is focusing on what can be done for now with few resources. In particular, most of the proposals of the field rely on variational quantum algorithms that adapt to the limits of the devices and which can be optimized classically. For the specific problem of computing ground state energies this reduces to the very well-known Variational Quantum Eigensolver (VQE) algorithm.\n",
    "\n",
    "[add picture-drawing VQE vs FT]\n",
    "\n",
    "Even though VQE is an algorithm specifically targeted to NISQ devices, it still suffers a lot from noise, which usually scales very badly with the number of gates, and also from having to perform many circuit repetitions to compute the ground state energy. As a consequence, many different proposals have explored variations of the original VQE algorithm in order to improve its performance and allow for the simulation of more interesting systems.\n",
    "\n",
    "In this demo, we will go step-by-step through one of these proposals: the Classically-Boosted Variational Quantum Eigensolver (CB-VQE), which was recently proposed in this [`paper`](https://arxiv.org/abs/2106.04755). This variant of VQE allows us to reduce the number of measurements required to obtain the ground state energy with certain precision by making use of classical states which already carry some information of the ground state of the problem. \n",
    "\n",
    "In this demo we will focus on one specific goal which is finding the ground state energy of the $Li_2$ molecule with a certain precision and estimating the quantity of measurements that would be needed in an actual quantum device. The demo will be organized as follows:\n",
    "- We will first give a short introduction on how to perform normal VQE for the molecule of interest. For more details, we recommend the following [`demo`](https://pennylane.ai/qml/demos/tutorial_vqe.html) to learn how to implement VQE for molecules step-by-step.\n",
    "- Then, we will focus on the CB-VQE algorithm and implement the details of the algorithm for the specific case in which we rely only on one classical state, that being the Hartree-Fock state.\n",
    "- Finally, we will briefly discuss the variances and the number of measurements that would be needed for both cases. \n",
    "\n",
    "[add picture-drawing]"
   ]
  },
  {
   "cell_type": "markdown",
   "id": "7949f092-2639-46b9-99d4-9b6e06196bbe",
   "metadata": {},
   "source": [
    "## NORMAL VQE\n",
    "\n",
    "If you are not already familiar with the VQE family of algorithms and wish to see how one can apply it the $H_2$ molecule, feel free to work through [VQE overview demo](https://pennylane.ai/qml/demos/tutorial_vqe.html). We will briefly review the main idea behind normal VQE and apply it to the $Li_2$ molecule and use the *6-31G basis* from PennyLane with $M$ active orbitals for $N=6$ electrons. \n",
    "The main goal of VQE is to find the ground energy of the Schrödinger equation $H \\vert \\phi \\rangle = E  \\vert \\phi \\rangle$ which corresponds to finding the smallest eigenvalue. An equivalent formulation is to minimize the energy $E = \\langle \\phi \\vert H \\vert \\phi \\rangle$ which acts as a cost function.\n",
    "The statevector $\\vert \\phi \\rangle$ is prepared by applying a given parameterized ansatz $A(\\Theta)$ to the inital state $\\vert 0^N \\rangle$. The parameters are optimized using classical methods, e.g. we could minimize \n",
    "$$\n",
    "E(\\Theta) = \\langle 0^{N} \\vert A(\\Theta)^{\\dagger} H A(\\Theta) \\vert 0^{N} \\rangle\n",
    "$$\n",
    "with gradient descent. \n",
    "For the ansatz $A(\\Theta)$ we choose a circuit comprising of *Givens rotations* $G(\\Theta)$ (TODO::Is nomenclature correct for higher order excatations?) and $X$-operations. The *Pauli* operations are applied in order to initalize the *Hartree-Fock* state $\\vert HF \\rangle=\\vert 1 \\cdots 1 0 \\cdots 0 \\rangle = X \\otimes \\cdots \\otimes X \\otimes I \\otimes \\cdots \\otimes I \\vert 0^N\\rangle$.\n",
    "A *Givens rotation* gate physically corresponds to the excitation of a certain number of electrons. \n",
    "For now we will focus on single and double excitation gates $G^{(1, 2)}(\\Theta)$ which are conveniently implemented in PennyLane with [`SingleExcitation`](https://pennylane.readthedocs.io/en/latest/code/api/pennylane.SingleExcitation.html) and [`DoubleExcitation`](https://pennylane.readthedocs.io/en/latest/code/api/pennylane.DoubleExcitation.html) classes. \n",
    "The [`AllSinglesDoubles`](https://pennylane.readthedocs.io/en/stable/code/api/pennylane.AllSinglesDoubles.html?highlight=allsinglesdoubles#pennylane.AllSinglesDoubles) class enables us to apply all possible combinations of single and double excitations, which obey the Pauli principle, to the *Hartree-Fock* state. "
   ]
  },
  {
   "cell_type": "code",
   "execution_count": 2,
   "id": "7acd9bea-e8c6-4c88-af02-8d5891451371",
   "metadata": {},
   "outputs": [
    {
     "name": "stdout",
     "output_type": "stream",
     "text": [
      "15\n",
      "Step = 0,  Energy = -14.86704134 Ha\n",
      "Step = 2,  Energy = -14.86874520 Ha\n",
      "Step = 4,  Energy = -14.87017151 Ha\n",
      "Step = 6,  Energy = -14.87136246 Ha\n",
      "Step = 8,  Energy = -14.87235486 Ha\n",
      "Step = 10,  Energy = -14.87318045 Ha\n",
      "Step = 12,  Energy = -14.87386636 Ha\n",
      "Step = 14,  Energy = -14.87443562 Ha\n",
      "Step = 16,  Energy = -14.87490768 Ha\n",
      "Step = 18,  Energy = -14.87529890 Ha\n",
      "Step = 20,  Energy = -14.87562295 Ha\n",
      "Step = 22,  Energy = -14.87589128 Ha\n",
      "Step = 24,  Energy = -14.87611340 Ha\n",
      "Step = 26,  Energy = -14.87629724 Ha\n",
      "Step = 28,  Energy = -14.87644938 Ha\n",
      "Step = 30,  Energy = -14.87657527 Ha\n",
      "Step = 32,  Energy = -14.87667945 Ha\n",
      "Step = 34,  Energy = -14.87676565 Ha\n",
      "Step = 36,  Energy = -14.87683698 Ha\n",
      "Step = 38,  Energy = -14.87689601 Ha\n",
      "Step = 40,  Energy = -14.87694487 Ha\n",
      "Step = 42,  Energy = -14.87698530 Ha\n",
      "Step = 44,  Energy = -14.87701877 Ha\n",
      "Step = 46,  Energy = -14.87704647 Ha\n",
      "Step = 48,  Energy = -14.87706941 Ha\n",
      "Step = 50,  Energy = -14.87708840 Ha\n",
      "Step = 52,  Energy = -14.87710413 Ha\n",
      "Step = 54,  Energy = -14.87711715 Ha\n",
      "Step = 56,  Energy = -14.87712794 Ha\n",
      "Step = 58,  Energy = -14.87713687 Ha\n",
      "Step = 60,  Energy = -14.87714427 Ha\n",
      "Step = 62,  Energy = -14.87715040 Ha\n",
      "Step = 64,  Energy = -14.87715549 Ha\n",
      "Step = 66,  Energy = -14.87715970 Ha\n",
      "Step = 68,  Energy = -14.87716319 Ha\n",
      "Step = 70,  Energy = -14.87716608 Ha\n",
      "Step = 72,  Energy = -14.87716848 Ha\n",
      "Step = 74,  Energy = -14.87717047 Ha\n",
      "\n",
      "Final value of the ground-state energy = -14.87717047 Ha\n",
      "\n",
      "Optimal values of the circuit parameter =,  [0.         0.         0.         0.         0.         0.\n",
      " 0.20734124 0.         0.         0.         0.         0.26337694\n",
      " 0.         0.         0.26528017]\n"
     ]
    },
    {
     "data": {
      "text/plain": [
       "Text(0, 0.5, 'energy (Ha)')"
      ]
     },
     "execution_count": 2,
     "metadata": {},
     "output_type": "execute_result"
    },
    {
     "data": {
      "image/png": "[encoded data removed]",
      "text/plain": [
       "<Figure size 1368x648 with 1 Axes>"
      ]
     },
     "metadata": {},
     "output_type": "display_data"
    },
    {
     "data": {
      "image/png": "[encoded data removed]",
      "text/plain": [
       "<Figure size 720x504 with 1 Axes>"
      ]
     },
     "metadata": {
      "needs_background": "light"
     },
     "output_type": "display_data"
    }
   ],
   "source": [
    "import pennylane as qml\n",
    "from pennylane import qchem\n",
    "from pennylane import numpy as np\n",
    "\n",
    "# Define the molecular Hamiltonian\n",
    "symbols, coordinates = qml.qchem.read_structure('./classically_boosted-vqe/li2.xyz')\n",
    "\n",
    "basis_set = \"6-31G\"\n",
    "electrons = 6\n",
    "orbitals = 6\n",
    "\n",
    "H, qubits = qchem.molecular_hamiltonian(\n",
    "    symbols,\n",
    "    coordinates,\n",
    "    charge=0,\n",
    "    mult=1,\n",
    "    basis=basis_set,\n",
    "    active_electrons=electrons,\n",
    "    active_orbitals=orbitals\n",
    ")\n",
    "\n",
    "# Define the HF initial state\n",
    "hf = qml.qchem.hf_state(electrons, qubits)\n",
    "\n",
    "# Define all possible single and double excitations\n",
    "singles, doubles = qml.qchem.excitations(electrons=electrons, orbitals=qubits)\n",
    "num_theta = len(singles) + len(doubles)\n",
    "print(num_theta)\n",
    " \n",
    "# Define a device\n",
    "dev = qml.device('default.qubit', wires=qubits)\n",
    "\n",
    "# Define the cost function and the circuit\n",
    "def circuit(theta, wires):\n",
    "    qml.AllSinglesDoubles(\n",
    "        weights = theta,\n",
    "        wires = wires,\n",
    "        hf_state = hf,\n",
    "        singles = singles,\n",
    "        doubles = doubles)\n",
    "\n",
    "@qml.qnode(dev)\n",
    "def cost_fn(theta):\n",
    "    circuit(theta,range(qubits)) # Why define outside?\n",
    "    return qml.expval(H)\n",
    "\n",
    "# Draw circuit\n",
    "qml.drawer.use_style('black_white')\n",
    "qml.draw_mpl(cost_fn, expansion_strategy=\"device\")(np.zeros(num_theta))\n",
    "\n",
    "# Gradient descent optimization\n",
    "opt = qml.GradientDescentOptimizer(stepsize=0.4)\n",
    "theta = np.zeros(num_theta, requires_grad=True)\n",
    "\n",
    "#  Initial energy\n",
    "energy = [cost_fn(theta)]\n",
    "angle = [theta]\n",
    "\n",
    "# Set the number of iterations and the convergence\n",
    "max_iterations = 100\n",
    "conv_tol = 1e-06\n",
    "\n",
    "for n in range(max_iterations):\n",
    "\n",
    "    theta, prev_energy = opt.step_and_cost(cost_fn, theta)\n",
    "\n",
    "    energy.append(cost_fn(theta))\n",
    "    angle.append(theta)\n",
    "\n",
    "    conv = np.abs(energy[-1] - prev_energy)\n",
    "\n",
    "    if n % 2 == 0:\n",
    "        print(f\"Step = {n},  Energy = {energy[-1]:.8f} Ha\")\n",
    "\n",
    "    if conv <= conv_tol:\n",
    "        break\n",
    "\n",
    "print(\"\\n\" f\"Final value of the ground-state energy = {energy[-1]:.8f} Ha\")\n",
    "print(\"\\n\" f\"Optimal values of the circuit parameter =, \", angle[-1])\n",
    "\n",
    "from matplotlib import pyplot as plt\n",
    "plt.figure(figsize=(10,7))\n",
    "plt.plot(energy ,\"x--\")\n",
    "plt.xlabel(\"epoch\", fontsize=20)\n",
    "plt.ylabel(\"energy (Ha)\", fontsize=20)"
   ]
  },
  {
   "cell_type": "markdown",
   "id": "947169e5-6e00-4b6c-8b46-1d7ad2715a75",
   "metadata": {},
   "source": [
    "## CLASSICALLY-BOOSTED VQE\n",
    "\n",
    "Now we are ready to present the classically-boosted version of VQE. The key of this new method relies on the notion of [`generalized eigenvalue problem`](https://en.wikipedia.org/wiki/Generalized_eigenvalue_problem). The main idea is to restrict the problem of finding the ground state to an eigenvalue problem on a subspace of the total Hilbert space. If this subspace is spanned by the right basis vectors, which will be a combination of both classical and quantum states, our algorithm will become less sensitive to the noise of the quantum device and thus we will be able to reduce the number of measurements needed without sacrificing precision of the final value of the ground state energy.\n",
    "\n",
    "Let's first define the generalized eigenvalue problem in a subspace spanned by the states $\\{\\vert \\phi_\\alpha \\rangle\\}_\\alpha$\n",
    "\n",
    "$$\n",
    "\\bar{H} \\vec{v}=  \\lambda \\bar{S} \\vec{v},\n",
    "$$\n",
    "\n",
    "where $\\bar{H}$ is the Hamiltonian projected into the states, whose entries are defined as\n",
    "\n",
    "$$\n",
    "\\bar{H}_{\\alpha, \\beta} = \\langle \\phi_\\alpha \\vert H \\vert \\phi_\\beta \\rangle,\n",
    "$$\n",
    "\n",
    "and the matrix $\\bar{S}$ contains the overlaps between the basis states which is the identity matrix in the case of an orthogonal basis but has to be computed as follows otherwise\n",
    "$$\n",
    "\\bar{S}_{\\alpha, \\beta} = \\langle \\phi_\\alpha \\vert \\phi_\\beta \\rangle.\n",
    "$$\n",
    "\n",
    "Note that $\\vec{v}$ and $\\lambda$ are the eigenvectors and eigenvalues respectively. In particular, our goal is to find the lowest eigenvalue $\\lambda_0$. \n",
    "\n",
    "In this demo, following the example from the [`paper`](https://arxiv.org/abs/2106.04755), we consider the simplest case scenario in which the subspace is spanned only by one classical state, $\\vert \\phi_{HF} \\rangle$, and one quantum state, $\\vert \\phi_{q} \\rangle$. In particular, the classical state must be a single [`Slater determinant`](https://en.wikipedia.org/wiki/Slater_determinant), which directly points towards using the Hartree-Fock state for several reasons. On one hand, it is well-known that the Hartree-Fock state is a a good candidate to approximate the ground state in a mean-field limit, but moreover we get it for free when we build the molecular Hamiltonian that we need to run even the normal VQE!\n",
    "\n",
    "Given all this information, our goal is two build the hamiltonian $\\bar{H}$ and the overlap matrix $\\bar{S}$, which act on the subspace spanned by $\\{\\vert \\phi_{HF} \\rangle, \\vert \\phi_q \\rangle\\}$. These will be two-dimensional matrices, and in the following Sections we will show how to compute all their entries step by step.\n",
    "\n",
    "As before, we start by importing `pennylane`, `qchem` and autodifferentiable `numpy`,"
   ]
  },
  {
   "cell_type": "code",
   "execution_count": null,
   "id": "ebf01fe9-7534-42d2-bd11-33f65b4133cc",
   "metadata": {},
   "outputs": [],
   "source": [
    "import pennylane as qml\n",
    "from pennylane import qchem\n",
    "from pennylane import numpy as np"
   ]
  },
  {
   "cell_type": "markdown",
   "id": "b647c80e-42ea-49f1-9001-1ffcacf3d5b6",
   "metadata": {},
   "source": [
    "and then again defining the molecular hamiltonian in the Hartree-Fock basis for $Li_2$."
   ]
  },
  {
   "cell_type": "code",
   "execution_count": null,
   "id": "38278fac-d26a-4b66-b55d-239133396dd0",
   "metadata": {},
   "outputs": [],
   "source": [
    "symbols = [\"Li\", \"Li\"]\n",
    "coordinates = np.array([[-0.13150,0.0,0.0], [2.59150,0.0,0.0]])\n",
    "basis_set = \"6-31G\"\n",
    "electrons = 2\n",
    "orbitals = 4\n",
    "\n",
    "H, qubits = qchem.molecular_hamiltonian(\n",
    "    symbols,\n",
    "    coordinates,\n",
    "    charge=0,\n",
    "    mult=1,\n",
    "    basis=basis_set,\n",
    "    active_electrons=electrons,\n",
    "    active_orbitals=orbitals\n",
    ")"
   ]
  },
  {
   "cell_type": "markdown",
   "id": "69da9be3-2390-4733-9104-246ee24e27db",
   "metadata": {},
   "source": [
    "Moreover, which just takes the form and its given by the function"
   ]
  },
  {
   "cell_type": "code",
   "execution_count": null,
   "id": "d9efb13d-4b83-46af-8864-8fcec318d027",
   "metadata": {},
   "outputs": [],
   "source": [
    "hf = qml.qchem.hf_state(electrons, qubits)"
   ]
  },
  {
   "cell_type": "markdown",
   "id": "fe0af911-e28c-40aa-98d8-d74658159652",
   "metadata": {},
   "source": [
    "### Projection onto the classical state"
   ]
  },
  {
   "cell_type": "markdown",
   "id": "d7025888-8d57-4941-9e83-6f1fc8273b1f",
   "metadata": {},
   "source": [
    "So we first one to compute the entry \n",
    "$$\n",
    "H_{11} = \\langle \\phi_{HF} \\vert H \\vert \\phi_{HF} \\rangle.\n",
    "$$\n",
    "\n",
    "Note that this is completely classical! The only thing we need to do is to compute the expectation value of our Hamiltonian on the Hartree-Fock state, which, by definition, is just the Hartree-Fock energy $E_{HF}$.\n",
    "\n",
    "Using Pennylane, an easy way to compute this expectation value is to construct a circuit in which we implement the Hartree-Fock stae using the function `qml.BasisState` and then output the exectation value. "
   ]
  },
  {
   "cell_type": "code",
   "execution_count": 2,
   "id": "21028aaa-ab81-4861-a866-0798f432ef52",
   "metadata": {},
   "outputs": [],
   "source": [
    "dev11 = qml.device('default.qubit', wires=qubits)\n",
    "\n",
    "@qml.qnode(dev11)\n",
    "def circuit_H11():\n",
    "    qml.BasisState(hf, wires=range(qubits))\n",
    "    return qml.expval(H)\n",
    "\n",
    "H11 = circuit_H11()"
   ]
  },
  {
   "cell_type": "markdown",
   "id": "269f68af-d124-4f55-9a04-b405f94eb98d",
   "metadata": {},
   "source": [
    "Note running this circuit on a quantum device would definitely not be the most efficient way to compute this expectation value! We just use this functionality in PennyLane because our molecular Hamiltonian is already built in the qubit basis, but we run the circuit classically."
   ]
  },
  {
   "cell_type": "markdown",
   "id": "0c39d96e-1656-4b04-b5e7-dd516e763baf",
   "metadata": {},
   "source": [
    "### Projection onto the quantum state"
   ]
  },
  {
   "cell_type": "markdown",
   "id": "30b0fcad-9920-423c-969f-f768e3be2bd2",
   "metadata": {},
   "source": [
    "Next, we are interested in computing the entry\n",
    "$$\n",
    "H_{22} = \\langle \\phi_{q} \\vert H \\vert \\phi_{q} \\rangle,\n",
    "$$\n",
    "where the quantum state $\\vert \\phi_q \\rangle$ is just the output of a normal VQE with a given ansatz, following the steps in the first Section. Then, we see that the entry $H_{22}$ just corresponds to the final energy of the VQE. In particular, note that the quantum state can be written as\n",
    "$$\n",
    "\\vert \\phi_{q} \\rangle = U(\\{\\theta_i^*\\}) \\vert \\phi_{HF} \\rangle ,\n",
    "$$\n",
    "where $U(\\{\\theta_i\\})$ is the ansatz of the VQE with the optimized parameters $\\{\\theta_i^*\\}$."
   ]
  },
  {
   "cell_type": "markdown",
   "id": "8a502255-4b5e-4af2-9989-0cae27995e4a",
   "metadata": {},
   "source": [
    "### Hamiltonian's crossed terms"
   ]
  },
  {
   "cell_type": "markdown",
   "id": "38612a9c-bdb0-4ba0-9303-ef143c5261b3",
   "metadata": {},
   "source": [
    "Now we are ready to compute the crossed terms:\n",
    "$$\n",
    "H_{12} = \\langle \\phi_{HF} \\vert H \\vert \\phi_{q} \\rangle = H_{21}^*.\n",
    "$$\n",
    "\n",
    "This part of the algorithm is slightly more complicated than the previous steps, since we will need to use a [`Hadamard test`](https://en.wikipedia.org/wiki/Hadamard_test_(quantum_computation))."
   ]
  },
  {
   "cell_type": "code",
   "execution_count": 15,
   "id": "18ee685c-1d27-42ab-98f9-19df5edbea21",
   "metadata": {},
   "outputs": [],
   "source": [
    "wires = range(qubits + 1)\n",
    "dev_a = qml.device(\"default.qubit\", wires=wires)\n",
    "\n",
    "def circuit_VQE(theta, wires):\n",
    "    qml.AllSinglesDoubles(\n",
    "        weights = theta,\n",
    "        wires = wires,\n",
    "        hf_state = hf,\n",
    "        singles = singles,\n",
    "        doubles = doubles)\n",
    "\n",
    "def circuit_HF():\n",
    "    for wire in range(electrons):\n",
    "        qml.PauliX(wires=wire)\n",
    "    for wire in range(electrons, qubits):\n",
    "        qml.Identity(wires=wire)    \n",
    "    \n",
    "Vcl = np.identity(2**qubits)\n",
    "Vq = qml.matrix(circuit_VQE)(theta_opt, range(qubits))\n",
    "W = qml.matrix(circuit_HF)()\n",
    "\n",
    "@qml.qnode(dev_a)\n",
    "def hadamard_test(Vq, Vcl, W, component='real'):\n",
    "    \n",
    "    if component == 'imag':\n",
    "        qml.RX(math.pi/2, wires=a_wires)\n",
    "    \n",
    "    qml.Hadamard(wires=[0])\n",
    "    qml.QubitUnitary(W, wires=wires[1:])\n",
    "    qml.ControlledQubitUnitary(Vq.conjugate().T @ Vcl, control_wires=[0], wires=wires[1:])\n",
    "    qml.Hadamard(wires=[0])\n",
    "    \n",
    "    return qml.probs(wires=[0])\n",
    "\n",
    "probs = hadamard_test(Vq, Vcl, W)\n",
    "y = 2*probs-1"
   ]
  },
  {
   "cell_type": "markdown",
   "id": "2f5f4bee-da7c-4270-a56a-50b045c8a99a",
   "metadata": {},
   "source": [
    "<span style=\"color:red\">(Now I compute the Hamiltonian and S crossed entries (eq. 11 and 12 of the paper). But I am not entirely sure I am doing eq. 11 correctly, actually here I think I am missing something. What are the computational basis states?? It seems to me that i0 is the HF state, and also we only have two y_i, but then what is i1?? It cannot be the quantum state or we are back to the same. Let me know if you undersand this part... )</span>."
   ]
  },
  {
   "cell_type": "code",
   "execution_count": 16,
   "id": "7b5382e4-15b5-4be6-a414-e7ae3b88272e",
   "metadata": {},
   "outputs": [],
   "source": [
    "H12 = y[0]*H11 + y[1]\n",
    "H21 = np.conjugate(H12)\n",
    "\n",
    "S = np.array([[1, y[0]],[y[0], 1]])\n",
    "H = np.array([[H11, H12],[H21, H22]])"
   ]
  },
  {
   "cell_type": "code",
   "execution_count": 5,
   "id": "e048acfe-55b4-4e89-9384-8db5b1497afb",
   "metadata": {},
   "outputs": [],
   "source": [
    "### S-matrix"
   ]
  },
  {
   "cell_type": "markdown",
   "id": "1c9c37be-2ff6-4e2a-ac07-7377432f07ba",
   "metadata": {},
   "source": [
    "### Diagonalization of the projected Hamiltonian"
   ]
  },
  {
   "cell_type": "markdown",
   "id": "d440d37c-3170-4bfe-96a3-ff5fea73f8e3",
   "metadata": {},
   "source": [
    "Finally, we solve the generalized eigenvalue problem."
   ]
  },
  {
   "cell_type": "code",
   "execution_count": 17,
   "id": "39beb10c-da1d-4872-b401-c5bdcdb1d06b",
   "metadata": {},
   "outputs": [
    {
     "name": "stdout",
     "output_type": "stream",
     "text": [
      "GS energy:  (-14.76969756216756+0j)\n"
     ]
    }
   ],
   "source": [
    "from scipy import linalg\n",
    "evals = linalg.eigvals(H, S)\n",
    "print('GS energy: ', evals[1])"
   ]
  },
  {
   "cell_type": "markdown",
   "id": "5f027ae3-a7f8-4d01-9a32-21201a3bcbdb",
   "metadata": {},
   "source": [
    "## DISCUSSION ON THE NUMBER OF MEASUREMENTS GIVEN A FIXED OVERLAP AND PRECISION"
   ]
  },
  {
   "cell_type": "markdown",
   "id": "fb3d3791-346c-41eb-aefc-9dde76685a61",
   "metadata": {},
   "source": [
    "Now, the goal of the paper is actually estimating the number of measurements needed to obtain a fixed variance in the energies for both VQE and CB VQE.\n",
    "\n",
    "For doing this, we need to expand the variance of the eigenvalues and obtain an expression in terms of the overlaps. Then, if we fix a precision of $1 mHa$, what is the number of measurements needed?\n",
    "\n",
    "The ration between them will be the speed up that we obtain.\n",
    "\n",
    "linalg.eigvals(H, S)\n",
    "\n",
    "<span style=\"color:red\">(This part is totally missing. Mmhhh I was thinking we could compute something using the measurement implemented in pennylane qml.var(), which directly gives you the variances. I will try to check next week!)</span>."
   ]
  },
  {
   "cell_type": "code",
   "execution_count": null,
   "id": "820a6468-4cae-4fae-b3c6-2bb265cd3b66",
   "metadata": {},
   "outputs": [],
   "source": []
  }
 ],
 "metadata": {
  "interpreter": {
   "hash": "f93c1bf5150e223d261983eb718c1d51467fc7ce31b6e7b0c76800af9d182229"
  },
  "kernelspec": {
   "display_name": "Python 3 (ipykernel)",
   "language": "python",
   "name": "python3"
  },
  "language_info": {
   "codemirror_mode": {
    "name": "ipython",
    "version": 3
   },
   "file_extension": ".py",
   "mimetype": "text/x-python",
   "name": "python",
   "nbconvert_exporter": "python",
   "pygments_lexer": "ipython3",
   "version": "3.8.13"
  }
 },
 "nbformat": 4,
 "nbformat_minor": 5
}
