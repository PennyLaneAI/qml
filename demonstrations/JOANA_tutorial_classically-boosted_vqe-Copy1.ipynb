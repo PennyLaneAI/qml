{
 "cells": [
  {
   "cell_type": "markdown",
   "id": "c33a7fbe-b311-41ae-b456-ef8fb039495c",
   "metadata": {
    "tags": []
   },
   "source": [
    "# Classically-Boosted Variational Quantum Eigensolver"
   ]
  },
  {
   "cell_type": "code",
   "execution_count": 1,
   "id": "98b91e46-aa50-4dfe-a8fe-d8727b043295",
   "metadata": {
    "execution": {
     "iopub.execute_input": "2022-07-20T14:16:16.134207Z",
     "iopub.status.busy": "2022-07-20T14:16:16.133801Z",
     "iopub.status.idle": "2022-07-20T14:16:17.146202Z",
     "shell.execute_reply": "2022-07-20T14:16:17.145683Z",
     "shell.execute_reply.started": "2022-07-20T14:16:16.134142Z"
    },
    "tags": []
   },
   "outputs": [],
   "source": [
    "import pennylane as qml\n",
    "from pennylane import numpy as np\n",
    "from pennylane import qchem\n",
    "from matplotlib import pyplot as plt\n",
    "from scipy import linalg"
   ]
  },
  {
   "cell_type": "code",
   "execution_count": 2,
   "id": "12e45092-d1cc-44fb-bcd1-c604db32bc28",
   "metadata": {
    "execution": {
     "iopub.execute_input": "2022-07-20T14:16:17.839451Z",
     "iopub.status.busy": "2022-07-20T14:16:17.839173Z",
     "iopub.status.idle": "2022-07-20T14:16:17.916152Z",
     "shell.execute_reply": "2022-07-20T14:16:17.915655Z",
     "shell.execute_reply.started": "2022-07-20T14:16:17.839435Z"
    },
    "tags": []
   },
   "outputs": [],
   "source": [
    "# Define the molecular Hamiltonian\n",
    "symbols = [\"H\", \"H\"]\n",
    "coordinates = np.array([0.0, 0.0, -0.6614, 0.0, 0.0, 0.6614])\n",
    "basis_set = \"sto-3g\"\n",
    "electrons = 2\n",
    "orbitals = 2\n",
    "Hamiltonian, qubits = qchem.molecular_hamiltonian(\n",
    "    symbols,\n",
    "    coordinates,\n",
    "    charge=0,\n",
    "    mult=1,\n",
    "    basis=basis_set,\n",
    "    active_electrons=electrons,\n",
    "    active_orbitals=orbitals\n",
    ")\n",
    "\n",
    "# Set the number of iterations of the VQE and stepsize\n",
    "stepsize = 0.4\n",
    "max_iterations = 10\n",
    "\n",
    "# Define the HF initial state and fermionic Hamiltonian\n",
    "hf_state = qml.qchem.hf_state(electrons, qubits)\n",
    "fermionic_Hamiltonian = qml.utils.sparse_hamiltonian(Hamiltonian).toarray()\n",
    "\n",
    "# Define all possible single and double excitations\n",
    "singles, doubles = qml.qchem.excitations(electrons=electrons, orbitals=qubits)\n",
    "num_theta = len(singles) + len(doubles)"
   ]
  },
  {
   "cell_type": "code",
   "execution_count": 4,
   "id": "acdba59e-ce44-4dd3-857c-b5310c0a26e8",
   "metadata": {
    "execution": {
     "iopub.execute_input": "2022-07-20T14:16:25.158845Z",
     "iopub.status.busy": "2022-07-20T14:16:25.158063Z",
     "iopub.status.idle": "2022-07-20T14:16:25.169283Z",
     "shell.execute_reply": "2022-07-20T14:16:25.168767Z",
     "shell.execute_reply.started": "2022-07-20T14:16:25.158807Z"
    },
    "tags": []
   },
   "outputs": [
    {
     "data": {
      "text/plain": [
       "tensor(0.77015115, requires_grad=True)"
      ]
     },
     "execution_count": 4,
     "metadata": {},
     "output_type": "execute_result"
    }
   ],
   "source": [
    "dev = qml.device(\"default.qubit\", wires=2)\n",
    "\n",
    "@qml.qnode(dev)\n",
    "def circuit_var(theta):\n",
    "    qml.RX(theta, wires=0)\n",
    "    qml.Hadamard(wires=1)\n",
    "    qml.CNOT(wires=[0, 1])\n",
    "    return qml.var(qml.PauliY(0))\n",
    "\n",
    "circuit_var(0.5)"
   ]
  },
  {
   "cell_type": "code",
   "execution_count": null,
   "id": "7acd9bea-e8c6-4c88-af02-8d5891451371",
   "metadata": {
    "execution": {
     "iopub.execute_input": "2022-07-20T14:18:06.041346Z",
     "iopub.status.busy": "2022-07-20T14:18:06.040738Z"
    },
    "tags": []
   },
   "outputs": [
    {
     "name": "stdout",
     "output_type": "stream",
     "text": [
      "---VQE for num. of samples 5---\n",
      "---VQE for num. of samples 10---\n",
      "---VQE for num. of samples 15---\n",
      "---VQE for num. of samples 20---\n",
      "---VQE for num. of samples 25---\n",
      "---VQE for num. of samples 30---\n"
     ]
    }
   ],
   "source": [
    "# Number of shots\n",
    "num_shots_list = np.arange(5, 150, 5)\n",
    "\n",
    "# Define the cost function and the circuit\n",
    "def circuit_VQE(theta, wires):\n",
    "    qml.AllSinglesDoubles(\n",
    "        weights = theta,\n",
    "        wires = wires,\n",
    "        hf_state = hf_state,\n",
    "        singles = singles,\n",
    "        doubles = doubles)\n",
    "\n",
    "for i ,num_shots in enumerate(num_shots_list):\n",
    "    \n",
    "    print('---VQE for num. of samples %.0f---' %num_shots)\n",
    "\n",
    "    num_shots = int(num_shots)\n",
    "\n",
    "    # Define a device\n",
    "    dev = qml.device('default.qubit', wires=qubits, shots=num_shots)\n",
    "\n",
    "    @qml.qnode(dev)\n",
    "    def cost_fn(theta):\n",
    "        circuit_VQE(theta,range(qubits)) # Why define outside?\n",
    "        return qml.expval(Hamiltonian)\n",
    "\n",
    "    # Gradient descent optimization\n",
    "    opt = qml.GradientDescentOptimizer(stepsize=stepsize)\n",
    "    theta = np.zeros(num_theta, requires_grad=True)\n",
    "\n",
    "    #  Initial energy\n",
    "    energy = [cost_fn(theta)]\n",
    "    angle = [theta]\n",
    "\n",
    "    for n in range(max_iterations):\n",
    "\n",
    "        theta, prev_energy = opt.step_and_cost(cost_fn, theta)\n",
    "\n",
    "        samples = cost_fn(theta)\n",
    "        \n",
    "        energy.append(cost_fn(theta))\n",
    "        angle.append(theta)"
   ]
  },
  {
   "cell_type": "code",
   "execution_count": null,
   "id": "ebf01fe9-7534-42d2-bd11-33f65b4133cc",
   "metadata": {
    "tags": []
   },
   "outputs": [],
   "source": [
    "# Obtain HF energy\n",
    "binary_string = ''.join([str(i) for i in hf_state])\n",
    "idx0 = int(binary_string, 2)\n",
    "H11 = fermionic_Hamiltonian[idx0][idx0]\n",
    "\n",
    "# Circuit that maps a product state\n",
    "def circuit_product_state(state):\n",
    "    qml.BasisState(state, range(qubits))\n",
    "    \n",
    "# Initialize params\n",
    "energies_CBVQE = np.zeros(shape=(num_repeats, len(num_shots_list)))\n",
    "for rep_idx in range(num_repeats):  \n",
    "    for i, num_shots in enumerate(num_shots_list):\n",
    "        \n",
    "        # Obtain VQE energy and optimized thetas\n",
    "        H22 = energies_VQE[rep_idx, i]\n",
    "        theta_opt = angles_VQE[rep_idx, i]\n",
    "        \n",
    "        # Get crossed terms\n",
    "        wires = range(qubits + 1)\n",
    "        dev = qml.device(\"default.qubit\", wires=wires, shots=int(num_shots))\n",
    "        Vcl = np.identity(2**qubits)\n",
    "        Vq = qml.matrix(circuit_VQE)(theta_opt, range(qubits))\n",
    "\n",
    "        @qml.qnode(dev)\n",
    "        def hadamard_test(Vq, Vcl, W, component='real'):\n",
    "\n",
    "            if component == 'imag':\n",
    "                qml.RX(math.pi/2, wires=wires[1:])\n",
    "\n",
    "            qml.Hadamard(wires=[0])\n",
    "            qml.QubitUnitary(W, wires=wires[1:])\n",
    "            qml.ControlledQubitUnitary(Vq.conjugate().T @ Vcl, control_wires=[0], wires=wires[1:])\n",
    "            qml.Hadamard(wires=[0])\n",
    "\n",
    "            return qml.probs(wires=[0])\n",
    "\n",
    "        # Compute crossed terms\n",
    "        H12 = 0\n",
    "        relevant_basis_states = np.array([[1,1,0,0], [0,1,1,0], [1,0,0,1], [0,0,1,1]], requires_grad=True)\n",
    "        for j, basis_state in enumerate(relevant_basis_states):\n",
    "            W = qml.matrix(circuit_product_state)(basis_state)\n",
    "            probs = hadamard_test(Vq, Vcl, W)\n",
    "            y = 2*abs(probs[0])-1\n",
    "            binary_string = ''.join([str(coeff) for coeff in basis_state])\n",
    "            idx = int(binary_string, 2)\n",
    "            overlap_H = fermionic_Hamiltonian[idx0][idx]\n",
    "            H12 += y * overlap_H\n",
    "            if j == 0:\n",
    "                y0 = y\n",
    "        \n",
    "        H21 = np.conjugate(H12)\n",
    "\n",
    "        S = np.array([[1, y0],[y0.conjugate(), 1]])\n",
    "        H = np.array([[H11, H12],[H21, H22]])\n",
    "        \n",
    "        evals = linalg.eigvals(H, S)\n",
    "        \n",
    "        energies_CBVQE[rep_idx, i] = np.min(evals).real"
   ]
  },
  {
   "cell_type": "code",
   "execution_count": null,
   "id": "8024b2ba-91a1-4ed6-8a04-fc4cc37d4046",
   "metadata": {
    "tags": []
   },
   "outputs": [],
   "source": [
    "# Plot results\n",
    "plt.figure(figsize=(10,7))\n",
    "\n",
    "avg_energies_CBVQE = np.mean(energies_CBVQE, axis=0)\n",
    "std_eneriges_CBVQE = np.std(energies_CBVQE, axis=0)\n",
    "\n",
    "avg_energies_VQE = np.mean(energies_VQE, axis=0)\n",
    "std_eneriges_VQE = np.std(energies_VQE, axis=0)\n",
    "\n",
    "# plt.plot(num_shots_list, avg_energies_VQE, \"x--\", label='VQE')\n",
    "\n",
    "# plt.errorbar(num_shots_list, avg_energies_VQE, yerr=std_eneriges_VQE, fmt='x', label='VQE')\n",
    "# plt.errorbar(num_shots_list, avg_energies_CBVQE, yerr=std_eneriges_CBVQE, fmt='o', label='CBVQE')\n",
    "\n",
    "plt.boxplot(energies_CBVQE, positions=num_shots_list, showfliers=False, )\n",
    "plt.boxplot(energies_VQE, positions=num_shots_list, showfliers=False)\n",
    "\n",
    "plt.legend()\n",
    "plt.xlabel(\"measurements\", fontsize=20)\n",
    "plt.ylabel(\"energy (Ha)\", fontsize=20)"
   ]
  },
  {
   "cell_type": "code",
   "execution_count": 57,
   "id": "43ee8272-6665-4078-9e38-1f5faf2d9a21",
   "metadata": {
    "execution": {
     "iopub.execute_input": "2022-07-15T19:01:56.402928Z",
     "iopub.status.busy": "2022-07-15T19:01:56.402713Z",
     "iopub.status.idle": "2022-07-15T19:01:56.406776Z",
     "shell.execute_reply": "2022-07-15T19:01:56.406396Z",
     "shell.execute_reply.started": "2022-07-15T19:01:56.402914Z"
    },
    "tags": []
   },
   "outputs": [
    {
     "name": "stdout",
     "output_type": "stream",
     "text": [
      "-1.1361891624647935\n"
     ]
    }
   ],
   "source": [
    "# Print actual GS energy (diagonalize fermionic Hamiltonian)\n",
    "from scipy.sparse.linalg import eigs\n",
    "E0 = eigs(fermionic_Hamiltonian)[0][0]\n",
    "print(np.real(E0))"
   ]
  },
  {
   "cell_type": "code",
   "execution_count": 58,
   "id": "82f84d53-89a5-4aeb-90a0-8b10f6cec2ca",
   "metadata": {},
   "outputs": [
    {
     "name": "stdout",
     "output_type": "stream",
     "text": [
      "[[-1.17104902 -1.11760627 -1.06742602 ... -1.14573233 -1.13503275\n",
      "  -1.14289562]\n",
      " [-1.18894906 -1.09049887 -1.11155381 ... -1.13618849 -1.1288882\n",
      "  -1.13859267]\n",
      " [-1.18894906 -1.17104902 -1.1233156  ... -1.12521857 -1.14539936\n",
      "  -1.11923165]\n",
      " ...\n",
      " [-1.11734892 -1.14419897 -1.14121563 ... -1.14329984 -1.14094274\n",
      "  -1.13088827]\n",
      " [-1.15366369 -1.11734892 -1.12928228 ... -1.14370047 -1.1280788\n",
      "  -1.13043976]\n",
      " [-1.17104902 -1.17104902 -1.18894906 ... -1.1575274  -1.14154059\n",
      "  -1.12310385]]\n",
      "[[-1.28831583 -1.16226008 -1.15477103 ... -1.15283524 -1.13829752\n",
      "  -1.15785679]\n",
      " [-1.24289078 -1.19647727 -1.20257423 ... -1.14204429 -1.12913772\n",
      "  -1.14033628]\n",
      " [-1.21987112 -1.22903423 -1.18949992 ... -1.13174575 -1.15370781\n",
      "  -1.12704931]\n",
      " ...\n",
      " [-1.20684909 -1.24243658 -1.19777757 ... -1.14338293 -1.1505836\n",
      "  -1.13852506]\n",
      " [-1.22355732 -1.18894906 -1.13243991 ... -1.15238211 -1.12900351\n",
      "  -1.14768157]\n",
      " [-1.20366939 -1.20125533 -1.18964892 ... -1.16028041 -1.14357108\n",
      "  -1.13881959]]\n"
     ]
    }
   ],
   "source": [
    "print(energies_VQE)\n",
    "print(energies_CBVQE)"
   ]
  },
  {
   "cell_type": "code",
   "execution_count": 59,
   "id": "14fb23ed",
   "metadata": {},
   "outputs": [],
   "source": [
    "np.savetxt(\"./classically_boosted-vqe/data/num_shots_list.csv\", num_shots_list, delimiter=\", \")\n",
    "np.savetxt(\"./classically_boosted-vqe/data/energies_VQE.csv\", energies_VQE, delimiter=\", \")\n",
    "np.savetxt(\"./classically_boosted-vqe/data/energies_CBVQE.csv\", energies_CBVQE, delimiter=\", \")"
   ]
  }
 ],
 "metadata": {
  "interpreter": {
   "hash": "f93c1bf5150e223d261983eb718c1d51467fc7ce31b6e7b0c76800af9d182229"
  },
  "kernelspec": {
   "display_name": "Python 3 (ipykernel)",
   "language": "python",
   "name": "python3"
  },
  "language_info": {
   "codemirror_mode": {
    "name": "ipython",
    "version": 3
   },
   "file_extension": ".py",
   "mimetype": "text/x-python",
   "name": "python",
   "nbconvert_exporter": "python",
   "pygments_lexer": "ipython3",
   "version": "3.9.12"
  }
 },
 "nbformat": 4,
 "nbformat_minor": 5
}
