{
 "cells": [
  {
   "cell_type": "code",
   "execution_count": 1,
   "metadata": {},
   "outputs": [],
   "source": [
    "# Stochastic Parameter-shift Rule"
   ]
  },
  {
   "cell_type": "markdown",
   "metadata": {},
   "source": [
    "Sketch\n",
    "-----\n",
    "\n",
    "- motivation for parameter-shift rule\n",
    "- review parameter-shift rule first\n",
    "- diagram of PSR\n",
    "- visual demonstration/plot\n",
    "\n",
    "- limits of PSR\n",
    "- motivation for SPSR\n",
    "- diagram of SPSR\n",
    "\n",
    "- visual demonstration/plot\n",
    "\n",
    "- show how SPSR reduces to PSR\n",
    "\n",
    "- discussion of complexity of SPRS (4x that of PSR)?\n",
    "- doubly stochastic example?"
   ]
  },
  {
   "cell_type": "code",
   "execution_count": 2,
   "metadata": {},
   "outputs": [],
   "source": [
    "import pennylane as qml\n",
    "from pennylane import numpy as np\n",
    "import matplotlib.pyplot as plt\n",
    "from scipy.linalg import expm\n",
    "\n",
    "np.random.seed(143)\n",
    "\n",
    "angles = np.linspace(0, 2 * np.pi, 50)"
   ]
  },
  {
   "cell_type": "code",
   "execution_count": 3,
   "metadata": {},
   "outputs": [],
   "source": [
    "dev = qml.device('default.qubit', wires=2)"
   ]
  },
  {
   "cell_type": "code",
   "execution_count": 4,
   "metadata": {},
   "outputs": [],
   "source": [
    "# Basic demo of the PSR in action"
   ]
  },
  {
   "cell_type": "code",
   "execution_count": 5,
   "metadata": {},
   "outputs": [],
   "source": [
    "@qml.qnode(dev)\n",
    "def circuit1(x):\n",
    "    qml.RX(x, wires=0)\n",
    "    return qml.expval(qml.PauliZ(0))"
   ]
  },
  {
   "cell_type": "code",
   "execution_count": 6,
   "metadata": {},
   "outputs": [
    {
     "data": {
      "text/plain": [
       "0.8775825618903726"
      ]
     },
     "execution_count": 6,
     "metadata": {},
     "output_type": "execute_result"
    }
   ],
   "source": [
    "param = 0.5\n",
    "circuit1(param)"
   ]
  },
  {
   "cell_type": "code",
   "execution_count": 7,
   "metadata": {},
   "outputs": [
    {
     "data": {
      "text/plain": [
       "-0.479425538604203"
      ]
     },
     "execution_count": 7,
     "metadata": {},
     "output_type": "execute_result"
    }
   ],
   "source": [
    "gradient = qml.grad(circuit1, argnum=0)\n",
    "gradient(param)"
   ]
  },
  {
   "cell_type": "code",
   "execution_count": 8,
   "metadata": {},
   "outputs": [],
   "source": [
    "def param_shift(x):\n",
    "    return 0.5 * (circuit1(x + np.pi / 2) - circuit1(x - np.pi / 2))"
   ]
  },
  {
   "cell_type": "code",
   "execution_count": 9,
   "metadata": {},
   "outputs": [
    {
     "data": {
      "image/png": "[encoded data removed]",
      "text/plain": [
       "<Figure size 432x288 with 1 Axes>"
      ]
     },
     "metadata": {
      "needs_background": "light"
     },
     "output_type": "display_data"
    }
   ],
   "source": [
    "expvals = [circuit1(theta) for theta in angles]\n",
    "grad_vals = [gradient(theta) for theta in angles]\n",
    "param_shift_vals = [param_shift(theta) for theta in angles]\n",
    "plt.plot(angles, expvals, 'b', label=\"Expecation value\")\n",
    "plt.plot(angles, grad_vals, 'r', label=\"Gradient\")\n",
    "plt.plot(angles, param_shift_vals, 'mx', label=\"Parameter-shift rule\")\n",
    "plt.legend();"
   ]
  },
  {
   "cell_type": "code",
   "execution_count": 10,
   "metadata": {},
   "outputs": [],
   "source": [
    "# Now the Stochasic PSR"
   ]
  },
  {
   "cell_type": "code",
   "execution_count": 11,
   "metadata": {},
   "outputs": [],
   "source": [
    "I = np.eye(2)\n",
    "X = np.array([[0, 1], [1, 0]])\n",
    "Z = np.array([[1, 0], [0, -1]])\n",
    "\n",
    "def Generator(t, b, c):\n",
    "    # the inputs will show up as Pennylane variables;\n",
    "    # we have to extract their numerical values\n",
    "    h = t.val * (np.kron(X, I) - \n",
    "                 b.val * np.kron(Z, X) + \n",
    "                 c.val * np.kron(I, X))\n",
    "    return h"
   ]
  },
  {
   "cell_type": "code",
   "execution_count": 12,
   "metadata": {},
   "outputs": [],
   "source": [
    "# This is the circuit that we will try to apply SPSR to\n",
    "@qml.qnode(dev)\n",
    "def circuit3(gate_pars):\n",
    "    H = Generator(*gate_pars)\n",
    "    qml.QubitUnitary(expm(-1j * H), wires=[0, 1])\n",
    "    return qml.expval(qml.PauliZ(0))"
   ]
  },
  {
   "cell_type": "code",
   "execution_count": 13,
   "metadata": {},
   "outputs": [],
   "source": [
    "# subcircuit implementing the quantum gates necessary for SPSR\n",
    "# would be nicer if this was implemented in a way that was\n",
    "# more easily modifiable\n",
    "def SPSRgates(gate_pars, s, sign):\n",
    "    H = Generator(*gate_pars)\n",
    "    qml.QubitUnitary(expm(1j * (1 - s) * H), wires=[0, 1])\n",
    "    # Note: we're differentiating first term of H (i.e., variable `t`)\n",
    "    # Also: extra (-2) sign needed to match PL convention\n",
    "    #qml.RX(sign * np.pi / 4 * (-2), wires=0) \n",
    "    # line below is equivalent to line above, \n",
    "    # but more clear (doesn't require extra sign)\n",
    "    qml.QubitUnitary(expm(1j * sign * np.pi / 4 * X), wires=0)\n",
    "    qml.QubitUnitary(expm(1j * s * H), wires=[0,1])"
   ]
  },
  {
   "cell_type": "code",
   "execution_count": 14,
   "metadata": {},
   "outputs": [],
   "source": [
    "# obtain all expvals needed for for SPSR\n",
    "@qml.qnode(dev)\n",
    "def spsr_circuit3(gate_pars, s=None, sign=+1):\n",
    "    SPSRgates(gate_pars, s, sign)\n",
    "    return qml.expval(qml.PauliZ(0))\n",
    "\n",
    "# QNodeCollections would be perfect here, but QNodes\n",
    "# but QNodes don't seem to be compatible with `functools.partial`\n",
    "\n",
    "b, c = -0.15, 1.6\n",
    "samples = np.random.uniform(size=10)\n",
    "pos_vals = np.array([[spsr_circuit3([t, b, c], s=s, sign=+1) \n",
    "                      for s in samples]\n",
    "                      for t in angles])\n",
    "neg_vals = np.array([[spsr_circuit3([t, b, c], s=s, sign=-1) \n",
    "                      for s in samples]\n",
    "                      for t in angles])\n",
    "# even 10 samples gives a good result for this example"
   ]
  },
  {
   "cell_type": "code",
   "execution_count": 15,
   "metadata": {},
   "outputs": [
    {
     "data": {
      "image/png": "[encoded data removed]",
      "text/plain": [
       "<Figure size 432x288 with 1 Axes>"
      ]
     },
     "metadata": {
      "needs_background": "light"
     },
     "output_type": "display_data"
    }
   ],
   "source": [
    "evals = [circuit3([t, -0.15, 1.6]) for t in angles]\n",
    "spsr_vals = (pos_vals - neg_vals).mean(axis=1)\n",
    "\n",
    "plt.plot(angles, evals, 'b', label=\"Expectation Value\") # looks like cos(2*theta)\n",
    "plt.plot(angles, spsr_vals, 'r', label=\"Stochastic PSR\") # looks like -2 * sin(2 * theta)!\n",
    "plt.legend();"
   ]
  },
  {
   "cell_type": "code",
   "execution_count": 16,
   "metadata": {},
   "outputs": [
    {
     "data": {
      "text/plain": [
       "1.0"
      ]
     },
     "execution_count": 16,
     "metadata": {},
     "output_type": "execute_result"
    }
   ],
   "source": [
    "max(evals)"
   ]
  },
  {
   "cell_type": "code",
   "execution_count": 17,
   "metadata": {},
   "outputs": [
    {
     "data": {
      "text/plain": [
       "(-1.988799721424789, 1.9231462582166436)"
      ]
     },
     "execution_count": 17,
     "metadata": {},
     "output_type": "execute_result"
    }
   ],
   "source": [
    "min(spsr_vals), max(spsr_vals)"
   ]
  },
  {
   "cell_type": "code",
   "execution_count": null,
   "metadata": {},
   "outputs": [],
   "source": []
  }
 ],
 "metadata": {
  "kernelspec": {
   "display_name": "Python 3 (pennylane-dev)",
   "language": "python",
   "name": "pennylane-dev"
  },
  "language_info": {
   "codemirror_mode": {
    "name": "ipython",
    "version": 3
   },
   "file_extension": ".py",
   "mimetype": "text/x-python",
   "name": "python",
   "nbconvert_exporter": "python",
   "pygments_lexer": "ipython3",
   "version": "3.7.6"
  }
 },
 "nbformat": 4,
 "nbformat_minor": 4
}
