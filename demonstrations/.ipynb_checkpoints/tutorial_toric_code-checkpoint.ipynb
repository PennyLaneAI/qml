{
 "cells": [
  {
   "cell_type": "code",
   "execution_count": 1,
   "metadata": {
    "collapsed": false,
    "jupyter": {
     "outputs_hidden": false
    }
   },
   "outputs": [],
   "source": [
    "# This cell is added by sphinx-gallery\n",
    "# It can be customized to whatever you like\n",
    "%matplotlib inline"
   ]
  },
  {
   "cell_type": "markdown",
   "metadata": {},
   "source": [
    "------------------------------------------------------------------------\n",
    "\n",
    "::: {.meta}\n",
    ":property=\\\"og:description\\\": Investigation of the toric code degenerate\n",
    "ground state and anyon excitations :property=\\\"og:image\\\":\n",
    "<https://pennylane.ai/qml/_images/types_of_loops.png>\n",
    ":::\n",
    "\n",
    "*Author: PennyLane dev team. Posted: xx April 2022*\n",
    "\n",
    "The [toric code model](https://arxiv.org/abs/quant-ph/9707021) is a\n",
    "treasure trove of interesting physics and mathematics. The model sparked\n",
    "the development of the error-correcting [surface\n",
    "codes](https://arxiv.org/pdf/1208.0928.pdf) , an essential category of\n",
    "error correction models. But why is the model so useful for error\n",
    "correction?\n",
    "\n",
    "To answer that question, we need to delve into mathematics and condensed\n",
    "matter physics. Viewing the model as a description of spins in a really\n",
    "exotic magnet allows us to start analyzing the model as a material. What\n",
    "kind of material is it? The toric code is an example of a topological\n",
    "state of matter.\n",
    "\n",
    "A state of matter, or phase, cannot become a different phase without\n",
    "some kind of discontinuity in the physical properties as coefficients in\n",
    "the Hamiltonian change. For example, ice cannot become water without a\n",
    "discontinuity in density as the temperature changes. The ground state of\n",
    "a **topological** state of matter cannot be smoothly deformed to a\n",
    "non-entangled state without a phase transition. Entanglement, and more\n",
    "critically *long-range* entanglement, is a key hallmark of a topological\n",
    "state of matter.\n",
    "\n",
    "This exotic phase cannot be detected by local measurements but can only\n",
    "be measured across the entire system. To better consider this type of\n",
    "property, consider the parity of the number of dancers on a dance floor.\n",
    "Does everyone have a partner, or is there an odd person out? To measure\n",
    "that, we have to look at the entire system.\n",
    "\n",
    "Topology is the study of global properties that are preserved under\n",
    "continuous deformations. For example, a coffee cup is equivalent to a\n",
    "donut because they both have a single hole. More technically, they both\n",
    "have an [Euler\n",
    "characteristic](https://en.wikipedia.org/wiki/Euler_characteristic) of\n",
    "zero. When we zoom to a local patch, both a sphere and a torus look the\n",
    "same. Only by considering the object as a whole can you detect the\n",
    "single hole.\n",
    "\n",
    "![](../demonstrations/toric_code/torus_to_cup.png){.align-center\n",
    "width=\"70.0%\"}\n",
    "\n",
    "In this demo, we will be looking at the degenerate ground state and the\n",
    "excitations of the toric code model. The toric code was initialized\n",
    "proposed in \"Fault-tolerant quantum computation by anyons\" by Kitaev,\n",
    "and this demo was inspired by \"Realizing topologically ordered states on\n",
    "a quantum processor\" by K. J. Satzinger et al. For further reading, I\n",
    "recommend \"Quantum Spin Liquids\" by Lucile Savary and Leon Balents. (add\n",
    "links and proper citations and stuff)\n",
    "\n",
    "The Model\n",
    "=========\n",
    "\n",
    "What is the source of all this interesting physics? The Hamiltonian is:\n",
    "\n",
    "$$\\mathcal{H} = -\\sum_s S_s - \\sum_p P_p$$\n",
    "\n",
    "$$S_s = \\prod_{i \\in s} Z_i \\quad P_p = \\prod_{j \\in p} X_j$$\n",
    "\n",
    "In the literature, the $S_s$ terms are called the \"star\" operators, and\n",
    "the $P_p$ terms are called the \"plaquette\" operators. Each star $s$ and\n",
    "plaquette $p$ is a group of 4 sites. In the most common formulation of\n",
    "the model, sites live on the edges of a square lattice. The \"plaquette\"\n",
    "operators are products of Pauli X operators on all the sites in a\n",
    "square, and the \\\"star\\\" operators are products of Pauli Z operators on\n",
    "all the sites bordering a vertex.\n",
    "\n",
    "The model can also be viewed as a checkerboard of alternating square\n",
    "types. Each square is a group of four sites, and adjacent squares\n",
    "alternate between the two types of groups. Since the groups on this\n",
    "checkerboard no longer look like stars and plaquettes, we will call them\n",
    "the \"Z Group\" and \"X Group\" operators in this tutorial.\n",
    "\n",
    "![](../demonstrations/toric_code/stars_plaquettes2.png){.align-center\n",
    "width=\"70.0%\"}\n",
    "\n",
    "We will be embedding the lattice on a torus via periodic boundary\n",
    "conditions. Periodic boundary conditions basically \"glue\" the bottom of\n",
    "the lattice to the top of the lattice and the left to the right.\n",
    "\n",
    "This matching is done with modular arithemetic. Any site at `(x,y)` is\n",
    "the same as a site at `(x+width, y+height)`.\n",
    "\n",
    "![](../demonstrations/toric_code/converting_to_torus.png){.align-center\n",
    "width=\"70.0%\"}\n",
    "\n",
    "On to some practical coding!\n",
    "\n",
    "We will be storing our lattice sites as a tuple of x and y coordinates.\n",
    "We will be using this tuples as wires labels, but we will have to be\n",
    "careful so that PennyLane does not interpret the site as two wire\n",
    "labels, but instead a single wire label. Whenever passing a single site,\n",
    "be careful to wrap it within a object of length 1, like `[s]` instead of\n",
    "passing `(x,y)` as a wire label by itself.\n"
   ]
  },
  {
   "cell_type": "code",
   "execution_count": 2,
   "metadata": {
    "collapsed": false,
    "jupyter": {
     "outputs_hidden": false
    }
   },
   "outputs": [],
   "source": [
    "import pennylane as qml\n",
    "import matplotlib.pyplot as plt\n",
    "from matplotlib.patches import Polygon, Patch\n",
    "from itertools import product\n",
    "\n",
    "import numpy as np\n",
    "np.set_printoptions(suppress=True)\n",
    "\n",
    "height = 4\n",
    "width = 6\n",
    "\n",
    "all_sites = [(i,j) for i, j in product(range(width), range(height))]"
   ]
  },
  {
   "cell_type": "markdown",
   "metadata": {},
   "source": [
    "Setting up Operators\n",
    "====================\n",
    "\n",
    "For each type of group operator (X and Z) we will have two different\n",
    "lists, the \"sites\" and the \"ops\". The \"sites\" will include virtual sites\n",
    "off the edge of the lattice that match up with locations on the other\n",
    "side. For example, the site `(6, 1)` denotes the real location `(0,1)`.\n",
    "We will use the `zgroup_sites` and `xgroup_sites` lists to help us view\n",
    "the measurements of the corresponding operators.\n",
    "\n",
    "The \\\"ops\\\" list will contain the tensor observables.\n"
   ]
  },
  {
   "cell_type": "code",
   "execution_count": 3,
   "metadata": {
    "collapsed": false,
    "jupyter": {
     "outputs_hidden": false
    }
   },
   "outputs": [
    {
     "name": "stdout",
     "output_type": "stream",
     "text": [
      "First set of sites:  [(1, 0), (2, 0), (2, 1), (1, 1)]\n",
      "First operator:  PauliZ(wires=[(1, 0)]) @ PauliZ(wires=[(2, 0)]) @ PauliZ(wires=[(2, 1)]) @ PauliZ(wires=[(1, 1)])\n"
     ]
    }
   ],
   "source": [
    "mod = lambda s: (s[0] % width, s[1] % height)\n",
    "\n",
    "zgroup_sites = [] # list of sites in each group\n",
    "zgroup_ops = [] # list of operators for each group\n",
    "\n",
    "for x, y in product(range(width//2), range(height)):\n",
    "    \n",
    "    x_shift = 2*x + (y+1)%2\n",
    "\n",
    "    sites = [(x_shift, y), (x_shift+1, y), (x_shift+1, y+1), (x_shift, y+1)]\n",
    "    \n",
    "    op = qml.operation.Tensor(*(qml.PauliZ(wires=[mod(s)]) for s in sites))\n",
    "    \n",
    "    zgroup_sites.append(sites)\n",
    "    zgroup_ops.append(op)\n",
    "\n",
    "print(\"First set of sites: \", zgroup_sites[0])\n",
    "print(\"First operator: \", zgroup_ops[0])"
   ]
  },
  {
   "cell_type": "markdown",
   "metadata": {},
   "source": [
    "We will later use the X Group operator sites to prepare the ground\n",
    "state, so the order here is important. One group needs a slightly\n",
    "different order in due to interference with the periodic boundary\n",
    "condition.\n"
   ]
  },
  {
   "cell_type": "code",
   "execution_count": 4,
   "metadata": {
    "collapsed": false,
    "jupyter": {
     "outputs_hidden": false
    }
   },
   "outputs": [
    {
     "data": {
      "image/png": "[encoded data removed]",
      "text/plain": [
       "<Figure size 432x288 with 1 Axes>"
      ]
     },
     "metadata": {
      "needs_background": "light"
     },
     "output_type": "display_data"
    }
   ],
   "source": [
    "xgroup_sites = []\n",
    "xgroup_ops = []\n",
    "for x, y in product(range(width//2), range(height)):\n",
    "    x_shift = 2*x + y%2\n",
    "    \n",
    "    sites = [(x_shift+1, y+1), (x_shift, y+1), (x_shift, y), (x_shift+1, y)]\n",
    "    \n",
    "    if x == 2 and y == 1: # change order for state prep later\n",
    "        sites = sites[1:]+sites[0:1]\n",
    "\n",
    "    op = qml.operation.Tensor(*(qml.PauliX(wires=[mod(s)]) for s in sites))\n",
    "    \n",
    "    xgroup_sites.append(sites)\n",
    "    xgroup_ops.append(op)\n",
    "\n",
    "def misc_plot_formatting(fig, ax):\n",
    "    plt.hlines([-0.5, height-0.5],-0.5, width-0.5, linestyle=\"dotted\", color=\"black\")\n",
    "    plt.vlines([-0.5, width-0.5], -0.5, height-0.5, linestyle='dashed', color=\"black\")\n",
    "    plt.xticks(range(width+1), [str(i % width) for i in range(width+1)])\n",
    "    plt.yticks(range(height+1), [str(i % height) for i in range(height+1)])\n",
    "\n",
    "    for direction in ['top', 'right', 'bottom', 'left']:\n",
    "        ax.spines[direction].set_visible(False)\n",
    "        \n",
    "    return fig, ax\n",
    "\n",
    "fig, ax = plt.subplots()\n",
    "fig, ax = misc_plot_formatting(fig, ax)\n",
    "\n",
    "for group in xgroup_sites:\n",
    "    x_patch = ax.add_patch(Polygon(group, color=\"lavender\", zorder=0))\n",
    "\n",
    "for group in zgroup_sites:\n",
    "    z_patch = ax.add_patch(Polygon(group, color=\"mistyrose\", zorder=0))\n",
    "    \n",
    "plt_sites = ax.scatter(*zip(*all_sites))\n",
    "\n",
    "plt.legend([x_patch, z_patch, plt_sites], ['XGroup', 'ZGroup', 'Site'], loc='upper left')\n",
    "\n",
    "plt.show()"
   ]
  },
  {
   "cell_type": "markdown",
   "metadata": {},
   "source": [
    "Preparing the ground state\n",
    "==========================\n"
   ]
  },
  {
   "cell_type": "markdown",
   "metadata": {},
   "source": [
    "A toric ground state is:\n",
    "\n",
    "$$| G \\rangle =  \\prod_{p} \\frac{\\mathbb{I} + P_p}{\\sqrt{2}} |00\\dots 0\\rangle = \\prod_{p} U_p |00\\dots 0 \\rangle$$\n",
    "\n",
    "where $p$ (plaquette) denotes the X Groups. We won't prove that is the\n",
    "ground state here, we are merely going to use it as is.\n",
    "\n",
    "Once we know how the operator that applies on a single group, we can\n",
    "tile that decomposition. To better understand this formula, let's write\n",
    "it concretely for a single group of four qubits:\n",
    "\n",
    "$$\\frac{1}{\\sqrt{2}}\\left(\\mathbb{I} + X_1 X_2 X_3 X_4 \\right) |0000 \\rangle\n",
    "= \\frac{1}{\\sqrt{2}} \\left( |0000\\rangle + |1111\\rangle \\right)$$\n",
    "\n",
    "This generalized GHZ state can be prepared with a Hadamard and 3 CNOT\n",
    "gates:\n",
    "\n",
    "![](../demonstrations/toric_code/generalized_ghz_draw.png){.align-center\n",
    "width=\"50.0%\"}\n",
    "\n",
    "This decomposition for $U_p$ holds only when the initial Hadamard qubit\n",
    "begins in the $|0\\rangle$ state, so we need to be careful in choosing\n",
    "which qubit to apply the initial Hadamard gate to. This is the reason\n",
    "why we rotated the order for a single X Group on the right border\n",
    "earlier.\n",
    "\n",
    "We will also not need to prepare the final X Group that contains the\n",
    "four edges of the lattice, as it will already be prepared by preparation\n",
    "of the surrounding groups.\n",
    "\n",
    "The paper \"Realizing topologically ordered states on a quantum\n",
    "processor\" that inspired this demo used a special order of operations to\n",
    "prepare the ground state to accomdate the constraints of the Sycamore\n",
    "processor. We don't have the same contraints on a simulator, so we chose\n",
    "a more straightforward ordering.\n",
    "\n",
    "Now let's actually put these together into a circuit!\n"
   ]
  },
  {
   "cell_type": "code",
   "execution_count": 5,
   "metadata": {
    "collapsed": false,
    "jupyter": {
     "outputs_hidden": false
    }
   },
   "outputs": [],
   "source": [
    "dev = qml.device('lightning.qubit', wires= all_sites)\n",
    "\n",
    "def state_prep():\n",
    "    for op in xgroup_ops[0:-1]:\n",
    "        qml.Hadamard(op.wires[0:1])\n",
    "        for w in op.wires[1:]:\n",
    "            qml.CNOT(wires=[op.wires[0], w])\n",
    "\n",
    "@qml.qnode(dev, diff_method=None)\n",
    "def circuit(observables):\n",
    "    state_prep()\n",
    "    return [qml.expval(op) for op in observables]"
   ]
  },
  {
   "cell_type": "markdown",
   "metadata": {},
   "source": [
    "The value for each group operator that minimizes it's contribution is\n",
    "+1.\n",
    "\n",
    "All group operators commute (yes, even the different types) so the\n",
    "ground state minimizes all group operators into the +1 state.\n",
    "\n",
    "$$S_s |G \\rangle = (+1) |G\\rangle \\qquad P_p | G \\rangle = (+1) | G \\rangle$$\n"
   ]
  },
  {
   "cell_type": "code",
   "execution_count": 6,
   "metadata": {
    "collapsed": false,
    "jupyter": {
     "outputs_hidden": false
    }
   },
   "outputs": [
    {
     "name": "stdout",
     "output_type": "stream",
     "text": [
      "X Group expectation values [1. 1. 1. 1. 1. 1. 1. 1. 1. 1. 1. 1.]\n",
      "Z Group expectation values [1. 1. 1. 1. 1. 1. 1. 1. 1. 1. 1. 1.]\n",
      "Total energy:  -23.999999999999996\n"
     ]
    }
   ],
   "source": [
    "xgroup_expvals = circuit(xgroup_ops)\n",
    "zgroup_expvals = circuit(xgroup_ops)\n",
    "E0 = -sum(xgroup_expvals) - sum(zgroup_expvals)\n",
    "\n",
    "print(\"X Group expectation values\", xgroup_expvals)\n",
    "print(\"Z Group expectation values\", zgroup_expvals)\n",
    "print(\"Total energy: \", E0)"
   ]
  },
  {
   "cell_type": "markdown",
   "metadata": {},
   "source": [
    "Excitations\n",
    "===========\n",
    "\n",
    "Quasiparticles allow physicists to describe complex systems as\n",
    "interacting particles in a vacuum. Common examples of quasiparticles\n",
    "include electrons and holes in semiconductors, phonons, and magnons.\n",
    "\n",
    "Imagine trying to describe the traffic on a road. We could either:\n",
    "\n",
    "-   explicitly enumerate the location of each vehicle\n",
    "-   describe the locations and severities of traffic jam\n",
    "\n",
    "The first option provides the complete information about the system but\n",
    "is much more difficult to work with. For most purposes, we can just work\n",
    "with information about how the traffic deviates from a baseline. In\n",
    "semiconductors, we don't write out the wavefunction for every single\n",
    "electron. We instead use electrons and holes. Neither quasiparticle\n",
    "electrons or holes are fundamental particles like an electron or\n",
    "positron in a vacuum. Instead, they are useful descriptions of how the\n",
    "wavefunction differs from its ground state.\n",
    "\n",
    "While the electrons and holes of a metal behave just like electrons and\n",
    "positrons in a vacuum, some condensed matter systems contain\n",
    "quasiparticles that cannot or do not exist as fundamental particles.\n",
    "\n",
    "$$| \\phi \\rangle = X_i | G \\rangle.$$\n",
    "\n",
    "Since the Z Group operator contains a Z operator at the same location as\n",
    "the X operator, the two components anti-commute:\n",
    "\n",
    "$$S_s X_i = \\left( Z_i Z_a Z_b Z_c \\right) X_i = - X_i S_s$$\n",
    "\n",
    "Using this relation, we can determine the eigenvalue of the group\n",
    "operator on the pertubed state.\n",
    "\n",
    "$$S_s |\\phi\\rangle = S_s X_i |G\\rangle = - X_i S_s |G\\rangle = - X_i |G\\rangle = - |\\phi\\rangle$$\n",
    "\n",
    "This analysis repeats for the effect of a Z operator on the X Group\n",
    "eigenvalue.\n",
    "\n",
    "Since each site borders on two X Groups and two Z Groups, applying a\n",
    "single pertubation will flip the signs of two group operators.\n",
    "\n",
    "Each site with a flipped eigenvalue is considered an excitation. In the\n",
    "literature, you will often see a Z Group excitation\n",
    "$\\langle S_s \\rangle = -1$ called an \"electric\" e excitation and an X\n",
    "Group excitation $\\langle P_p \\rangle = -1$ called a \"magnetic\" m\n",
    "excitation. You may also see inclusion of an identity $\\mathbb{I}$\n",
    "particle for the ground state and the combination particle $\\Psi$\n",
    "consisting of a single e and a single m excitation.\n",
    "\n",
    "Let's create a QNode where we can apply these pertubations:\n"
   ]
  },
  {
   "cell_type": "code",
   "execution_count": 7,
   "metadata": {
    "collapsed": false,
    "jupyter": {
     "outputs_hidden": false
    }
   },
   "outputs": [],
   "source": [
    "@qml.qnode(dev, diff_method=None)\n",
    "def excitations(observables, x_sites, z_sites):\n",
    "    state_prep()\n",
    "    \n",
    "    for s in x_sites:\n",
    "        qml.PauliX([s])\n",
    "        \n",
    "    for s in z_sites:\n",
    "        qml.PauliZ([s])\n",
    "\n",
    "    return [qml.expval(op) for op in observables]"
   ]
  },
  {
   "cell_type": "markdown",
   "metadata": {},
   "source": [
    "Now what are the expectation values when we apply a single X operation?\n",
    "We see we have indeed flipped the eigenvalues for two groups.\n"
   ]
  },
  {
   "cell_type": "code",
   "execution_count": 8,
   "metadata": {
    "collapsed": false,
    "jupyter": {
     "outputs_hidden": false
    }
   },
   "outputs": [
    {
     "name": "stdout",
     "output_type": "stream",
     "text": [
      "XGroup:  [1. 1. 1. 1. 1. 1. 1. 1. 1. 1. 1. 1.]\n",
      "ZGroup:  [ 1. -1. -1.  1.  1.  1.  1.  1.  1.  1.  1.  1.]\n"
     ]
    }
   ],
   "source": [
    "single_x = [(1,2)]\n",
    "\n",
    "x_expvals = excitations(xgroup_ops, single_x, [])\n",
    "z_expvals = excitations(zgroup_ops, single_x, [])\n",
    "\n",
    "print(\"XGroup: \", x_expvals)\n",
    "print(\"ZGroup: \", z_expvals)"
   ]
  },
  {
   "cell_type": "markdown",
   "metadata": {},
   "source": [
    "Instead of interpreting the state via the eigenvalues of the operators,\n",
    "we can view the state as occupation numbers of the corresponding\n",
    "quasiparticles. An group with an eigenvalue of $+1$ is in the ground\n",
    "state and thus has an occupation number of $0$. If the eigenvalue is\n",
    "$-1$, then a quasiparticle exists in that location.\n"
   ]
  },
  {
   "cell_type": "code",
   "execution_count": 9,
   "metadata": {
    "collapsed": false,
    "jupyter": {
     "outputs_hidden": false
    }
   },
   "outputs": [
    {
     "name": "stdout",
     "output_type": "stream",
     "text": [
      "Total energy:  -19.999999999999996\n",
      "Energy above the ground state:  4.0\n",
      "X Group occupation numbers:  [0. 0. 0. 0. 0. 0. 0. 0. 0. 0. 0. 0.]\n",
      "Z Group occupation numbers:  [0. 1. 1. 0. 0. 0. 0. 0. 0. 0. 0. 0.]\n"
     ]
    }
   ],
   "source": [
    "occupation_numbers = lambda expvals: 0.5*(1-expvals)\n",
    "\n",
    "def print_info(x_expvals, z_expvals):\n",
    "    E = -sum(x_expvals) - sum(z_expvals)\n",
    "    \n",
    "    print(\"Total energy: \", E)\n",
    "    print(\"Energy above the ground state: \", E - E0)\n",
    "    print(\"X Group occupation numbers: \", occupation_numbers(x_expvals))\n",
    "    print(\"Z Group occupation numbers: \", occupation_numbers(z_expvals))\n",
    "    \n",
    "print_info(x_expvals, z_expvals)"
   ]
  },
  {
   "cell_type": "markdown",
   "metadata": {},
   "source": [
    "Since we are going to plot the same thing many times, we can group the\n",
    "code into a function to easily call later.\n"
   ]
  },
  {
   "cell_type": "code",
   "execution_count": 10,
   "metadata": {
    "collapsed": false,
    "jupyter": {
     "outputs_hidden": false
    }
   },
   "outputs": [
    {
     "data": {
      "image/png": "[encoded data removed]",
      "text/plain": [
       "<Figure size 432x288 with 1 Axes>"
      ]
     },
     "metadata": {
      "needs_background": "light"
     },
     "output_type": "display_data"
    }
   ],
   "source": [
    "def excitation_plot(x_excite, z_excite):\n",
    "    x_color = lambda expval: \"navy\" if expval < 0 else \"lavender\"\n",
    "    z_color = lambda expval: \"maroon\" if expval < 0 else \"mistyrose\"\n",
    "    \n",
    "    fig, ax = plt.subplots()\n",
    "    fig, ax = misc_plot_formatting(fig, ax)\n",
    "    \n",
    "    for expval, sites in zip(x_excite, xgroup_sites):\n",
    "        ax.add_patch(Polygon(sites, color=x_color(expval), zorder=0))\n",
    "\n",
    "    for expval, sites in zip(z_excite, zgroup_sites):\n",
    "        ax.add_patch(Polygon(sites, color=z_color(expval), zorder=0))\n",
    "\n",
    "    handles = [ Patch(color=\"navy\", label=\"X Group -1\"),\n",
    "        Patch(color=\"lavender\", label=\"X Group +1\"),\n",
    "        Patch(color=\"maroon\", label=\"Z Group -1\"),\n",
    "        Patch(color=\"mistyrose\", label=\"Z Group +1\"),\n",
    "        Patch(color=\"navy\", label=\"Z op\"),\n",
    "        Patch(color=\"maroon\", label=\"X op\"),]\n",
    "    \n",
    "    plt.legend(handles=handles, ncol=3, loc='lower left')\n",
    "    \n",
    "    return fig, ax\n",
    "\n",
    "fig, ax = excitation_plot(x_expvals, z_expvals) \n",
    "\n",
    "ax.scatter(*zip(*single_x), color=\"maroon\", s=100)\n",
    "\n",
    "plt.show()"
   ]
  },
  {
   "cell_type": "markdown",
   "metadata": {},
   "source": [
    "Now what if we apply a Z operation instead at the same site? We instead\n",
    "get two X Group excitations.\n"
   ]
  },
  {
   "cell_type": "code",
   "execution_count": 11,
   "metadata": {
    "collapsed": false,
    "jupyter": {
     "outputs_hidden": false
    }
   },
   "outputs": [
    {
     "name": "stdout",
     "output_type": "stream",
     "text": [
      "Total energy:  -19.999999999999996\n",
      "Energy above the ground state:  4.0\n",
      "X Group occupation numbers:  [0. 1. 1. 0. 0. 0. 0. 0. 0. 0. 0. 0.]\n",
      "Z Group occupation numbers:  [0. 0. 0. 0. 0. 0. 0. 0. 0. 0. 0. 0.]\n"
     ]
    },
    {
     "data": {
      "image/png": "[encoded data removed]",
      "text/plain": [
       "<Figure size 432x288 with 1 Axes>"
      ]
     },
     "metadata": {
      "needs_background": "light"
     },
     "output_type": "display_data"
    }
   ],
   "source": [
    "single_z = [(1,2)]\n",
    "\n",
    "x_expvals = excitations(xgroup_ops, [], single_z)\n",
    "z_expvals = excitations(zgroup_ops, [], single_z)\n",
    "print_info(x_expvals, z_expvals)\n",
    "\n",
    "fig, ax = excitation_plot(x_expvals, z_expvals) \n",
    "\n",
    "ax.scatter(*zip(*single_z), color=\"navy\", s=100)\n",
    "\n",
    "plt.show()"
   ]
  },
  {
   "cell_type": "markdown",
   "metadata": {},
   "source": [
    "What happens if we apply the same pertubation twice at the same\n",
    "location?\n",
    "\n",
    "We regain the ground state. The excitations of the toric code are\n",
    "Majorana particles, particles who are their own anti-particles. While\n",
    "postulated to exist in standard particle physics, majorana particles\n",
    "have only been experimentally seen as quasiparticle excitations in\n",
    "materials.\n",
    "\n",
    "We can think of the second operation as creating another set of\n",
    "excitations at the same location that annihilate the existing particles.\n"
   ]
  },
  {
   "cell_type": "code",
   "execution_count": 12,
   "metadata": {
    "collapsed": false,
    "jupyter": {
     "outputs_hidden": false
    }
   },
   "outputs": [
    {
     "name": "stdout",
     "output_type": "stream",
     "text": [
      "Total energy:  -23.999999999999996\n",
      "Energy above the ground state:  0.0\n",
      "X Group occupation numbers:  [0. 0. 0. 0. 0. 0. 0. 0. 0. 0. 0. 0.]\n",
      "Z Group occupation numbers:  [0. 0. 0. 0. 0. 0. 0. 0. 0. 0. 0. 0.]\n"
     ]
    }
   ],
   "source": [
    "single_z = [(1,2)]\n",
    "\n",
    "x_expvals = excitations(xgroup_ops, [], single_z+single_z)\n",
    "z_expvals = excitations(zgroup_ops, [], single_z+single_z)\n",
    "print_info(x_expvals, z_expvals)"
   ]
  },
  {
   "cell_type": "markdown",
   "metadata": {},
   "source": [
    "Moving Excitations and String Operators\n",
    "=======================================\n",
    "\n",
    "What if we create a second set of particles such that one of the new\n",
    "particles overlaps with an existing particle? Then one old particle and\n",
    "one new particle annihilate each other. We are left we one of the old\n",
    "particles and one new particle, so we still have two particles in total.\n",
    "\n",
    "We can think about the situation as creating a new pair of particles\n",
    "where two particles cancel each other out, but we can also view the\n",
    "application of a new pertubation as moving one of the excitations. Let's\n",
    "see what that looks like in code:\n"
   ]
  },
  {
   "cell_type": "code",
   "execution_count": 13,
   "metadata": {
    "collapsed": false,
    "jupyter": {
     "outputs_hidden": false
    }
   },
   "outputs": [
    {
     "name": "stdout",
     "output_type": "stream",
     "text": [
      "Total energy:  -19.999999999999996\n",
      "Energy above the ground state:  4.0\n",
      "X Group occupation numbers:  [0. 0. 1. 0. 0. 0. 1. 0. 0. 0. 0. 0.]\n",
      "Z Group occupation numbers:  [0. 0. 0. 0. 0. 0. 0. 0. 0. 0. 0. 0.]\n"
     ]
    },
    {
     "data": {
      "image/png": "[encoded data removed]",
      "text/plain": [
       "<Figure size 432x288 with 1 Axes>"
      ]
     },
     "metadata": {
      "needs_background": "light"
     },
     "output_type": "display_data"
    }
   ],
   "source": [
    "two_z = [(1,2), (2,2)]\n",
    "\n",
    "x_expvals = excitations(xgroup_ops, [], two_z)\n",
    "z_expvals = excitations(zgroup_ops, [], two_z)\n",
    "print_info(x_expvals, z_expvals)\n",
    "\n",
    "fig, ax = excitation_plot(x_expvals, z_expvals) \n",
    "\n",
    "ax.plot(*zip(*two_z), color=\"navy\", linewidth=10)\n",
    "\n",
    "plt.show()"
   ]
  },
  {
   "cell_type": "markdown",
   "metadata": {},
   "source": [
    "In that example we just moved an excitation a little. How about we try\n",
    "moving it even further?\n"
   ]
  },
  {
   "cell_type": "code",
   "execution_count": 14,
   "metadata": {
    "collapsed": false,
    "jupyter": {
     "outputs_hidden": false
    }
   },
   "outputs": [
    {
     "name": "stdout",
     "output_type": "stream",
     "text": [
      "Total energy:  -19.999999999999996\n",
      "Energy above the ground state:  4.0\n",
      "X Group occupation numbers:  [0. 0. 1. 0. 0. 0. 0. 0. 1. 0. 0. 0.]\n",
      "Z Group occupation numbers:  [0. 0. 0. 0. 0. 0. 0. 0. 0. 0. 0. 0.]\n"
     ]
    },
    {
     "data": {
      "image/png": "[encoded data removed]",
      "text/plain": [
       "<Figure size 432x288 with 1 Axes>"
      ]
     },
     "metadata": {
      "needs_background": "light"
     },
     "output_type": "display_data"
    }
   ],
   "source": [
    "long_string = [(1,2), (2,2), (3,2), (4,1)]\n",
    "\n",
    "x_expvals = excitations(xgroup_ops, [], long_string)\n",
    "z_expvals = excitations(zgroup_ops, [], long_string)\n",
    "print_info(x_expvals, z_expvals)\n",
    "\n",
    "fig, ax = excitation_plot(x_expvals, z_expvals) \n",
    "\n",
    "ax.plot(*zip(*long_string), color=\"navy\", linewidth=10)\n",
    "\n",
    "plt.show()"
   ]
  },
  {
   "cell_type": "markdown",
   "metadata": {},
   "source": [
    "We end up with these strings of sites that connect pairs of particles\n",
    "and move them around.\n",
    "\n",
    "One subset of topology is called\n",
    "[Homotopy](https://en.wikipedia.org/wiki/Homotopy). Two paths are\n",
    "homotopy equivalent if they can be continuously deformed into each\n",
    "other. For the next picture, assume the red \"X\" is some kind of defect\n",
    "in space, like a tear in a sheet or some kind of object. The two blue\n",
    "paths are equivalent to each other because you can smoothly move one\n",
    "into the other. You cannot move the blue path into the green path\n",
    "without going through the defect, so they are not equivalent to each\n",
    "other.\n",
    "\n",
    "![](../demonstrations/toric_code/homotopy.png){.align-center\n",
    "width=\"40.0%\"}\n",
    "\n",
    "What if we decided to move the particle to it's final location via a\n",
    "different route?\n",
    "\n",
    "The below string gets us to the exact same final state. The toric code\n",
    "only cares about the homotopy of the path used to create the\n",
    "excitations. As long as the endpoints are the same and the path doesn't\n",
    "wrap around the torus or other particles, the specifics don't matter.\n"
   ]
  },
  {
   "cell_type": "code",
   "execution_count": 15,
   "metadata": {
    "collapsed": false,
    "jupyter": {
     "outputs_hidden": false
    }
   },
   "outputs": [
    {
     "name": "stdout",
     "output_type": "stream",
     "text": [
      "Total energy:  -19.999999999999996\n",
      "Energy above the ground state:  4.0\n",
      "X Group occupation numbers:  [0. 0. 1. 0. 0. 0. 0. 0. 1. 0. 0. 0.]\n",
      "Z Group occupation numbers:  [0. 0. 0. 0. 0. 0. 0. 0. 0. 0. 0. 0.]\n"
     ]
    },
    {
     "data": {
      "image/png": "[encoded data removed]",
      "text/plain": [
       "<Figure size 432x288 with 1 Axes>"
      ]
     },
     "metadata": {
      "needs_background": "light"
     },
     "output_type": "display_data"
    }
   ],
   "source": [
    "equivalent_string = [(1,2), (2,1), (3,1), (4,1)]\n",
    "\n",
    "x_expvals = excitations(xgroup_ops, [], equivalent_string)\n",
    "z_expvals = excitations(zgroup_ops, [], equivalent_string)\n",
    "print_info(x_expvals, z_expvals)\n",
    "\n",
    "fig, ax = excitation_plot(x_expvals, z_expvals) \n",
    "\n",
    "ax.plot(*zip(*equivalent_string), color=\"navy\", linewidth=10)\n",
    "\n",
    "plt.show()"
   ]
  },
  {
   "cell_type": "markdown",
   "metadata": {},
   "source": [
    "Looping the torus\n",
    "=================\n",
    "\n",
    "We can also have a loop of operations that doesn't create any new\n",
    "excitations. The loop creates a pair, moves one around in a circle, and\n",
    "then annihilates the two particles again.\n"
   ]
  },
  {
   "cell_type": "code",
   "execution_count": 16,
   "metadata": {
    "collapsed": false,
    "jupyter": {
     "outputs_hidden": false
    }
   },
   "outputs": [
    {
     "name": "stdout",
     "output_type": "stream",
     "text": [
      "Total energy:  -23.999999999999996\n",
      "Energy above the ground state:  0.0\n",
      "X Group occupation numbers:  [0. 0. 0. 0. 0. 0. 0. 0. 0. 0. 0. 0.]\n",
      "Z Group occupation numbers:  [0. 0. 0. 0. 0. 0. 0. 0. 0. 0. 0. 0.]\n"
     ]
    },
    {
     "data": {
      "image/png": "[encoded data removed]",
      "text/plain": [
       "<Figure size 432x288 with 1 Axes>"
      ]
     },
     "metadata": {
      "needs_background": "light"
     },
     "output_type": "display_data"
    }
   ],
   "source": [
    "contractable_loop = [(1,1), (2,1), (3,1), (4,1), (4,2), (3,3), (2,3), (1,2)]\n",
    "\n",
    "x_expvals = excitations(xgroup_ops, contractable_loop, [])\n",
    "z_expvals = excitations(zgroup_ops, contractable_loop, [])\n",
    "print_info(x_expvals, z_expvals)\n",
    "\n",
    "fig, ax = excitation_plot(x_expvals, z_expvals) \n",
    "\n",
    "ax.plot(*zip(*contractable_loop), color=\"maroon\", linewidth=10)\n",
    "\n",
    "plt.show()"
   ]
  },
  {
   "cell_type": "markdown",
   "metadata": {},
   "source": [
    "The loop doesn't effect the positions of any excitations, but does it\n",
    "effect the state at all?\n",
    "\n",
    "To answer that question, we will look at the probabilities instead of\n",
    "the expectation values of tensor observables.\n"
   ]
  },
  {
   "cell_type": "code",
   "execution_count": 17,
   "metadata": {
    "collapsed": false,
    "jupyter": {
     "outputs_hidden": false
    }
   },
   "outputs": [
    {
     "name": "stdout",
     "output_type": "stream",
     "text": [
      "Are the probabilities equal?  True\n"
     ]
    }
   ],
   "source": [
    "@qml.qnode(dev, diff_method=None)\n",
    "def probs(x_sites, z_sites):\n",
    "    state_prep()\n",
    "    \n",
    "    for s in x_sites:\n",
    "        qml.PauliX([s])\n",
    "        \n",
    "    for s in z_sites:\n",
    "        qml.PauliZ([s])\n",
    "\n",
    "    return qml.probs(wires=all_sites)\n",
    "\n",
    "null_probs = probs([], [])\n",
    "contractable_probs = probs(contractable_loop, [])\n",
    "\n",
    "print(\"Are the probabilities equal? \", np.allclose(null_probs, contractable_probs))"
   ]
  },
  {
   "cell_type": "markdown",
   "metadata": {},
   "source": [
    "The toric code only cares about the homotopy of the paths. All paths we\n",
    "can smoothly deform into each other will give the same result. The\n",
    "\"contractable\" loop can be smoothly deformed away to nothing, so the\n",
    "state with the contractable loop is the same state as one with no loop.\n"
   ]
  },
  {
   "cell_type": "markdown",
   "metadata": {},
   "source": [
    "On the torus, we have three types of unique paths that can't be deformed\n",
    "away to nothing:\n",
    "\n",
    "-   A horizontal loop around the boundaries\n",
    "-   A vertical loop around the boundaries\n",
    "-   A loop around both the horiztonal and vertical boundaries\n",
    "\n",
    "![](../demonstrations/toric_code/types_of_loops.png){.align-center\n",
    "width=\"50.0%\"}\n",
    "\n",
    "All of these do not create any net excitations, so the wavefunction\n",
    "remains in the ground state.\n"
   ]
  },
  {
   "cell_type": "code",
   "execution_count": 18,
   "metadata": {
    "collapsed": false,
    "jupyter": {
     "outputs_hidden": false
    }
   },
   "outputs": [
    {
     "data": {
      "image/png": "[encoded data removed]",
      "text/plain": [
       "<Figure size 432x288 with 1 Axes>"
      ]
     },
     "metadata": {
      "needs_background": "light"
     },
     "output_type": "display_data"
    }
   ],
   "source": [
    "horizontal_loop = [(i, 1) for i in range(width)]\n",
    "vertical_loop = [(1,i) for i in range(height)]\n",
    "\n",
    "fig, ax = excitation_plot(excitations(xgroup_ops, horizontal_loop+vertical_loop, []), excitations(zgroup_ops, horizontal_loop, [])) \n",
    "\n",
    "ax.plot(*zip(*horizontal_loop), color=\"maroon\", linewidth=10)\n",
    "ax.plot(*zip(*vertical_loop), color=\"maroon\", linewidth=10)\n",
    "\n",
    "plt.show()"
   ]
  },
  {
   "cell_type": "markdown",
   "metadata": {},
   "source": [
    "We can compute the probabilities for each of these four types of loops:\n"
   ]
  },
  {
   "cell_type": "code",
   "execution_count": 19,
   "metadata": {
    "collapsed": false,
    "jupyter": {
     "outputs_hidden": false
    }
   },
   "outputs": [],
   "source": [
    "null_probs = probs([], [])\n",
    "horizontal_probs = probs(horizontal_loop, [])\n",
    "vertical_probs = probs(vertical_loop, [])\n",
    "combo_probs = probs(horizontal_loop+vertical_loop, [])"
   ]
  },
  {
   "cell_type": "markdown",
   "metadata": {},
   "source": [
    "While both X and Z operations can change the group operator eigenvalues\n",
    "and create quasiparticles, only X operators can change the probability\n",
    "distribution. Applying a Z operator would only rotate the phase of the\n",
    "state and not change any amplitudes. Hence we only use loops of X\n",
    "operators in this section. I encourage you to try this analysis with\n",
    "loops of Z operators to confirm that they do not change the probability\n",
    "distribution.\n",
    "\n",
    "We can compare the original state and one with a horizontal loop to see\n",
    "if the probability distributions are different:\n"
   ]
  },
  {
   "cell_type": "code",
   "execution_count": 20,
   "metadata": {
    "collapsed": false,
    "jupyter": {
     "outputs_hidden": false
    }
   },
   "outputs": [
    {
     "name": "stdout",
     "output_type": "stream",
     "text": [
      "Are the probabilities equal?  False\n",
      "Is this significant?\n",
      "Maximum difference in probabilities:  0.00048828124999999913\n",
      "Maximum probability:  0.00048828124999999913\n"
     ]
    }
   ],
   "source": [
    "print(\"Are the probabilities equal? \",qml.math.allclose(null_probs, horizontal_probs))\n",
    "print(\"Is this significant?\")\n",
    "print(\"Maximum difference in probabilities: \", max(abs(null_probs-horizontal_probs)))\n",
    "print(\"Maximum probability: \", max(null_probs) )"
   ]
  },
  {
   "cell_type": "markdown",
   "metadata": {},
   "source": [
    "So this isn't just random fluctuations and errors.\n",
    "\n",
    "That was just comparing a horizontal \"x\" loop with the initial ground\n",
    "state. How about the other two types of loops? Let's loop over all\n",
    "combinations of two probability distributions to see if any match.\n"
   ]
  },
  {
   "cell_type": "code",
   "execution_count": 21,
   "metadata": {
    "collapsed": false,
    "jupyter": {
     "outputs_hidden": false
    }
   },
   "outputs": [
    {
     "name": "stdout",
     "output_type": "stream",
     "text": [
      "\tnull\tx\ty\tcombo\n",
      "null \t 1\t0\t0\t0\n",
      "x \t 0\t1\t0\t0\n",
      "y \t 0\t0\t1\t0\n",
      "combo \t 0\t0\t0\t1\n"
     ]
    }
   ],
   "source": [
    "names = [\"null\", \"x\", \"y\", \"combo\"]\n",
    "all_probs = [null_probs, horizontal_probs, vertical_probs, combo_probs]\n",
    "\n",
    "print(\"\\t\"+\"\\t\".join(names))\n",
    "\n",
    "for name, probs1 in zip(names, all_probs):\n",
    "\n",
    "    comparisons = (format(np.allclose(probs1, probs2), \".0f\") for probs2 in all_probs)\n",
    "    print(name, \"\\t\", \"\\t\".join(comparisons) )"
   ]
  },
  {
   "cell_type": "markdown",
   "metadata": {},
   "source": [
    "This shows us we have four distinct ground states. More importantly,\n",
    "these ground states are separated from each other by long-range\n",
    "operations. We have to perform a loop of operations across the entire\n",
    "lattice in order to switch ground state.\n",
    "\n",
    "This four way degeneracy is the source of the error correction in the\n",
    "toric code. Instead 24 qubits, we work with 2 logical qubits (4 states)\n",
    "that are cleanly separated from each other by topological operations.\n",
    "\n",
    "Further exploration: What happens with two loops in the same direction?\n"
   ]
  },
  {
   "cell_type": "markdown",
   "metadata": {},
   "source": [
    "Mutual Exchange Statistics\n",
    "==========================\n",
    "\n",
    "The hole in the center of the donut isn't the only thing that prevents\n",
    "paths from smoothly deforming into each other. We don't yet know if we\n",
    "can deform paths past other particles.\n",
    "\n",
    "\\# When one indistinguishable fermion of spin 1/2 orbits another fermion\n",
    "of the same type, the combined wavefunction picks up a factor of\n",
    "negative one. When fermions of different types orbit each other, the\n",
    "state is unchanged. For example, if an electron goes around a proton and\n",
    "comes back to the same spot, the wavefunction is unchanged. If a boson\n",
    "orbits around a different type of boson, again the wavefunction is\n",
    "unchanged.\n",
    "\n",
    "What if a particle went around a different type of particle and\n",
    "everything picked up a phase? Would it be a boson or a fermion?\n",
    "\n",
    "It would be something else entirely: an anyon. An anyon is anything that\n",
    "doesn't cleanly fall into the boson+fermion categorization of particles.\n",
    "\n",
    "While the toric code itself is just an extremely useful mathematical\n",
    "model, anyons actually exist in real materials. For example, the\n",
    "fractional quantum Hall systems has anyonic particles with spin $1/q$\n",
    "for different integers $q$. What happens we apply a Pauli operator to\n",
    "the ground state? Let's start by considering what happens to an Z Group\n",
    "eigenvalue when we apply a X operator on one of the sites that it\n",
    "contains:\n"
   ]
  },
  {
   "cell_type": "code",
   "execution_count": 22,
   "metadata": {
    "collapsed": false,
    "jupyter": {
     "outputs_hidden": false
    }
   },
   "outputs": [
    {
     "data": {
      "image/png": "[encoded data removed]",
      "text/plain": [
       "<Figure size 432x288 with 1 Axes>"
      ]
     },
     "metadata": {
      "needs_background": "light"
     },
     "output_type": "display_data"
    }
   ],
   "source": [
    "prep1 = [(1, 1), (2,1)]\n",
    "prep2 = [(1, 3)]\n",
    "loop1 = [(2,3), (2,2), (2,1), (3,1), (3,2), (2,3)]\n",
    "\n",
    "x_expvals = excitations(xgroup_ops, prep1, prep2+loop1)\n",
    "z_expvals = excitations(zgroup_ops, prep1, prep2+loop1)\n",
    "\n",
    "fig, ax = excitation_plot(x_expvals, z_expvals)\n",
    "\n",
    "ax.plot(*zip(*prep1), color=\"maroon\", linewidth=10)  \n",
    "ax.plot(*zip(*(prep2+loop1)), color=\"navy\", linewidth=10)\n",
    "\n",
    "plt.show()"
   ]
  },
  {
   "cell_type": "markdown",
   "metadata": {},
   "source": [
    "We can also construct additional strings to prepare two Z Group\n",
    "excitations and move one around the other. I encourage you to repeat\n",
    "this process for a X Group excitation moving around an X Group\n",
    "excitation, though we will not demonstrate it here.\n"
   ]
  },
  {
   "cell_type": "code",
   "execution_count": 23,
   "metadata": {
    "collapsed": false,
    "jupyter": {
     "outputs_hidden": false
    }
   },
   "outputs": [
    {
     "data": {
      "image/png": "[encoded data removed]",
      "text/plain": [
       "<Figure size 432x288 with 1 Axes>"
      ]
     },
     "metadata": {
      "needs_background": "light"
     },
     "output_type": "display_data"
    }
   ],
   "source": [
    "prep3 = [(1,1), (2,1), (3,2)]\n",
    "prep4 = [(1,3)]\n",
    "\n",
    "loop2_display = [(2,2), (3,1), (4,1), (5,2), (5,3), (4,4), (3,4), (2,3)]\n",
    "loop2 = [mod(s) for s in loop2_display]\n",
    "\n",
    "x_expvals = excitations(xgroup_ops, prep3+prep4+loop2, [])\n",
    "z_expvals = excitations(zgroup_ops, prep3+prep4+loop2, [])\n",
    "\n",
    "fig, ax = excitation_plot(x_expvals, z_expvals)\n",
    "\n",
    "ax.plot(*zip(*prep3), color=\"maroon\", linewidth=10)  \n",
    "ax.plot(*zip(*prep4), color=\"maroon\", linewidth=10)  \n",
    "ax.plot(*zip(*loop2_display), color=\"maroon\", linewidth=10)  \n",
    "\n",
    "plt.show()"
   ]
  },
  {
   "cell_type": "markdown",
   "metadata": {},
   "source": [
    "Hadamard test\n",
    "=============\n",
    "\n",
    "The Hadamard test extracts the real component of a unitary operation\n",
    "$\\text{Re}\\left(\\langle \\psi | U \\rangle \\right)$.\n",
    "\n",
    "1.  The auxiliary qubit is prepared into a superposition with a Hadamard\n",
    "    gate\n",
    "2.  A controlled version of the operation is performed with the\n",
    "    auxiliary qubit as the control\n",
    "3.  Another Hadamard is applied to the auxiliary qubit\n",
    "4.  The auxiliary qubit is measured\n",
    "\n",
    "![](../demonstrations/toric_code/Hadamard_test.png){.align-center\n",
    "width=\"50.0%\"}\n",
    "\n",
    "Since the unitary in this case is the application of a phase to a state,\n",
    "$e^{i \\phi}$, the real component is $\\cos (\\phi)$.\n",
    "\n",
    "Bonus challenge: Show that the Hadamard tests gives the correct\n",
    "expectation value using pen and paper.\n"
   ]
  },
  {
   "cell_type": "code",
   "execution_count": 24,
   "metadata": {
    "collapsed": false,
    "jupyter": {
     "outputs_hidden": false
    }
   },
   "outputs": [
    {
     "name": "stdout",
     "output_type": "stream",
     "text": [
      "Move x excitation around z excitation:  -0.9999999999999999\n"
     ]
    }
   ],
   "source": [
    "dev_aux = qml.device('lightning.qubit', wires=all_sites + [\"aux\"])\n",
    "\n",
    "def loop(x_loop, z_loop):\n",
    "    for s in x_loop:\n",
    "        qml.PauliX([s])\n",
    "    for s in z_loop:\n",
    "        qml.PauliZ([s])\n",
    "\n",
    "@qml.qnode(dev_aux, diff_method=None)\n",
    "def hadamard_test(x_prep, z_prep, x_loop, z_loop):\n",
    "    state_prep()\n",
    "    \n",
    "    for s in x_prep:\n",
    "        qml.PauliX([s])\n",
    "        \n",
    "    for s in z_prep:\n",
    "        qml.PauliZ([s])\n",
    "        \n",
    "    qml.Hadamard(\"aux\")\n",
    "    qml.ctrl(loop, control=\"aux\")(x_loop, z_loop)\n",
    "    qml.Hadamard(\"aux\")\n",
    "    return qml.expval(qml.PauliZ(\"aux\"))\n",
    "\n",
    "x_around_z = hadamard_test(prep1, prep2, [], loop1)\n",
    "print(\"Move x excitation around z excitation: \", x_around_z)"
   ]
  },
  {
   "cell_type": "markdown",
   "metadata": {},
   "source": [
    "We just moved two different types of particles around each other and\n",
    "picked up a phase. As neither bosons nor fermions behave like this, this\n",
    "result demonstrates that the excitations of a toric code are anyons.\n",
    "\n",
    "We can also check that moving a z group excitation around another does\n",
    "not add a phase:\n"
   ]
  },
  {
   "cell_type": "code",
   "execution_count": 25,
   "metadata": {
    "collapsed": false,
    "jupyter": {
     "outputs_hidden": false
    }
   },
   "outputs": [
    {
     "name": "stdout",
     "output_type": "stream",
     "text": [
      "Move z excitation around z excitation:  0.9999999999999999\n"
     ]
    }
   ],
   "source": [
    "z_around_z = hadamard_test(prep3+prep4, [], loop2, [])\n",
    "print(\"Move z excitation around z excitation: \", z_around_z)"
   ]
  },
  {
   "cell_type": "markdown",
   "metadata": {},
   "source": [
    "Further exploration: What is the phase for moving an x excitation around\n",
    "an x excitation? What are the statistics for a combination particle of\n",
    "both an x excitation and z excitation together? The emergent particle\n",
    "should behave like a standard fermion.\n",
    "\n",
    "In this demo, we have demonstrated:\n",
    "\n",
    "1.  How to prepare the ground state of the toric code model on a lattice\n",
    "    of qubits\n",
    "2.  How to create and move excitations\n",
    "3.  The ground state degeneracy of the model on a toric lattice, arising\n",
    "    from homotopically distinct loops of operations\n",
    "4.  The excitations are anyons due to non-trivial mutual statistics\n"
   ]
  }
 ],
 "metadata": {
  "kernelspec": {
   "display_name": "Python 3 (ipykernel)",
   "language": "python",
   "name": "python3"
  },
  "language_info": {
   "codemirror_mode": {
    "name": "ipython",
    "version": 3
   },
   "file_extension": ".py",
   "mimetype": "text/x-python",
   "name": "python",
   "nbconvert_exporter": "python",
   "pygments_lexer": "ipython3",
   "version": "3.8.9"
  }
 },
 "nbformat": 4,
 "nbformat_minor": 4
}
