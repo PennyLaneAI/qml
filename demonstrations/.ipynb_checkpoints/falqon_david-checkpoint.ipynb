{
 "cells": [
  {
   "cell_type": "markdown",
   "metadata": {},
   "source": [
    "## Introduction to FALQON\n",
    "\n",
    "In this demo, we'll be implement the [FALQON](https://arxiv.org/pdf/2103.08619.pdf) algorithm, standing for *Feedback-based ALgorithm for Quantum OptimizatioN*. It is similar in spirit to the [QAOA](https://arxiv.org/pdf/1411.4028.pdf), but scales with resources differently, and involves iterative feedback steps rather than a global optimization over parameters.\n",
    "\n",
    "### Theory\n",
    "\n",
    "To solve combinatorial optimization problems using a quantum computer, a typical strategy is to encode the solution to the problem as the ground state of *cost Hamiltonian* $H_C$, and choose some strategy to drive the system from a known initial state into this ground state. FALQON falls under this broad scheme. The driving strategy is implemented with a *driving Hamiltonian* $H_D$ with a single control parameter $\\beta(t)$, so the system evolves according to\n",
    "\n",
    "$$\n",
    "i\\partial_t |\\psi(t)\\rangle = (H_C + \\beta(t) H_D) |\\psi(t)\\rangle,\n",
    "$$\n",
    "\n",
    "setting $\\hbar = 1$. We would ultimately like to minimize the expectation value of $\\langle H_C\\rangle$, so a reasonable driving strategy is simply to decrease this expectation with time:\n",
    "\n",
    "$$\n",
    "\\partial_t \\langle H_C\\rangle_t = \\partial_t \\langle \\psi(t)|H_C|\\psi(t)\\rangle = i \\beta(t)\\langle [H_D, H_C] \\rangle_t \\leq 0,\n",
    "$$\n",
    "\n",
    "where we used the product rule and Schrödinger's equation. An easy way to satisfy this equation is to pick $\\beta(t) = -\\langle i[H_D, H_C] \\rangle_t$, so that\n",
    "\n",
    "$$\n",
    "\\partial_t \\langle H_C\\rangle_t = -|\\langle i[H_D, H_C] \\rangle_t|^2 \\leq 0.\n",
    "$$\n",
    "\n",
    "(Note that we bring the $i$ into the expectation to give a Hermitian operator.)\n",
    "Using techniques from [control theory](https://arxiv.org/pdf/1304.3997.pdf), it is possible to show this will eventually drive the system into the ground state. But there are two issues: (a) first, we need to somehow *evaluate* the expectation $A(t) := i\\langle [H_D, H_C] \\rangle_t$ to implement the driving strategy, and (b) we must do so continuously in time! This seems rather impractical. In order to solve the first problem, we can perform a [Trotter-Suzuki](https://en.wikipedia.org/wiki/Lie_product_formula) decomposition of the time evolution operator $|\\psi(t)\\rangle = U(t)|\\psi_0\\rangle$:\n",
    "\n",
    "$$\n",
    "U(t) \\approx U_D(\\beta_\\ell) U_C U_D(\\beta_{\\ell-1}) \\cdots U_C\n",
    "U_D(\\beta_1) U_C, \\quad U_C = e^{-iH_C \\Delta t}, \\quad U_D(\\beta_k) =\n",
    "e^{-i\\beta_k H_D \\Delta t},\n",
    "$$\n",
    "\n",
    "where $\\Delta t = t/2\\ell$ and $\\beta_k = \\beta(2k\\Delta t)$. Our discrete-time driving strategy is to use the value of $A(t)$ at the previous time-step:\n",
    "\n",
    "$$\n",
    "\\beta_{k+1} = -A_k = -A(2k\\Delta t).\n",
    "$$"
   ]
  },
  {
   "cell_type": "code",
   "execution_count": null,
   "metadata": {},
   "outputs": [],
   "source": []
  }
 ],
 "metadata": {
  "kernelspec": {
   "display_name": "Python 3",
   "language": "python",
   "name": "python3"
  },
  "language_info": {
   "codemirror_mode": {
    "name": "ipython",
    "version": 3
   },
   "file_extension": ".py",
   "mimetype": "text/x-python",
   "name": "python",
   "nbconvert_exporter": "python",
   "pygments_lexer": "ipython3",
   "version": "3.7.6"
  }
 },
 "nbformat": 4,
 "nbformat_minor": 5
}
