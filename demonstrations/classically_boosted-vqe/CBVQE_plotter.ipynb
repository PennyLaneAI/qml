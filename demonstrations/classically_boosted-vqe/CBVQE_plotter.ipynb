{
 "cells": [
  {
   "cell_type": "code",
   "execution_count": 9,
   "metadata": {},
   "outputs": [],
   "source": [
    "import numpy as np\n",
    "import matplotlib.pyplot as plt"
   ]
  },
  {
   "cell_type": "code",
   "execution_count": 10,
   "metadata": {},
   "outputs": [],
   "source": [
    "num_shots_list = np.genfromtxt('./data/num_shots_list.csv', delimiter=', ')\n",
    "energies_VQE = np.genfromtxt('./data/energies_VQE.csv', delimiter=', ')\n",
    "energies_CBVQE = np.genfromtxt('./data/energies_CBVQE.csv', delimiter=', ')"
   ]
  },
  {
   "cell_type": "code",
   "execution_count": 11,
   "metadata": {},
   "outputs": [
    {
     "data": {
      "text/plain": [
       "{'whiskers': [<matplotlib.lines.Line2D at 0x7fb1e92483a0>,\n",
       "  <matplotlib.lines.Line2D at 0x7fb1e9248700>,\n",
       "  <matplotlib.lines.Line2D at 0x7fb1e9256820>,\n",
       "  <matplotlib.lines.Line2D at 0x7fb1e9256b80>,\n",
       "  <matplotlib.lines.Line2D at 0x7fb1e925fca0>,\n",
       "  <matplotlib.lines.Line2D at 0x7fb1d95c4040>,\n",
       "  <matplotlib.lines.Line2D at 0x7fb1d95cf160>,\n",
       "  <matplotlib.lines.Line2D at 0x7fb1d95cf4c0>,\n",
       "  <matplotlib.lines.Line2D at 0x7fb1d95dc5e0>,\n",
       "  <matplotlib.lines.Line2D at 0x7fb1d95dc940>,\n",
       "  <matplotlib.lines.Line2D at 0x7fb1d95e7a60>,\n",
       "  <matplotlib.lines.Line2D at 0x7fb1d95e7dc0>,\n",
       "  <matplotlib.lines.Line2D at 0x7fb1d95f4ee0>,\n",
       "  <matplotlib.lines.Line2D at 0x7fb1d9601280>,\n",
       "  <matplotlib.lines.Line2D at 0x7fb1d960b3d0>,\n",
       "  <matplotlib.lines.Line2D at 0x7fb1d960b730>,\n",
       "  <matplotlib.lines.Line2D at 0x7fb1d9616850>,\n",
       "  <matplotlib.lines.Line2D at 0x7fb1d9616bb0>,\n",
       "  <matplotlib.lines.Line2D at 0x7fb1d9624cd0>,\n",
       "  <matplotlib.lines.Line2D at 0x7fb1d962f070>,\n",
       "  <matplotlib.lines.Line2D at 0x7fb1d963a1c0>,\n",
       "  <matplotlib.lines.Line2D at 0x7fb1d963a520>,\n",
       "  <matplotlib.lines.Line2D at 0x7fb1d9646640>,\n",
       "  <matplotlib.lines.Line2D at 0x7fb1d96469a0>,\n",
       "  <matplotlib.lines.Line2D at 0x7fb1d9652ac0>,\n",
       "  <matplotlib.lines.Line2D at 0x7fb1d9652e20>,\n",
       "  <matplotlib.lines.Line2D at 0x7fb1d965ef40>,\n",
       "  <matplotlib.lines.Line2D at 0x7fb1d966b2e0>,\n",
       "  <matplotlib.lines.Line2D at 0x7fb1d9676310>,\n",
       "  <matplotlib.lines.Line2D at 0x7fb1d9676640>,\n",
       "  <matplotlib.lines.Line2D at 0x7fb1d9685670>,\n",
       "  <matplotlib.lines.Line2D at 0x7fb1d96859a0>,\n",
       "  <matplotlib.lines.Line2D at 0x7fb1d96909d0>,\n",
       "  <matplotlib.lines.Line2D at 0x7fb1d9690d00>,\n",
       "  <matplotlib.lines.Line2D at 0x7fb1d969cd30>,\n",
       "  <matplotlib.lines.Line2D at 0x7fb1d96ab0a0>,\n",
       "  <matplotlib.lines.Line2D at 0x7fb1d96b70d0>,\n",
       "  <matplotlib.lines.Line2D at 0x7fb1d96b7400>,\n",
       "  <matplotlib.lines.Line2D at 0x7fb1e926c430>,\n",
       "  <matplotlib.lines.Line2D at 0x7fb1e926c760>,\n",
       "  <matplotlib.lines.Line2D at 0x7fb1e9278790>,\n",
       "  <matplotlib.lines.Line2D at 0x7fb1e9278ac0>,\n",
       "  <matplotlib.lines.Line2D at 0x7fb1e9285af0>,\n",
       "  <matplotlib.lines.Line2D at 0x7fb1e9285e20>,\n",
       "  <matplotlib.lines.Line2D at 0x7fb1e9292e50>,\n",
       "  <matplotlib.lines.Line2D at 0x7fb1e929e1c0>,\n",
       "  <matplotlib.lines.Line2D at 0x7fb1e92ab1f0>,\n",
       "  <matplotlib.lines.Line2D at 0x7fb1e92ab520>,\n",
       "  <matplotlib.lines.Line2D at 0x7fb1e92b8550>,\n",
       "  <matplotlib.lines.Line2D at 0x7fb1e92b8880>,\n",
       "  <matplotlib.lines.Line2D at 0x7fb1e92c28b0>,\n",
       "  <matplotlib.lines.Line2D at 0x7fb1e92c2be0>,\n",
       "  <matplotlib.lines.Line2D at 0x7fb1e92d1c10>,\n",
       "  <matplotlib.lines.Line2D at 0x7fb1e92d1f40>,\n",
       "  <matplotlib.lines.Line2D at 0x7fb1e92dcf70>,\n",
       "  <matplotlib.lines.Line2D at 0x7fb1e92ea2e0>,\n",
       "  <matplotlib.lines.Line2D at 0x7fb1e92f6310>,\n",
       "  <matplotlib.lines.Line2D at 0x7fb1e92f6640>],\n",
       " 'caps': [<matplotlib.lines.Line2D at 0x7fb1e9248a60>,\n",
       "  <matplotlib.lines.Line2D at 0x7fb1e9248dc0>,\n",
       "  <matplotlib.lines.Line2D at 0x7fb1e9256ee0>,\n",
       "  <matplotlib.lines.Line2D at 0x7fb1e925f280>,\n",
       "  <matplotlib.lines.Line2D at 0x7fb1d95c43a0>,\n",
       "  <matplotlib.lines.Line2D at 0x7fb1d95c4700>,\n",
       "  <matplotlib.lines.Line2D at 0x7fb1d95cf820>,\n",
       "  <matplotlib.lines.Line2D at 0x7fb1d95cfb80>,\n",
       "  <matplotlib.lines.Line2D at 0x7fb1d95dcca0>,\n",
       "  <matplotlib.lines.Line2D at 0x7fb1d95e7040>,\n",
       "  <matplotlib.lines.Line2D at 0x7fb1d95f4160>,\n",
       "  <matplotlib.lines.Line2D at 0x7fb1d95f44c0>,\n",
       "  <matplotlib.lines.Line2D at 0x7fb1d9601610>,\n",
       "  <matplotlib.lines.Line2D at 0x7fb1d9601970>,\n",
       "  <matplotlib.lines.Line2D at 0x7fb1d960ba90>,\n",
       "  <matplotlib.lines.Line2D at 0x7fb1d960bdf0>,\n",
       "  <matplotlib.lines.Line2D at 0x7fb1d9616f10>,\n",
       "  <matplotlib.lines.Line2D at 0x7fb1d96242b0>,\n",
       "  <matplotlib.lines.Line2D at 0x7fb1d962f3d0>,\n",
       "  <matplotlib.lines.Line2D at 0x7fb1d962f760>,\n",
       "  <matplotlib.lines.Line2D at 0x7fb1d963a880>,\n",
       "  <matplotlib.lines.Line2D at 0x7fb1d963abe0>,\n",
       "  <matplotlib.lines.Line2D at 0x7fb1d9646d00>,\n",
       "  <matplotlib.lines.Line2D at 0x7fb1d96520a0>,\n",
       "  <matplotlib.lines.Line2D at 0x7fb1d965e1c0>,\n",
       "  <matplotlib.lines.Line2D at 0x7fb1d965e520>,\n",
       "  <matplotlib.lines.Line2D at 0x7fb1d966b610>,\n",
       "  <matplotlib.lines.Line2D at 0x7fb1d966b940>,\n",
       "  <matplotlib.lines.Line2D at 0x7fb1d9676970>,\n",
       "  <matplotlib.lines.Line2D at 0x7fb1d9676ca0>,\n",
       "  <matplotlib.lines.Line2D at 0x7fb1d9685cd0>,\n",
       "  <matplotlib.lines.Line2D at 0x7fb1d9690040>,\n",
       "  <matplotlib.lines.Line2D at 0x7fb1d969c070>,\n",
       "  <matplotlib.lines.Line2D at 0x7fb1d969c3a0>,\n",
       "  <matplotlib.lines.Line2D at 0x7fb1d96ab3d0>,\n",
       "  <matplotlib.lines.Line2D at 0x7fb1d96ab700>,\n",
       "  <matplotlib.lines.Line2D at 0x7fb1d96b7730>,\n",
       "  <matplotlib.lines.Line2D at 0x7fb1d96b7a60>,\n",
       "  <matplotlib.lines.Line2D at 0x7fb1e926ca90>,\n",
       "  <matplotlib.lines.Line2D at 0x7fb1e926cdc0>,\n",
       "  <matplotlib.lines.Line2D at 0x7fb1e9278df0>,\n",
       "  <matplotlib.lines.Line2D at 0x7fb1e9285160>,\n",
       "  <matplotlib.lines.Line2D at 0x7fb1e9292190>,\n",
       "  <matplotlib.lines.Line2D at 0x7fb1e92924c0>,\n",
       "  <matplotlib.lines.Line2D at 0x7fb1e929e4f0>,\n",
       "  <matplotlib.lines.Line2D at 0x7fb1e929e820>,\n",
       "  <matplotlib.lines.Line2D at 0x7fb1e92ab850>,\n",
       "  <matplotlib.lines.Line2D at 0x7fb1e92abb80>,\n",
       "  <matplotlib.lines.Line2D at 0x7fb1e92b8bb0>,\n",
       "  <matplotlib.lines.Line2D at 0x7fb1e92b8ee0>,\n",
       "  <matplotlib.lines.Line2D at 0x7fb1e92c2f10>,\n",
       "  <matplotlib.lines.Line2D at 0x7fb1e92d1280>,\n",
       "  <matplotlib.lines.Line2D at 0x7fb1e92dc2b0>,\n",
       "  <matplotlib.lines.Line2D at 0x7fb1e92dc5e0>,\n",
       "  <matplotlib.lines.Line2D at 0x7fb1e92ea610>,\n",
       "  <matplotlib.lines.Line2D at 0x7fb1e92ea940>,\n",
       "  <matplotlib.lines.Line2D at 0x7fb1e92f6970>,\n",
       "  <matplotlib.lines.Line2D at 0x7fb1e92f6ca0>],\n",
       " 'boxes': [<matplotlib.lines.Line2D at 0x7fb1e9248040>,\n",
       "  <matplotlib.lines.Line2D at 0x7fb1e92564c0>,\n",
       "  <matplotlib.lines.Line2D at 0x7fb1e925f940>,\n",
       "  <matplotlib.lines.Line2D at 0x7fb1d95c4dc0>,\n",
       "  <matplotlib.lines.Line2D at 0x7fb1d95dc280>,\n",
       "  <matplotlib.lines.Line2D at 0x7fb1d95e7700>,\n",
       "  <matplotlib.lines.Line2D at 0x7fb1d95f4b80>,\n",
       "  <matplotlib.lines.Line2D at 0x7fb1d960b070>,\n",
       "  <matplotlib.lines.Line2D at 0x7fb1d96164f0>,\n",
       "  <matplotlib.lines.Line2D at 0x7fb1d9624970>,\n",
       "  <matplotlib.lines.Line2D at 0x7fb1d962fe20>,\n",
       "  <matplotlib.lines.Line2D at 0x7fb1d96462e0>,\n",
       "  <matplotlib.lines.Line2D at 0x7fb1d9652760>,\n",
       "  <matplotlib.lines.Line2D at 0x7fb1d965ebe0>,\n",
       "  <matplotlib.lines.Line2D at 0x7fb1d966bfa0>,\n",
       "  <matplotlib.lines.Line2D at 0x7fb1d9685340>,\n",
       "  <matplotlib.lines.Line2D at 0x7fb1d96906a0>,\n",
       "  <matplotlib.lines.Line2D at 0x7fb1d969ca00>,\n",
       "  <matplotlib.lines.Line2D at 0x7fb1d96abd60>,\n",
       "  <matplotlib.lines.Line2D at 0x7fb1e926c100>,\n",
       "  <matplotlib.lines.Line2D at 0x7fb1e9278460>,\n",
       "  <matplotlib.lines.Line2D at 0x7fb1e92857c0>,\n",
       "  <matplotlib.lines.Line2D at 0x7fb1e9292b20>,\n",
       "  <matplotlib.lines.Line2D at 0x7fb1e929ee80>,\n",
       "  <matplotlib.lines.Line2D at 0x7fb1e92b8220>,\n",
       "  <matplotlib.lines.Line2D at 0x7fb1e92c2580>,\n",
       "  <matplotlib.lines.Line2D at 0x7fb1e92d18e0>,\n",
       "  <matplotlib.lines.Line2D at 0x7fb1e92dcc40>,\n",
       "  <matplotlib.lines.Line2D at 0x7fb1e92eafa0>],\n",
       " 'medians': [<matplotlib.lines.Line2D at 0x7fb1e9256160>,\n",
       "  <matplotlib.lines.Line2D at 0x7fb1e925f5e0>,\n",
       "  <matplotlib.lines.Line2D at 0x7fb1d95c4a60>,\n",
       "  <matplotlib.lines.Line2D at 0x7fb1d95cfee0>,\n",
       "  <matplotlib.lines.Line2D at 0x7fb1d95e73a0>,\n",
       "  <matplotlib.lines.Line2D at 0x7fb1d95f4820>,\n",
       "  <matplotlib.lines.Line2D at 0x7fb1d9601cd0>,\n",
       "  <matplotlib.lines.Line2D at 0x7fb1d9616190>,\n",
       "  <matplotlib.lines.Line2D at 0x7fb1d9624610>,\n",
       "  <matplotlib.lines.Line2D at 0x7fb1d962fac0>,\n",
       "  <matplotlib.lines.Line2D at 0x7fb1d963af40>,\n",
       "  <matplotlib.lines.Line2D at 0x7fb1d9652400>,\n",
       "  <matplotlib.lines.Line2D at 0x7fb1d965e880>,\n",
       "  <matplotlib.lines.Line2D at 0x7fb1d966bc70>,\n",
       "  <matplotlib.lines.Line2D at 0x7fb1d9676fd0>,\n",
       "  <matplotlib.lines.Line2D at 0x7fb1d9690370>,\n",
       "  <matplotlib.lines.Line2D at 0x7fb1d969c6d0>,\n",
       "  <matplotlib.lines.Line2D at 0x7fb1d96aba30>,\n",
       "  <matplotlib.lines.Line2D at 0x7fb1d96b7d90>,\n",
       "  <matplotlib.lines.Line2D at 0x7fb1e9278130>,\n",
       "  <matplotlib.lines.Line2D at 0x7fb1e9285490>,\n",
       "  <matplotlib.lines.Line2D at 0x7fb1e92927f0>,\n",
       "  <matplotlib.lines.Line2D at 0x7fb1e929eb50>,\n",
       "  <matplotlib.lines.Line2D at 0x7fb1e92abeb0>,\n",
       "  <matplotlib.lines.Line2D at 0x7fb1e92c2250>,\n",
       "  <matplotlib.lines.Line2D at 0x7fb1e92d15b0>,\n",
       "  <matplotlib.lines.Line2D at 0x7fb1e92dc910>,\n",
       "  <matplotlib.lines.Line2D at 0x7fb1e92eac70>,\n",
       "  <matplotlib.lines.Line2D at 0x7fb1e92f6fd0>],\n",
       " 'fliers': [],\n",
       " 'means': []}"
      ]
     },
     "execution_count": 11,
     "metadata": {},
     "output_type": "execute_result"
    },
    {
     "data": {
      "image/png": "[encoded data removed]",
      "text/plain": [
       "<Figure size 432x288 with 1 Axes>"
      ]
     },
     "metadata": {
      "needs_background": "light"
     },
     "output_type": "display_data"
    }
   ],
   "source": [
    "plt.boxplot(energies_CBVQE, positions=num_shots_list, showfliers=False, )\n",
    "plt.boxplot(energies_VQE, positions=num_shots_list, showfliers=False)"
   ]
  },
  {
   "cell_type": "code",
   "execution_count": 12,
   "metadata": {},
   "outputs": [
    {
     "data": {
      "text/plain": [
       "<ErrorbarContainer object of 3 artists>"
      ]
     },
     "execution_count": 12,
     "metadata": {},
     "output_type": "execute_result"
    },
    {
     "data": {
      "image/png": "[encoded data removed]",
      "text/plain": [
       "<Figure size 432x288 with 1 Axes>"
      ]
     },
     "metadata": {
      "needs_background": "light"
     },
     "output_type": "display_data"
    }
   ],
   "source": [
    "avg_energies_CBVQE = np.mean(energies_CBVQE, axis=0)\n",
    "std_eneriges_CBVQE = np.std(energies_CBVQE, axis=0)\n",
    "\n",
    "avg_energies_VQE = np.mean(energies_VQE, axis=0)\n",
    "std_eneriges_VQE = np.std(energies_VQE, axis=0)\n",
    "\n",
    "plt.errorbar(num_shots_list, avg_energies_VQE, yerr=std_eneriges_VQE, fmt='x', label='VQE')\n",
    "plt.errorbar(num_shots_list, avg_energies_CBVQE, yerr=std_eneriges_CBVQE, fmt='o', label='CBVQE')"
   ]
  }
 ],
 "metadata": {
  "kernelspec": {
   "display_name": "Python 3.8.11 ('pennylane')",
   "language": "python",
   "name": "python3"
  },
  "language_info": {
   "codemirror_mode": {
    "name": "ipython",
    "version": 3
   },
   "file_extension": ".py",
   "mimetype": "text/x-python",
   "name": "python",
   "nbconvert_exporter": "python",
   "pygments_lexer": "ipython3",
   "version": "3.8.11"
  },
  "orig_nbformat": 4,
  "vscode": {
   "interpreter": {
    "hash": "f93c1bf5150e223d261983eb718c1d51467fc7ce31b6e7b0c76800af9d182229"
   }
  }
 },
 "nbformat": 4,
 "nbformat_minor": 2
}
