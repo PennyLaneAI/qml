{
 "cells": [
  {
   "cell_type": "markdown",
   "id": "c33a7fbe-b311-41ae-b456-ef8fb039495c",
   "metadata": {
    "tags": []
   },
   "source": [
    "# Classically-Boosted Variational Quantum Eigensolver"
   ]
  },
  {
   "cell_type": "code",
   "execution_count": 11,
   "id": "98b91e46-aa50-4dfe-a8fe-d8727b043295",
   "metadata": {
    "execution": {
     "iopub.execute_input": "2022-08-23T19:33:57.724673Z",
     "iopub.status.busy": "2022-08-23T19:33:57.724445Z",
     "iopub.status.idle": "2022-08-23T19:33:57.727516Z",
     "shell.execute_reply": "2022-08-23T19:33:57.727016Z",
     "shell.execute_reply.started": "2022-08-23T19:33:57.724656Z"
    },
    "tags": []
   },
   "outputs": [],
   "source": [
    "import pennylane as qml\n",
    "from pennylane import numpy as np\n",
    "from pennylane import qchem\n",
    "from matplotlib import pyplot as plt\n",
    "from scipy import linalg"
   ]
  },
  {
   "cell_type": "code",
   "execution_count": 12,
   "id": "4d8c646e",
   "metadata": {
    "execution": {
     "iopub.execute_input": "2022-08-23T19:33:58.103702Z",
     "iopub.status.busy": "2022-08-23T19:33:58.103261Z",
     "iopub.status.idle": "2022-08-23T19:33:58.106317Z",
     "shell.execute_reply": "2022-08-23T19:33:58.105732Z",
     "shell.execute_reply.started": "2022-08-23T19:33:58.103682Z"
    },
    "tags": []
   },
   "outputs": [],
   "source": [
    "num_repeats = 100"
   ]
  },
  {
   "cell_type": "code",
   "execution_count": 13,
   "id": "12e45092-d1cc-44fb-bcd1-c604db32bc28",
   "metadata": {
    "execution": {
     "iopub.execute_input": "2022-08-23T19:33:58.545249Z",
     "iopub.status.busy": "2022-08-23T19:33:58.544337Z",
     "iopub.status.idle": "2022-08-23T19:33:58.632520Z",
     "shell.execute_reply": "2022-08-23T19:33:58.631923Z",
     "shell.execute_reply.started": "2022-08-23T19:33:58.545178Z"
    },
    "tags": []
   },
   "outputs": [],
   "source": [
    "# Define the molecular Hamiltonian\n",
    "symbols = [\"H\", \"H\"]\n",
    "coordinates = np.array([0.0, 0.0, -0.6614, 0.0, 0.0, 0.6614])\n",
    "basis_set = \"sto-3g\"\n",
    "electrons = 2\n",
    "orbitals = 2\n",
    "Hamiltonian, qubits = qchem.molecular_hamiltonian(\n",
    "    symbols,\n",
    "    coordinates,\n",
    "    charge=0,\n",
    "    mult=1,\n",
    "    basis=basis_set,\n",
    "    active_electrons=electrons,\n",
    "    active_orbitals=orbitals\n",
    ")\n",
    "\n",
    "# Set the number of iterations of the VQE and stepsize\n",
    "stepsize = 0.4\n",
    "max_iterations = 30\n",
    "\n",
    "# Define the HF initial state and fermionic Hamiltonian\n",
    "hf_state = qml.qchem.hf_state(electrons, qubits)\n",
    "fermionic_Hamiltonian = qml.utils.sparse_hamiltonian(Hamiltonian).toarray()\n",
    "\n",
    "# Define all possible single and double excitations\n",
    "singles, doubles = qml.qchem.excitations(electrons=electrons, orbitals=qubits)\n",
    "num_theta = len(singles) + len(doubles)"
   ]
  },
  {
   "cell_type": "code",
   "execution_count": 14,
   "id": "3d32d701-4782-4e03-b302-b7ae50dcdc2a",
   "metadata": {
    "execution": {
     "iopub.execute_input": "2022-08-23T19:33:59.603143Z",
     "iopub.status.busy": "2022-08-23T19:33:59.602222Z",
     "iopub.status.idle": "2022-08-23T19:34:00.689008Z",
     "shell.execute_reply": "2022-08-23T19:34:00.688433Z",
     "shell.execute_reply.started": "2022-08-23T19:33:59.603071Z"
    },
    "tags": []
   },
   "outputs": [
    {
     "name": "stdout",
     "output_type": "stream",
     "text": [
      "Step = 0,  Energy = -1.12799983 Ha\n",
      "Step = 2,  Energy = -1.13466246 Ha\n",
      "Step = 4,  Energy = -1.13590595 Ha\n",
      "Step = 6,  Energy = -1.13613667 Ha\n",
      "Step = 8,  Energy = -1.13617944 Ha\n",
      "Step = 10,  Energy = -1.13618736 Ha\n",
      "Step = 12,  Energy = -1.13618883 Ha\n",
      "Step = 14,  Energy = -1.13618910 Ha\n",
      "Step = 16,  Energy = -1.13618915 Ha\n",
      "Step = 18,  Energy = -1.13618916 Ha\n",
      "Step = 20,  Energy = -1.13618916 Ha\n",
      "Step = 22,  Energy = -1.13618916 Ha\n",
      "Step = 24,  Energy = -1.13618916 Ha\n",
      "Step = 26,  Energy = -1.13618916 Ha\n",
      "Step = 28,  Energy = -1.13618916 Ha\n",
      "\n",
      "Final value of the ground-state energy = -1.13618916 Ha\n",
      "\n",
      "Optimal values of the circuit parameter =,  [0.         0.         0.20973221]\n"
     ]
    },
    {
     "data": {
      "image/png": "[encoded data removed]",
      "text/plain": [
       "<Figure size 720x504 with 1 Axes>"
      ]
     },
     "metadata": {
      "needs_background": "light"
     },
     "output_type": "display_data"
    }
   ],
   "source": [
    "# Define the cost function and the circuit\n",
    "def circuit_VQE(theta, wires):\n",
    "    qml.AllSinglesDoubles(\n",
    "        weights = theta,\n",
    "        wires = wires,\n",
    "        hf_state = hf_state,\n",
    "        singles = singles,\n",
    "        doubles = doubles)\n",
    "\n",
    "# Define a device\n",
    "dev = qml.device('default.qubit', wires=qubits)\n",
    "\n",
    "@qml.qnode(dev)\n",
    "def cost_fn(theta):\n",
    "    circuit_VQE(theta,range(qubits)) # Why define outside?\n",
    "    return qml.expval(Hamiltonian)\n",
    "\n",
    "# Draw circuit\n",
    "# qml.drawer.use_style('black_white')\n",
    "# qml.draw_mpl(cost_fn, expansion_strategy=\"device\")(np.zeros(num_theta))\n",
    "\n",
    "# Gradient descent optimization\n",
    "opt = qml.GradientDescentOptimizer(stepsize=stepsize)\n",
    "theta = np.zeros(num_theta, requires_grad=True)\n",
    "\n",
    "#  Initial energy\n",
    "energy = [cost_fn(theta)]\n",
    "angle = [theta]\n",
    "\n",
    "for n in range(max_iterations):\n",
    "\n",
    "    theta, prev_energy = opt.step_and_cost(cost_fn, theta)\n",
    "\n",
    "    energy.append(cost_fn(theta))\n",
    "    angle.append(theta)\n",
    "\n",
    "    conv = np.abs(energy[-1] - prev_energy)\n",
    "\n",
    "    if n % 2 == 0:\n",
    "        print(f\"Step = {n},  Energy = {energy[-1]:.8f} Ha\")\n",
    "\n",
    "print(\"\\n\" f\"Final value of the ground-state energy = {energy[-1]:.8f} Ha\")\n",
    "print(\"\\n\" f\"Optimal values of the circuit parameter =, \", angle[-1])\n",
    "\n",
    "# Plot epochs\n",
    "plt.figure(figsize=(10,7))\n",
    "plt.plot(energy ,\"x--\")\n",
    "plt.xlabel(\"epoch\", fontsize=20)\n",
    "plt.ylabel(\"energy (Ha)\", fontsize=20)\n",
    "\n",
    "# Append energies and optimized thetas\n",
    "energy = energy[-1]\n",
    "opt_theta = angle[-1]"
   ]
  },
  {
   "cell_type": "code",
   "execution_count": 15,
   "id": "ebf01fe9-7534-42d2-bd11-33f65b4133cc",
   "metadata": {
    "execution": {
     "iopub.execute_input": "2022-08-23T19:34:02.364331Z",
     "iopub.status.busy": "2022-08-23T19:34:02.363871Z",
     "iopub.status.idle": "2022-08-23T19:35:52.061425Z",
     "shell.execute_reply": "2022-08-23T19:35:52.060910Z",
     "shell.execute_reply.started": "2022-08-23T19:34:02.364315Z"
    },
    "tags": []
   },
   "outputs": [],
   "source": [
    "# Obtain HF energy\n",
    "binary_string = ''.join([str(i) for i in hf_state])\n",
    "idx0 = int(binary_string, 2)\n",
    "H11 = fermionic_Hamiltonian[idx0][idx0]\n",
    "\n",
    "# Circuit that maps a product state\n",
    "def circuit_product_state(state):\n",
    "    qml.BasisState(state, range(qubits))\n",
    " \n",
    "# Number of shots\n",
    "num_shots_list = np.arange(10, 100, 5)\n",
    "\n",
    "# Initialize params\n",
    "energies_VQE = np.zeros(shape=(num_repeats, len(num_shots_list)))\n",
    "angles_VQE = np.zeros(shape=(num_repeats, len(num_shots_list), num_theta))\n",
    "energies_CBVQE = np.zeros(shape=(num_repeats, len(num_shots_list)))\n",
    "\n",
    "# Define the cost function and the circuit\n",
    "def circuit_VQE(theta, wires):\n",
    "    qml.AllSinglesDoubles(\n",
    "        weights = theta,\n",
    "        wires = wires,\n",
    "        hf_state = hf_state,\n",
    "        singles = singles,\n",
    "        doubles = doubles)\n",
    "\n",
    "for rep_idx in range(num_repeats):\n",
    "    \n",
    "    for ns ,num_shots in enumerate(num_shots_list):\n",
    "        \n",
    "        dev_shots1 = qml.device(\"default.qubit\", wires=range(qubits), shots=int(num_shots))\n",
    "        @qml.qnode(dev_shots1)\n",
    "        def cost_fn(theta):\n",
    "            circuit_VQE(theta,range(qubits)) # Why define outside?\n",
    "            return qml.expval(Hamiltonian)\n",
    "\n",
    "        # Obtain VQE energy\n",
    "        H22 = -10\n",
    "        while H22 < energy:\n",
    "            H22 = cost_fn(opt_theta)\n",
    " \n",
    "        # Get crossed terms\n",
    "        wires = range(qubits + 1)\n",
    "        dev = qml.device(\"default.qubit\", wires=wires)\n",
    "        Vq = qml.matrix(circuit_VQE)(opt_theta, range(qubits))\n",
    "\n",
    "        @qml.qnode(dev)\n",
    "        def hadamard_test(Vq, Vcl, component='real'):\n",
    "\n",
    "            if component == 'imag':\n",
    "                qml.RX(np.pi/2, wires=[0])\n",
    "\n",
    "            qml.Hadamard(wires=[0])\n",
    "            qml.ControlledQubitUnitary(Vq.conjugate().T @ Vcl, control_wires=[0], wires=wires[1:])\n",
    "            qml.Hadamard(wires=[0])\n",
    "\n",
    "            return qml.probs(wires=[0])\n",
    "\n",
    "        # Compute crossed terms\n",
    "        H12 = 0\n",
    "        basis_states = np.array([[1,1,0,0], [0,1,1,0], [1,0,0,1], [0,0,1,1]], requires_grad=True)\n",
    "        for i, basis_state in enumerate(basis_states):\n",
    "            Vcl = qml.matrix(circuit_product_state)(basis_state)\n",
    "            probs = hadamard_test(Vq, Vcl)\n",
    "            y = 2*probs[0]-1\n",
    "            binary_string = ''.join([str(i) for i in basis_state])\n",
    "            idx = int(binary_string, 2)\n",
    "            overlap_H = fermionic_Hamiltonian[idx0][idx]\n",
    "            H12 += y*overlap_H\n",
    "            if i == 0:\n",
    "                y0 = y\n",
    "\n",
    "        H21 = np.conjugate(H12)\n",
    "\n",
    "        S = np.array([[1, y0],[y0, 1]])\n",
    "        H = np.array([[H11, H12],[H21, H22]])\n",
    "\n",
    "        evals = linalg.eigvals(np.real(H), np.real(S))\n",
    "        \n",
    "        CBGS = np.min(evals).real\n",
    "        \n",
    "        energies_VQE[rep_idx, ns] = H22\n",
    "        energies_CBVQE[rep_idx, ns] = CBGS\n",
    "        \n",
    "        #print(H22, CBGS)"
   ]
  },
  {
   "cell_type": "code",
   "execution_count": 17,
   "id": "43ee8272-6665-4078-9e38-1f5faf2d9a21",
   "metadata": {
    "execution": {
     "iopub.execute_input": "2022-08-23T19:35:52.074967Z",
     "iopub.status.busy": "2022-08-23T19:35:52.074798Z",
     "iopub.status.idle": "2022-08-23T19:35:52.078667Z",
     "shell.execute_reply": "2022-08-23T19:35:52.078204Z",
     "shell.execute_reply.started": "2022-08-23T19:35:52.074954Z"
    },
    "tags": []
   },
   "outputs": [
    {
     "name": "stdout",
     "output_type": "stream",
     "text": [
      "-1.136189162464439\n"
     ]
    }
   ],
   "source": [
    "# Print actual GS energy (diagonalize fermionic Hamiltonian)\n",
    "from scipy.sparse.linalg import eigs\n",
    "E0 = eigs(fermionic_Hamiltonian)[0][0]\n",
    "print(np.real(E0))"
   ]
  },
  {
   "cell_type": "code",
   "execution_count": 18,
   "id": "14fb23ed",
   "metadata": {
    "execution": {
     "iopub.execute_input": "2022-08-23T19:35:52.079724Z",
     "iopub.status.busy": "2022-08-23T19:35:52.079518Z",
     "iopub.status.idle": "2022-08-23T19:35:52.085815Z",
     "shell.execute_reply": "2022-08-23T19:35:52.085498Z",
     "shell.execute_reply.started": "2022-08-23T19:35:52.079711Z"
    },
    "tags": []
   },
   "outputs": [],
   "source": [
    "np.savetxt(\"num_shots_list.csv\", num_shots_list, delimiter=\", \")\n",
    "np.savetxt(\"energies_VQE.csv\", energies_VQE, delimiter=\", \")\n",
    "np.savetxt(\"energies_CBVQE.csv\", energies_CBVQE, delimiter=\", \")"
   ]
  },
  {
   "cell_type": "code",
   "execution_count": 19,
   "id": "1caa4a21-2a36-42b6-9e3b-933d7bd3edf3",
   "metadata": {
    "execution": {
     "iopub.execute_input": "2022-08-23T19:35:52.086625Z",
     "iopub.status.busy": "2022-08-23T19:35:52.086460Z",
     "iopub.status.idle": "2022-08-23T19:35:52.093901Z",
     "shell.execute_reply": "2022-08-23T19:35:52.093418Z",
     "shell.execute_reply.started": "2022-08-23T19:35:52.086612Z"
    },
    "tags": []
   },
   "outputs": [],
   "source": [
    "E0 = -1.1361891624641414\n",
    "num_shots_list = np.genfromtxt(\"num_shots_list.csv\", delimiter=\", \")\n",
    "energies_VQE = np.genfromtxt(\"energies_VQE.csv\", delimiter=\", \")\n",
    "energies_CBVQE = np.genfromtxt(\"energies_CBVQE.csv\",delimiter=\", \")"
   ]
  },
  {
   "cell_type": "code",
   "execution_count": 21,
   "id": "8024b2ba-91a1-4ed6-8a04-fc4cc37d4046",
   "metadata": {
    "execution": {
     "iopub.execute_input": "2022-08-23T19:36:26.535355Z",
     "iopub.status.busy": "2022-08-23T19:36:26.535134Z",
     "iopub.status.idle": "2022-08-23T19:36:26.697042Z",
     "shell.execute_reply": "2022-08-23T19:36:26.696563Z",
     "shell.execute_reply.started": "2022-08-23T19:36:26.535340Z"
    },
    "tags": []
   },
   "outputs": [
    {
     "data": {
      "image/png": "[encoded data removed]",
      "text/plain": [
       "<Figure size 720x504 with 1 Axes>"
      ]
     },
     "metadata": {
      "needs_background": "light"
     },
     "output_type": "display_data"
    }
   ],
   "source": [
    "# Plot results\n",
    "plt.figure(figsize=(10,7))\n",
    "\n",
    "avg_energies_CBVQE = np.mean(energies_CBVQE, axis=0)\n",
    "std_eneriges_CBVQE = np.std(energies_CBVQE, axis=0)\n",
    "\n",
    "avg_energies_VQE = np.mean(energies_VQE, axis=0)\n",
    "std_eneriges_VQE = np.std(energies_VQE, axis=0)\n",
    "\n",
    "plt.errorbar(num_shots_list, avg_energies_VQE, yerr=std_eneriges_VQE, fmt='x', label='VQE')\n",
    "plt.errorbar(num_shots_list, avg_energies_CBVQE, yerr=std_eneriges_CBVQE, fmt='o', label='CBVQE')\n",
    "plt.axhline(np.real(E0), color='k', linestyle='--')\n",
    "plt.legend(fontsize=20)\n",
    "plt.xlabel(\"measurements\", fontsize=20)\n",
    "plt.ylabel(\"energy (Ha)\", fontsize=20)\n",
    "plt.savefig('energy_deviation.png')"
   ]
  },
  {
   "cell_type": "code",
   "execution_count": null,
   "id": "4517b5fe-567e-46a5-9bbc-e2e5fa5f4ab3",
   "metadata": {},
   "outputs": [],
   "source": []
  }
 ],
 "metadata": {
  "interpreter": {
   "hash": "f93c1bf5150e223d261983eb718c1d51467fc7ce31b6e7b0c76800af9d182229"
  },
  "kernelspec": {
   "display_name": "Python 3 (ipykernel)",
   "language": "python",
   "name": "python3"
  },
  "language_info": {
   "codemirror_mode": {
    "name": "ipython",
    "version": 3
   },
   "file_extension": ".py",
   "mimetype": "text/x-python",
   "name": "python",
   "nbconvert_exporter": "python",
   "pygments_lexer": "ipython3",
   "version": "3.9.12"
  }
 },
 "nbformat": 4,
 "nbformat_minor": 5
}
