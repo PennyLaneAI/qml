{
 "cells": [
  {
   "cell_type": "code",
   "execution_count": 2,
   "id": "18a07b36-69e7-4dee-b191-22cfe56e7eb3",
   "metadata": {},
   "outputs": [],
   "source": [
    "import pennylane as qml\n",
    "import numpy as np\n",
    "from matplotlib import pyplot as plt\n",
    "from pennylane import qaoa as qaoa\n",
    "import networkx as nx"
   ]
  },
  {
   "cell_type": "markdown",
   "id": "cebae230-1bb2-486c-aba5-aee821472b89",
   "metadata": {},
   "source": [
    "# Feedback-Based Quantum Optimization (FALQON)\n",
    "\n",
    "By: David Wakeham and Jack Ceroni"
   ]
  },
  {
   "cell_type": "markdown",
   "id": "5dc5f0ad-76ac-43ce-bd29-71a9ba28feee",
   "metadata": {},
   "source": [
    "In this demo, we'll be implement the FALQON algorithm, standing for *Feedback-based ALgorithm for Quantum Optimization*, introduced by [Magann, Rudinger, Grace & Sarovar (2021)](https://arxiv.org/pdf/2103.08619.pdf). It is similar in spirit to the [QAOA](https://arxiv.org/pdf/1411.4028.pdf), but scales with resources differently, using iterative feedback steps rather than a global optimization over parameters. We will show how to implement FALQON in PennyLane and test its performance on the **MaxClique** problem in graph theory!\n",
    "\n",
    "### Theory\n",
    "\n",
    "To solve combinatorial optimization problems using a quantum computer, a typical strategy is to encode the solution to the problem as the ground state of *cost Hamiltonian* $H_C$, and choose some strategy to drive the system from a known initial state into this ground state. FALQON falls under this broad scheme.\n",
    "\n",
    "Imagine a quantum system governed by a Hamiltonian of the form $H = H_C + \\beta(t) H_D$. These kinds of Hamiltonians come up quite often in the theory of [quantum control](https://quantiki.org/wiki/quantum-control-theory), which studies how we may go about driving a quantum system from one state to another. The choice of $\\beta(t)$ allows us to decide which state we want a system governed by such a Hamiltonian to evolve towards. \n",
    "\n",
    "The time-dependent Schrodinger equation tells us that the dynamics of the system are given by:\n",
    "\n",
    "$$\n",
    "i \\frac{d}{dt} |\\psi(t)\\rangle = (H_C + \\beta(t) H_D) |\\psi(t)\\rangle,\n",
    "$$\n",
    "\n",
    "where we set $\\hbar = 1$. Now, let us suppose that the objective of our quantum control experiment is to drive our system to the state $|\\psi\\rangle$: the ground state of $H_C$. Phrased differently, we would like to minimize the expectation value of $\\langle H_C\\rangle$ (an immediate consequence of the variational principle). Therefore, a reasonable goal is to construct our system such that the expectation decreases with time:\n",
    "\n",
    "$$\n",
    "\\frac{d}{dt} \\langle H_C\\rangle_t = \\frac{d}{dt} \\langle \\psi(t)|H_C|\\psi(t)\\rangle = i \\beta(t)\\langle [H_D, H_C] \\rangle_t \\leq 0,\n",
    "$$\n",
    "\n",
    "where we used the product rule and Schrödinger's equation. Recall that our control experiment depends on the choice of $\\beta(t)$. Thus, if we pick $\\beta(t) = -\\langle i[H_D, H_C] \\rangle_t$, so that\n",
    "\n",
    "$$\n",
    "\\frac{d}{dt} \\langle H_C\\rangle_t = -|\\langle i[H_D, H_C] \\rangle_t|^2 \\leq 0.\n",
    "$$\n",
    "\n",
    "then $\\langle H_C \\rangle$ is guaranteed to strictly decrease, as desired!\n",
    "\n",
    "(Note that we bring the $i$ into the expectation to give a Hermitian operator.)\n",
    "Using [techniques from control theory](https://arxiv.org/pdf/1304.3997.pdf), it is possible to rigorously show this will eventually drive the system into the ground state! Thus, if we evolve some initial state $|\\psi_0\\rangle$ under the time-evolution operator corresponding to $H$, given by $U(t) = e^{-iHt}$, then we will arrive at the ground state of $H$! We can approximately discretize $U$ using a Trotter-Suzuki decomposition, so we may implement it on a quantum circuit:\n",
    "\n",
    "$$\n",
    "U(t) \\approx U_D(\\beta_\\ell) U_C U_D(\\beta_{\\ell-1}) U_C\\cdots\n",
    "U_D(\\beta_1) U_C, \\quad U_C = e^{-iH_C \\Delta t}, \\quad U_D(\\beta_k) =\n",
    "e^{-i\\beta_k H_D \\Delta t},\n",
    "$$\n",
    "\n",
    "where $\\Delta t = t/2\\ell$ and $\\beta_k = \\beta(2k\\Delta t)$. One issue remains: for each step, we need to know the value $\\beta_k$, which are themselves dependent on the state of the system, at some time. Our strategy is to use the value of $A(t) := i\\langle [H_D, H_C] \\rangle_t$ obtained by evaluating the circuit for the previous time-step:\n",
    "\n",
    "$$\n",
    "\\beta_{k+1} = -A_k = -A(2k\\Delta t).\n",
    "$$\n",
    "\n",
    "This leads immediately to the FALQON algorithm. On step $k$, we perform the following three substeps:\n",
    "\n",
    "1. Prepare the state $|\\psi_k\\rangle = U_D(\\beta_k) U_C \\cdots U_D(\\beta_1) U_C|\\psi_0\\rangle$,\n",
    "2. Measure the expectation value $A_k = \\langle i[H_C, H_D]\\rangle_k$.\n",
    "3. Set $\\beta_{k+1} = -A_k$."
   ]
  },
  {
   "cell_type": "markdown",
   "id": "57551adb-82fa-49ac-b2f0-f16ea340f57c",
   "metadata": {},
   "source": [
    "### Solving the MaxClique Problem with FALQON"
   ]
  },
  {
   "cell_type": "markdown",
   "id": "f48edf5e-2f1c-4eec-9840-21a7e25fd9ac",
   "metadata": {},
   "source": [
    "Our goal is to solve the maximum clique (MaxClique) problem: finding the largest complete subgraph of a graph $G$. We begin by defining the graph on which we will perform MaxClique. We will use a graph of the form:"
   ]
  },
  {
   "cell_type": "code",
   "execution_count": 36,
   "id": "356c26dc-af4b-4c1f-867b-fb852551525f",
   "metadata": {},
   "outputs": [
    {
     "data": {
      "image/png": "[encoded data removed]",
      "text/plain": [
       "<Figure size 432x288 with 1 Axes>"
      ]
     },
     "metadata": {},
     "output_type": "display_data"
    }
   ],
   "source": [
    "edges = [(0, 1), (1, 2), (2, 0), (2, 3), (1, 4), (4, 5), (5, 2), (0, 6)]\n",
    "graph = nx.Graph(edges)\n",
    "nx.draw(graph)"
   ]
  },
  {
   "cell_type": "markdown",
   "id": "d7511be2-5011-487c-8f5a-5484f022d607",
   "metadata": {},
   "source": [
    "Recall that the cost Hamiltonian corresponding to the MaxClique problem is given by:\n",
    "\n",
    "$$H_C = 3 \\sum_{(i, j) \\in E(\\bar{G})} (Z_i Z_j - Z_i - Z_j) + \\displaystyle\\sum_{i \\in V(G)} Z_i$$\n",
    "\n",
    "where $\\bar{G}$ is the [complement](https://en.wikipedia.org/wiki/Complement_graph) of the graph $G$. As for $H_D$, we simply must choose a Hamiltonian that does not commute with $H_C$, and effectively \"mixes\" the state of the system as it is driven towards the desired state. Thus, we choose a simple sum of Pauli-X operations:\n",
    "\n",
    "$$H_{D} = \\displaystyle\\sum_{i \\in V(G)} X_i$$\n",
    "\n",
    "We can generate these Hamiltonians easily, using PennyLane QAOA:"
   ]
  },
  {
   "cell_type": "code",
   "execution_count": 37,
   "id": "324c6dfd-fbed-4ab4-9d33-023b143002cb",
   "metadata": {},
   "outputs": [
    {
     "name": "stdout",
     "output_type": "stream",
     "text": [
      "Cost Hamiltonian\n",
      "  (-2.75) [Z3]\n",
      "+ (-2.75) [Z6]\n",
      "+ (-2.0) [Z4]\n",
      "+ (-2.0) [Z5]\n",
      "+ (-1.25) [Z0]\n",
      "+ (-1.25) [Z1]\n",
      "+ (-0.5) [Z2]\n",
      "+ (0.75) [Z0 Z3]\n",
      "+ (0.75) [Z0 Z4]\n",
      "+ (0.75) [Z0 Z5]\n",
      "+ (0.75) [Z1 Z3]\n",
      "+ (0.75) [Z1 Z5]\n",
      "+ (0.75) [Z1 Z6]\n",
      "+ (0.75) [Z2 Z4]\n",
      "+ (0.75) [Z2 Z6]\n",
      "+ (0.75) [Z3 Z4]\n",
      "+ (0.75) [Z3 Z5]\n",
      "+ (0.75) [Z3 Z6]\n",
      "+ (0.75) [Z4 Z6]\n",
      "+ (0.75) [Z5 Z6]\n",
      "Driver Hamiltonian\n",
      "  (1) [X0]\n",
      "+ (1) [X1]\n",
      "+ (1) [X2]\n",
      "+ (1) [X3]\n",
      "+ (1) [X4]\n",
      "+ (1) [X5]\n",
      "+ (1) [X6]\n"
     ]
    }
   ],
   "source": [
    "cost_h, driver_h = qaoa.max_clique(graph, constrained=False)\n",
    "\n",
    "print(\"Cost Hamiltonian\")\n",
    "print(cost_h)\n",
    "print(\"Driver Hamiltonian\")\n",
    "print(driver_h)"
   ]
  },
  {
   "cell_type": "markdown",
   "id": "463eee4d-10c9-4684-a80c-f18548089252",
   "metadata": {},
   "source": [
    "As you may recall, one of the main ingredients in the FALQON algorithm is the commutator $[H_D, H_C]$. In the case of MaxClique, we can write down the commutator explicitly, exploiting the bilinearity of the commutator:\n",
    "\n",
    "$$[H_D, H_C] = \\Big[ \\displaystyle\\sum_{i \\in V(G)} X_i, 3 \\sum_{(i, j) \\in E(\\bar{G})} (Z_i Z_j - Z_i - Z_j) + \\displaystyle\\sum_{i \\in V(G)} Z_i \\Big] = 3 \\Big[ \\displaystyle\\sum_{i \\in V(G)} X_i, \\sum_{(i, j) \\in E(\\bar{G})} (Z_i Z_j - Z_i - Z_j) \\Big] + 3 \\Big[ \\displaystyle\\sum_{i \\in V(G)} X_i, \\displaystyle\\sum_{i} Z_i \\Big]$$\n",
    "$$= 3 \\displaystyle\\sum_{k \\in V(G)} \\displaystyle\\sum_{(i, j) \\in E(\\bar{G})} \\big( [X_k, Z_i Z_j] - [X_k, Z_i] - [X_k, Z_j] \\big) + 3 \\displaystyle\\sum_{i \\in V(G)} \\displaystyle\\sum_{j \\in V(G)} [X_i, Z_j]$$\n",
    "\n",
    "Clearly, there are two distinct commutators that we must calculate, $[X_k, Z_j]$ and $[X_k, Z_i Z_j]$. This is easy, as we know exactly what the [commutators of the Pauli matrices](https://en.wikipedia.org/wiki/Pauli_matrices#Commutation_relations) are. This gives us:\n",
    "\n",
    "$$[X_k, Z_j] = -2 i \\delta_{kj} Y_k \\ \\ \\ \\text{and} \\ \\ \\ [X_k, Z_i Z_j] = -2 i \\delta_{ik} Y_k Z_j - 2i \\delta_{jk} Z_i Y_k$$\n",
    "\n",
    "Therefore, it follows that:\n",
    "\n",
    "$$[H_D, H_C] = 6i \\displaystyle\\sum_{k \\in V(G)} \\displaystyle\\sum_{(i, j) \\in E(\\bar{G})} \\big( \\delta_{ki} Y_k + \\delta_{kj} Y_k - \\delta_{ki} Y_k Z_j - \\delta_{kj} Z_{i} Y_{k} \\big) - 6i \\displaystyle\\sum_{i \\in V(G)} Y_{i}$$\n",
    "\n",
    "and the Hermitian operator $i[H_D, H_C]$ is given by:\n",
    "\n",
    "$$i [H_D, H_C] = 6 \\displaystyle\\sum_{k \\in V(G)} \\displaystyle\\sum_{(i, j) \\in E(\\bar{G})} \\big( \\delta_{ki} Y_k Z_j + \\delta_{kj} Z_{i} Y_{k} - \\delta_{ki} Y_k - \\delta_{kj} Y_k \\big) + 6 \\displaystyle\\sum_{i \\in V(G)} Y_{i}$$\n",
    "\n",
    "This new operator has quite a few terms! Therefore, we can write a short method which computes it for us, and return a `qml.Hamiltonian` object:"
   ]
  },
  {
   "cell_type": "code",
   "execution_count": 38,
   "id": "2832c904-b83e-4fdc-8cdb-9a8b146a93fb",
   "metadata": {},
   "outputs": [
    {
     "name": "stdout",
     "output_type": "stream",
     "text": [
      "MaxClique Commutator\n",
      "  (-24) [Y3]\n",
      "+ (-24) [Y6]\n",
      "+ (-18) [Y4]\n",
      "+ (-18) [Y5]\n",
      "+ (-12) [Y0]\n",
      "+ (-12) [Y1]\n",
      "+ (-6) [Y2]\n",
      "+ (6) [Y0 Z3]\n",
      "+ (6) [Y0 Z4]\n",
      "+ (6) [Y0 Z5]\n",
      "+ (6) [Y1 Z3]\n",
      "+ (6) [Y1 Z5]\n",
      "+ (6) [Y1 Z6]\n",
      "+ (6) [Y2 Z4]\n",
      "+ (6) [Y2 Z6]\n",
      "+ (6) [Z0 Y3]\n",
      "+ (6) [Z1 Y3]\n",
      "+ (6) [Y3 Z4]\n",
      "+ (6) [Y3 Z5]\n",
      "+ (6) [Y3 Z6]\n",
      "+ (6) [Z0 Y4]\n",
      "+ (6) [Z2 Y4]\n",
      "+ (6) [Z3 Y4]\n",
      "+ (6) [Y4 Z6]\n",
      "+ (6) [Z0 Y5]\n",
      "+ (6) [Z1 Y5]\n",
      "+ (6) [Z3 Y5]\n",
      "+ (6) [Y5 Z6]\n",
      "+ (6) [Z1 Y6]\n",
      "+ (6) [Z2 Y6]\n",
      "+ (6) [Z3 Y6]\n",
      "+ (6) [Z4 Y6]\n",
      "+ (6) [Z5 Y6]\n"
     ]
    }
   ],
   "source": [
    "def build_commutator(graph):\n",
    "    \n",
    "    H = qml.Hamiltonian([], [])\n",
    "    \n",
    "    # Computes the complement of the graph\n",
    "    graph_c = nx.complement(graph)\n",
    "    \n",
    "    \n",
    "    for k in graph_c.nodes:\n",
    "        # Adds the terms in the first sum\n",
    "        for edge in graph_c.edges:\n",
    "            i, j = edge\n",
    "            if k == i:\n",
    "                H += 6 * (qml.PauliY(k) @ qml.PauliZ(j) - qml.PauliY(k))\n",
    "            if k == j:\n",
    "                H += 6 * (qml.PauliZ(i) @ qml.PauliY(k) - qml.PauliY(k))\n",
    "        # Adds the terms in the second sum\n",
    "        H += 6 * qml.PauliY(k)\n",
    "    \n",
    "    return H\n",
    "\n",
    "print(\"MaxClique Commutator\")\n",
    "print(build_commutator(graph))"
   ]
  },
  {
   "cell_type": "markdown",
   "id": "21361f67-004c-418a-bee6-54a09133dd1d",
   "metadata": {},
   "source": [
    "Next, we define a single layer of FALQON. This simply consists of one application of each of the layers defined by $H_C$ and $H_D$ in the Trotterized time-evolution:"
   ]
  },
  {
   "cell_type": "code",
   "execution_count": 39,
   "id": "29be1773-c93e-42d2-a410-9d5f5a0c028f",
   "metadata": {},
   "outputs": [],
   "source": [
    "# Define a layer of the Falqon circuit\n",
    "\n",
    "def falqon_layer(beta, cost_h, driver_h, delta_t):\n",
    "    qaoa.cost_layer(delta_t, cost_h)\n",
    "    qaoa.mixer_layer(delta_t * beta, driver_h)"
   ]
  },
  {
   "cell_type": "code",
   "execution_count": 40,
   "id": "7375ec35-accb-4129-b048-a9a9218221db",
   "metadata": {},
   "outputs": [],
   "source": [
    "dev = qml.device(\"default.qubit\", wires=graph.nodes)"
   ]
  },
  {
   "cell_type": "code",
   "execution_count": 41,
   "id": "30f8ac08-e295-490d-a011-b5eecf21b9bd",
   "metadata": {},
   "outputs": [],
   "source": [
    "# Builds the ansatz\n",
    "\n",
    "def build_maxclique_ansatz(cost_h, driver_h, delta_t):\n",
    "\n",
    "    def ansatz(beta, **kwargs):\n",
    "        layers = len(beta)\n",
    "        for w in dev.wires:\n",
    "            qml.Hadamard(wires=w)\n",
    "        qml.layer(falqon_layer, layers, beta, cost_h=cost_h, driver_h=driver_h, delta_t=delta_t)\n",
    "    \n",
    "    return ansatz"
   ]
  },
  {
   "cell_type": "code",
   "execution_count": 43,
   "id": "8925089c-ce07-4daf-866b-bad2865f410a",
   "metadata": {
    "tags": []
   },
   "outputs": [
    {
     "name": "stdout",
     "output_type": "stream",
     "text": [
      "Step 0 Done, Cost = -1.5510770003350434\n",
      "Step 1 Done, Cost = -2.712000184275265\n",
      "Step 2 Done, Cost = -2.7603216005627367\n",
      "Step 3 Done, Cost = -3.105907116066205\n",
      "Step 4 Done, Cost = -3.2756259357576814\n",
      "Step 5 Done, Cost = -3.4976414370201727\n",
      "Step 6 Done, Cost = -3.6756804683412825\n",
      "Step 7 Done, Cost = -3.8350319838147406\n",
      "Step 8 Done, Cost = -3.964946276361441\n",
      "Step 9 Done, Cost = -4.073609269301238\n",
      "Step 10 Done, Cost = -4.165497243243816\n",
      "Step 11 Done, Cost = -4.245810430536242\n",
      "Step 12 Done, Cost = -4.317162801764844\n",
      "Step 13 Done, Cost = -4.382052135544364\n",
      "Step 14 Done, Cost = -4.441569707292054\n",
      "Step 15 Done, Cost = -4.497123538805551\n",
      "Step 16 Done, Cost = -4.549016818526047\n",
      "Step 17 Done, Cost = -4.598340974219613\n",
      "Step 18 Done, Cost = -4.6447978362214135\n",
      "Step 19 Done, Cost = -4.689696307211775\n"
     ]
    }
   ],
   "source": [
    "def max_clique_falqon(graph, iterations, beta_init, delta_t):\n",
    "    \n",
    "    hamiltonian = build_commutator(graph)\n",
    "    cost_h, driver_h = qaoa.max_clique(graph, constrained=False)\n",
    "    ansatz = build_maxclique_ansatz(cost_h, driver_h, delta_t)\n",
    "    \n",
    "    beta = [beta_init]\n",
    "    energies = []\n",
    "    \n",
    "    for i in range(iterations):\n",
    "        cost_fn = qml.ExpvalCost(ansatz, hamiltonian, dev)\n",
    "        cost_fn_energy = qml.ExpvalCost(ansatz, cost_h, dev)\n",
    "        \n",
    "        beta.append(-1 * cost_fn(beta))\n",
    "        energy = cost_fn_energy(beta)\n",
    "        energies.append(energy)\n",
    "        \n",
    "        print(\"Step {} Done, Cost = {}\".format(i, energy))\n",
    "    \n",
    "    return beta, energies\n",
    "\n",
    "res, res_energies = max_clique_falqon(graph, 20, 0.0, 0.02)"
   ]
  },
  {
   "cell_type": "code",
   "execution_count": 44,
   "id": "2e644082-0666-4ddb-a435-8bcee75072fd",
   "metadata": {},
   "outputs": [
    {
     "data": {
      "text/plain": [
       "<BarContainer object of 128 artists>"
      ]
     },
     "execution_count": 44,
     "metadata": {},
     "output_type": "execute_result"
    },
    {
     "data": {
      "image/png": "[encoded data removed]",
      "text/plain": [
       "<Figure size 432x288 with 1 Axes>"
      ]
     },
     "metadata": {
      "needs_background": "light"
     },
     "output_type": "display_data"
    }
   ],
   "source": [
    "@qml.qnode(dev)\n",
    "def test_circuit():\n",
    "    build_maxclique_ansatz(cost_h, driver_h, 0.03)(res)\n",
    "    return qml.probs(wires=dev.wires)\n",
    "\n",
    "probs = test_circuit()\n",
    "plt.bar(range(2**len(dev.wires)), probs)"
   ]
  },
  {
   "cell_type": "markdown",
   "id": "468a55c8-6841-4846-81a7-f8aa7f835f8d",
   "metadata": {},
   "source": [
    "We can also plot the value of the cost function over time:"
   ]
  },
  {
   "cell_type": "code",
   "execution_count": 33,
   "id": "81ee3632-6e4d-49c9-96c7-9587d7a91305",
   "metadata": {},
   "outputs": [
    {
     "data": {
      "text/plain": [
       "[<matplotlib.lines.Line2D at 0x7f8b0320abe0>]"
      ]
     },
     "execution_count": 33,
     "metadata": {},
     "output_type": "execute_result"
    },
    {
     "data": {
      "image/png": "[encoded data removed]",
      "text/plain": [
       "<Figure size 432x288 with 1 Axes>"
      ]
     },
     "metadata": {
      "needs_background": "light"
     },
     "output_type": "display_data"
    }
   ],
   "source": [
    "plt.plot(range(41)[1:], res_energies)"
   ]
  },
  {
   "cell_type": "markdown",
   "id": "5cd938eb-7d12-4f9e-b71e-a75de996c704",
   "metadata": {},
   "source": [
    "### QAOA Seeded By FALQON (Bird Seed)\n",
    "\n",
    "<center>\n",
    "    <img src=\"falqon/falqon.png\" style=\"width:800px;\">\n",
    "</center>"
   ]
  },
  {
   "cell_type": "markdown",
   "id": "d4552f45-cac6-4ad5-a48d-dee20b4cec08",
   "metadata": {},
   "source": [
    "So far, we have described the theory behind FALQON, and implemented a basic example for the MaxClique problem. As was mentioned multiple times through this tutorial, and as you probably noticed yourself, FALQON looks an awful lot like QAOA.\n",
    "\n",
    "In the following section we will compare QAOA and QAOA seeded by FALQON."
   ]
  },
  {
   "cell_type": "code",
   "execution_count": 45,
   "id": "5d61c910-7ddc-470c-912b-92d6696d77e7",
   "metadata": {},
   "outputs": [
    {
     "data": {
      "image/png": "[encoded data removed]",
      "text/plain": [
       "<Figure size 432x288 with 1 Axes>"
      ]
     },
     "metadata": {},
     "output_type": "display_data"
    }
   ],
   "source": [
    "new_edges = [(0, 1), (1, 2), (2, 0), (2, 3), (1, 4), (4, 5), (5, 2), (0, 6)]\n",
    "new_graph = nx.Graph(new_edges)\n",
    "nx.draw(new_graph)"
   ]
  },
  {
   "cell_type": "code",
   "execution_count": 48,
   "id": "60a6b3f0-0969-4842-9a53-ae51a7b1bf11",
   "metadata": {
    "tags": []
   },
   "outputs": [
    {
     "name": "stdout",
     "output_type": "stream",
     "text": [
      "Running FALQON\n",
      "Step 0 Done, Cost = -1.5510770003350434\n",
      "Step 1 Done, Cost = -2.712000184275265\n",
      "Step 2 Done, Cost = -2.7603216005627367\n",
      "Step 3 Done, Cost = -3.105907116066205\n",
      "------------------------\n",
      "Running QAOA\n",
      "Step 0, Cost = -3.105907116066205\n",
      "Step 1, Cost = 0.1739166597434483\n",
      "Step 2, Cost = -5.790355317378425\n",
      "Step 3, Cost = -6.215572781903979\n",
      "Step 4, Cost = -6.279976073227648\n",
      "Step 5, Cost = -6.318748721669104\n",
      "Step 6, Cost = -6.3204482879895005\n",
      "Step 7, Cost = -6.247658646338101\n",
      "Step 8, Cost = -5.815798337706313\n",
      "Step 9, Cost = -6.034027490770917\n",
      "Step 10, Cost = -5.109330556980652\n",
      "Step 11, Cost = -6.5316504132406985\n",
      "Step 12, Cost = -6.558419916567502\n",
      "Step 13, Cost = -6.581728781723633\n",
      "Step 14, Cost = -6.602107817891158\n",
      "Step 15, Cost = -6.627935548518555\n",
      "Step 16, Cost = -6.6502056697416885\n",
      "Step 17, Cost = -6.679899300221044\n",
      "Step 18, Cost = -6.705828371912222\n",
      "Step 19, Cost = -6.738522901952355\n",
      "Step 20, Cost = -6.76730843970261\n",
      "Step 21, Cost = -6.801836527204581\n",
      "Step 22, Cost = -6.829109421952152\n",
      "Step 23, Cost = -6.861096717167488\n",
      "Step 24, Cost = -6.873068162720929\n",
      "Step 25, Cost = -6.891259984267082\n",
      "Step 26, Cost = -6.844404466250475\n",
      "Step 27, Cost = -6.837325873897196\n",
      "Step 28, Cost = -6.598355272999468\n",
      "Step 29, Cost = -6.669215968961628\n",
      "Step 30, Cost = -6.058399516983743\n",
      "Step 31, Cost = -6.613692573431962\n",
      "Step 32, Cost = -5.925580206084991\n",
      "Step 33, Cost = -6.728680703102216\n",
      "Step 34, Cost = -6.249518194341402\n",
      "Step 35, Cost = -6.798632754448672\n",
      "Step 36, Cost = -6.387807144424174\n",
      "Step 37, Cost = -6.8449522992734435\n",
      "Step 38, Cost = -6.472216652841658\n",
      "Step 39, Cost = -6.880633368162939\n"
     ]
    }
   ],
   "source": [
    "depth = 5\n",
    "dev = qml.device(\"default.qubit\", wires=new_graph.nodes)\n",
    "\n",
    "cost_h, mixer_h = qaoa.max_clique(new_graph, constrained=False)\n",
    "\n",
    "def qaoa_layer(gamma, beta):\n",
    "    qaoa.cost_layer(gamma, cost_h)\n",
    "    qaoa.mixer_layer(beta, mixer_h)\n",
    "\n",
    "def qaoa_circuit(params, **kwargs):\n",
    "    for w in dev.wires:\n",
    "        qml.Hadamard(wires=w)\n",
    "    qml.layer(qaoa_layer, depth, params[0], params[1])\n",
    "\n",
    "cost_fn = qml.ExpvalCost(qaoa_circuit, cost_h, dev)\n",
    "\n",
    "# Generates the initial parameters:\n",
    "\n",
    "delta_t = 0.02\n",
    "\n",
    "print(\"Running FALQON\")\n",
    "res, res_energy = max_clique_falqon(new_graph, depth-1, 0.0, delta_t)\n",
    "print(\"------------------------\")\n",
    "\n",
    "print(\"Running QAOA\")\n",
    "params = np.array([[delta_t for k in res], [delta_t * k for k in res]])\n",
    "steps = 40\n",
    "\n",
    "optimizer = qml.GradientDescentOptimizer()\n",
    "\n",
    "for s in range(steps):\n",
    "    params, cost = optimizer.step_and_cost(cost_fn, params)\n",
    "    print(\"Step {}, Cost = {}\".format(s, cost))"
   ]
  },
  {
   "cell_type": "code",
   "execution_count": 49,
   "id": "dbd71ee2-db17-454f-a612-34d60478ad8f",
   "metadata": {},
   "outputs": [
    {
     "name": "stdout",
     "output_type": "stream",
     "text": [
      "[[ 0.1854081   0.17386961  0.37492697  0.44340962  0.50217114]\n",
      " [-0.54323266 -0.39383772 -0.29535973 -0.21236118 -0.17169028]]\n",
      "[3.58265337e-02 1.10503575e-02 1.54520650e-04 9.85964551e-04\n",
      " 1.48242537e-03 5.81745306e-04 3.14260970e-02 2.42707592e-05\n",
      " 4.30670555e-03 1.29414826e-03 4.29936658e-04 4.04453014e-03\n",
      " 1.64728918e-03 5.09289919e-03 1.53963904e-04 1.32265393e-04\n",
      " 3.25008684e-02 1.08955351e-02 6.49797487e-02 5.83637328e-04\n",
      " 1.57891020e-02 2.33909984e-03 1.10412668e-02 2.32372564e-04\n",
      " 2.66259641e-02 1.04310838e-04 7.84863834e-03 6.76991800e-04\n",
      " 6.99903108e-04 2.40961016e-05 2.64497839e-04 1.79517114e-04\n",
      " 6.14040178e-03 2.15441787e-03 5.86228963e-03 9.90130311e-04\n",
      " 4.60331346e-02 9.94995527e-05 7.24929783e-03 5.96802470e-05\n",
      " 2.65863201e-03 1.58808541e-03 4.16114191e-05 1.76338239e-03\n",
      " 6.96422266e-05 1.66315555e-04 2.68794044e-04 1.50693076e-04\n",
      " 1.93468559e-02 1.81084834e-03 2.58218276e-02 3.14097084e-04\n",
      " 1.92678394e-02 7.02270215e-04 1.20168453e-02 1.56251779e-03\n",
      " 1.77007011e-02 5.51347197e-04 1.42895958e-03 6.48056744e-04\n",
      " 7.53299977e-05 4.82137058e-05 7.68446698e-05 1.82905005e-05\n",
      " 1.89934045e-03 1.70353105e-02 4.75853400e-03 3.16981215e-04\n",
      " 5.57595824e-03 2.46515134e-04 1.43920318e-03 3.93742268e-05\n",
      " 2.89725858e-03 3.26085066e-04 1.89323650e-04 4.90792702e-05\n",
      " 9.31362693e-04 9.45604164e-05 9.71258967e-05 6.33139218e-04\n",
      " 1.63713029e-02 1.49148864e-02 3.50155526e-02 1.53591166e-04\n",
      " 1.57650596e-03 4.80815231e-04 7.57479202e-05 3.35533339e-04\n",
      " 1.51694983e-02 2.55461842e-04 2.19907828e-03 1.30590622e-04\n",
      " 5.78878279e-04 1.20305570e-04 8.93450925e-05 1.69300619e-05\n",
      " 1.09025829e-02 7.03657912e-03 4.86181472e-04 4.17204958e-04\n",
      " 1.84984502e-02 9.05827405e-05 5.52142658e-06 2.70500965e-04\n",
      " 4.30249836e-04 1.02764553e-03 3.34440659e-05 1.79848255e-05\n",
      " 8.32539360e-04 4.67322681e-05 2.72732054e-05 4.09155944e-05\n",
      " 3.76877495e-01 1.44804143e-03 1.87471144e-03 1.24021774e-04\n",
      " 1.07923430e-03 1.53679820e-04 2.27879909e-04 3.77637790e-05\n",
      " 2.34507724e-03 2.11693987e-04 1.05127691e-03 7.66345011e-05\n",
      " 1.22246558e-04 1.54697205e-05 3.56272883e-05 3.55257437e-05]\n"
     ]
    },
    {
     "data": {
      "text/plain": [
       "<BarContainer object of 128 artists>"
      ]
     },
     "execution_count": 49,
     "metadata": {},
     "output_type": "execute_result"
    },
    {
     "data": {
      "image/png": "[encoded data removed]",
      "text/plain": [
       "<Figure size 432x288 with 1 Axes>"
      ]
     },
     "metadata": {
      "needs_background": "light"
     },
     "output_type": "display_data"
    }
   ],
   "source": [
    "print(params)\n",
    "\n",
    "@qml.qnode(dev)\n",
    "def test_circuit():\n",
    "    qaoa_circuit(params)\n",
    "    return qml.probs(wires=dev.wires)\n",
    "\n",
    "probs = test_circuit()\n",
    "print(probs)\n",
    "plt.bar(range(2**len(dev.wires)), probs)"
   ]
  },
  {
   "cell_type": "code",
   "execution_count": null,
   "id": "ece0f2fb-4ddc-4fb8-aa7b-0f31c8934ae4",
   "metadata": {},
   "outputs": [],
   "source": []
  },
  {
   "cell_type": "code",
   "execution_count": null,
   "id": "e3c6acdf-6286-41c1-b95f-6665f6c32793",
   "metadata": {},
   "outputs": [],
   "source": []
  }
 ],
 "metadata": {
  "kernelspec": {
   "display_name": "Python 3",
   "language": "python",
   "name": "python3"
  },
  "language_info": {
   "codemirror_mode": {
    "name": "ipython",
    "version": 3
   },
   "file_extension": ".py",
   "mimetype": "text/x-python",
   "name": "python",
   "nbconvert_exporter": "python",
   "pygments_lexer": "ipython3",
   "version": "3.9.5"
  }
 },
 "nbformat": 4,
 "nbformat_minor": 5
}
