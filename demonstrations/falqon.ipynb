{
 "cells": [
  {
   "cell_type": "code",
   "execution_count": 2,
   "id": "18a07b36-69e7-4dee-b191-22cfe56e7eb3",
   "metadata": {},
   "outputs": [],
   "source": [
    "import pennylane as qml\n",
    "import numpy as np\n",
    "from matplotlib import pyplot as plt\n",
    "from pennylane import qaoa as qaoa\n",
    "import networkx as nx"
   ]
  },
  {
   "cell_type": "markdown",
   "id": "cebae230-1bb2-486c-aba5-aee821472b89",
   "metadata": {},
   "source": [
    "# Feedback-Based Quantum Optimization (FALQON)\n",
    "\n",
    "By: David Wakeham and Jack Ceroni"
   ]
  },
  {
   "cell_type": "markdown",
   "id": "5dc5f0ad-76ac-43ce-bd29-71a9ba28feee",
   "metadata": {},
   "source": [
    "In this demo, we'll be implement the FALQON algorithm, standing for *Feedback-based ALgorithm for Quantum Optimization*, introduced by [Magann, Rudinger, Grace & Sarovar (2021)](https://arxiv.org/pdf/2103.08619.pdf). It is similar in spirit to the [QAOA](https://arxiv.org/pdf/1411.4028.pdf), but scales with resources differently, using iterative feedback steps rather than a global optimization over parameters. We will show how to implement FALQON in PennyLane and test its performance on the **MaxClique** problem in graph theory!\n",
    "\n",
    "### Theory\n",
    "\n",
    "To solve combinatorial optimization problems using a quantum computer, a typical strategy is to encode the solution to the problem as the ground state of *cost Hamiltonian* $H_C$, and choose some strategy to drive the system from a known initial state into this ground state. FALQON falls under this broad scheme.\n",
    "\n",
    "Imagine a quantum system governed by a Hamiltonian of the form $H = H_C + \\beta(t) H_D$. These kinds of Hamiltonians come up quite often in the theory of [quantum control](https://quantiki.org/wiki/quantum-control-theory), which studies how we may go about driving a quantum system from one state to another. The choice of $\\beta(t)$ allows us to decide which state we want a system governed by such a Hamiltonian to evolve towards. \n",
    "\n",
    "The time-dependent Schrodinger equation tells us that the dynamics of the system are given by:\n",
    "\n",
    "$$\n",
    "i \\frac{d}{dt} |\\psi(t)\\rangle = (H_C + \\beta(t) H_D) |\\psi(t)\\rangle,\n",
    "$$\n",
    "\n",
    "where we set $\\hbar = 1$. Now, let us suppose that the objective of our quantum control experiment is to drive our system to the state $|\\psi\\rangle$: the ground state of $H_C$. Phrased differently, we would like to minimize the expectation value of $\\langle H_C\\rangle$ (an immediate consequence of the variational principle). Therefore, a reasonable goal is to construct our system such that the expectation decreases with time:\n",
    "\n",
    "$$\n",
    "\\frac{d}{dt} \\langle H_C\\rangle_t = \\frac{d}{dt} \\langle \\psi(t)|H_C|\\psi(t)\\rangle = i \\beta(t)\\langle [H_D, H_C] \\rangle_t \\leq 0,\n",
    "$$\n",
    "\n",
    "where we used the product rule and Schrödinger's equation. Recall that our control experiment depends on the choice of $\\beta(t)$. Thus, if we pick $\\beta(t) = -\\langle i[H_D, H_C] \\rangle_t$, so that\n",
    "\n",
    "$$\n",
    "\\frac{d}{dt} \\langle H_C\\rangle_t = -|\\langle i[H_D, H_C] \\rangle_t|^2 \\leq 0.\n",
    "$$\n",
    "\n",
    "then $\\langle H_C \\rangle$ is guaranteed to strictly decrease, as desired!\n",
    "\n",
    "(Note that we bring the $i$ into the expectation to give a Hermitian operator.)\n",
    "Using [techniques from control theory](https://arxiv.org/pdf/1304.3997.pdf), it is possible to rigorously show this will eventually drive the system into the ground state! Thus, if we evolve some initial state $|\\psi_0\\rangle$ under the time-evolution operator corresponding to $H$, given by $U(t) = e^{-iHt}$, then we will arrive at the ground state of $H$! We can approximately discretize $U$ using a Trotter-Suzuki decomposition, so we may implement it on a quantum circuit:\n",
    "\n",
    "$$\n",
    "U(t) \\approx U_D(\\beta_\\ell) U_C U_D(\\beta_{\\ell-1}) U_C\\cdots\n",
    "U_D(\\beta_1) U_C, \\quad U_C = e^{-iH_C \\Delta t}, \\quad U_D(\\beta_k) =\n",
    "e^{-i\\beta_k H_D \\Delta t},\n",
    "$$\n",
    "\n",
    "where $\\Delta t = t/2\\ell$ and $\\beta_k = \\beta(2k\\Delta t)$. One issue remains: for each step, we need to know the value $\\beta_k$, which are themselves dependent on the state of the system, at some time. Our strategy is to use the value of $A(t) := i\\langle [H_D, H_C] \\rangle_t$ obtained by evaluating the circuit for the previous time-step:\n",
    "\n",
    "$$\n",
    "\\beta_{k+1} = -A_k = -A(2k\\Delta t).\n",
    "$$\n",
    "\n",
    "This leads immediately to the FALQON algorithm. On step $k$, we perform the following three substeps:\n",
    "\n",
    "1. Prepare the state $|\\psi_k\\rangle = U_D(\\beta_k) U_C \\cdots U_D(\\beta_1) U_C|\\psi_0\\rangle$,\n",
    "2. Measure the expectation value $A_k = \\langle i[H_C, H_D]\\rangle_k$.\n",
    "3. Set $\\beta_{k+1} = -A_k$."
   ]
  },
  {
   "cell_type": "markdown",
   "id": "57551adb-82fa-49ac-b2f0-f16ea340f57c",
   "metadata": {},
   "source": [
    "### Solving the MaxClique Problem with FALQON"
   ]
  },
  {
   "cell_type": "markdown",
   "id": "f48edf5e-2f1c-4eec-9840-21a7e25fd9ac",
   "metadata": {},
   "source": [
    "Our goal is to solve the maximum clique (MaxClique) problem: finding the largest complete subgraph of a graph $G$. We begin by defining the graph on which we will perform MaxClique. We will use a graph of the form:"
   ]
  },
  {
   "cell_type": "code",
   "execution_count": 25,
   "id": "356c26dc-af4b-4c1f-867b-fb852551525f",
   "metadata": {},
   "outputs": [
    {
     "data": {
      "image/png": "[encoded data removed]",
      "text/plain": [
       "<Figure size 432x288 with 1 Axes>"
      ]
     },
     "metadata": {},
     "output_type": "display_data"
    }
   ],
   "source": [
    "edges = [(0, 1), (1, 2), (2, 0), (2, 3), (1, 4)]\n",
    "graph = nx.Graph(edges)\n",
    "nx.draw(graph)"
   ]
  },
  {
   "cell_type": "markdown",
   "id": "d7511be2-5011-487c-8f5a-5484f022d607",
   "metadata": {},
   "source": [
    "Recall that the cost Hamiltonian corresponding to the MaxClique problem is given by:\n",
    "\n",
    "$$H_C = 3 \\sum_{(i, j) \\in E(\\bar{G})} (Z_i Z_j - Z_i - Z_j) + \\displaystyle\\sum_{i \\in V(G)} Z_i$$\n",
    "\n",
    "where $\\bar{G}$ is the [complement](https://en.wikipedia.org/wiki/Complement_graph) of the graph $G$. As for $H_D$, we simply must choose a Hamiltonian that does not commute with $H_C$, and effectively \"mixes\" the state of the system as it is driven towards the desired state. Thus, we choose a simple sum of Pauli-X operations:\n",
    "\n",
    "$$H_{D} = \\displaystyle\\sum_{i \\in V(G)} X_i$$\n",
    "\n",
    "We can generate these Hamiltonians easily, using PennyLane QAOA:"
   ]
  },
  {
   "cell_type": "code",
   "execution_count": 26,
   "id": "324c6dfd-fbed-4ab4-9d33-023b143002cb",
   "metadata": {},
   "outputs": [
    {
     "name": "stdout",
     "output_type": "stream",
     "text": [
      "Cost Hamiltonian\n",
      "  (-1.25) [Z3]\n",
      "+ (-1.25) [Z4]\n",
      "+ (-0.5) [Z0]\n",
      "+ (0.25) [Z1]\n",
      "+ (0.25) [Z2]\n",
      "+ (0.75) [Z0 Z3]\n",
      "+ (0.75) [Z0 Z4]\n",
      "+ (0.75) [Z1 Z3]\n",
      "+ (0.75) [Z2 Z4]\n",
      "+ (0.75) [Z3 Z4]\n",
      "Driver Hamiltonian\n",
      "  (1) [X0]\n",
      "+ (1) [X1]\n",
      "+ (1) [X2]\n",
      "+ (1) [X3]\n",
      "+ (1) [X4]\n"
     ]
    }
   ],
   "source": [
    "cost_h, driver_h = qaoa.max_clique(graph, constrained=False)\n",
    "\n",
    "print(\"Cost Hamiltonian\")\n",
    "print(cost_h)\n",
    "print(\"Driver Hamiltonian\")\n",
    "print(driver_h)"
   ]
  },
  {
   "cell_type": "markdown",
   "id": "463eee4d-10c9-4684-a80c-f18548089252",
   "metadata": {},
   "source": [
    "As you may recall, one of the main ingredients in the FALQON algorithm is the commutator $[H_D, H_C]$. In the case of MaxClique, we can write down the commutator explicitly, exploiting the bilinearity of the commutator:\n",
    "\n",
    "$$[H_D, H_C] = \\Big[ \\displaystyle\\sum_{i \\in V(G)} X_i, 3 \\sum_{(i, j) \\in E(\\bar{G})} (Z_i Z_j - Z_i - Z_j) + \\displaystyle\\sum_{i \\in V(G)} Z_i \\Big] = 3 \\Big[ \\displaystyle\\sum_{i \\in V(G)} X_i, \\sum_{(i, j) \\in E(\\bar{G})} (Z_i Z_j - Z_i - Z_j) \\Big] + 3 \\Big[ \\displaystyle\\sum_{i \\in V(G)} X_i, \\displaystyle\\sum_{i} Z_i \\Big]$$\n",
    "$$= 3 \\displaystyle\\sum_{k \\in V(G)} \\displaystyle\\sum_{(i, j) \\in E(\\bar{G})} \\big( [X_k, Z_i Z_j] - [X_k, Z_i] - [X_k, Z_j] \\big) + 3 \\displaystyle\\sum_{i \\in V(G)} \\displaystyle\\sum_{j \\in V(G)} [X_i, Z_j]$$\n",
    "\n",
    "Clearly, there are two distinct commutators that we must calculate, $[X_k, Z_j]$ and $[X_k, Z_i Z_j]$. This is easy, as we know exactly what the [commutators of the Pauli matrices](https://en.wikipedia.org/wiki/Pauli_matrices#Commutation_relations) are. This gives us:\n",
    "\n",
    "$$[X_k, Z_j] = -2 i \\delta_{kj} Y_k \\ \\ \\ \\text{and} \\ \\ \\ [X_k, Z_i Z_j] = -2 i \\delta_{ik} Y_k Z_j - 2i \\delta_{jk} Z_i Y_k$$\n",
    "\n",
    "Therefore, it follows that:\n",
    "\n",
    "$$[H_D, H_C] = 6i \\displaystyle\\sum_{k \\in V(G)} \\displaystyle\\sum_{(i, j) \\in E(\\bar{G})} \\big( \\delta_{ki} Y_k + \\delta_{kj} Y_k - \\delta_{ki} Y_k Z_j - \\delta_{kj} Z_{i} Y_{k} \\big) - 6i \\displaystyle\\sum_{i \\in V(G)} Y_{i}$$\n",
    "\n",
    "and the Hermitian operator $i[H_D, H_C]$ is given by:\n",
    "\n",
    "$$i [H_D, H_C] = 6 \\displaystyle\\sum_{k \\in V(G)} \\displaystyle\\sum_{(i, j) \\in E(\\bar{G})} \\big( \\delta_{ki} Y_k Z_j + \\delta_{kj} Z_{i} Y_{k} - \\delta_{ki} Y_k - \\delta_{kj} Y_k \\big) + 6 \\displaystyle\\sum_{i \\in V(G)} Y_{i}$$\n",
    "\n",
    "This new operator has quite a few terms! Therefore, we can write a short method which computes it for us, and return a `qml.Hamiltonian` object:"
   ]
  },
  {
   "cell_type": "code",
   "execution_count": 27,
   "id": "2832c904-b83e-4fdc-8cdb-9a8b146a93fb",
   "metadata": {},
   "outputs": [
    {
     "name": "stdout",
     "output_type": "stream",
     "text": [
      "MaxClique Commutator\n",
      "  (-12) [Y3]\n",
      "+ (-12) [Y4]\n",
      "+ (-6) [Y0]\n",
      "+ (6) [Y0 Z3]\n",
      "+ (6) [Y0 Z4]\n",
      "+ (6) [Y1 Z3]\n",
      "+ (6) [Y2 Z4]\n",
      "+ (6) [Z0 Y3]\n",
      "+ (6) [Z1 Y3]\n",
      "+ (6) [Y3 Z4]\n",
      "+ (6) [Z0 Y4]\n",
      "+ (6) [Z2 Y4]\n",
      "+ (6) [Z3 Y4]\n"
     ]
    }
   ],
   "source": [
    "def build_commutator(graph):\n",
    "    \n",
    "    H = qml.Hamiltonian([], [])\n",
    "    \n",
    "    # Computes the complement of the graph\n",
    "    graph_c = nx.complement(graph)\n",
    "    \n",
    "    \n",
    "    for k in graph_c.nodes:\n",
    "        # Adds the terms in the first sum\n",
    "        for edge in graph_c.edges:\n",
    "            i, j = edge\n",
    "            if k == i:\n",
    "                H += 6 * (qml.PauliY(k) @ qml.PauliZ(j) - qml.PauliY(k))\n",
    "            if k == j:\n",
    "                H += 6 * (qml.PauliZ(i) @ qml.PauliY(k) - qml.PauliY(k))\n",
    "        # Adds the terms in the second sum\n",
    "        H += 6 * qml.PauliY(k)\n",
    "    \n",
    "    return H\n",
    "\n",
    "print(\"MaxClique Commutator\")\n",
    "print(build_commutator(graph))"
   ]
  },
  {
   "cell_type": "markdown",
   "id": "21361f67-004c-418a-bee6-54a09133dd1d",
   "metadata": {},
   "source": [
    "Next, we define a single layer of FALQON. This simply consists of one application of each of the layers defined by $H_C$ and $H_D$ in the Trotterized time-evolution:"
   ]
  },
  {
   "cell_type": "code",
   "execution_count": 28,
   "id": "29be1773-c93e-42d2-a410-9d5f5a0c028f",
   "metadata": {},
   "outputs": [],
   "source": [
    "# Define a layer of the Falqon circuit\n",
    "\n",
    "def falqon_layer(beta, cost_h, driver_h, delta_t):\n",
    "    qaoa.cost_layer(delta_t, cost_h)\n",
    "    qaoa.mixer_layer(delta_t * beta, driver_h)"
   ]
  },
  {
   "cell_type": "code",
   "execution_count": 29,
   "id": "7375ec35-accb-4129-b048-a9a9218221db",
   "metadata": {},
   "outputs": [],
   "source": [
    "dev = qml.device(\"default.qubit\", wires=graph.nodes)"
   ]
  },
  {
   "cell_type": "code",
   "execution_count": 30,
   "id": "30f8ac08-e295-490d-a011-b5eecf21b9bd",
   "metadata": {},
   "outputs": [],
   "source": [
    "# Builds the ansatz\n",
    "\n",
    "def build_maxclique_ansatz(cost_h, driver_h, delta_t):\n",
    "\n",
    "    def ansatz(beta, **kwargs):\n",
    "        layers = len(beta)\n",
    "        for w in dev.wires:\n",
    "            qml.Hadamard(wires=w)\n",
    "        qml.layer(falqon_layer, layers, beta, cost_h=cost_h, driver_h=driver_h, delta_t=delta_t)\n",
    "    \n",
    "    return ansatz"
   ]
  },
  {
   "cell_type": "code",
   "execution_count": 31,
   "id": "8925089c-ce07-4daf-866b-bad2865f410a",
   "metadata": {
    "tags": []
   },
   "outputs": [
    {
     "name": "stdout",
     "output_type": "stream",
     "text": [
      "Step 0 Done, Cost = -0.28775231023558556\n",
      "Step 1 Done, Cost = -0.8035068343102321\n",
      "Step 2 Done, Cost = -1.007030007885266\n",
      "Step 3 Done, Cost = -1.0724333934255343\n",
      "Step 4 Done, Cost = -1.1494140129588373\n",
      "Step 5 Done, Cost = -1.2182073411721692\n",
      "Step 6 Done, Cost = -1.287699994959309\n",
      "Step 7 Done, Cost = -1.3569751490991648\n",
      "Step 8 Done, Cost = -1.4268019720916094\n",
      "Step 9 Done, Cost = -1.496608549154471\n",
      "Step 10 Done, Cost = -1.5656565195786696\n",
      "Step 11 Done, Cost = -1.6330965089768288\n",
      "Step 12 Done, Cost = -1.698296481801037\n",
      "Step 13 Done, Cost = -1.7609497528295033\n",
      "Step 14 Done, Cost = -1.8210537616515958\n",
      "Step 15 Done, Cost = -1.8787983933810426\n",
      "Step 16 Done, Cost = -1.9344513066147846\n",
      "Step 17 Done, Cost = -1.9882779028197746\n",
      "Step 18 Done, Cost = -2.040499699321231\n",
      "Step 19 Done, Cost = -2.0912793813323507\n",
      "Step 20 Done, Cost = -2.140721387611202\n",
      "Step 21 Done, Cost = -2.1888801682314205\n",
      "Step 22 Done, Cost = -2.23577159215744\n",
      "Step 23 Done, Cost = -2.281384831782229\n",
      "Step 24 Done, Cost = -2.325693296717972\n",
      "Step 25 Done, Cost = -2.368663763041778\n",
      "Step 26 Done, Cost = -2.4102633407085827\n",
      "Step 27 Done, Cost = -2.450464142439992\n",
      "Step 28 Done, Cost = -2.4892458166505778\n",
      "Step 29 Done, Cost = -2.526596194875589\n",
      "Step 30 Done, Cost = -2.5625105114750664\n",
      "Step 31 Done, Cost = -2.596989621483062\n",
      "Step 32 Done, Cost = -2.630037789810339\n",
      "Step 33 Done, Cost = -2.6616604659938257\n",
      "Step 34 Done, Cost = -2.6918625925838535\n",
      "Step 35 Done, Cost = -2.720647685608442\n",
      "Step 36 Done, Cost = -2.7480181023587034\n",
      "Step 37 Done, Cost = -2.773976384347912\n",
      "Step 38 Done, Cost = -2.798527877058978\n",
      "Step 39 Done, Cost = -2.821683990902525\n"
     ]
    }
   ],
   "source": [
    "def max_clique_falqon(graph, iterations, beta_init, delta_t):\n",
    "    \n",
    "    hamiltonian = build_commutator(graph)\n",
    "    cost_h, driver_h = qaoa.max_clique(graph, constrained=False)\n",
    "    ansatz = build_maxclique_ansatz(cost_h, driver_h, delta_t)\n",
    "    \n",
    "    beta = [beta_init]\n",
    "    energies = []\n",
    "    \n",
    "    for i in range(iterations):\n",
    "        cost_fn = qml.ExpvalCost(ansatz, hamiltonian, dev)\n",
    "        cost_fn_energy = qml.ExpvalCost(ansatz, cost_h, dev)\n",
    "        \n",
    "        beta.append(-1 * cost_fn(beta))\n",
    "        energy = cost_fn_energy(beta)\n",
    "        energies.append(energy)\n",
    "        \n",
    "        print(\"Step {} Done, Cost = {}\".format(i, energy))\n",
    "    \n",
    "    return beta, energies\n",
    "\n",
    "res, res_energies = max_clique_falqon(graph, 40, 0.0, 0.03)"
   ]
  },
  {
   "cell_type": "code",
   "execution_count": 32,
   "id": "2e644082-0666-4ddb-a435-8bcee75072fd",
   "metadata": {},
   "outputs": [
    {
     "data": {
      "text/plain": [
       "<BarContainer object of 32 artists>"
      ]
     },
     "execution_count": 32,
     "metadata": {},
     "output_type": "execute_result"
    },
    {
     "data": {
      "image/png": "[encoded data removed]",
      "text/plain": [
       "<Figure size 432x288 with 1 Axes>"
      ]
     },
     "metadata": {
      "needs_background": "light"
     },
     "output_type": "display_data"
    }
   ],
   "source": [
    "@qml.qnode(dev)\n",
    "def test_circuit():\n",
    "    build_maxclique_ansatz(cost_h, driver_h, 0.03)(res)\n",
    "    return qml.probs(wires=dev.wires)\n",
    "\n",
    "probs = test_circuit()\n",
    "plt.bar(range(2**len(dev.wires)), probs)"
   ]
  },
  {
   "cell_type": "markdown",
   "id": "468a55c8-6841-4846-81a7-f8aa7f835f8d",
   "metadata": {},
   "source": [
    "We can also plot the value of the cost function over time:"
   ]
  },
  {
   "cell_type": "code",
   "execution_count": 33,
   "id": "81ee3632-6e4d-49c9-96c7-9587d7a91305",
   "metadata": {},
   "outputs": [
    {
     "data": {
      "text/plain": [
       "[<matplotlib.lines.Line2D at 0x7f8b0320abe0>]"
      ]
     },
     "execution_count": 33,
     "metadata": {},
     "output_type": "execute_result"
    },
    {
     "data": {
      "image/png": "[encoded data removed]",
      "text/plain": [
       "<Figure size 432x288 with 1 Axes>"
      ]
     },
     "metadata": {
      "needs_background": "light"
     },
     "output_type": "display_data"
    }
   ],
   "source": [
    "plt.plot(range(41)[1:], res_energies)"
   ]
  },
  {
   "cell_type": "markdown",
   "id": "5cd938eb-7d12-4f9e-b71e-a75de996c704",
   "metadata": {},
   "source": [
    "### QAOA Seeded By FALQON (Bird Seed)\n",
    "\n",
    "<center>\n",
    "    <img src=\"falqon/falqon.png\" style=\"width:800px;\">\n",
    "</center>"
   ]
  },
  {
   "cell_type": "markdown",
   "id": "d4552f45-cac6-4ad5-a48d-dee20b4cec08",
   "metadata": {},
   "source": [
    "So far, we have described the theory behind FALQON, and implemented a basic example for the MaxClique problem. As was mentioned multiple times through this tutorial, and as you probably noticed yourself, FALQON looks an awful lot like QAOA.\n",
    "\n",
    "In the following section we will compare QAOA and QAOA seeded by FALQON."
   ]
  },
  {
   "cell_type": "code",
   "execution_count": 295,
   "id": "5d61c910-7ddc-470c-912b-92d6696d77e7",
   "metadata": {},
   "outputs": [
    {
     "data": {
      "image/png": "[encoded data removed]",
      "text/plain": [
       "<Figure size 432x288 with 1 Axes>"
      ]
     },
     "metadata": {},
     "output_type": "display_data"
    }
   ],
   "source": [
    "new_edges = [(0, 1), (1, 2), (2, 0), (2, 3), (3, 1), (0, 4), (2, 5)]\n",
    "new_graph = nx.Graph(new_edges)\n",
    "nx.draw(new_graph)"
   ]
  },
  {
   "cell_type": "code",
   "execution_count": 302,
   "id": "60a6b3f0-0969-4842-9a53-ae51a7b1bf11",
   "metadata": {
    "tags": []
   },
   "outputs": [
    {
     "name": "stdout",
     "output_type": "stream",
     "text": [
      "Running FALQON\n",
      "Step 0 Done, Cost = -0.38189921454678755\n",
      "Step 1 Done, Cost = -1.1300926883541895\n",
      "Step 2 Done, Cost = -1.5235586857279169\n",
      "Step 3 Done, Cost = -1.6458305602295757\n",
      "------------------------\n",
      "Running QAOA\n",
      "Step 0, Cost = -1.6458305602295757\n",
      "Step 1, Cost = 0.05615638720968549\n",
      "Step 2, Cost = -2.9905437277538276\n",
      "Step 3, Cost = -4.257581795742077\n",
      "Step 4, Cost = -4.479609657570695\n",
      "Step 5, Cost = -4.619885457663103\n",
      "Step 6, Cost = -4.74217420744839\n",
      "Step 7, Cost = -4.861897445809073\n",
      "Step 8, Cost = -4.95290093664101\n",
      "Step 9, Cost = -5.03483040639357\n",
      "Step 10, Cost = -5.073928927656427\n",
      "Step 11, Cost = -5.116916958094127\n",
      "Step 12, Cost = -5.103312743205554\n",
      "Step 13, Cost = -5.132221096004258\n",
      "Step 14, Cost = -5.052901617655729\n",
      "Step 15, Cost = -5.11486411232911\n",
      "Step 16, Cost = -4.960225956858328\n",
      "Step 17, Cost = -5.109384537308429\n",
      "Step 18, Cost = -4.91105344289975\n",
      "Step 19, Cost = -5.126442477134556\n",
      "Step 20, Cost = -4.9187320307968\n",
      "Step 21, Cost = -5.148223475248938\n",
      "Step 22, Cost = -4.941311312570723\n",
      "Step 23, Cost = -5.168357001449878\n",
      "Step 24, Cost = -4.965376299271205\n",
      "Step 25, Cost = -5.185453170793647\n",
      "Step 26, Cost = -4.987331540495694\n",
      "Step 27, Cost = -5.199038030827858\n",
      "Step 28, Cost = -5.005480609934702\n",
      "Step 29, Cost = -5.2091945018053325\n",
      "Step 30, Cost = -5.019449346145552\n",
      "Step 31, Cost = -5.216371085715192\n",
      "Step 32, Cost = -5.029639093674011\n",
      "Step 33, Cost = -5.221178888300965\n",
      "Step 34, Cost = -5.036783374255398\n",
      "Step 35, Cost = -5.2242421201571565\n",
      "Step 36, Cost = -5.041690375115582\n",
      "Step 37, Cost = -5.226110967955183\n",
      "Step 38, Cost = -5.045103673941079\n",
      "Step 39, Cost = -5.227222948556232\n"
     ]
    }
   ],
   "source": [
    "depth = 5\n",
    "dev = qml.device(\"default.qubit\", wires=[0, 1, 2, 3, 4, 5])\n",
    "\n",
    "cost_h, mixer_h = qaoa.max_clique(new_graph, constrained=False)\n",
    "\n",
    "def qaoa_layer(gamma, beta):\n",
    "    qaoa.cost_layer(gamma, cost_h)\n",
    "    qaoa.mixer_layer(beta, mixer_h)\n",
    "\n",
    "def qaoa_circuit(params, **kwargs):\n",
    "    for w in dev.wires:\n",
    "        qml.Hadamard(wires=w)\n",
    "    qml.layer(qaoa_layer, depth, params[0], params[1])\n",
    "\n",
    "cost_fn = qml.ExpvalCost(qaoa_circuit, cost_h, dev)\n",
    "\n",
    "# Generates the initial parameters:\n",
    "\n",
    "delta_t = 0.02\n",
    "\n",
    "print(\"Running FALQON\")\n",
    "res, res_energy = max_clique_falqon(new_graph, depth-1, 0.0, delta_t)\n",
    "print(\"------------------------\")\n",
    "\n",
    "print(\"Running QAOA\")\n",
    "params = np.array([[delta_t for k in res], [delta_t * k for k in res]])\n",
    "steps = 40\n",
    "\n",
    "optimizer = qml.GradientDescentOptimizer(stepsize=0.02)\n",
    "\n",
    "for s in range(steps):\n",
    "    params, cost = optimizer.step_and_cost(cost_fn, params)\n",
    "    print(\"Step {}, Cost = {}\".format(s, cost))"
   ]
  },
  {
   "cell_type": "code",
   "execution_count": 303,
   "id": "dbd71ee2-db17-454f-a612-34d60478ad8f",
   "metadata": {},
   "outputs": [
    {
     "name": "stdout",
     "output_type": "stream",
     "text": [
      "[[ 0.22274089  0.22728812  0.36450611  0.44905625  0.48330304]\n",
      " [-0.61558084 -0.45439196 -0.34386762 -0.26656604 -0.17155404]]\n",
      "[2.60941943e-03 7.96197612e-04 7.22713910e-03 2.08209345e-03\n",
      " 1.49903902e-03 2.17160481e-04 8.37706819e-04 3.85118306e-03\n",
      " 2.14862609e-02 3.42475532e-02 8.86471847e-03 3.79331252e-04\n",
      " 2.95818585e-03 4.35606363e-03 1.10655824e-03 1.29670982e-03\n",
      " 4.38825862e-03 1.51168975e-04 9.14011763e-04 1.99129471e-03\n",
      " 1.75328566e-03 1.04336280e-04 4.59286750e-04 8.25838826e-04\n",
      " 2.33255601e-02 9.15445566e-03 2.70206890e-03 8.24448333e-04\n",
      " 2.18693182e-01 1.62011641e-03 2.60500330e-03 1.38219962e-03\n",
      " 3.71197459e-03 3.69769591e-03 1.19514828e-02 2.54140948e-04\n",
      " 2.08683141e-03 2.15233932e-04 5.17853005e-06 7.83118683e-04\n",
      " 3.58162355e-03 7.14570870e-03 1.20782711e-02 2.57927882e-04\n",
      " 8.09046361e-03 1.10942045e-03 6.36426706e-04 3.44620034e-04\n",
      " 3.03651012e-04 7.45376386e-04 3.30679294e-03 8.91513761e-04\n",
      " 7.10600483e-04 3.52169360e-05 3.20271267e-05 4.06697305e-05\n",
      " 4.06821587e-01 1.95365025e-03 2.39323772e-04 7.25577524e-04\n",
      " 1.62012112e-01 8.93844441e-04 6.25346125e-04 2.75457070e-06]\n"
     ]
    },
    {
     "data": {
      "text/plain": [
       "<BarContainer object of 64 artists>"
      ]
     },
     "execution_count": 303,
     "metadata": {},
     "output_type": "execute_result"
    },
    {
     "data": {
      "image/png": "[encoded data removed]",
      "text/plain": [
       "<Figure size 432x288 with 1 Axes>"
      ]
     },
     "metadata": {
      "needs_background": "light"
     },
     "output_type": "display_data"
    }
   ],
   "source": [
    "print(params)\n",
    "\n",
    "@qml.qnode(dev)\n",
    "def test_circuit():\n",
    "    qaoa_circuit(params)\n",
    "    return qml.probs(wires=dev.wires)\n",
    "\n",
    "probs = test_circuit()\n",
    "print(probs)\n",
    "plt.bar(range(2**len(dev.wires)), probs)"
   ]
  },
  {
   "cell_type": "code",
   "execution_count": null,
   "id": "ece0f2fb-4ddc-4fb8-aa7b-0f31c8934ae4",
   "metadata": {},
   "outputs": [],
   "source": []
  },
  {
   "cell_type": "code",
   "execution_count": null,
   "id": "e3c6acdf-6286-41c1-b95f-6665f6c32793",
   "metadata": {},
   "outputs": [],
   "source": []
  }
 ],
 "metadata": {
  "kernelspec": {
   "display_name": "Python 3",
   "language": "python",
   "name": "python3"
  },
  "language_info": {
   "codemirror_mode": {
    "name": "ipython",
    "version": 3
   },
   "file_extension": ".py",
   "mimetype": "text/x-python",
   "name": "python",
   "nbconvert_exporter": "python",
   "pygments_lexer": "ipython3",
   "version": "3.9.5"
  }
 },
 "nbformat": 4,
 "nbformat_minor": 5
}
