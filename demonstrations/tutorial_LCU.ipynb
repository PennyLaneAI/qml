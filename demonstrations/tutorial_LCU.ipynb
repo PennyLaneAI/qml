{
 "cells": [
  {
   "cell_type": "markdown",
   "id": "fe5ff96a",
   "metadata": {},
   "source": []
  },
  {
   "cell_type": "markdown",
   "id": "2108face",
   "metadata": {},
   "source": [
    "In this notebook, we will see a practical implementation of a block encoding technique based on linear combination of unitaries (LCU), which can be useful to simulate dynamics of quantum system. "
   ]
  },
  {
   "cell_type": "markdown",
   "id": "b426ecd1",
   "metadata": {},
   "source": [
    "## Linear combination of unitaries\n",
    "Even if quantum circuit are described by unitary matrices, quantum computers are still able to perform non unitary operations, by using higher dimensional space. In practice, any matrix $H$ can be block encoded into a unitary matrix of higher dimension as\n",
    "\n",
    "\\begin{equation}\n",
    "V=\\begin{pmatrix}H&*\\\\*&* \\end{pmatrix},\n",
    "\\end{equation}\n",
    "\n",
    "where $*$ denote arbitrary numbers such that $V$ is unitary.\n",
    "\n",
    "The key ingredient is to write $H$ as a linear combination of $K$ unitaries ([LCU](https://arxiv.org/abs/1202.5822)):\n",
    "\n",
    "\\begin{equation}\n",
    "H = \\sum_{k=0}^{K-1} \\alpha_k U_k,\n",
    "\\end{equation}\n",
    "\n",
    "with $\\alpha_k \\in \\mathbb{C}$\\ $\\{0\\}$ and $U_k$ unitary. By assuming that $H$ is hermitian, whih is the case for the Hamiltonian of any physical system, we can find a simple decomposition by projecting it onto the Pauli basis. We note that, in  general, the performance is driven by the 1 norm of the decomposition, and thus it remains a non trivial task to choose a suitable one.\n",
    "\n",
    "## Block encoding\n",
    "Block encoding relies on two important subroutines: \n",
    "\n",
    " - The PREPARE subroutine encodes the coefficients of the Hamiltonian in the amplitudes of the quantum state as\n",
    " \n",
    "\\begin{equation}\n",
    "\\text{PREPARE}|\\bar{0}\\rangle = \\sum_{k=0}^{K-1} \\sqrt{\\frac{\\alpha_k}{\\|\\vec{\\alpha}\\|_1}} |k\\rangle,\n",
    "\\end{equation}\n",
    "\n",
    "where $|\\bar{0}\\rangle = |0^{\\otimes \\lceil \\log_2{K}\\rceil} \\rangle$ is the ancillary register. Note that we can always assume that $\\alpha_k\\in \\mathbb{R}^+$ by assimilating the phase into the corresponding unitary.\n",
    "\n",
    "\n",
    "This can be achieved using the [`qml.MottonenStatePreparation`](https://docs.pennylane.ai/en/stable/code/api/pennylane.MottonenStatePreparation.html) function with the vector $\\vec{\\alpha} = (\\alpha_1, \\cdots, \\alpha_n)$. \n",
    "\n",
    " - The SELECT subroutine instead applies the $k$-th unitary $U_k$ on $|\\psi\\rangle$, when given access to the state $|k\\rangle$ as follows\n",
    " \n",
    "\\begin{equation}\n",
    "\\text{SELECT} |k\\rangle |\\psi\\rangle  = |k\\rangle U_k|\\psi \\rangle.\n",
    "\\end{equation}\n",
    "\n",
    "This can be acchieved using control [`qml.ctrl`](https://docs.pennylane.ai/en/stable/code/api/pennylane.ctrl.html) operations on the ancila qubits. \n",
    "\n",
    "- $H$ can then be block encoded using the following operation: $\\|\\vec{\\alpha}\\|_1 \\cdot$ PREPARE$^\\dagger$ SELECT PREPARE $|\\bar{0}\\rangle$.\n",
    "\n",
    "\n",
    "\n"
   ]
  },
  {
   "cell_type": "markdown",
   "id": "a78dcb4b",
   "metadata": {},
   "source": [
    "## Apply the LCU to a quantum state\n",
    "Let's focus on the particular example where the LCU is composed of $K=4$ terms, and you want to apply $H$ to a quantum state $|\\psi\\rangle$. We can show that\n",
    "\\begin{equation}\n",
    "\\text{PREPARE}^\\dagger \\text{ SELECT PREPARE} |\\bar{0}\\rangle |\\psi\\rangle = \\frac{1}{\\|\\vec{\\alpha}\\|_1}|\\bar{0}\\rangle \\sum_{k=0}^{K-1} \\alpha_k U_k|\\psi \\rangle + |\\Phi\\rangle^\\perp,\n",
    "\\end{equation}\n",
    "where $|\\Phi\\rangle^\\perp$ is some orthogonal state obtained when the algorithm fails. The desired state, up to the normalisation factor, can then be obtained via post selecting on $|\\bar{0}\\rangle$. The following circuit summaries the result.\n",
    "<div>\n",
    "<img src=\"LCU/LCU.png\" width=\"600\"/>\n",
    "</div>\n"
   ]
  },
  {
   "cell_type": "markdown",
   "id": "79cf1a69",
   "metadata": {},
   "source": [
    "Let start by setting the problem. We choose a random Hermitian matrix of size $2^n \\times 2^n$, with $n=2$."
   ]
  },
  {
   "cell_type": "code",
   "execution_count": 1,
   "id": "07b0c182",
   "metadata": {},
   "outputs": [
    {
     "name": "stdout",
     "output_type": "stream",
     "text": [
      "LCU decomposition: \n",
      "   (-1.5375340914305804) [I0 I1]\n",
      "+ (-0.9452950224630736) [X0 X1]\n",
      "+ (-0.6296993210443482) [Y0 Y1]\n",
      "+ (-0.32063737205210163) [X0 Z1]\n",
      "+ (-0.31505437298074723) [Z0 Y1]\n",
      "+ (-0.21116532369574514) [I0 X1]\n",
      "+ (-0.16714633455719163) [I0 Y1]\n",
      "+ (-0.1390394470702624) [Z0 I1]\n",
      "+ (-0.10118339947012045) [Y0 Z1]\n",
      "+ (-0.07884291789054043) [Z0 Z1]\n",
      "+ (-0.015069956621447167) [X0 I1]\n",
      "+ (-0.0033594700837916713) [Y0 X1]\n",
      "+ (0.013391971618752385) [I0 Z1]\n",
      "+ (0.04578094027986135) [Y0 I1]\n",
      "+ (0.3390802083627884) [Z0 X1]\n",
      "+ (0.9278195429979078) [X0 Y1]\n"
     ]
    }
   ],
   "source": [
    "import numpy as np\n",
    "import pennylane as qml\n",
    "\n",
    "n = 2 #physical system size \n",
    "\n",
    "shape = (2**n,2**n) \n",
    "H     = np.random.uniform(-1, 1, shape) + 1.j * np.random.uniform(-1, 1, shape)  # random matrix\n",
    "H     = H + H.conjugate().transpose()  # makes it hermitian\n",
    "\n",
    "\n",
    "LCU    = qml.pauli_decompose(H)  #Projecting the Hamiltonian onto the Pauli basis \n",
    "alphas = LCU.terms()[0] \n",
    "\n",
    "print('LCU decomposition: \\n',LCU)\n",
    "\n",
    "phases = np.angle(alphas)\n",
    "coeffs = np.abs(alphas)\n",
    "\n",
    "coeffs  = np.sqrt(coeffs)\n",
    "coeffs /= np.linalg.norm(coeffs, ord=2)  # normalise the coefficients\n",
    "\n",
    "unitaries = [qml.matrix(op) for op in LCU.terms()[1] ]\n",
    "\n",
    "\n",
    "K = len(coeffs) # number of terms in the decomposition \n",
    "a = int(np.ceil(np.log2(K))) # number of ancilla qubits \n",
    "\n"
   ]
  },
  {
   "cell_type": "code",
   "execution_count": 2,
   "id": "b73d1acc",
   "metadata": {},
   "outputs": [
    {
     "name": "stdout",
     "output_type": "stream",
     "text": [
      "LCU block encoding:\n",
      " [[-1.742+0.j     0.128+0.482j -0.336+0.055j -0.316-0.924j]\n",
      " [ 0.128-0.482j -1.611+0.j    -1.575+0.931j  0.306-0.147j]\n",
      " [-0.336-0.055j -1.575-0.931j -1.306+0.j    -0.55 -0.148j]\n",
      " [-0.316+0.924j  0.306+0.147j -0.55 +0.148j -1.491+0.j   ]] \n",
      "\n",
      "Hamiltonian: \n",
      " [[-1.742+0.j     0.128+0.482j -0.336+0.055j -0.316-0.924j]\n",
      " [ 0.128-0.482j -1.611+0.j    -1.575+0.931j  0.306-0.147j]\n",
      " [-0.336-0.055j -1.575-0.931j -1.306+0.j    -0.55 -0.148j]\n",
      " [-0.316+0.924j  0.306+0.147j -0.55 +0.148j -1.491+0.j   ]] \n",
      "\n",
      "Error:  1.466247150847548e-15 \n",
      "\n",
      "V is unitary:  True\n"
     ]
    },
    {
     "name": "stderr",
     "output_type": "stream",
     "text": [
      "/Users/oriel.kiss/Library/Python/3.9/lib/python/site-packages/pennylane/ops/op_math/controlled.py:253: UserWarning: Specifying control values as a string is deprecated. Please use Sequence[Bool]\n",
      "  warnings.warn(\n"
     ]
    }
   ],
   "source": [
    "wires_ancilla = np.arange(a)\n",
    "wires_physical = np.arange(a,a+n)\n",
    "\n",
    "def Block_encoding(coeffs, phases,  unitaries):\n",
    "    \n",
    "    # Prep\n",
    "    qml.MottonenStatePreparation(coeffs , wires = wires_ancilla)\n",
    "    \n",
    "    # Select\n",
    "    for k in range(K):\n",
    "        qml.ctrl(qml.QubitUnitary, control = wires_ancilla, \n",
    "                 control_values = np.binary_repr(k,width=a))(\n",
    "                np.exp(1.j*phases[k])*unitaries[k],wires = wires_physical)\n",
    "  \n",
    "    # Reverse Prep\n",
    "    qml.adjoint(qml.MottonenStatePreparation)(coeffs, wires = wires_ancilla)\n",
    "        \n",
    "matrix = qml.matrix(Block_encoding)(coeffs, phases, unitaries)\n",
    "block_matrix = np.linalg.norm(alphas,ord=1)*matrix[:2**n,:2**n]\n",
    "\n",
    "print(\"LCU block encoding:\\n\",np.round(block_matrix,3),'\\n')\n",
    "\n",
    "print(\"Hamiltonian: \\n\", np.round(H,3),'\\n')\n",
    "\n",
    "print('Error: ',np.linalg.norm(block_matrix-H),'\\n')\n",
    "\n",
    "print('V is unitary: ', np.allclose(np.eye(matrix.shape[0]),np.dot(matrix.conjugate().transpose(),matrix)))\n"
   ]
  },
  {
   "cell_type": "markdown",
   "id": "faaf7c10",
   "metadata": {},
   "source": [
    "We see that $H$ is exactly block encoded into a larger unitary matrix, which can be run on a quantum computer."
   ]
  },
  {
   "cell_type": "markdown",
   "id": "cb97e581",
   "metadata": {},
   "source": [
    "## Application to quantum simulation\n",
    "The main problem in quantum chemistry is to be able to extract useful information about quantum state. For instance, the energy of a state can be obtained with the quantum phase estimation algorithm, which relies on performing time evolution. Trotter-Suzuki decompositions are popular techniques to evolve a quantum state, by approximating the time evolution operator using product formulas. For example, the first order product formula for a Hamiltonian of the form $H=\\sum_{l=1}^{L} H_l$, where the $H_l$ terms are only *hermitian*, is given by\n",
    "\n",
    "\\begin{equation}\n",
    "e^{-iHt} \\approx \\prod_{l=1}^{L}e^{-iH_lt}.\n",
    "\\end{equation}\n",
    "\n",
    "While these methods already run in polynomial time, better complexity can be achieved by instead expanding the time evolution operator into a [Taylor serie](https://arxiv.org/abs/1412.4687), and truncate it to some order $M$. Hence, we can write \n",
    "\n",
    "\\begin{equation}\n",
    "e^{-iHt} = \\sum_{k=0}^{\\infty} \\frac{(-iHt)^k}{k!} \\approx \\sum_{k=0}^{M} \\frac{(-iHt)^k}{k!},\n",
    "\\end{equation}\n",
    "\n",
    "which can be brought into a LCU form as above, since $H^k$ is hermitian. \n",
    "\n",
    "As a concrete example, let us consider a first order truncation\n",
    "\n",
    "\\begin{equation}\n",
    "e^{-iHt} \\approx \\mathbb{1} -iHt,\n",
    "\\end{equation}\n",
    "\n",
    "whose simulation can be recast into the problem we just solved!"
   ]
  },
  {
   "cell_type": "markdown",
   "id": "7adacbc1",
   "metadata": {},
   "source": [
    "## Conclusions\n",
    "\n",
    "We learnt how to decompose a hermitian matrix into a linear combination of Pauli operators, which can be block encoded into a larger unitary matrix. This scheme is useful to perform time evolution via Taylor expansion, which is a recurring sub routine in quantum algorithms."
   ]
  },
  {
   "cell_type": "markdown",
   "id": "39ff49a8",
   "metadata": {},
   "source": [
    "## References \n",
    "[[Childs12]](https://arxiv.org/abs/1202.5822) Andrew M. Childs, Nathan Wiebe, *Hamiltonian Simulation Using Linear Combinations of Unitary Operations* (2012)\n",
    "\n",
    "[[Berry14]](https://arxiv.org/abs/1412.4687) Dominic W. Berry, Andrew M. Childs, Richard Cleve, Robin Kothari and Rolando D. Somma *Simulating Hamiltonian dynamics with a truncated Taylor series* (2014)\n"
   ]
  }
 ],
 "metadata": {
  "kernelspec": {
   "display_name": "Python 3 (ipykernel)",
   "language": "python",
   "name": "python3"
  },
  "language_info": {
   "codemirror_mode": {
    "name": "ipython",
    "version": 3
   },
   "file_extension": ".py",
   "mimetype": "text/x-python",
   "name": "python",
   "nbconvert_exporter": "python",
   "pygments_lexer": "ipython3",
   "version": "3.9.6"
  }
 },
 "nbformat": 4,
 "nbformat_minor": 5
}
