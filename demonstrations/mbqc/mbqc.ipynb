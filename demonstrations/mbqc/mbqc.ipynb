{
 "cells": [
  {
   "cell_type": "markdown",
   "metadata": {},
   "source": [
    "# Measurement based quantum computation\n",
    "**Radoica Draškić & Joost Bus**"
   ]
  },
  {
   "cell_type": "markdown",
   "metadata": {},
   "source": [
    "## Introduction\n",
    "Measurement-based quantum computing (MBQC) is a clever approach towards quantum computing that makes use of entanglement as a resource for computation. This method, also referred to as one-way quantum computing, is very dissimilar from the gate-based model but is universal nonetheless. In a one-way quantum computer, we start out with an entangled state, a so-called cluster state, and apply particular single-qubit measurements that correspond to the desired quantum circuit. In MBQC, the measurements are the computation and the entanglement of the cluster state is used as a resource."
   ]
  },
  {
   "cell_type": "markdown",
   "metadata": {},
   "source": [
    "![one-way-quantum-computation-2001](mbqc_info_flow.PNG)"
   ]
  },
  {
   "cell_type": "markdown",
   "metadata": {},
   "source": [
    "## Cluster states"
   ]
  },
  {
   "cell_type": "markdown",
   "metadata": {},
   "source": [
    "### Theory\n",
    "There is not one cluster state, but rather it’s a name for a class of highly entangled multi-qubit states. One example of a cluster state would be\n",
    "\n",
    "$$|ψ⟩=\\Pi_{(i,j)∈E(G)}CZ_{ij}|+⟩^{\\otimes n},$$\n",
    "\n",
    "where G is some graph and E(G) is the set of its edges."
   ]
  },
  {
   "cell_type": "markdown",
   "metadata": {},
   "source": [
    "**[image of a simple cluster state]**\n",
    "\n",
    "![https://www.science.org/doi/10.1126/science.1142892](measure_entangle.jpeg)"
   ]
  },
  {
   "cell_type": "markdown",
   "metadata": {},
   "source": [
    "### Example: how to construct a cluster state with PennyLane"
   ]
  },
  {
   "cell_type": "markdown",
   "metadata": {},
   "source": [
    "Defining and displaying a graph with networkx"
   ]
  },
  {
   "cell_type": "code",
   "execution_count": 21,
   "metadata": {},
   "outputs": [],
   "source": [
    "import networkx as nx\n",
    "\n",
    "a,b = 10,1\n",
    "n = a*b # number of qubits\n",
    "\n",
    "G = nx.grid_graph(dim=[a]) # Somehow it doesn't work in 2D, I get WireErrors when trying to run the QNode later"
   ]
  },
  {
   "cell_type": "code",
   "execution_count": 22,
   "metadata": {},
   "outputs": [
    {
     "data": {
      "text/plain": [
       "NodeView((0, 1, 2, 3, 4, 5, 6, 7, 8, 9))"
      ]
     },
     "execution_count": 22,
     "metadata": {},
     "output_type": "execute_result"
    }
   ],
   "source": [
    "G.nodes"
   ]
  },
  {
   "cell_type": "code",
   "execution_count": 23,
   "metadata": {},
   "outputs": [
    {
     "data": {
      "text/plain": [
       "EdgeView([(0, 1), (1, 2), (2, 3), (3, 4), (4, 5), (5, 6), (6, 7), (7, 8), (8, 9)])"
      ]
     },
     "execution_count": 23,
     "metadata": {},
     "output_type": "execute_result"
    }
   ],
   "source": [
    "G.edges"
   ]
  },
  {
   "cell_type": "code",
   "execution_count": 24,
   "metadata": {
    "scrolled": true
   },
   "outputs": [
    {
     "data": {
      "image/png": "[encoded data removed]",
      "text/plain": [
       "<Figure size 432x288 with 1 Axes>"
      ]
     },
     "metadata": {},
     "output_type": "display_data"
    }
   ],
   "source": [
    "nx.draw(G, label=True)"
   ]
  },
  {
   "cell_type": "markdown",
   "metadata": {},
   "source": [
    "From this graph, we define the cluster state like equation ... (REFERENCE EQUATION). "
   ]
  },
  {
   "cell_type": "code",
   "execution_count": 25,
   "metadata": {},
   "outputs": [],
   "source": [
    "import pennylane as qml\n",
    "\n",
    "dev = qml.device(\"default.qubit\", wires=G.nodes)\n",
    "\n",
    "@qml.qnode(dev)\n",
    "def cluster_state():\n",
    "    for node in list(G.nodes):\n",
    "        qml.Hadamard(wires = [node])\n",
    "        \n",
    "    for edge in G.edges:\n",
    "        i, j = edge\n",
    "        qml.CZ(wires=[i,j])\n",
    "    \n",
    "    return qml.expval(qml.PauliZ(0)) "
   ]
  },
  {
   "cell_type": "code",
   "execution_count": 27,
   "metadata": {},
   "outputs": [
    {
     "name": "stdout",
     "output_type": "stream",
     "text": [
      "0: ──H─╭C─────────────────────────┤  <Z>\n",
      "1: ──H─╰Z─╭C──────────────────────┤     \n",
      "2: ──H────╰Z─╭C───────────────────┤     \n",
      "3: ──H───────╰Z─╭C────────────────┤     \n",
      "4: ──H──────────╰Z─╭C─────────────┤     \n",
      "5: ──H─────────────╰Z─╭C──────────┤     \n",
      "6: ──H────────────────╰Z─╭C───────┤     \n",
      "7: ──H───────────────────╰Z─╭C────┤     \n",
      "8: ──H──────────────────────╰Z─╭C─┤     \n",
      "9: ──H─────────────────────────╰Z─┤     \n"
     ]
    }
   ],
   "source": [
    "print(qml.draw(cluster_state)()) # Q: can I draw a circuit without requiring the Q-function to return smth predefined?"
   ]
  },
  {
   "cell_type": "markdown",
   "metadata": {},
   "source": [
    "**[image of a the circuit]**"
   ]
  },
  {
   "cell_type": "markdown",
   "metadata": {},
   "source": [
    "## Measurements"
   ]
  },
  {
   "cell_type": "markdown",
   "metadata": {},
   "source": [
    "### Mapping between the gate-based model and the measurement-based model"
   ]
  },
  {
   "cell_type": "markdown",
   "metadata": {},
   "source": [
    "### Example: how to implement a CNOT gate"
   ]
  },
  {
   "cell_type": "markdown",
   "metadata": {},
   "source": [
    "## Universality"
   ]
  },
  {
   "cell_type": "code",
   "execution_count": null,
   "metadata": {},
   "outputs": [],
   "source": []
  },
  {
   "cell_type": "markdown",
   "metadata": {},
   "source": [
    "## Fault-tolerant MBQC"
   ]
  },
  {
   "cell_type": "markdown",
   "metadata": {},
   "source": [
    "![xanadu-blueprint-2021](mbqc_blueprint.PNG)"
   ]
  },
  {
   "cell_type": "markdown",
   "metadata": {},
   "source": [
    "# Sources\n",
    "- Seminal paper by Raussendorf & Briegel (2001) https://journals.aps.org/prl/abstract/10.1103/PhysRevLett.86.5188\n",
    "- Xanadu Blueprint (2021) https://quantum-journal.org/papers/q-2021-02-04-392/\n",
    "- MBQC with trapped ions (2013) https://arxiv.org/abs/1308.5102\n",
    "- Jozsa - Intro to MBQC (2005) https://arxiv.org/abs/quant-ph/0508124\n",
    "- https://en.wikipedia.org/wiki/One-way_quantum_computer\n",
    "- Raussendorf et al. - Review of MBQC (2009) https://www.nature.com/articles/nphys1157\n",
    "- Griffiths - Notes on MBQC (2014) https://quantum.phys.cmu.edu/QCQI/qitd463.pdf \n",
    "- M. A. Nielsen - Cluster-state quantum computation (2006) https://arxiv.org/abs/quant-ph/0504097"
   ]
  },
  {
   "cell_type": "markdown",
   "metadata": {},
   "source": [
    "# Meta"
   ]
  },
  {
   "cell_type": "markdown",
   "metadata": {},
   "source": [
    "## Goals\n",
    "- Present Measurement-based quantum computation in an accessible way.\n",
    "    - This approach is often omitted \n",
    "- Reference relevant work of Xanadu like blueprint paper\n",
    "- Showcase a relatively new feature of PennyLane: [mid-circuit measurements](https://pennylane.readthedocs.io/en/stable/introduction/measurements.html#mid-circuit-measurements-and-conditional-operations)\n",
    "- Explain the path towards fault-tolerance in MBQC"
   ]
  },
  {
   "cell_type": "markdown",
   "metadata": {},
   "source": [
    "## Ideas\n",
    "1. How to implement a parametrized circuit\n",
    "3. How to implement a two qubit gate (CNOT or CZ or so)\n",
    "4. Make a cluster state in pennylane\n",
    "5. Mention FlamingPy and use a EGraph to define the cluster (instead of a networkx graph)"
   ]
  },
  {
   "cell_type": "markdown",
   "metadata": {},
   "source": [
    "## Discussion\n",
    "- Can teleportation be seen as MBQC?\n",
    "- Should we cover additional topics?\n",
    "- Mention [deferred measurement principle](https://en.wikipedia.org/wiki/Deferred_Measurement_Principle)"
   ]
  }
 ],
 "metadata": {
  "kernelspec": {
   "display_name": "pennylane",
   "language": "python",
   "name": "pennylane"
  },
  "language_info": {
   "codemirror_mode": {
    "name": "ipython",
    "version": 3
   },
   "file_extension": ".py",
   "mimetype": "text/x-python",
   "name": "python",
   "nbconvert_exporter": "python",
   "pygments_lexer": "ipython3",
   "version": "3.9.9"
  },
  "toc": {
   "base_numbering": 1,
   "nav_menu": {},
   "number_sections": true,
   "sideBar": true,
   "skip_h1_title": false,
   "title_cell": "Table of Contents",
   "title_sidebar": "Contents",
   "toc_cell": false,
   "toc_position": {},
   "toc_section_display": true,
   "toc_window_display": false
  }
 },
 "nbformat": 4,
 "nbformat_minor": 5
}
