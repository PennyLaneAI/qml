{
 "cells": [
  {
   "cell_type": "code",
   "execution_count": 4,
   "id": "18a07b36-69e7-4dee-b191-22cfe56e7eb3",
   "metadata": {},
   "outputs": [],
   "source": [
    "import pennylane as qml\n",
    "import numpy as np\n",
    "from matplotlib import pyplot as plt\n",
    "from pennylane import qaoa as qaoa\n",
    "import networkx as nx"
   ]
  },
  {
   "cell_type": "markdown",
   "id": "cebae230-1bb2-486c-aba5-aee821472b89",
   "metadata": {},
   "source": [
    "# Feedback-Based Quantum Optimization (FALQON)"
   ]
  },
  {
   "cell_type": "markdown",
   "id": "6b38340a-0c20-4f46-b43e-efaa92eebb8a",
   "metadata": {},
   "source": [
    "We will be solving the Maximum Clique problem for the following graph:"
   ]
  },
  {
   "cell_type": "code",
   "execution_count": 73,
   "id": "eb691ff0-f431-4327-8d35-757901552878",
   "metadata": {},
   "outputs": [
    {
     "data": {
      "image/png": "[encoded data removed]",
      "text/plain": [
       "<Figure size 432x288 with 1 Axes>"
      ]
     },
     "metadata": {},
     "output_type": "display_data"
    }
   ],
   "source": [
    "edges = [(0, 1), (1, 2), (2, 0), (2, 3), (3, 1)]\n",
    "graph = nx.Graph(edges)\n",
    "nx.draw(graph)"
   ]
  },
  {
   "cell_type": "markdown",
   "id": "a91e778a-03f7-4040-8236-4a88333dfaf0",
   "metadata": {},
   "source": [
    "We will be investigating the MaxClique problem, which has a cost Hamiltonian of the form:\n",
    "    \n",
    "$$H_C = 3 \\sum_{(i, j) \\in E(\\bar{G})} (Z_i Z_j - Z_i - Z_j) + \\displaystyle\\sum_{i \\in V(G)} Z_i$$\n",
    "\n",
    "and a mixer of the form:\n",
    "\n",
    "$$H_{M} = \\displaystyle\\sum_{i \\in V(G)} X_i$$"
   ]
  },
  {
   "cell_type": "code",
   "execution_count": 74,
   "id": "2d1a9003-ece3-4065-bc48-3c93f35c6aa9",
   "metadata": {},
   "outputs": [],
   "source": [
    "cost_h, mixer_h = qaoa.max_clique(graph)"
   ]
  },
  {
   "cell_type": "markdown",
   "id": "2d303b58-45e6-4c36-acff-e3753bd05b69",
   "metadata": {},
   "source": [
    "In order to implement FALQON, we must calculate the commutator of the Hamiltonians $H_C$ and $H_M$. We will have:\n",
    "\n",
    "$$[H_M, H_C] = \\Big[ \\displaystyle\\sum_{i} X_i, 3 \\sum_{(i, j) \\in E(\\bar{G})} (Z_i Z_j - Z_i - Z_j) + \\displaystyle\\sum_{i \\in V(G)} Z_i \\Big] = 3 \\Big[ \\displaystyle\\sum_{i} X_i, \\sum_{(i, j) \\in E(\\bar{G})} (Z_i Z_j - Z_i - Z_j) \\Big] + 3 \\Big[ \\displaystyle\\sum_{i} X_i, \\displaystyle\\sum_{i} Z_i \\Big]$$\n",
    "$$= 3 \\displaystyle\\sum_{k} \\displaystyle\\sum_{(i, j) \\in E(\\bar{G})} \\big( [X_k, Z_i Z_j] - [X_k, Z_i] - [X_k, Z_j] \\big) + 3 \\displaystyle\\sum_{i} \\displaystyle\\sum_{j} [X_i, Z_j]$$"
   ]
  },
  {
   "cell_type": "markdown",
   "id": "5fe8b639-9e3e-4192-9f4f-72d897c74ab0",
   "metadata": {},
   "source": [
    "It follows that there are two commutators of interest: $[X_i, Z_j]$ and $[X_k, Z_i Z_j]$. There commutators are given by rules for Pauli matrices:"
   ]
  },
  {
   "cell_type": "markdown",
   "id": "b1308a1d-8b72-491c-bf35-1db1fe7c1b98",
   "metadata": {},
   "source": [
    "$$[X_i, Z_j] = 2 i \\delta_{ij} Y_i \\ \\ \\ \\text{and} \\ \\ \\ [X_k, Z_i Z_j] = 2 i \\delta_{ik} Y_k Z_j + 2i \\delta_{jk} Z_i Y_k$$"
   ]
  },
  {
   "cell_type": "markdown",
   "id": "053f6756-dcd1-43f0-b45e-384263e9c3d6",
   "metadata": {},
   "source": [
    "Therefore:\n",
    "\n",
    "$$3 \\displaystyle\\sum_{k} \\displaystyle\\sum_{(i, j) \\in E(\\bar{G})} \\big( [X_k, Z_i Z_j] - [X_k, Z_i] - [X_k, Z_j] \\big) + 3 \\displaystyle\\sum_{i} \\displaystyle\\sum_{j} [X_i, Z_j] = \n",
    "6i \\displaystyle\\sum_{k} \\displaystyle\\sum_{(i, j) \\in E(\\bar{G})} \\big( \\delta_{ki} Y_k Z_j + \\delta_{kj} Z_{i} Y_{k} - \\delta_{ki} Y_k - \\delta_{kj} Y_k \\big) + \\text{other stuff that I'm too lazy to write right now}$$\n",
    "\n",
    "This allows us to define a method which calculates the above commutator, for a given graph:"
   ]
  },
  {
   "cell_type": "code",
   "execution_count": 75,
   "id": "ca3fac14-183e-4bef-aa7d-4369b5623e40",
   "metadata": {},
   "outputs": [
    {
     "name": "stdout",
     "output_type": "stream",
     "text": [
      "  (6) [Y1]\n",
      "+ (6) [Y2]\n",
      "+ (12) [Y0]\n",
      "+ (12) [Y3]\n",
      "+ (-6) [Y0 Z3]\n",
      "+ (-6) [Z0 Y3]\n"
     ]
    }
   ],
   "source": [
    "def build_commutator(graph):\n",
    "    \n",
    "    H = qml.Hamiltonian([], [])\n",
    "    \n",
    "    # Computes the first sum\n",
    "    graph_c = nx.complement(graph)\n",
    "    \n",
    "    for k in graph_c.nodes:\n",
    "        for edge in graph_c.edges:\n",
    "            i, j = edge\n",
    "            if k == i:\n",
    "                H += 6 * (qml.PauliY(k) - qml.PauliY(k) @ qml.PauliZ(j))\n",
    "            if k == j:\n",
    "                H += 6 * (qml.PauliY(k) - qml.PauliZ(i) @ qml.PauliY(k))\n",
    "        H += 6 * qml.PauliY(k)\n",
    "    \n",
    "    return H\n",
    "\n",
    "print(build_commutator(graph))"
   ]
  },
  {
   "cell_type": "markdown",
   "id": "6c97adeb-efa2-4d8e-9ed7-f66e768296f0",
   "metadata": {},
   "source": [
    "In addition to defining the commutator $i [H_M, H_C]$, we write a method which defines a layer of the FALQON circuit:"
   ]
  },
  {
   "cell_type": "code",
   "execution_count": 95,
   "id": "afec5042-dade-4e6b-ae3b-55cf73055387",
   "metadata": {},
   "outputs": [],
   "source": [
    "# Define a layer of the Falqon circuit\n",
    "delta_t = 0.05\n",
    "\n",
    "def falqon_layer(beta):\n",
    "    qaoa.cost_layer(delta_t, cost_h)\n",
    "    qaoa.mixer_layer(delta_t * beta, mixer_h)"
   ]
  },
  {
   "cell_type": "markdown",
   "id": "54e29b66-e90a-4093-8719-54469787a04c",
   "metadata": {},
   "source": [
    "Next, we can define the device, the Hamiltonian, and a method which builds our ansatz to a desired depth:"
   ]
  },
  {
   "cell_type": "code",
   "execution_count": 96,
   "id": "121b440d-09a8-42e2-a3fd-190e0b95f9df",
   "metadata": {},
   "outputs": [],
   "source": [
    "dev = qml.device(\"default.qubit\", wires=graph.nodes)\n",
    "hamiltonian = build_commutator(graph)\n",
    "\n",
    "def ansatz(beta, **kwargs):\n",
    "    layers = len(beta)\n",
    "    for w in dev.wires:\n",
    "        qml.Hadamard(wires=w)\n",
    "    qml.layer(falqon_layer, layers, beta)"
   ]
  },
  {
   "cell_type": "code",
   "execution_count": 97,
   "id": "03207286-6c8e-4b5b-b440-40fb1e4e4fde",
   "metadata": {},
   "outputs": [
    {
     "name": "stdout",
     "output_type": "stream",
     "text": [
      "Step 0 Done, Beta = [0.0, -3.5940029992858045]\n",
      "Step 1 Done, Beta = [0.0, -3.5940029992858045, -2.7661250438793683]\n",
      "Step 2 Done, Beta = [0.0, -3.5940029992858045, -2.7661250438793683, -2.653886506751849]\n",
      "Step 3 Done, Beta = [0.0, -3.5940029992858045, -2.7661250438793683, -2.653886506751849, -2.4022319797736262]\n",
      "Step 4 Done, Beta = [0.0, -3.5940029992858045, -2.7661250438793683, -2.653886506751849, -2.4022319797736262, -2.232349860857672]\n",
      "Step 5 Done, Beta = [0.0, -3.5940029992858045, -2.7661250438793683, -2.653886506751849, -2.4022319797736262, -2.232349860857672, -2.060187641144939]\n",
      "Step 6 Done, Beta = [0.0, -3.5940029992858045, -2.7661250438793683, -2.653886506751849, -2.4022319797736262, -2.232349860857672, -2.060187641144939, -1.9272221212635205]\n",
      "Step 7 Done, Beta = [0.0, -3.5940029992858045, -2.7661250438793683, -2.653886506751849, -2.4022319797736262, -2.232349860857672, -2.060187641144939, -1.9272221212635205, -1.8062156207509559]\n",
      "Step 8 Done, Beta = [0.0, -3.5940029992858045, -2.7661250438793683, -2.653886506751849, -2.4022319797736262, -2.232349860857672, -2.060187641144939, -1.9272221212635205, -1.8062156207509559, -1.7141466042523201]\n",
      "Step 9 Done, Beta = [0.0, -3.5940029992858045, -2.7661250438793683, -2.653886506751849, -2.4022319797736262, -2.232349860857672, -2.060187641144939, -1.9272221212635205, -1.8062156207509559, -1.7141466042523201, -1.6344918238507127]\n",
      "Step 10 Done, Beta = [0.0, -3.5940029992858045, -2.7661250438793683, -2.653886506751849, -2.4022319797736262, -2.232349860857672, -2.060187641144939, -1.9272221212635205, -1.8062156207509559, -1.7141466042523201, -1.6344918238507127, -1.578545771194121]\n",
      "Step 11 Done, Beta = [0.0, -3.5940029992858045, -2.7661250438793683, -2.653886506751849, -2.4022319797736262, -2.232349860857672, -2.060187641144939, -1.9272221212635205, -1.8062156207509559, -1.7141466042523201, -1.6344918238507127, -1.578545771194121, -1.5321647965051257]\n",
      "Step 12 Done, Beta = [0.0, -3.5940029992858045, -2.7661250438793683, -2.653886506751849, -2.4022319797736262, -2.232349860857672, -2.060187641144939, -1.9272221212635205, -1.8062156207509559, -1.7141466042523201, -1.6344918238507127, -1.578545771194121, -1.5321647965051257, -1.506188070869365]\n",
      "Step 13 Done, Beta = [0.0, -3.5940029992858045, -2.7661250438793683, -2.653886506751849, -2.4022319797736262, -2.232349860857672, -2.060187641144939, -1.9272221212635205, -1.8062156207509559, -1.7141466042523201, -1.6344918238507127, -1.578545771194121, -1.5321647965051257, -1.506188070869365, -1.485976548892115]\n",
      "Step 14 Done, Beta = [0.0, -3.5940029992858045, -2.7661250438793683, -2.653886506751849, -2.4022319797736262, -2.232349860857672, -2.060187641144939, -1.9272221212635205, -1.8062156207509559, -1.7141466042523201, -1.6344918238507127, -1.578545771194121, -1.5321647965051257, -1.506188070869365, -1.485976548892115, -1.4843640550595232]\n",
      "Step 15 Done, Beta = [0.0, -3.5940029992858045, -2.7661250438793683, -2.653886506751849, -2.4022319797736262, -2.232349860857672, -2.060187641144939, -1.9272221212635205, -1.8062156207509559, -1.7141466042523201, -1.6344918238507127, -1.578545771194121, -1.5321647965051257, -1.506188070869365, -1.485976548892115, -1.4843640550595232, -1.4844088642309758]\n",
      "Step 16 Done, Beta = [0.0, -3.5940029992858045, -2.7661250438793683, -2.653886506751849, -2.4022319797736262, -2.232349860857672, -2.060187641144939, -1.9272221212635205, -1.8062156207509559, -1.7141466042523201, -1.6344918238507127, -1.578545771194121, -1.5321647965051257, -1.506188070869365, -1.485976548892115, -1.4843640550595232, -1.4844088642309758, -1.5024653833147612]\n",
      "Step 17 Done, Beta = [0.0, -3.5940029992858045, -2.7661250438793683, -2.653886506751849, -2.4022319797736262, -2.232349860857672, -2.060187641144939, -1.9272221212635205, -1.8062156207509559, -1.7141466042523201, -1.6344918238507127, -1.578545771194121, -1.5321647965051257, -1.506188070869365, -1.485976548892115, -1.4843640550595232, -1.4844088642309758, -1.5024653833147612, -1.5181375625852118]\n",
      "Step 18 Done, Beta = [0.0, -3.5940029992858045, -2.7661250438793683, -2.653886506751849, -2.4022319797736262, -2.232349860857672, -2.060187641144939, -1.9272221212635205, -1.8062156207509559, -1.7141466042523201, -1.6344918238507127, -1.578545771194121, -1.5321647965051257, -1.506188070869365, -1.485976548892115, -1.4843640550595232, -1.4844088642309758, -1.5024653833147612, -1.5181375625852118, -1.5520289885185619]\n",
      "Step 19 Done, Beta = [0.0, -3.5940029992858045, -2.7661250438793683, -2.653886506751849, -2.4022319797736262, -2.232349860857672, -2.060187641144939, -1.9272221212635205, -1.8062156207509559, -1.7141466042523201, -1.6344918238507127, -1.578545771194121, -1.5321647965051257, -1.506188070869365, -1.485976548892115, -1.4843640550595232, -1.4844088642309758, -1.5024653833147612, -1.5181375625852118, -1.5520289885185619, -1.5804018639926933]\n"
     ]
    }
   ],
   "source": [
    "def falqon(iterations, beta_init):\n",
    "    \n",
    "    beta = [beta_init]\n",
    "    \n",
    "    for i in range(iterations):\n",
    "        cost_fn = qml.ExpvalCost(ansatz, hamiltonian, dev)\n",
    "        beta.append(-1 * cost_fn(beta))\n",
    "        print(\"Step {} Done, Beta = {}\".format(i, beta))\n",
    "    \n",
    "    return beta\n",
    "\n",
    "res = falqon(20, 0.0)"
   ]
  },
  {
   "cell_type": "markdown",
   "id": "59b3076b-ed5d-4dbc-9d2f-7b9e308b5905",
   "metadata": {},
   "source": [
    "Now, we can test the results from the experiment:"
   ]
  },
  {
   "cell_type": "code",
   "execution_count": 89,
   "id": "7bead77a-1585-4950-a24a-b48142c9777e",
   "metadata": {},
   "outputs": [
    {
     "data": {
      "text/plain": [
       "<BarContainer object of 16 artists>"
      ]
     },
     "execution_count": 89,
     "metadata": {},
     "output_type": "execute_result"
    },
    {
     "data": {
      "image/png": "[encoded data removed]",
      "text/plain": [
       "<Figure size 432x288 with 1 Axes>"
      ]
     },
     "metadata": {
      "needs_background": "light"
     },
     "output_type": "display_data"
    }
   ],
   "source": [
    "@qml.qnode(dev)\n",
    "def test_circuit():\n",
    "    ansatz(re)\n",
    "    return qml.probs(wires=dev.wires)\n",
    "\n",
    "probs = test_circuit()\n",
    "plt.bar(range(2**len(dev.wires)), probs)"
   ]
  },
  {
   "cell_type": "code",
   "execution_count": null,
   "id": "93c4f3cd-a8fa-42d7-bb5e-812828dd7cf2",
   "metadata": {},
   "outputs": [],
   "source": []
  }
 ],
 "metadata": {
  "kernelspec": {
   "display_name": "Python 3",
   "language": "python",
   "name": "python3"
  },
  "language_info": {
   "codemirror_mode": {
    "name": "ipython",
    "version": 3
   },
   "file_extension": ".py",
   "mimetype": "text/x-python",
   "name": "python",
   "nbconvert_exporter": "python",
   "pygments_lexer": "ipython3",
   "version": "3.9.5"
  }
 },
 "nbformat": 4,
 "nbformat_minor": 5
}
