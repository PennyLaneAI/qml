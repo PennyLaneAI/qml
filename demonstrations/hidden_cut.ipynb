{
 "cells": [
  {
   "cell_type": "markdown",
   "metadata": {},
   "source": [
    "# The hidden cut algorithm for locating unentanglement"
   ]
  },
  {
   "cell_type": "markdown",
   "metadata": {},
   "source": [
    "One of the most interesting and counterintuitive aspects of quantum physics is entanglement.\n",
    "Entanglement is a form of correlation between quantum systems that is fundamentally different from any correlation that can exist between classical systems.\n",
    "To define entanglement, let $\\ket{\\psi}$ be a state of a quantum system with two parts, $A$ and $B$.\n",
    "For example $A$ and $B$ might each be single qubits; then $\\ket{\\psi}$ is a two qubit state.\n",
    "We say $A$ and $B$ are *unentangled* or *separable* if $\\ket{\\psi}$ can be written as\n",
    "$$\n",
    "\\ket{\\psi} = \\ket{\\psi_A}\\otimes \\ket{\\psi_B}\n",
    "$$,\n",
    "where $\\ket{\\psi_A}$ is a state of system $A$ and $\\ket{\\psi_B}$ is a state of system $B$.\n",
    "If $\\ket{\\psi}$ can't be written in this separable form then we say $A$ and $B$ are *entangled*.\n",
    "\n",
    "Now suppose we're given a system of $n$ qubits.\n",
    "We're told that it's possible to split the qubits into two unentangled subsets, $S$ and $\\bar S$, i.e.\n",
    "$\\ket{\\psi}$ can be written as\n",
    "$$\n",
    "\\ket{\\psi} = \\ket{\\psi_S}\\otimes \\ket{\\psi_{\\bar S}},\n",
    "$$\n",
    "but we aren't told what $S$ and $\\bar S$ are.\n",
    "The question is: how can we determine $S$ and $\\bar S$, i.e. how do we determine the ``hidden cut'' that splits the qubits into two unentangled subsystems.\n",
    "Following ..., in this demo we'll develop a quantum algorithm that solves this problem!"
   ]
  },
  {
   "cell_type": "code",
   "execution_count": 244,
   "metadata": {},
   "outputs": [],
   "source": [
    "import matplotlib.pyplot as plt\n",
    "import numpy as np\n",
    "import pennylane as qml\n",
    "from scipy.stats import unitary_group"
   ]
  },
  {
   "cell_type": "markdown",
   "metadata": {},
   "source": [
    "## Creating a separable state\n",
    "\n",
    "Let's create a separable state.\n",
    "To ensure the quantum algorithm we construct can be simulated in reasonable time, we'll keep things small and consider a state with $n=5$ qubits.\n",
    "First we define a function that creates a random state with a specified number of qubits, $n$.\n",
    "We do this by creating an $2^n$ by $2^n$ random unitary and taking the first row.\n",
    "Because all the rows (and columns) in a unitary matrix have norm equal to 1, this defines a valid quantum state."
   ]
  },
  {
   "cell_type": "code",
   "execution_count": null,
   "metadata": {},
   "outputs": [],
   "source": [
    "def random_state(n_qubits):\n",
    "    dim = 2**n_qubits\n",
    "    return unitary_group.rvs(dim)[0]"
   ]
  },
  {
   "cell_type": "markdown",
   "metadata": {},
   "source": [
    "We'll use this function to set qubits $S=\\{0,3\\}$ and $\\bar S=\\{1,2,4\\}$ to each be in a random pure state.\n",
    "The full 5 qubit state will then be separable along this 2-qubit and 3-qubit partition. "
   ]
  },
  {
   "cell_type": "code",
   "execution_count": 259,
   "metadata": {},
   "outputs": [
    {
     "name": "stdout",
     "output_type": "stream",
     "text": [
      "Created 5 qubit state.\n"
     ]
    }
   ],
   "source": [
    "def separable_state(partitions):\n",
    "    # Number of qubits\n",
    "    n_qubits = sum(len(part) for part in partitions)\n",
    "\n",
    "    # Sort partitions\n",
    "    partitions = [sorted(part) for part in partitions]\n",
    "\n",
    "    # Create random state for each partition\n",
    "    partition_states = [(part, random_state(len(part))) for part in partitions]\n",
    "    \n",
    "    # Initialize full state\n",
    "    full_state = np.zeros(2**n_qubits, dtype=complex)\n",
    "    \n",
    "    # Fill in amplitudes\n",
    "    for idx in range(2**n_qubits):\n",
    "        # Convert idx to binary string\n",
    "        bits = format(idx, f'0{n_qubits}b')\n",
    "        \n",
    "        # Calculate amplitude as product of partition amplitudes\n",
    "        amplitude = 1.0\n",
    "        for part, state in partition_states:\n",
    "            # Extract partition bits, convert to decimal, update amplitude\n",
    "            part_bits = ''.join(bits[q] for q in part)\n",
    "            part_idx = int(part_bits, 2)\n",
    "            amplitude *= state[part_idx]\n",
    "        \n",
    "        full_state[idx] = amplitude\n",
    "    \n",
    "    return full_state\n",
    "\n",
    "# create separable 5 qubit state\n",
    "state = separable_state([(0,3), (1,2,4)])\n",
    "n = int(np.log2(len(state)))\n",
    "print(f'Created {n} qubit state.')"
   ]
  },
  {
   "cell_type": "markdown",
   "metadata": {},
   "source": [
    "Let's verify that qubits $S=\\{0,3\\}$ are unentangled with qubits $\\bar S=\\{1,2,4\\}$.\n",
    "A general way to check whether a subsystem $S$ of a pure state $\\ket{\\psi}$ is entangled with the complementary subsystem $\\bar S$\n",
    "is to consider the reduced density matrix $\\rho_S$ describing the state of $S$ and compute its purity, \n",
    "$$\n",
    "P(S) := \\text{Tr}(\\rho_S^2).\n",
    "$$\n",
    "If $S$ and $\\bar S$ are unentangled, i.e. $\\ket{\\psi} = \\ket{\\psi_S}\\otimes \\ket{\\psi_{\\bar S}}$, then $\\rho_S = \\ket{\\psi_S}\\bra{\\psi_S}$\n",
    "and the purity of $S$ is $P(S)=1$.\n",
    "On the other hand if $S$ and $\\bar S$ *are* entangled, then $\\rho_S$ will be a mixed state, and $P(S)$ will necessarily be less than 1\n",
    "(can you prove this?).\n",
    "\n",
    "So all we need to do to verify that qubits $S=\\{0,3\\}$ are unentangled with qubits $\\bar S=\\{1,2,4\\}$ in our 5 qubit state\n",
    "is to check that $P(S) = 1$. \n",
    "For fun (and because it'll be instructive) instead of just computing $P(\\{0,3\\})$, let's compute the purities of *all* possible subsystems.\n",
    "Because there are 5 qubits we can denote the subsystems using 5 bit strings, where a 1 bit indicates that a qubit belongs to the subsystem.\n",
    "For example '10010' denotes the subsystem $S=\\{0,3\\}$.\n",
    "Since each bit can be a 1 or a 0, there are $2^5=32$ different subsystems.\n",
    "Let's create a histogram showing all 32 subsystem purities.\n",
    "First we define a function to compute the purity of a subsystem.\n",
    "`qml.purity()` does the heavy lifting:"
   ]
  },
  {
   "cell_type": "code",
   "execution_count": 254,
   "metadata": {},
   "outputs": [],
   "source": [
    "dev = qml.device('default.qubit')\n",
    "\n",
    "@qml.qnode(dev)\n",
    "def get_purity(state, subsystem):\n",
    "    qml.StatePrep(state, wires=range(n))\n",
    "    return qml.purity(wires=np.nonzero(subsystem)[0])"
   ]
  },
  {
   "cell_type": "markdown",
   "metadata": {},
   "source": [
    "Now we use this function to compute all subsystem purities and store them in a `purities` list.\n",
    "We'll also store the subsystems, encoded as 5-bit strings, into a `bitstrings` list.\n",
    "The empty subsystem '00000' is and edge case that `qml.purity()` can't handle, so we add it by hand.\n",
    "Because complementary subsystems have identical purities (prove this!), $P('00000') = P('11111') = 1$."
   ]
  },
  {
   "cell_type": "code",
   "execution_count": 260,
   "metadata": {},
   "outputs": [],
   "source": [
    "bitstrings = ['0' * 5]\n",
    "purities = [1.]\n",
    "\n",
    "for subsystem_idx in range(1, 2**n):\n",
    "    # convert integer index to list of bits\n",
    "    subsystem = [int(bit) for bit in format(subsystem_idx, f'0{n}b')]\n",
    "    \n",
    "    # compute purity and append\n",
    "    purity = get_purity(state, subsystem)\n",
    "    purities.append(purity)\n",
    "\n",
    "    # convert bit list to bit string and append\n",
    "    bitstring = ''.join(str(bit) for bit in subsystem)\n",
    "    bitstrings.append(bitstring)"
   ]
  },
  {
   "cell_type": "markdown",
   "metadata": {},
   "source": [
    "Now we can plot the purities in a histogram"
   ]
  },
  {
   "cell_type": "code",
   "execution_count": 261,
   "metadata": {},
   "outputs": [
    {
     "data": {
      "image/png": "[encoded data removed]",
      "text/plain": [
       "<Figure size 640x480 with 1 Axes>"
      ]
     },
     "metadata": {},
     "output_type": "display_data"
    }
   ],
   "source": [
    "plt.bar(bitstrings, purities)\n",
    "plt.xticks(rotation=90)\n",
    "plt.axhline(y=1.0, color='r', ls='--')\n",
    "plt.xlabel('subsystem')\n",
    "plt.ylabel('purity')\n",
    "plt.title('Subsystem purities')\n",
    "plt.show()"
   ]
  },
  {
   "cell_type": "markdown",
   "metadata": {},
   "source": [
    "Notice the 4 subsystems that have purity equal to 1: \n",
    "- the entire system '11111' and its empty complement '00000'\n",
    "- the subsystem '10010' and its complement '01101'\n",
    "\n",
    "Remember that a purity of 1 means that the subsystem is pure.\n",
    "This tells us that besides the entire state $\\ket{\\psi}$ and the trivial empty state, which are pure by definition,\n",
    "the only subsystems that are pure are $S=\\{0,3\\}$ (encoded as '10010') and $\\bar S=\\{1,2,4\\}$ (encoded as '01101').\n",
    "This tells us $\\ket{\\psi}$ is separable along the cut between $S$ and $\\bar S$, exactly as we expected."
   ]
  },
  {
   "cell_type": "markdown",
   "metadata": {},
   "source": [
    "### Finding the hidden cut"
   ]
  },
  {
   "cell_type": "code",
   "execution_count": null,
   "metadata": {},
   "outputs": [],
   "source": [
    "# how do we find hidden cut? \n",
    "\n",
    "# one way would be compute purities of all subsytems and see which subsystem has purity = 1. But this is impractical since there are exponentially many subsystems\n",
    "\n",
    "# let's look at subsystem purity function more closely - colour in bars that are the same height the same colour.\n",
    "\n",
    "# how are bars of the same height related? by adding eg (10100) and (01011).\n",
    "\n",
    "# ie pi(s) = pi(s + 10100) + pi(s + 01011) + pi(s + 11111).\n",
    "\n",
    "# ie the symmetry is generated by the group H = ...\n",
    "\n",
    "# H is a subgroup of the full group G = {00000, 00001, ...} with the group operation being bitwise addition modulo 2.\n",
    "\n",
    "# Notice that H has 4 elements but it can be \"generated\" by ... and ..., meaning that the other elements (... and ...) can be obtained via the two generators and the group operation.\n",
    "\n",
    "# do you notice anything interesting about the generators? they directly encode the separable components of the state!\n",
    "\n",
    "# so in order to find the separable components of the state, we just have to find the symmetry subgroup of the purity function pi(s), and look at its generators.\n",
    "\n",
    "# this is an example of a \"hidden subgroup problem\" a very important class of problems that quantum computers can solve efficiently. \n",
    "\n",
    "# Notice that it wasnt at all obvious that our problem of finding the separable components of a state was a hidden subgroup problem; we needed to think a bit to frame it in this way. In fact the same is true for the most famous problem solveable by quantum computers: factoring large integers. At first this doesn't look anything like a hidden subgroup problem, but as Peter Shor showed with some clever math it can be phrased as one, and can therefore be solved by the general quantum circuit for hidden subgroup problems.\n",
    "\n",
    "# We'd like to use this quantum circuit to solve our \"hidden cut\" problem. So how does the HSP quantum circuit look?\n",
    "\n",
    "# Suppose we want to find the hidden symmetry subgroup of a function f(s) over n-bit strings s. we start with two n-qubit registers initialized in the all |0> states. \n",
    "# the first step is to apply a Hadamard to each qubit in the first register to create a uniform superposition sum |s>.\n",
    "# the second step assumes that we have access to a unitary U_f that maps |s>|0> to |s>|f(s)>, such that |f(s)> and |f(s')> are equal if f(s) = f(s') and orthogonal if f(s) != f(s').\n",
    "# the final step is to again apply Hadamards to the first register, and measure this register.\n",
    "# the circuit looks like:\n",
    "\n",
    "# The crucial feature of this circuit is that the measurement outcomes are guaranteed to be orthogonal to the hidden subgroup bitstrings (ie the bitstrings defining the symmetry of f(s)).\n",
    "# for example if we get a measurement outcome ..., then a hidden subgroup element might be ... because ..., but ... is definitely not in the hidden subgroup, because ....\n",
    "# Therefore by obtaining measurment outcomes and finding the bitstrings orthogonal to all measurments, we will identify the hidden symmetry of f.\n",
    "\n",
    "# Now let's apply this to solve the hidden cut problem for the state psi. Remember that here the function f(s) is pi(s), the purity of psi's subsystems.\n",
    "# We immediately run into a problem however. Unlike in the basic HSP problem, we arent provided with a unitary mapping |s>|0> to |s>|pi(s)>.\n",
    "# So what do we do? Let's create the unitary!\n",
    "\n",
    "# Recall the key property that the unitary is supposed to have: |f(s)> and |f(s')> should be equal if f(s) = f(s') and orthogonal if f(s) != f(s').\n",
    "# Consider the controlled swap unitary, mapping |s>|psi>|psi> to |s>SWAP_s(|psi>|psi>), where s denotes the qubits to be swapped between the two copies of |psi>\n",
    "\n",
    "# Let's check if the controlled swap unitary has the desired properties.\n",
    "# First, if pi(s) = pi(s') we want SWAP_s(|psi>|psi>) to equal SWAP_s(|psi>|psi>). \n",
    "# Let's consider an example. We see from our plot of pi(s) that ... and ... have the same value of pi.\n",
    "# Let's check the inner product of SWAP_s(|psi>|psi>) and SWAP_s'(|psi>|psi>):\n",
    "\n",
    "# Since the inner product is 1, the SWAP_s(|psi>|psi>) and SWAP_s'(|psi>|psi>) must be identical.\n",
    "\n",
    "# Now let's check whether pi(s) != pi(s') implies SWAP_s(|psi>|psi>) and SWAP_s'(|psi>|psi>)...\n",
    "\n",
    "# So it turns out that SWAP_s(|psi>|psi>) and SWAP_s'(|psi>|psi>) are not orthogonal and so the SWAP_s unitary does not satisfy the second requirement for the unitary in the HSP circuit.\n",
    "\n",
    "# Even though we don't expect it to work, let's nevertheless try running the HSP circuit with the SWAP_s unitary, and see what happens.\n",
    "\n",
    "# ...10 samples\n",
    "\n",
    "# Remember the final postprocessing step to solving an HSP via a quantum computer: we have to determine the bitstrings orthogonal to the measurement outcomes, where two bitstrings s and t are orthogonal if s.t = 0 modulo 2. This is a basic linear algebra problem that amounts to finding the nullspace of the matrix of measurement outcomes over the finite field GF(2).\n",
    "\n",
    "# But by being clever we can avoid doing any linear algebra.\n",
    "\n",
    "# Look at the allowed measurement outcomes very carefully. Do you notice anything in common between them?\n",
    "\n",
    "# The answer: they are exactly those bitstrings that have an even number of 1s in positions ... *and* an even number of 1s in positions ...\n",
    "\n",
    "# This means that the only bitstrings orthogonal to the allowed measurement outcomes are the all 0 bitstring, the all 1 bitstring, the bitstring ... and the bitstring ...\n",
    "\n",
    "# This is exactly the hidden subgroup generated by ... and ..., where the generators encode the separable components ... and ... of the original state |psi>.\n",
    "\n",
    "# Therefore the HSP circuit with the SWAP_s unitary finds the separable components!\n",
    "\n",
    "# Let's check it with another state to make sure we didn't just get lucky.\n",
    "\n",
    "# This time let's consider a 4 qubit state ...\n",
    "\n",
    "\n",
    "# again it works!\n",
    "\n",
    "# So we have solved the hidden cut problem by rephrasing it as an HSP and using the unitary SWAP_s.\n",
    "\n",
    "# but why does this work? Recall that in the standard quantum circuit for HSP we need |f(s)> and |f(s')> should be equal if f(s) = f(s') and orthogonal if f(s) != f(s'). However in our case f(s) is the purity function pi(s), and we set |pi(s)> = SWAP_s(|psi>|psi>). We saw above that this satisfies the equality requirement, but not the orthogonality requirement. Namely pi(s) != pi(s') doesn't generally imply that |pi(s)> and |pi(s')> are orthogonal.\n",
    "\n",
    "# To understand why our circuit worked despite this non-orthogonality, let's think about how we could have defined |pi(s)> differently so that the orthogonality requirement *was* satisfied.\n",
    "# This is actually quite straightforward: just define |pi(s)> = [SWAP_s(|psi>|psi>)]^t for some large t. \n",
    "# Then as long as the inner product between SWAP_s(|psi>|psi>) and SWAP_s(|psi>|psi>) is not 1 (ie they aren't identical), the inner product between |pi(s)> and |pi(s')> will be effectively 0 (exponentially approach 0 as t increases).\n",
    "\n",
    "# So if instead of using only 1 pair |psi>|psi> in our quantum circuit we used t pairs, for large enough t this would've exactly functioned like a standard issue HSP circuit.\n",
    "\n",
    "# Unfortunately the circuit with t pairs of |psi>|psi> requires (1 + 2t) * n qubits (the 1 is for the control register and the 2t for the 2t pairs of |psi>|psi>), so simulating this with n=4 is not feasible for t > 2.\n",
    "\n",
    "# With that in mind let's look consider the circuit with t=2 and compare with what we got above with t=1. Hopefully we'll see something interesting that we can extrapolate to t -> inf.\n",
    "\n",
    "# ...\n",
    "\n",
    "# plot probs histograms\n",
    "\n",
    "# we notice that the same measurement outcomes are allowed, and only their probabilities differ.\n",
    "\n",
    "# in particular the distribution is more skewed towards outcomes with fewer 1s for t=1, and more uniform for t=2\n",
    "\n",
    "# we can conjecture that this trend continues for larger t: the allowed outcomes remain the same as in the t=1 case, but the distribution becomes more and more uniform.\n",
    "\n",
    "# in fact this it can be proven analytically that this conjecture is correct, and if we had a powerful enough simulator (or a quantum computer), we'd be able to verify this.\n",
    "\n",
    "# So now we can understand why our hidden cut circuit with only 1 pair of |psi>s worked, when naively we didn't expect it to. It is because the allowed measurement outcomes from the output of this t=1 circuit are exactly the allowed measurmenet outcomes from the t-> infty circuit. Because the outcome of the final postprocessing step of the quantum HSP algorithm only depends on the allowed measurement outcomes and not on their probabilities, the t=1 algorithm is able to get the same outcome as the large t algorithm. \n",
    "\n",
    "# So should we use small t or large t?\n",
    "\n",
    "# do sample efficiency experiment. Expect result to be: use large t if you can because it's more sample efficient. \n",
    "\n"
   ]
  },
  {
   "cell_type": "code",
   "execution_count": null,
   "metadata": {},
   "outputs": [
    {
     "data": {
      "image/png": "[encoded data removed]",
      "text/plain": [
       "<Figure size 640x480 with 1 Axes>"
      ]
     },
     "metadata": {},
     "output_type": "display_data"
    }
   ],
   "source": []
  },
  {
   "cell_type": "code",
   "execution_count": 205,
   "metadata": {},
   "outputs": [],
   "source": [
    "\n",
    "def hidden_cut_circuit(state, n_copies=1):\n",
    "\n",
    "    n = int(np.log2(len(state)))\n",
    "    n_qubits = (2 * n_copies + 1) * n\n",
    "    dev = qml.device('lightning.qubit', wires=n_qubits)\n",
    "\n",
    "    @qml.qnode(dev)\n",
    "    def _circuit():\n",
    "        # Create copies of state\n",
    "        for pair in range(n_copies):\n",
    "            for copy in range(2):\n",
    "                offset = n + 2 * n * pair + n * copy\n",
    "                qml.StatePrep(state, wires=range(offset, offset + n))\n",
    "                                \n",
    "        # Hadamard transform\n",
    "        for wire in range(n):\n",
    "            qml.Hadamard(wires=wire)\n",
    "\n",
    "        # Controlled swaps\n",
    "        for c in range(n):\n",
    "            for pair in range(n_copies):\n",
    "                a = c + n + 2*n*pair\n",
    "                b = c + n + 2*n*pair + n\n",
    "                qml.ctrl(qml.SWAP, c, control_values=1)(wires=(a,b))\n",
    "\n",
    "        # Hadamard transform\n",
    "        for wire in range(0, n):\n",
    "            qml.Hadamard(wires=wire)\n",
    "\n",
    "        # Return probs of first register\n",
    "        return qml.probs(wires=range(n))\n",
    "\n",
    "    return _circuit()\n",
    "    \n",
    "probs = hidden_cut_circuit(state, n_copies=1)\n",
    "bitstrings = [bin(x)[2:].zfill(n) for x in range(2**n)]\n",
    "\n",
    "# plt.bar(bitstrings, probs)\n",
    "# plt.xticks(rotation=90)\n",
    "# plt.show()\n",
    "\n",
    "# np.random.choice(len(probs), size=100, p=probs)"
   ]
  },
  {
   "cell_type": "code",
   "execution_count": 219,
   "metadata": {},
   "outputs": [
    {
     "name": "stderr",
     "output_type": "stream",
     "text": [
      "/Users/petar.simidzija/miniconda3/envs/qml/lib/python3.11/site-packages/pennylane/debugging/snapshot.py:243: UserWarning: Snapshots are not supported for the given device. Therefore, a tape will be created for each snapshot, resulting in a total of n_snapshots + 1 executions.\n",
      "  warnings.warn(\n"
     ]
    },
    {
     "ename": "DeviceError",
     "evalue": "Measurement state(wires=[]) not accepted with finite shots on lightning.qubit",
     "output_type": "error",
     "traceback": [
      "\u001b[0;31m---------------------------------------------------------------------------\u001b[0m",
      "\u001b[0;31mDeviceError\u001b[0m                               Traceback (most recent call last)",
      "Cell \u001b[0;32mIn[219], line 9\u001b[0m\n\u001b[1;32m      6\u001b[0m     \u001b[38;5;66;03m# return qml.state()\u001b[39;00m\n\u001b[1;32m      7\u001b[0m     \u001b[38;5;28;01mreturn\u001b[39;00m qml\u001b[38;5;241m.\u001b[39mprobs()\n\u001b[0;32m----> 9\u001b[0m \u001b[43mqml\u001b[49m\u001b[38;5;241;43m.\u001b[39;49m\u001b[43msnapshots\u001b[49m\u001b[43m(\u001b[49m\u001b[43mcircuit\u001b[49m\u001b[43m)\u001b[49m\u001b[43m(\u001b[49m\u001b[43m)\u001b[49m\n",
      "File \u001b[0;32m~/miniconda3/envs/qml/lib/python3.11/site-packages/pennylane/workflow/qnode.py:987\u001b[0m, in \u001b[0;36mQNode.__call__\u001b[0;34m(self, *args, **kwargs)\u001b[0m\n\u001b[1;32m    985\u001b[0m \u001b[38;5;28;01mif\u001b[39;00m qml\u001b[38;5;241m.\u001b[39mcapture\u001b[38;5;241m.\u001b[39menabled():\n\u001b[1;32m    986\u001b[0m     \u001b[38;5;28;01mreturn\u001b[39;00m qml\u001b[38;5;241m.\u001b[39mcapture\u001b[38;5;241m.\u001b[39mqnode_call(\u001b[38;5;28mself\u001b[39m, \u001b[38;5;241m*\u001b[39margs, \u001b[38;5;241m*\u001b[39m\u001b[38;5;241m*\u001b[39mkwargs)\n\u001b[0;32m--> 987\u001b[0m \u001b[38;5;28;01mreturn\u001b[39;00m \u001b[38;5;28;43mself\u001b[39;49m\u001b[38;5;241;43m.\u001b[39;49m\u001b[43m_impl_call\u001b[49m\u001b[43m(\u001b[49m\u001b[38;5;241;43m*\u001b[39;49m\u001b[43margs\u001b[49m\u001b[43m,\u001b[49m\u001b[43m \u001b[49m\u001b[38;5;241;43m*\u001b[39;49m\u001b[38;5;241;43m*\u001b[39;49m\u001b[43mkwargs\u001b[49m\u001b[43m)\u001b[49m\n",
      "File \u001b[0;32m~/miniconda3/envs/qml/lib/python3.11/site-packages/pennylane/workflow/qnode.py:977\u001b[0m, in \u001b[0;36mQNode._impl_call\u001b[0;34m(self, *args, **kwargs)\u001b[0m\n\u001b[1;32m    974\u001b[0m     \u001b[38;5;28mself\u001b[39m\u001b[38;5;241m.\u001b[39m_interface \u001b[38;5;241m=\u001b[39m interface\n\u001b[1;32m    976\u001b[0m \u001b[38;5;28;01mtry\u001b[39;00m:\n\u001b[0;32m--> 977\u001b[0m     res \u001b[38;5;241m=\u001b[39m \u001b[38;5;28;43mself\u001b[39;49m\u001b[38;5;241;43m.\u001b[39;49m\u001b[43m_execution_component\u001b[49m\u001b[43m(\u001b[49m\u001b[43margs\u001b[49m\u001b[43m,\u001b[49m\u001b[43m \u001b[49m\u001b[43mkwargs\u001b[49m\u001b[43m)\u001b[49m\n\u001b[1;32m    978\u001b[0m \u001b[38;5;28;01mfinally\u001b[39;00m:\n\u001b[1;32m    979\u001b[0m     \u001b[38;5;28;01mif\u001b[39;00m old_interface \u001b[38;5;241m==\u001b[39m \u001b[38;5;124m\"\u001b[39m\u001b[38;5;124mauto\u001b[39m\u001b[38;5;124m\"\u001b[39m:\n",
      "File \u001b[0;32m~/miniconda3/envs/qml/lib/python3.11/site-packages/pennylane/workflow/qnode.py:935\u001b[0m, in \u001b[0;36mQNode._execution_component\u001b[0;34m(self, args, kwargs)\u001b[0m\n\u001b[1;32m    932\u001b[0m interface \u001b[38;5;241m=\u001b[39m \u001b[38;5;28;01mNone\u001b[39;00m \u001b[38;5;28;01mif\u001b[39;00m \u001b[38;5;28mself\u001b[39m\u001b[38;5;241m.\u001b[39minterface \u001b[38;5;241m==\u001b[39m \u001b[38;5;124m\"\u001b[39m\u001b[38;5;124mnumpy\u001b[39m\u001b[38;5;124m\"\u001b[39m \u001b[38;5;28;01melse\u001b[39;00m \u001b[38;5;28mself\u001b[39m\u001b[38;5;241m.\u001b[39minterface\n\u001b[1;32m    934\u001b[0m \u001b[38;5;66;03m# pylint: disable=unexpected-keyword-arg\u001b[39;00m\n\u001b[0;32m--> 935\u001b[0m res \u001b[38;5;241m=\u001b[39m \u001b[43mqml\u001b[49m\u001b[38;5;241;43m.\u001b[39;49m\u001b[43mexecute\u001b[49m\u001b[43m(\u001b[49m\n\u001b[1;32m    936\u001b[0m \u001b[43m    \u001b[49m\u001b[43m(\u001b[49m\u001b[38;5;28;43mself\u001b[39;49m\u001b[38;5;241;43m.\u001b[39;49m\u001b[43m_tape\u001b[49m\u001b[43m,\u001b[49m\u001b[43m)\u001b[49m\u001b[43m,\u001b[49m\n\u001b[1;32m    937\u001b[0m \u001b[43m    \u001b[49m\u001b[43mdevice\u001b[49m\u001b[38;5;241;43m=\u001b[39;49m\u001b[38;5;28;43mself\u001b[39;49m\u001b[38;5;241;43m.\u001b[39;49m\u001b[43mdevice\u001b[49m\u001b[43m,\u001b[49m\n\u001b[1;32m    938\u001b[0m \u001b[43m    \u001b[49m\u001b[43mgradient_fn\u001b[49m\u001b[38;5;241;43m=\u001b[39;49m\u001b[43mgradient_fn\u001b[49m\u001b[43m,\u001b[49m\n\u001b[1;32m    939\u001b[0m \u001b[43m    \u001b[49m\u001b[43minterface\u001b[49m\u001b[38;5;241;43m=\u001b[39;49m\u001b[43minterface\u001b[49m\u001b[43m,\u001b[49m\n\u001b[1;32m    940\u001b[0m \u001b[43m    \u001b[49m\u001b[43mtransform_program\u001b[49m\u001b[38;5;241;43m=\u001b[39;49m\u001b[43mfull_transform_program\u001b[49m\u001b[43m,\u001b[49m\n\u001b[1;32m    941\u001b[0m \u001b[43m    \u001b[49m\u001b[43minner_transform\u001b[49m\u001b[38;5;241;43m=\u001b[39;49m\u001b[43minner_transform_program\u001b[49m\u001b[43m,\u001b[49m\n\u001b[1;32m    942\u001b[0m \u001b[43m    \u001b[49m\u001b[43mconfig\u001b[49m\u001b[38;5;241;43m=\u001b[39;49m\u001b[43mconfig\u001b[49m\u001b[43m,\u001b[49m\n\u001b[1;32m    943\u001b[0m \u001b[43m    \u001b[49m\u001b[43mgradient_kwargs\u001b[49m\u001b[38;5;241;43m=\u001b[39;49m\u001b[43mgradient_kwargs\u001b[49m\u001b[43m,\u001b[49m\n\u001b[1;32m    944\u001b[0m \u001b[43m    \u001b[49m\u001b[38;5;241;43m*\u001b[39;49m\u001b[38;5;241;43m*\u001b[39;49m\u001b[43mexecute_kwargs\u001b[49m\u001b[43m,\u001b[49m\n\u001b[1;32m    945\u001b[0m \u001b[43m\u001b[49m\u001b[43m)\u001b[49m\n\u001b[1;32m    946\u001b[0m res \u001b[38;5;241m=\u001b[39m res[\u001b[38;5;241m0\u001b[39m]\n\u001b[1;32m    948\u001b[0m \u001b[38;5;66;03m# convert result to the interface in case the qfunc has no parameters\u001b[39;00m\n",
      "File \u001b[0;32m~/miniconda3/envs/qml/lib/python3.11/site-packages/pennylane/workflow/execution.py:523\u001b[0m, in \u001b[0;36mexecute\u001b[0;34m(tapes, device, gradient_fn, interface, transform_program, inner_transform, config, grad_on_execution, gradient_kwargs, cache, cachesize, max_diff, device_vjp, mcm_config)\u001b[0m\n\u001b[1;32m    521\u001b[0m \u001b[38;5;66;03m# Exiting early if we do not need to deal with an interface boundary\u001b[39;00m\n\u001b[1;32m    522\u001b[0m \u001b[38;5;28;01mif\u001b[39;00m no_interface_boundary_required:\n\u001b[0;32m--> 523\u001b[0m     results \u001b[38;5;241m=\u001b[39m \u001b[43minner_execute\u001b[49m\u001b[43m(\u001b[49m\u001b[43mtapes\u001b[49m\u001b[43m)\u001b[49m\n\u001b[1;32m    524\u001b[0m     \u001b[38;5;28;01mreturn\u001b[39;00m post_processing(results)\n\u001b[1;32m    526\u001b[0m \u001b[38;5;28;01mif\u001b[39;00m config\u001b[38;5;241m.\u001b[39muse_device_jacobian_product \u001b[38;5;129;01mand\u001b[39;00m interface \u001b[38;5;129;01min\u001b[39;00m jpc_interfaces:\n",
      "File \u001b[0;32m~/miniconda3/envs/qml/lib/python3.11/site-packages/pennylane/workflow/execution.py:199\u001b[0m, in \u001b[0;36m_make_inner_execute.<locals>.inner_execute\u001b[0;34m(tapes, **_)\u001b[0m\n\u001b[1;32m    196\u001b[0m \u001b[38;5;28;01mif\u001b[39;00m cache \u001b[38;5;129;01mis\u001b[39;00m \u001b[38;5;129;01mnot\u001b[39;00m \u001b[38;5;28;01mNone\u001b[39;00m:\n\u001b[1;32m    197\u001b[0m     transform_program\u001b[38;5;241m.\u001b[39madd_transform(_cache_transform, cache\u001b[38;5;241m=\u001b[39mcache)\n\u001b[0;32m--> 199\u001b[0m transformed_tapes, transform_post_processing \u001b[38;5;241m=\u001b[39m \u001b[43mtransform_program\u001b[49m\u001b[43m(\u001b[49m\u001b[43mtapes\u001b[49m\u001b[43m)\u001b[49m\n\u001b[1;32m    201\u001b[0m \u001b[38;5;28;01mif\u001b[39;00m transformed_tapes:\n\u001b[1;32m    202\u001b[0m     results \u001b[38;5;241m=\u001b[39m device\u001b[38;5;241m.\u001b[39mexecute(transformed_tapes, execution_config\u001b[38;5;241m=\u001b[39mexecution_config)\n",
      "File \u001b[0;32m~/miniconda3/envs/qml/lib/python3.11/site-packages/pennylane/transforms/core/transform_program.py:515\u001b[0m, in \u001b[0;36mTransformProgram.__call__\u001b[0;34m(self, tapes)\u001b[0m\n\u001b[1;32m    513\u001b[0m \u001b[38;5;28;01mif\u001b[39;00m \u001b[38;5;28mself\u001b[39m\u001b[38;5;241m.\u001b[39m_argnums \u001b[38;5;129;01mis\u001b[39;00m \u001b[38;5;129;01mnot\u001b[39;00m \u001b[38;5;28;01mNone\u001b[39;00m \u001b[38;5;129;01mand\u001b[39;00m \u001b[38;5;28mself\u001b[39m\u001b[38;5;241m.\u001b[39m_argnums[i] \u001b[38;5;129;01mis\u001b[39;00m \u001b[38;5;129;01mnot\u001b[39;00m \u001b[38;5;28;01mNone\u001b[39;00m:\n\u001b[1;32m    514\u001b[0m     tape\u001b[38;5;241m.\u001b[39mtrainable_params \u001b[38;5;241m=\u001b[39m \u001b[38;5;28mself\u001b[39m\u001b[38;5;241m.\u001b[39m_argnums[i][j]\n\u001b[0;32m--> 515\u001b[0m new_tapes, fn \u001b[38;5;241m=\u001b[39m \u001b[43mtransform\u001b[49m\u001b[43m(\u001b[49m\u001b[43mtape\u001b[49m\u001b[43m,\u001b[49m\u001b[43m \u001b[49m\u001b[38;5;241;43m*\u001b[39;49m\u001b[43mtargs\u001b[49m\u001b[43m,\u001b[49m\u001b[43m \u001b[49m\u001b[38;5;241;43m*\u001b[39;49m\u001b[38;5;241;43m*\u001b[39;49m\u001b[43mtkwargs\u001b[49m\u001b[43m)\u001b[49m\n\u001b[1;32m    516\u001b[0m execution_tapes\u001b[38;5;241m.\u001b[39mextend(new_tapes)\n\u001b[1;32m    518\u001b[0m fns\u001b[38;5;241m.\u001b[39mappend(fn)\n",
      "File \u001b[0;32m~/miniconda3/envs/qml/lib/python3.11/site-packages/pennylane/devices/preprocess.py:525\u001b[0m, in \u001b[0;36mvalidate_measurements\u001b[0;34m(tape, analytic_measurements, sample_measurements, name)\u001b[0m\n\u001b[1;32m    523\u001b[0m     \u001b[38;5;28;01mfor\u001b[39;00m m \u001b[38;5;129;01min\u001b[39;00m chain(snapshot_measurements, tape\u001b[38;5;241m.\u001b[39mmeasurements):\n\u001b[1;32m    524\u001b[0m         \u001b[38;5;28;01mif\u001b[39;00m \u001b[38;5;129;01mnot\u001b[39;00m sample_measurements(m):\n\u001b[0;32m--> 525\u001b[0m             \u001b[38;5;28;01mraise\u001b[39;00m qml\u001b[38;5;241m.\u001b[39mDeviceError(\u001b[38;5;124mf\u001b[39m\u001b[38;5;124m\"\u001b[39m\u001b[38;5;124mMeasurement \u001b[39m\u001b[38;5;132;01m{\u001b[39;00mm\u001b[38;5;132;01m}\u001b[39;00m\u001b[38;5;124m not accepted with finite shots on \u001b[39m\u001b[38;5;132;01m{\u001b[39;00mname\u001b[38;5;132;01m}\u001b[39;00m\u001b[38;5;124m\"\u001b[39m)\n\u001b[1;32m    527\u001b[0m \u001b[38;5;28;01melse\u001b[39;00m:\n\u001b[1;32m    528\u001b[0m     \u001b[38;5;28;01mfor\u001b[39;00m m \u001b[38;5;129;01min\u001b[39;00m chain(snapshot_measurements, tape\u001b[38;5;241m.\u001b[39mmeasurements):\n",
      "\u001b[0;31mDeviceError\u001b[0m: Measurement state(wires=[]) not accepted with finite shots on lightning.qubit"
     ]
    }
   ],
   "source": [
    "dev = qml.device('lightning.qubit', shots=10, wires=[0])\n",
    "@qml.qnode(dev)\n",
    "def circuit():\n",
    "    qml.Hadamard(wires=0)\n",
    "    qml.Snapshot('tag', qml.state())\n",
    "    # return qml.state()\n",
    "    return qml.probs()\n",
    "\n",
    "qml.snapshots(circuit)()"
   ]
  }
 ],
 "metadata": {
  "kernelspec": {
   "display_name": "qml",
   "language": "python",
   "name": "python3"
  },
  "language_info": {
   "codemirror_mode": {
    "name": "ipython",
    "version": 3
   },
   "file_extension": ".py",
   "mimetype": "text/x-python",
   "name": "python",
   "nbconvert_exporter": "python",
   "pygments_lexer": "ipython3",
   "version": "3.11.11"
  }
 },
 "nbformat": 4,
 "nbformat_minor": 2
}
