{
 "cells": [
  {
   "cell_type": "markdown",
   "id": "91a53a55",
   "metadata": {},
   "source": [
    "# The hidden cut problem for locating unentanglement"
   ]
  },
  {
   "cell_type": "markdown",
   "id": "4345b999",
   "metadata": {},
   "source": [
    "One of the most provocative and counterintuitive features of quantum physics is *entanglement*, a form of correlation that can exist between quantum systems.\n",
    "To illustrate the striking nature of entanglement, imagine two entangled qubits, with the first one located at Xanadu's headquarters in Toronto, and the second located in the [JADES-GS-z13-0](https://en.wikipedia.org/wiki/JADES-GS-z13-0) galaxy, the furthest galaxy ever measured.\n",
    "The proper cosmological distance between these qubits is about 33 billion light-years.\n",
    "Nevertheless, because they are entangled, the measurement outcome of the qubit in Toronto will necessarily be correlated with the measurement of the qubit in JADES-GS-z13-0!\n",
    "How this is possible when it takes light itself 33 billion years to travel between the qubits is one of the most philosophically loaded questions at the heart of quantum foundations.\n",
    "\n",
    "Despite entanglement being so philosophically provocative, it's somewhat surprising that in fact it is ubiquitous:\n",
    "given a random state of a two-component quantum system, it's almost certain that the two components will be entangled. \n",
    "For this reason, it's sometimes more interesting when a state is *not* entangled rather than when it is!\n",
    "For example, when [building a quantum computer at Xanadu](https://www.xanadu.ai/photonics), we spend a ton of effort to ensure that our qubits are as *unentangled* as possible with their environment!\n",
    "\n",
    "In this demo we'll investigate *unentanglement* more closely.\n",
    "More specifically we'll consider a problem related to unentanglement, called the *hidden cut problem*. \n",
    "In this problem we assume that we're given a state consisting of many components. \n",
    "As we discussed, it'll generally be the case that most of these components are entangled with one another.\n",
    "But in the hidden cut problem we are guaranteed that it's possible to split the components up into two groups, so that between the two groups there is *no* entanglement.\n",
    "The problem asks us to find this \"hidden cut\" that splits the state up into two *unentangled* pieces.\n",
    "\n",
    "Let's define the hidden cut problem a bit more precisely.\n",
    "First we need to define *unentanglement*.\n",
    "We say that a quantum state $\\ket\\psi$ describing a system with two parts, $A$ and $B$, is *unentangled*, if it can be written as a tensor product\n",
    "$$\n",
    "\\ket{\\psi} = \\ket{\\psi_A}\\otimes \\ket{\\psi_B}\n",
    "$$,\n",
    "where $\\ket{\\psi_A}$ is a state of system $A$ and $\\ket{\\psi_B}$ is a state of system $B$.\n",
    "We also use the term *separable* or *factorizable* to describe an unentagled state.\n",
    "We'll usually not bother writing the tensor product sign and just write $\\ket{\\psi} = \\ket{\\psi_A}\\ket{\\psi_B}$.\n",
    "And if $\\ket{\\psi}$ isn't unentangled we say it's *entangled*.\n",
    "\n",
    "Now let's suppose $\\ket\\psi$ is a state of $n$-qubits.\n",
    "We're told it's possible to split the qubits into two unentangled subsets, $S$ and $\\bar S$, \n",
    "$$\n",
    "\\ket{\\psi} = \\ket{\\psi_S}\\ket{\\psi_{\\bar S}},\n",
    "$$\n",
    "but we aren't told what $S$ and $\\bar S$ are. \n",
    "The hidden cut problem asks us, given access to $\\ket\\psi$, to determine $S$ and $\\bar S$.\n",
    "Following ..., in this demo we'll develop a quantum algorithm that solves this problem!"
   ]
  },
  {
   "cell_type": "markdown",
   "id": "c4cca12b",
   "metadata": {},
   "source": [
    "## Creating an unentangled state"
   ]
  },
  {
   "cell_type": "code",
   "execution_count": 47,
   "id": "87f21042",
   "metadata": {},
   "outputs": [],
   "source": [
    "import galois\n",
    "import matplotlib.pyplot as plt\n",
    "import numpy as np\n",
    "import pennylane as qml\n",
    "from scipy.stats import unitary_group\n",
    "\n",
    "# set random seed\n",
    "np.random.seed(123)"
   ]
  },
  {
   "cell_type": "markdown",
   "id": "4c3a0a35",
   "metadata": {},
   "source": [
    "Before we can solve the hidden cut problem, we first need a state $\\ket\\psi$ to solve it on!\n",
    "First we define a function `random_state()` that creates a random state with a specified number of qubits.\n",
    "We do this by creating a $2^n$ by $2^n$ random unitary and taking the first row.\n",
    "Because all the rows (and columns) in a unitary matrix have norm equal to 1, this defines a valid quantum state."
   ]
  },
  {
   "cell_type": "code",
   "execution_count": 48,
   "id": "bd854cdf",
   "metadata": {},
   "outputs": [],
   "source": [
    "def random_state(n_qubits):\n",
    "    dim = 2**n_qubits\n",
    "    return unitary_group.rvs(dim)[0]"
   ]
  },
  {
   "cell_type": "markdown",
   "id": "a8000a8c",
   "metadata": {},
   "source": [
    "However we can't just use this function to construct our state $\\ket\\psi$, because the random state created by the function will almost certainly *not* be unentagled.\n",
    "So we'll define a function `separable_state()` that takes as input a list of qubit partitions, creates a random state for each partition, and tensors them together into a separable state."
   ]
  },
  {
   "cell_type": "code",
   "execution_count": 49,
   "id": "b52893dc",
   "metadata": {},
   "outputs": [],
   "source": [
    "def separable_state(partitions):\n",
    "    # Number of qubits\n",
    "    n_qubits = sum(len(part) for part in partitions)\n",
    "\n",
    "    # Sort partitions\n",
    "    partitions = [sorted(part) for part in partitions]\n",
    "\n",
    "    # Create random state for each partition\n",
    "    partition_states = [(part, random_state(len(part))) for part in partitions]\n",
    "    \n",
    "    # Initialize full state\n",
    "    full_state = np.zeros(2**n_qubits, dtype=complex)\n",
    "    \n",
    "    # Fill in amplitudes\n",
    "    for idx in range(2**n_qubits):\n",
    "        # Convert idx to binary string\n",
    "        bits = format(idx, f'0{n_qubits}b')\n",
    "        \n",
    "        # Calculate amplitude as product of partition amplitudes\n",
    "        amplitude = 1.0\n",
    "        for part, state in partition_states:\n",
    "            # Extract partition bits, convert to decimal, update amplitude\n",
    "            part_bits = ''.join(bits[q] for q in part)\n",
    "            part_idx = int(part_bits, 2)\n",
    "            amplitude *= state[part_idx]\n",
    "        \n",
    "        full_state[idx] = amplitude\n",
    "    \n",
    "    return full_state"
   ]
  },
  {
   "cell_type": "markdown",
   "id": "ea087ba6",
   "metadata": {},
   "source": [
    "We'll use this to create a 5-qubit state $\\ket\\psi$ in which qubits $S=\\{0,1\\}$ are unentangled with qubits $\\bar S=\\{2,3,4\\}$."
   ]
  },
  {
   "cell_type": "code",
   "execution_count": 50,
   "id": "e3080187",
   "metadata": {},
   "outputs": [
    {
     "name": "stdout",
     "output_type": "stream",
     "text": [
      "Created 5 qubit state with qubits [0, 1] unentangled from [2, 3, 4].\n"
     ]
    }
   ],
   "source": [
    "partitions = [[0,1], [2,3,4]]\n",
    "state = separable_state(partitions)\n",
    "n = int(np.log2(len(state)))\n",
    "print(f'Created {n} qubit state with qubits {partitions[0]} unentangled from {partitions[1]}.')"
   ]
  },
  {
   "cell_type": "markdown",
   "id": "bae2878f",
   "metadata": {},
   "source": [
    "Now imagine we're given $\\ket \\psi$ but aren't told that qubits 0,1 are unentangled from qubits 2,3,4.\n",
    "How could we figure this out?\n",
    "This is the hidden cut problem: given a many-qubit quantum state, figure out which qubits are unentangled with which other qubits.\n",
    "Now we'll develop a quantum algorithm that solves this problem, and then we'll implement it in Pennylane and see that it works!"
   ]
  },
  {
   "cell_type": "markdown",
   "id": "322cb418",
   "metadata": {},
   "source": [
    "## Hidden cut problem as a hidden subgroup problem"
   ]
  },
  {
   "cell_type": "markdown",
   "id": "88dcebee",
   "metadata": {},
   "source": [
    "The key to solving the hidden cut problem is to recast it as a *hidden symmetry problem*, or in more mathematical language a *hidden subgroup problem* (HSP).\n",
    "Then we can use a famous quantum algorithm for solving HSPs to solve the hidden cut problem.\n",
    "The traditional HSP algorithm is useful for finding symmetries of functions $f(x)$, i.e. figuring out for what values of $a$ we have $f(x+a) = f(x)$ for all $x$. \n",
    "However we're interested in a *state* $\\ket\\psi$ and not a *function* $f(x)$, so we'll instead use a modified version of the HSP algorithm, called StateHSP, which finds *symmetries of states*.\n",
    "\n",
    "We'll explain the StateHSP algorithm below, but first let's see how we can recast the hidden cut problem as one of finding a hidden symmetry of a state.\n",
    "To see this, remember our example state $\\ket\\psi=\\ket{\\psi_{01}}\\ket{\\psi_{234}}$.\n",
    "Now consider two copies $\\ket\\psi\\ket\\psi$ of $\\ket\\psi$.\n",
    "We can visualize this as \n",
    "\n",
    "[...picture...]\n",
    "\n",
    "The top row corresponds to the first copy of $\\ket\\psi$, and the bottom row to the second copy.\n",
    "In each row, qubits 0 and 1 are disconnected from qubits 2, 3, and 4.\n",
    "This schematically indicates the fact that in each $\\ket\\psi$ qubits 0,1 are unentangled from qubits 2,3,4.\n",
    "\n",
    "Now consider what happens when we swap some qubits in the top row with the corresponding qubits in the bottom row.\n",
    "We can denote which pairs of qubits we're swapping with a 5-bit string. \n",
    "For example, the bitstring 10101 corresponds to swapping the qubits in positions 0, 2, and 4 in the top row with qubits 0, 2, and 4 in the bottom row.\n",
    "Because there are $2^5=32$ 5-bit strings, there are 32 possible swap operations we can perform.\n",
    "Interestingly, the set of all 32 5-bit strings forms a mathematical *group* under bitwise addition.\n",
    "\n",
    "BOX: Group (take from Maria's demo)\n",
    "\n",
    "We'll call the group of 5-bit strings $G$.\n",
    "We can now ask: which elements of $G$ correspond to swap operations that leave the state $\\ket\\psi\\ket\\psi$ invariant?\n",
    "These operations are the symmetries of $\\ket\\psi\\ket\\psi$ and the corresponding bitstrings form a subgroup $H$ of $G$.\n",
    "For example the identity element 00000 corresponds to performing no swaps at all.\n",
    "This is clearly a symmetry, so 00000 is in $H$.\n",
    "On the other hand 11111 swaps *all* the qubits in the top row with the corresponding qubits in the bottom row, so in effect it just swaps the entire first copy of $\\ket\\psi$ with the entire second copy of $\\ket\\psi$.\n",
    "This is clearly also a symmetry, so 11111 is also in $H$.\n",
    "Are there any other elements in $H$?\n",
    "Stop and think about it!\n",
    "\n",
    "In fact, there are two more elements in $H$: 11000 and 00111.\n",
    "11000 corresponds to swapping the $\\ket{\\psi_{01}}$ component of the first copy of $\\ket\\psi$ with the same component of the second copy of $\\ket\\psi$, and 00111 corresponds to swapping the $\\ket{\\psi_{234}}$ components between the two copies.\n",
    "Because in each copy of $\\ket\\psi$ the $\\ket{\\psi_{01}}$ and $\\ket{\\psi_{234}}$ components are completely unentangled, after either of these swaps the full state remains the same, namely $\\ket\\psi\\ket\\psi$.\n",
    "So the symmetry subgroup is $H = {00000, 11111, 11000, 00111}$.\n",
    "We'll call this a *hidden* symmetry subgroup because it wasn't given to us - we had to find it!\n",
    "\n",
    "Now, a shorthand way to write any group is to specify a set of *generators*, group elements that can be added together to generate any other element of the group.\n",
    "For $H$ the generators are 11000 and 00111: we can add either generator to itself to get the identity 00000, and we can add the generators to each other to get 11111.\n",
    "Here's the important point: notice that the generators of $H$ *directly* tell us the unentangled components of $\\ket\\psi=\\ket{\\psi_{01}}\\ket{\\psi_{234}}$!\n",
    "The first generator 11000 has 1s in bits 0 and 1: this corresponds to the first unentangled component $\\ket{\\psi_{01}}$.\n",
    "And the second generator 00111 has 1s in bits 2, 3, 4: this corresponds to the second unentangled component $\\ket{\\psi_{234}}$.\n",
    "So finding the hidden subgroup $H$ gives us the unentangled components - it solves the hidden cut problem!\n",
    "\n",
    "So now that we recast the hidden cut problem as a problem of finding a hidden subgroup $H$, lets see how the StateHSP algorithm can be used to find $H$.\n",
    "The general algorithm works for any abelian group $G$, but here we'll just focus on the case where $G$ is the group of $n$-bit strings, since this is the case that's relevant to solving the hidden cut problem.\n",
    "\n",
    "The algorithm involves running a quantum circuit, taking measurements, and postprocessing the measurements.\n",
    "The circuit involves three $n$-qubit registers.\n",
    "Registers 2 and 3 are each initialized to $\\ket\\psi$, and register 1 is initialized to the all $\\ket 0$ state.\n",
    "We call register 1 the *group register* because we'll use it to encode elements of the group $G$.\n",
    "For example if $n=5$ the group element 10101 of $G$ would be encoded as $\\ket{10101}$.\n",
    "\n",
    "After this register initialization, the StateHSP circuit involves three steps:\n",
    "1. Apply a Hadamard to each qubit in the group register; this puts the group register in a uniform superposition of all group elements, which up to normalization we can write as $\\sum_{g\\in G} \\ket g$.\n",
    "2. Apply a controlled SWAP operator, which acts on all 3 registers by mapping $\\ket{g}\\ket\\psi\\ket\\psi$ to $\\ket{g}\\text{SWAP}_g(\\ket\\psi\\ket\\psi)$.\n",
    "Here $\\text{SWAP}_g$ performs swaps at the positions indicated by $g$; for example if $g=10101$ then qubits 0, 2 and 4 in the first copy of $\\ket\\psi$ will get swapped with the corresponding qubits in the second copy of $\\ket\\psi$.\n",
    "3. Again apply a Hadamard to each qubit in the group register.\n",
    "\n",
    "Finally we measure the group register.\n",
    "Here's the circuit diagram:\n",
    "\n",
    "[...picture...]\n",
    "\n",
    "We'll implement this in Pennylane, and then we'll show how the measurement results can be postprocessed to find the hidden subgroup $H$ that encodes the hidden cut!"
   ]
  },
  {
   "cell_type": "markdown",
   "id": "1f33de6e",
   "metadata": {},
   "source": [
    "## Solving the hidden cut problem in Pennylane"
   ]
  },
  {
   "cell_type": "markdown",
   "id": "50bb242e",
   "metadata": {},
   "source": [
    "Let's implement this circuit in Pennylane!\n",
    "We'll use a device with `shots=100`: this will run the circuit 100 times and record a 5-bit measurement for each run.\n",
    "We'll store these measurements in an array `M`:"
   ]
  },
  {
   "cell_type": "code",
   "execution_count": 51,
   "id": "a877887e",
   "metadata": {},
   "outputs": [
    {
     "name": "stdout",
     "output_type": "stream",
     "text": [
      "The shape of M is (100, 5).\n",
      "The first 3 rows of M are:\n",
      "[[0 0 0 0 0]\n",
      " [0 0 1 0 1]\n",
      " [0 0 1 1 0]]\n"
     ]
    }
   ],
   "source": [
    "dev = qml.device('default.qubit', shots=100)\n",
    "\n",
    "@qml.qnode(dev)\n",
    "def circuit():\n",
    "    # Initialize psi x psi in registers 2 and 3\n",
    "    qml.StatePrep(state, wires=range(n, 2*n))\n",
    "    qml.StatePrep(state, wires=range(2*n, 3*n))\n",
    "                            \n",
    "    # Hadamards\n",
    "    for a in range(n):\n",
    "        qml.Hadamard(a)\n",
    "\n",
    "    # Controlled swaps\n",
    "    for c in range(n):\n",
    "        a = c + n\n",
    "        b = c + 2*n\n",
    "        qml.ctrl(qml.SWAP, c, control_values=1)(wires=(a,b))\n",
    "\n",
    "    # Hadamards\n",
    "    for a in range(n):\n",
    "        qml.Hadamard(a)\n",
    "\n",
    "    # Measure\n",
    "    return qml.sample(wires=range(n))\n",
    "\n",
    "M = circuit()\n",
    "\n",
    "print(f'The shape of M is {M.shape}.')\n",
    "print(f'The first 3 rows of M are:\\n{M[:3]}')"
   ]
  },
  {
   "cell_type": "markdown",
   "id": "a99d1cd7",
   "metadata": {},
   "source": [
    "Now let's process the measurement results $M$ to determine the hidden subgroup $H$!\n",
    "This postprocessing step is common to all hidden subgroup algorithms.\n",
    "The key fact that connects the measurement results $M$ to the hidden subgroup $H$ is this: the elements of $H$ are the vectors that are orthogonal to all measurements (i.e. rows) in $M$.\n",
    "Since we're working with the group of bitstrings, two bitstrings are orthogonal if their dot product mod 2 is equal to 0.\n",
    "For example 10101 and 11100 are orthogonal since their dot product is $2\\equiv0\\mod 2$, while 10101 and 11111 are *not* orthogonal, since their dot product is $3\\equiv1\\mod 2$.\n",
    "\n",
    "So to get $H$ we just have to find the binary vectors $\\vec b$ orthogonal to every row of $M$.\n",
    "Mathematically we write this as $M\\vec b = 0$, where all operations are assumed to be performed mod 2.\n",
    "In linear algebra lingo we say that the solutions $\\vec b$ to this equation form the *nullspace* of $M$.\n",
    "We can straightforwardly find the nullspace using basic linear algebra techniques.\n",
    "\n",
    "Instead of doing the algebra by hand though, here we'll use the `galois` python library, which can perform linear algebra mod 2.\n",
    "To ensure that operations on $M$ are performed mod 2, we first convert it to a `galois.GF2` array.\n",
    "The GF2 stands for [\"Galois field of order 2\"](https://en.wikipedia.org/wiki/Finite_field), which is a fancy way of saying that all operations are performed mod 2."
   ]
  },
  {
   "cell_type": "code",
   "execution_count": 52,
   "id": "acc04c3c",
   "metadata": {},
   "outputs": [
    {
     "name": "stdout",
     "output_type": "stream",
     "text": [
      "The shape of M is (100, 5).\n",
      "The first 3 rows of M are:\n",
      "[[0 0 0 0 0]\n",
      " [0 0 1 0 1]\n",
      " [0 0 1 1 0]]\n"
     ]
    }
   ],
   "source": [
    "M = galois.GF2(M)\n",
    "\n",
    "print(f'The shape of M is {M.shape}.')\n",
    "print(f'The first 3 rows of M are:\\n{M[:3]}')"
   ]
  },
  {
   "cell_type": "markdown",
   "id": "ad3011f6",
   "metadata": {},
   "source": [
    "So `M` is the same array as before.\n",
    "Let's check that addition is performed mod 2 by adding rows 1 and 2 of `M`:"
   ]
  },
  {
   "cell_type": "code",
   "execution_count": 53,
   "id": "56d7212a",
   "metadata": {},
   "outputs": [
    {
     "name": "stdout",
     "output_type": "stream",
     "text": [
      "     r1 = [0 0 1 0 1]\n",
      "     r2 = [0 0 1 1 0]\n",
      "r1 + r2 = [0 0 0 1 1]\n"
     ]
    }
   ],
   "source": [
    "r1 = M[1]\n",
    "r2 = M[2]\n",
    "\n",
    "print(f'     r1 = {r1}')\n",
    "print(f'     r2 = {r2}')\n",
    "print(f'r1 + r2 = {r1 + r2}')"
   ]
  },
  {
   "cell_type": "markdown",
   "id": "2163cd5a",
   "metadata": {},
   "source": [
    "Looking at the middle column we see that $1+1=0$, so addition is mod 2 as desired!\n",
    "\n",
    "Now we can finally compute the nullspace of `M`, which will give us the hidden subgroup $H$.\n",
    "We can do this easily now that `M` is a `galois.GF2` array just by calling `M.null_space()`.\n",
    "In fact this method doesn't return all of the bitstrings in the nullspace, but instead saves space by only returning the generators of the nullspace."
   ]
  },
  {
   "cell_type": "code",
   "execution_count": 54,
   "id": "c433a9b6",
   "metadata": {},
   "outputs": [
    {
     "data": {
      "text/plain": [
       "GF([[1, 1, 0, 0, 0],\n",
       "    [0, 0, 1, 1, 1]], order=2)"
      ]
     },
     "execution_count": 54,
     "metadata": {},
     "output_type": "execute_result"
    }
   ],
   "source": [
    "M.null_space()"
   ]
  },
  {
   "cell_type": "markdown",
   "id": "5b95d571",
   "metadata": {},
   "source": [
    "Because the nullspace of $M$ equals $H$, we conclude that the generators of $H$ are 11000 and 00111.\n",
    "If we didn't know that $\\ket\\psi$ could be factored as $\\ket\\psi=\\ket{\\psi_{01}}\\ket{\\psi_{234}}$, the generators would directly tell us the factors!\n",
    "So we have solved the hidden cut problem for our state $\\ket\\psi$!"
   ]
  },
  {
   "cell_type": "markdown",
   "id": "040d4979",
   "metadata": {},
   "source": [
    "## The power of hidden symmetries"
   ]
  },
  {
   "cell_type": "markdown",
   "id": "b67f367b",
   "metadata": {},
   "source": [
    "We solved the hidden cut problem&mdash;finding the factors of a multi-qubit quantum state&mdash;by thinking about it from the perspective of symmetries.\n",
    "The key insight was to recognize that the question \"*What are the unentangled factors of the state?*\" can be rephrased as the question \"*What is the hidden symmetry of the state?*\".\n",
    "With this rephrasing the hidden cut problem became a hidden subgroup problem, and we could solve it using a modification of the standard algorithm for HSPs that allows for finding symmetries of *states* rather than functions.\n",
    "\n",
    "In fact, many of the most well-known problems that benefit from access to a quantum computer are also instances of an HSP!\n",
    "In some cases, like with the hidden cut problem, it isn't obvious by looking at it that the problem involves finding a hidden symmetry.\n",
    "The most famous example of this is the problem of factoring large integers, a problem with fundamental importance in cryptography.\n",
    "It's not at all obvious that this problem is related to finding the symmetry of a function, but with some clever algebra it can be phrased in this way, and hence solved efficiently using the HSP algorithm.\n",
    "As a speculative side comment, it's interesting that problem of *factoring* states and the problem of *factoring* integers can both be phrased as HSPs!\n",
    "Is there something about *factoring* problems that enables them to be expressed as HSPs?\n",
    "Are there other important factoring problems that can also be recast as HSPs and solved on a quantum computer?\n",
    "Or is this just a complete coincidence?\n",
    "I invite you to think about this if you're interested - maybe you find a deep connection!\n",
    "\n",
    "Less speculatively, there definitely *is* one deep and generalizable lesson that we should take away from this hidden cut demo, and that is the *power of looking for hidden symmetries*.\n",
    "This goes well beyond quantum computing.\n",
    "In fact some of the most significant discoveries in physics are just recognitions of a hidden symmetry!\n",
    "For example, recognizing the symmetries of fundamental particles led to the development of the standard model of particle physics, \n",
    "recognizing the symmetry of systems in different inertial reference frames led to discovery of special relativity, \n",
    "and recognizing the symmetry between freefalling and accelerating objects led to the discovery of general relativity.\n",
    "Indeed, looking for hidden symmetries is a very powerful approach, both in quantum computing and beyond!\n",
    "\n",
    "\n",
    "\n"
   ]
  }
 ],
 "metadata": {
  "kernelspec": {
   "display_name": "qml",
   "language": "python",
   "name": "python3"
  },
  "language_info": {
   "codemirror_mode": {
    "name": "ipython",
    "version": 3
   },
   "file_extension": ".py",
   "mimetype": "text/x-python",
   "name": "python",
   "nbconvert_exporter": "python",
   "pygments_lexer": "ipython3",
   "version": "3.11.11"
  }
 },
 "nbformat": 4,
 "nbformat_minor": 5
}
