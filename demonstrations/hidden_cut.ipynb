{
 "cells": [
  {
   "cell_type": "markdown",
   "metadata": {},
   "source": [
    "# The hidden cut algorithm for locating unentanglement"
   ]
  },
  {
   "cell_type": "markdown",
   "metadata": {},
   "source": [
    "One of the most interesting and counterintuitive features of quantum physics is entanglement.\n",
    "Entanglement is a form of correlation between quantum systems that is fundamentally different from any correlation that can exist between classical systems.\n",
    "To define entanglement, let $\\ket{\\psi}$ be a state of a quantum system with two parts, $A$ and $B$.\n",
    "For example $A$ and $B$ might each be single qubits; then $\\ket{\\psi}$ is a two qubit state.\n",
    "We say $A$ and $B$ are *unentangled* or *separable* if $\\ket{\\psi}$ can be written as a tensor product\n",
    "$$\n",
    "\\ket{\\psi} = \\ket{\\psi_A}\\otimes \\ket{\\psi_B}\n",
    "$$,\n",
    "where $\\ket{\\psi_A}$ is a state of system $A$ and $\\ket{\\psi_B}$ is a state of system $B$.\n",
    "If $\\ket{\\psi}$ isn't separable then we say $A$ and $B$ are *entangled*.\n",
    "\n",
    "Now suppose we're given a state of $n$ qubits.\n",
    "We're told that it's possible to split the qubits into two unentangled subsets, $S$ and $\\bar S$, \n",
    "in other words $\\ket{\\psi}$ can be written as\n",
    "$$\n",
    "\\ket{\\psi} = \\ket{\\psi_S}\\otimes \\ket{\\psi_{\\bar S}},\n",
    "$$\n",
    "but we aren't told what $S$ and $\\bar S$ are.  \n",
    "Question: how can we determine $S$ and $\\bar S$, or in other words, how do we determine the ``hidden cut'' that splits the qubits into two unentangled subsystems.\n",
    "Following ..., in this demo we'll develop a quantum algorithm that solves this problem!"
   ]
  },
  {
   "cell_type": "code",
   "execution_count": 37,
   "metadata": {},
   "outputs": [],
   "source": [
    "import matplotlib.pyplot as plt\n",
    "import numpy as np\n",
    "import pennylane as qml\n",
    "from scipy.stats import unitary_group\n",
    "\n",
    "# set random seed\n",
    "np.random.seed(hash('hidden_cut') % 2**32)"
   ]
  },
  {
   "cell_type": "markdown",
   "metadata": {},
   "source": [
    "## Creating a separable state"
   ]
  },
  {
   "cell_type": "markdown",
   "metadata": {},
   "source": [
    "Let's create a separable state with $n=5$ qubits.\n",
    "First we define a function that creates a random state with a specified number of qubits.\n",
    "We do this by creating a $2^n$ by $2^n$ random unitary and taking the first row.\n",
    "Because all the rows (and columns) in a unitary matrix have norm equal to 1, this defines a valid quantum state."
   ]
  },
  {
   "cell_type": "code",
   "execution_count": 38,
   "metadata": {},
   "outputs": [],
   "source": [
    "def random_state(n_qubits):\n",
    "    dim = 2**n_qubits\n",
    "    return unitary_group.rvs(dim)[0]"
   ]
  },
  {
   "cell_type": "markdown",
   "metadata": {},
   "source": [
    "We'll use this function to set qubits $S=\\{0,3\\}$ and $\\bar S=\\{1,2,4\\}$ to each be in a random pure state.\n",
    "The full 5 qubit state will then be separable along this partition. "
   ]
  },
  {
   "cell_type": "code",
   "execution_count": 39,
   "metadata": {},
   "outputs": [
    {
     "name": "stdout",
     "output_type": "stream",
     "text": [
      "Created 5 qubit state with qubits [0, 3] unentangled from [1, 2, 4].\n"
     ]
    }
   ],
   "source": [
    "def separable_state(partitions):\n",
    "    # Number of qubits\n",
    "    n_qubits = sum(len(part) for part in partitions)\n",
    "\n",
    "    # Sort partitions\n",
    "    partitions = [sorted(part) for part in partitions]\n",
    "\n",
    "    # Create random state for each partition\n",
    "    partition_states = [(part, random_state(len(part))) for part in partitions]\n",
    "    \n",
    "    # Initialize full state\n",
    "    full_state = np.zeros(2**n_qubits, dtype=complex)\n",
    "    \n",
    "    # Fill in amplitudes\n",
    "    for idx in range(2**n_qubits):\n",
    "        # Convert idx to binary string\n",
    "        bits = format(idx, f'0{n_qubits}b')\n",
    "        \n",
    "        # Calculate amplitude as product of partition amplitudes\n",
    "        amplitude = 1.0\n",
    "        for part, state in partition_states:\n",
    "            # Extract partition bits, convert to decimal, update amplitude\n",
    "            part_bits = ''.join(bits[q] for q in part)\n",
    "            part_idx = int(part_bits, 2)\n",
    "            amplitude *= state[part_idx]\n",
    "        \n",
    "        full_state[idx] = amplitude\n",
    "    \n",
    "    return full_state\n",
    "\n",
    "# create separable 5 qubit state\n",
    "S = [0,3]\n",
    "S_bar = [1,2,4]\n",
    "state = separable_state([S, S_bar])\n",
    "n = int(np.log2(len(state)))\n",
    "print(f'Created {n} qubit state with qubits {S} unentangled from {S_bar}.')"
   ]
  },
  {
   "cell_type": "markdown",
   "metadata": {},
   "source": [
    "## Subsystem purities"
   ]
  },
  {
   "cell_type": "markdown",
   "metadata": {},
   "source": [
    "Let's verify that qubits $S=\\{0,3\\}$ are unentangled with qubits $\\bar S=\\{1,2,4\\}$.\n",
    "One way to check if a subsystem $S$ of a pure state $\\ket{\\psi}$ is entangled with the complementary subsystem $\\bar S$\n",
    "is to consider the reduced density matrix $\\rho_S$ describing the state of $S$ and compute its purity, \n",
    "$$\n",
    "P(S) := \\text{Tr}(\\rho_S^2).\n",
    "$$\n",
    "If $S$ and $\\bar S$ are unentangled, i.e. $\\ket{\\psi} = \\ket{\\psi_S}\\otimes \\ket{\\psi_{\\bar S}}$, then $\\rho_S = \\ket{\\psi_S}\\bra{\\psi_S}$\n",
    "and the purity of $S$ is $P(S)=1$.\n",
    "Meanwhile if $S$ and $\\bar S$ *are* entangled, then $\\rho_S$ will be a mixed state and $P(S)$ will be less than 1\n",
    "(can you prove this?).\n",
    "\n",
    "So to verify that qubits $S=\\{0,3\\}$ are unentangled with qubits $\\bar S=\\{1,2,4\\}$ we just need to check that $P(S) = 1$. \n",
    "Instead of just computing $P(\\{0,3\\})$, let's go a step further and compute the purities of *all* subsystems of qubits.\n",
    "Because there are 5 qubits we can denote a subsystem as a 5-bit string, where a 1 bit indicates that a qubit belongs to the subsystem and a 0 bit that it doesn't belong.\n",
    "For example '10010' denotes the subsystem $S=\\{0,3\\}$ because it has 1s in positions 0 and 3.\n",
    "\n",
    "Since there are $2^5=32$ different 5-bit strings, there are 32 total subsystems.\n",
    "Let's create a histogram showing all 32 subsystem purities.\n",
    "First we define a function to compute the purity of a subsystem.\n",
    "`qml.purity()` does the heavy lifting:"
   ]
  },
  {
   "cell_type": "code",
   "execution_count": 40,
   "metadata": {},
   "outputs": [],
   "source": [
    "dev = qml.device('default.qubit')\n",
    "\n",
    "@qml.qnode(dev)\n",
    "def get_purity(state, subsystem):\n",
    "    qml.StatePrep(state, wires=range(n))\n",
    "    return qml.purity(wires=np.nonzero(subsystem)[0])"
   ]
  },
  {
   "cell_type": "markdown",
   "metadata": {},
   "source": [
    "Now let's compute all subsystem purities and store them in a `purities` list.\n",
    "We'll also store the subsystems, encoded as 5-bit strings, into a `bitstrings` list.\n",
    "The empty subsystem 00000 is an edge case that `qml.purity()` can't handle, so we add it by hand.\n",
    "Because complementary subsystems have identical purities (prove this!), $P(00000) = P(11111) = 1$."
   ]
  },
  {
   "cell_type": "code",
   "execution_count": 41,
   "metadata": {},
   "outputs": [],
   "source": [
    "bitstrings = ['0' * 5]\n",
    "purities = [1.]\n",
    "\n",
    "for subsystem_idx in range(1, 2**n):\n",
    "    # convert integer index to list of bits\n",
    "    subsystem = [int(bit) for bit in format(subsystem_idx, f'0{n}b')]\n",
    "    \n",
    "    # compute purity and append\n",
    "    purity = get_purity(state, subsystem)\n",
    "    purities.append(purity)\n",
    "\n",
    "    # convert bit list to bit string and append\n",
    "    bitstring = ''.join(str(bit) for bit in subsystem)\n",
    "    bitstrings.append(bitstring)"
   ]
  },
  {
   "cell_type": "markdown",
   "metadata": {},
   "source": [
    "Now we can plot the purities in a histogram"
   ]
  },
  {
   "cell_type": "code",
   "execution_count": 42,
   "metadata": {},
   "outputs": [
    {
     "data": {
      "image/png": "[encoded data removed]",
      "text/plain": [
       "<Figure size 640x480 with 1 Axes>"
      ]
     },
     "metadata": {},
     "output_type": "display_data"
    }
   ],
   "source": [
    "plt.bar(bitstrings, purities)\n",
    "plt.xticks(rotation=90)\n",
    "plt.axhline(y=1.0, color='r', ls='--')\n",
    "plt.xlabel('subsystem')\n",
    "plt.ylabel('purity')\n",
    "plt.title('Subsystem purities')\n",
    "plt.show()"
   ]
  },
  {
   "cell_type": "markdown",
   "metadata": {},
   "source": [
    "Notice the 4 subsystems that have purity equal to 1: \n",
    "- the entire system 11111 and its empty complement 00000\n",
    "- the subsystem 10010 and its complement 01101\n",
    "\n",
    "Remember that a purity of 1 means that the subsystem is pure.\n",
    "This tells us that besides the entire state $\\ket{\\psi}$ and the trivial empty state, which are pure by definition,\n",
    "the only other subsystems that are pure are $S=\\{0,3\\}$ (encoded as '10010') and $\\bar S=\\{1,2,4\\}$ (encoded as '01101').\n",
    "So $\\ket{\\psi}$ is separable along the cut between $S$ and $\\bar S$, exactly as we expected."
   ]
  },
  {
   "cell_type": "markdown",
   "metadata": {},
   "source": [
    "## The naive approach to hidden cuts"
   ]
  },
  {
   "cell_type": "markdown",
   "metadata": {},
   "source": [
    "Remember our problem: given a state of many qubits, find the separable components.\n",
    "\n",
    "The above discussion suggests one way to solve the problem: \n",
    "compute the purities of all subsystems and look for the subsystems with purity equal to 1.\n",
    "The problem with this approach is that a system of $n$ qubits has $2^n$ subsystems, \n",
    "so looking for pure subsystems by brute force search has an exponential complexity in $n$.\n",
    "\n",
    "We need a more efficient way to find the hidden cut."
   ]
  },
  {
   "cell_type": "markdown",
   "metadata": {},
   "source": [
    "## Symmetries of the purity function"
   ]
  },
  {
   "cell_type": "markdown",
   "metadata": {},
   "source": [
    "Let's look at the subsystem purity function (the historgram we plotted above) more closely.\n",
    "Notice that some of the bars seem like they're the same height.\n",
    "To visualize this, let's colour in the bars according to their height:"
   ]
  },
  {
   "cell_type": "code",
   "execution_count": 43,
   "metadata": {},
   "outputs": [
    {
     "data": {
      "image/png": "[encoded data removed]",
      "text/plain": [
       "<Figure size 640x480 with 1 Axes>"
      ]
     },
     "metadata": {},
     "output_type": "display_data"
    }
   ],
   "source": [
    "# colour map\n",
    "cmap = plt.cm.tab10\n",
    "purities = np.round(purities, 5)\n",
    "unique_purities = set(purities)\n",
    "colours = cmap(np.linspace(0, 1, len(unique_purities)))\n",
    "purity_to_colour = dict(zip(unique_purities, colours))\n",
    "bar_colours = [purity_to_colour[purity] for purity in purities]\n",
    "\n",
    "# plot\n",
    "plt.bar(bitstrings, purities, color=bar_colours)\n",
    "plt.xticks(rotation=90)\n",
    "plt.axhline(y=1.0, color='r', ls='--')\n",
    "plt.xlabel('subsystem')\n",
    "plt.ylabel('purity')\n",
    "plt.title('Subsystem purities')\n",
    "plt.show()"
   ]
  },
  {
   "cell_type": "markdown",
   "metadata": {},
   "source": [
    "Notice that there are 8 sets of 4 bitstrings each with the same purity.  \n",
    "**Question**: How are bitstrings of the same purity related? \n",
    "\n",
    "Pause here for a bit, stare at the histogram, and try to answer the question yourself! \n",
    "\n",
    "Ready for the answer?\n",
    "\n",
    "**Answer**: Same purity bitstrings are related by bitstring addition of 01101 and 10010.\n",
    "\n",
    "For example, start with the first orange bar, 00000.\n",
    "- Adding 01101 to 00000 gives 01101, the second orange bar. \n",
    "- Adding 10010 to 00000 gives 10010, the third orange bar.\n",
    "- Adding both 01101 and 10010 to 00000 gives 11111, the fourth orange bar.\n",
    "\n",
    "These four orange bars are the subsystems of purity 1 that we discussed earlier.\n",
    "\n",
    "As another example, start with the third violet bar, 10110.\n",
    "- Adding 01101 (bitwise modulo 2) to 10110 gives 11011, the fourth violet bar.\n",
    "- Adding 10010 to 10110 gives 00100, the first violet bar.\n",
    "- Adding both 01101 and 10010 to 10110 gives 01001, the second violet bar.\n",
    "\n",
    "\n",
    "In fact, this approach to getting bars of the same height always works.\n",
    "You should try it by starting with a bar of another colour.\n",
    "You'll find that adding 01101 and/or 10010 to this bar will always give the other 3 bars of the same colour!"
   ]
  },
  {
   "cell_type": "markdown",
   "metadata": {},
   "source": [
    "What this observation tells us is that the purity function $P(s)$ has a symmetry: \n",
    "For any bitstring $s$,\n",
    "$$\n",
    "P(s) = P(s + 10010) = P(s + 01101) = P(s + 11111)\n",
    "$$\n",
    "We can associate the set $H = \\{00000, 10010, 01101, 11111\\}$ to our symmetry;\n",
    "these are the bitstrings that we can add to $s$ without changing its purity.\n",
    "The set $H$ has three important properties:\n",
    "1. It contains the unique \"identity\" bitstring 00000, for which $s + 00000 = s$ for all $s$\n",
    "2. The set is closed under addition\n",
    "3. Every element in $H$ has an inverse in $H$, such that the element plus its inverse give the identity. \n",
    "(In fact every element is its own inverse.)\n",
    "\n",
    "These three properties turn $H$ into what is called a *group* in math.\n",
    "A group is just a set closed under an associative \"addition\" operation (here bitstring addition), containing an identity and inverses for every element.\n",
    "So what we discovered is that the purity function has a symmetry and that this symmetry is associated with a group.\n",
    "Thinking of symmetries as groups is arguably the most successful guiding principle in quantum physics (if not all of physics), and we'll see that it's useful here as well."
   ]
  },
  {
   "cell_type": "markdown",
   "metadata": {},
   "source": [
    "## Hidden cut problem as a hidden subgroup problem"
   ]
  },
  {
   "cell_type": "markdown",
   "metadata": {},
   "source": [
    "To see how symmetries can help us find separable components, take another look at the symmetry group $H$.\n",
    "Notice that by adding the two bitstrings 10100 and 01011 in different linear combinations, we can generate any element of $H$. \n",
    "We say that 10010 and 01101 are \"generators\" of $H$.\n",
    "\n",
    "**Question**: Is there anything special about the generators 10010 and 01101 of the symmetry group $H$?\n",
    "\n",
    "Pause and think about it!\n",
    "\n",
    "**Answer**: The generators directly give us the separable subsets $S$ and $\\bar S$ of the original 5-qubit state! \n",
    "What I mean is that the first generator 10010 has 1s in positions 0 and 3, so this gives the subset $S=\\{0,3\\}, \n",
    "and the second generator 01101 has 1s in positions 1, 2, and 4, so this gives the complementary subset $S=\\{1,2,4\\}$.\n",
    "\n",
    "In fact, this relationship between generators and separable components is not a coincidence:\n",
    "for any multi-qubit state $\\ket\\psi$ the separable components are equal to the generators of $H$, the symmetry group of the purity function!\n",
    "(Optional exercise for curious readers: prove this statement!)\n",
    "\n",
    "\n",
    "<!-- To see why, let's work through an example using our state $\\ket\\psi = \\ket{\\psi_{0,2}}\\otimes\\ket{\\psi_{1,3,4}}$.\n",
    "We can schematically visualize this state as:\n",
    "\n",
    "[Picture: graph with nodes 0,2 connected and nodes 1,3,4 connected]\n",
    "\n",
    "As an example let's consider subsystem $A=01110$ containing qubits 1, 2, and 3.\n",
    "We can shade in the qubits corresponding to subsystem $A$:\n",
    "\n",
    "[Picture: same graph but now with nodes 1,2,3 shaded in]\n",
    "\n",
    "Because qubit 2 is separated from qubits 1 and 3, the density matrix of subsystem $A$ is $\\rho_A = \\rho_{\\{1,3\\}}\\otimes\\rho_{\\{2\\}}$.\n",
    "Using the property that the trace of a tensor product of matrices is the product of traces, the purity of $A$ becomes:\n",
    "$$\n",
    "P(A) = \n",
    "\\text{Tr}(\\rho_{\\{1,3\\}}^2)\n",
    "\\text{Tr}(\\rho_{\\{2\\}}^2).\n",
    "$$\n",
    "\n",
    "Ok, now let's look at subsystem $B$ obtained by adding to $A$ the bitstring $10100$, corresponding to the separable component $\\bar S = \\{0,2\\}$. \n",
    "Bitstring addition gives $B = 11010$, the subsystem containing qubits 0, 1, and 3.\n",
    "Because we added the bitstring corresponding to $\\bar S = \\{0,2\\}$, this just toggles the shading on those bits:\n",
    "\n",
    "[Picture: same graph but now with nodes 0,1,3 shaded in]\n",
    "\n",
    "The density matrix of subsystem $B$ is $\\rho_B = \\rho_{\\{1,3\\}}\\otimes\\rho_{\\{0\\}}$ and the purity of $B$ is:\n",
    "$$\n",
    "P(B) = \n",
    "\\text{Tr}(\\rho_{\\{1,3\\}}^2)\n",
    "\\text{Tr}(\\rho_{\\{0\\}}^2).\n",
    "$$\n",
    "So the only difference between $P(A)$ and $P(B)$ is that the factor $\\text{Tr}(\\rho_{\\{2\\}}^2)$ got replaced by the factor $\\text{Tr}(\\rho_{\\{0\\}}^2)$.\n",
    "This corresponds to the \"toggling\" of the bits in $\\bar S=\\{0,2\\}$.\n",
    "But because $\\bar S$ is a separable system $\\text{Tr}(\\rho_{\\{2\\}}^2)$ is equal to $\\text{Tr}(\\rho_{\\{0\\}}^2)$, and so $P(A) = P(B)$!\n",
    "The general point is: toggling bits in a separable component doesn't change the purity.\n",
    "Or in other words: separable components are symmetry generators of the purity function. -->"
   ]
  },
  {
   "cell_type": "markdown",
   "metadata": {},
   "source": [
    "This is a very important observation!\n",
    "It means that to determine the separable components of $\\ket\\psi$ we just need to find $H$, the symmetry group of the purity function!\n",
    "\n",
    "\n",
    "\n",
    "\n",
    "Just as the bitstrings $H = \\{00000, 10100, 01011, 11111\\}$ form group, the set $G$ of all $n$-bit strings also forms a group: \n",
    "it's closed under addition, it contains the identity, and every element in $G$ has an inverse in $G$.\n",
    "$G$ contains $2^n$ elements.\n",
    "In fact, the group $H$ is a subset of the group $G$.\n",
    "We say that $H$ is a *subgroup* of $G$.\n",
    "Because the generators of $H$ encode the separable components of $\\ket\\psi$, we can find the hidden cut of $\\ket\\psi$ by finding the hidden subgroup $H$ of $G$.\n",
    "This is an example of a *hidden subgroup problem* (HSP), an important class of problems that quantum computers can solve efficiently. \n",
    "The most famous HSP is the problem of factoring large integers.\n",
    "Like the hidden cut problem, it's not immediately obvious that factoring is related to finding a subgroup, but in fact it is.\n",
    "We'll use the HSP algorithm to solve the hidden cut problem.\n",
    "\n",
    "In the general HSP we want to find the symmetry subgroup $H$ of a function $f$ over a group $G$. \n",
    "When $G$ is the group of $n$-bit strings, the algorithm to solve the HSP is particularly simple.\n",
    "The algorithm assumes that we have access to a quantum version of the function $f$, meaning a unitary $U_f$\n",
    "that maps $\\ket g \\ket 0$ to $\\ket g \\ket{f(g)}$ for every element $g$ of the group $G$.\n",
    "Here $\\ket g$ is an encoding of $g$ into an $n$-qubit register, and $\\ket{f(g)}$ is a second register that encodes $f(g)$ such that\n",
    "$\\ket{f(g)}$ and $\\ket{f(g')}$ are equal if $f(g) = f(g')$ and otherwise orthogonal.\n",
    "\n",
    "The HSP algorithm works by obtaining measurements from a quantum circuit and then postprocessing the measurements.\n",
    "The quantum circuit first applies Hadamards to the $\\ket 0$ state to create a uniform superposition $\\sum_g \\ket g$ in the group register, \n",
    "then applies $U_f$ to create the state $\\sum_g \\ket g\\ket{f(g)}$, and finally again applies Hadamards to the first register.\n",
    "The circuit looks like:\n",
    "\n",
    "[Picture of circuit]\n",
    "\n",
    "The key feature of this circuit is that measurments of the group register are guaranteed to be orthogonal to the hidden subgroup $H$.\n",
    "For example if we run the circuit and get a measurement outcome $m=10101$, then we know that $a = 00011$ is not in $H$ because $a\\cdot m != 0 \\text{ mod }2$.\n",
    "Repeatedly running the circuit and performing measurements tells us what bitstrings cannot be in $H$.\n",
    "After $\\mathcal O(n)$ measurements, the bitstrings that are orthogonal to all measurements are very likely in $H$.\n",
    "At this point we stop the algorithm and predict that $H$ is given by these bitstrings.\n",
    "\n",
    "Now let's apply this to solve the hidden cut problem for the state $\\ket \\psi$.\n",
    "The general function $f(s)$ is now the subsystem purity function $P(s)$.\n"
   ]
  },
  {
   "cell_type": "code",
   "execution_count": 44,
   "metadata": {},
   "outputs": [],
   "source": [
    "# Suppose we want to find the hidden symmetry subgroup of a function f(s) over n-bit strings s. we start with two n-qubit registers initialized in the all |0> states. \n",
    "# the first step is to apply a Hadamard to each qubit in the first register to create a uniform superposition sum |s>.\n",
    "# the second step assumes that we have access to a unitary U_f that maps |s>|0> to |s>|f(s)>, such that |f(s)> and |f(s')> are equal if f(s) = f(s') and orthogonal if f(s) != f(s').\n",
    "# the final step is to again apply Hadamards to the first register, and measure this register.\n",
    "# the circuit looks like:\n",
    "\n",
    "# The crucial feature of this circuit is that the measurement outcomes are guaranteed to be orthogonal to the hidden subgroup bitstrings (ie the bitstrings defining the symmetry of f(s)).\n",
    "# for example if we get a measurement outcome ..., then a hidden subgroup element might be ... because ..., but ... is definitely not in the hidden subgroup, because ....\n",
    "# Therefore by obtaining measurment outcomes and finding the bitstrings orthogonal to all measurments, we will identify the hidden symmetry of f.\n",
    "\n",
    "# Now let's apply this to solve the hidden cut problem for the state psi. Remember that here the function f(s) is pi(s), the purity of psi's subsystems.\n",
    "# We immediately run into a problem however. Unlike in the basic HSP problem, we arent provided with a unitary mapping |s>|0> to |s>|pi(s)>.\n",
    "# So what do we do? Let's create the unitary!\n",
    "\n",
    "# Recall the key property that the unitary is supposed to have: |f(s)> and |f(s')> should be equal if f(s) = f(s') and orthogonal if f(s) != f(s').\n",
    "# Consider the controlled swap unitary, mapping |s>|psi>|psi> to |s>SWAP_s(|psi>|psi>), where s denotes the qubits to be swapped between the two copies of |psi>\n",
    "\n",
    "# Let's check if the controlled swap unitary has the desired properties.\n",
    "# First, if pi(s) = pi(s') we want SWAP_s(|psi>|psi>) to equal SWAP_s(|psi>|psi>). \n",
    "# Let's consider an example. We see from our plot of pi(s) that ... and ... have the same value of pi.\n",
    "# Let's check the inner product of SWAP_s(|psi>|psi>) and SWAP_s'(|psi>|psi>):\n",
    "\n",
    "# Since the inner product is 1, the SWAP_s(|psi>|psi>) and SWAP_s'(|psi>|psi>) must be identical.\n",
    "\n",
    "# Now let's check whether pi(s) != pi(s') implies SWAP_s(|psi>|psi>) and SWAP_s'(|psi>|psi>)...\n",
    "\n",
    "# So it turns out that SWAP_s(|psi>|psi>) and SWAP_s'(|psi>|psi>) are not orthogonal and so the SWAP_s unitary does not satisfy the second requirement for the unitary in the HSP circuit.\n",
    "\n",
    "# Even though we don't expect it to work, let's nevertheless try running the HSP circuit with the SWAP_s unitary, and see what happens.\n",
    "\n",
    "# ...10 samples\n",
    "\n",
    "# Remember the final postprocessing step to solving an HSP via a quantum computer: we have to determine the bitstrings orthogonal to the measurement outcomes, where two bitstrings s and t are orthogonal if s.t = 0 modulo 2. This is a basic linear algebra problem that amounts to finding the nullspace of the matrix of measurement outcomes over the finite field GF(2).\n",
    "\n",
    "# But by being clever we can avoid doing any linear algebra.\n",
    "\n",
    "# Look at the allowed measurement outcomes very carefully. Do you notice anything in common between them?\n",
    "\n",
    "# The answer: they are exactly those bitstrings that have an even number of 1s in positions ... *and* an even number of 1s in positions ...\n",
    "\n",
    "# This means that the only bitstrings orthogonal to the allowed measurement outcomes are the all 0 bitstring, the all 1 bitstring, the bitstring ... and the bitstring ...\n",
    "\n",
    "# This is exactly the hidden subgroup generated by ... and ..., where the generators encode the separable components ... and ... of the original state |psi>.\n",
    "\n",
    "# Therefore the HSP circuit with the SWAP_s unitary finds the separable components!\n",
    "\n",
    "# Let's check it with another state to make sure we didn't just get lucky.\n",
    "\n",
    "# This time let's consider a 4 qubit state ...\n",
    "\n",
    "\n",
    "# again it works!\n",
    "\n",
    "# So we have solved the hidden cut problem by rephrasing it as an HSP and using the unitary SWAP_s.\n",
    "\n",
    "# but why does this work? Recall that in the standard quantum circuit for HSP we need |f(s)> and |f(s')> should be equal if f(s) = f(s') and orthogonal if f(s) != f(s'). However in our case f(s) is the purity function pi(s), and we set |pi(s)> = SWAP_s(|psi>|psi>). We saw above that this satisfies the equality requirement, but not the orthogonality requirement. Namely pi(s) != pi(s') doesn't generally imply that |pi(s)> and |pi(s')> are orthogonal.\n",
    "\n",
    "# To understand why our circuit worked despite this non-orthogonality, let's think about how we could have defined |pi(s)> differently so that the orthogonality requirement *was* satisfied.\n",
    "# This is actually quite straightforward: just define |pi(s)> = [SWAP_s(|psi>|psi>)]^t for some large t. \n",
    "# Then as long as the inner product between SWAP_s(|psi>|psi>) and SWAP_s(|psi>|psi>) is not 1 (ie they aren't identical), the inner product between |pi(s)> and |pi(s')> will be effectively 0 (exponentially approach 0 as t increases).\n",
    "\n",
    "# So if instead of using only 1 pair |psi>|psi> in our quantum circuit we used t pairs, for large enough t this would've exactly functioned like a standard issue HSP circuit.\n",
    "\n",
    "# Unfortunately the circuit with t pairs of |psi>|psi> requires (1 + 2t) * n qubits (the 1 is for the control register and the 2t for the 2t pairs of |psi>|psi>), so simulating this with n=4 is not feasible for t > 2.\n",
    "\n",
    "# With that in mind let's look consider the circuit with t=2 and compare with what we got above with t=1. Hopefully we'll see something interesting that we can extrapolate to t -> inf.\n",
    "\n",
    "# ...\n",
    "\n",
    "# plot probs histograms\n",
    "\n",
    "# we notice that the same measurement outcomes are allowed, and only their probabilities differ.\n",
    "\n",
    "# in particular the distribution is more skewed towards outcomes with fewer 1s for t=1, and more uniform for t=2\n",
    "\n",
    "# we can conjecture that this trend continues for larger t: the allowed outcomes remain the same as in the t=1 case, but the distribution becomes more and more uniform.\n",
    "\n",
    "# in fact this it can be proven analytically that this conjecture is correct, and if we had a powerful enough simulator (or a quantum computer), we'd be able to verify this.\n",
    "\n",
    "# So now we can understand why our hidden cut circuit with only 1 pair of |psi>s worked, when naively we didn't expect it to. It is because the allowed measurement outcomes from the output of this t=1 circuit are exactly the allowed measurmenet outcomes from the t-> infty circuit. Because the outcome of the final postprocessing step of the quantum HSP algorithm only depends on the allowed measurement outcomes and not on their probabilities, the t=1 algorithm is able to get the same outcome as the large t algorithm. \n",
    "\n",
    "# So should we use small t or large t?\n",
    "\n",
    "# do sample efficiency experiment. Expect result to be: use large t if you can because it's more sample efficient. \n",
    "\n"
   ]
  },
  {
   "cell_type": "code",
   "execution_count": 45,
   "metadata": {},
   "outputs": [],
   "source": [
    "\n",
    "def hidden_cut_circuit(state, n_copies=1):\n",
    "\n",
    "    n = int(np.log2(len(state)))\n",
    "    n_qubits = (2 * n_copies + 1) * n\n",
    "    dev = qml.device('lightning.qubit', wires=n_qubits)\n",
    "\n",
    "    @qml.qnode(dev)\n",
    "    def _circuit():\n",
    "        # Create copies of state\n",
    "        for pair in range(n_copies):\n",
    "            for copy in range(2):\n",
    "                offset = n + 2 * n * pair + n * copy\n",
    "                qml.StatePrep(state, wires=range(offset, offset + n))\n",
    "                                \n",
    "        # Hadamard transform\n",
    "        for wire in range(n):\n",
    "            qml.Hadamard(wires=wire)\n",
    "\n",
    "        # Controlled swaps\n",
    "        for c in range(n):\n",
    "            for pair in range(n_copies):\n",
    "                a = c + n + 2*n*pair\n",
    "                b = c + n + 2*n*pair + n\n",
    "                qml.ctrl(qml.SWAP, c, control_values=1)(wires=(a,b))\n",
    "\n",
    "        # Hadamard transform\n",
    "        for wire in range(0, n):\n",
    "            qml.Hadamard(wires=wire)\n",
    "\n",
    "        # Return probs of first register\n",
    "        return qml.probs(wires=range(n))\n",
    "\n",
    "    return _circuit()\n",
    "    \n",
    "probs = hidden_cut_circuit(state, n_copies=1)\n",
    "bitstrings = [bin(x)[2:].zfill(n) for x in range(2**n)]\n",
    "\n",
    "# plt.bar(bitstrings, probs)\n",
    "# plt.xticks(rotation=90)\n",
    "# plt.show()\n",
    "\n",
    "# np.random.choice(len(probs), size=100, p=probs)"
   ]
  },
  {
   "cell_type": "code",
   "execution_count": 46,
   "metadata": {},
   "outputs": [
    {
     "ename": "DeviceError",
     "evalue": "Measurement state(wires=[]) not accepted with finite shots on lightning.qubit",
     "output_type": "error",
     "traceback": [
      "\u001b[0;31m---------------------------------------------------------------------------\u001b[0m",
      "\u001b[0;31mDeviceError\u001b[0m                               Traceback (most recent call last)",
      "Cell \u001b[0;32mIn[46], line 9\u001b[0m\n\u001b[1;32m      6\u001b[0m     \u001b[38;5;66;03m# return qml.state()\u001b[39;00m\n\u001b[1;32m      7\u001b[0m     \u001b[38;5;28;01mreturn\u001b[39;00m qml\u001b[38;5;241m.\u001b[39mprobs()\n\u001b[0;32m----> 9\u001b[0m \u001b[43mqml\u001b[49m\u001b[38;5;241;43m.\u001b[39;49m\u001b[43msnapshots\u001b[49m\u001b[43m(\u001b[49m\u001b[43mcircuit\u001b[49m\u001b[43m)\u001b[49m\u001b[43m(\u001b[49m\u001b[43m)\u001b[49m\n",
      "File \u001b[0;32m~/miniconda3/envs/qml/lib/python3.11/site-packages/pennylane/workflow/qnode.py:882\u001b[0m, in \u001b[0;36mQNode.__call__\u001b[0;34m(self, *args, **kwargs)\u001b[0m\n\u001b[1;32m    879\u001b[0m     \u001b[38;5;28;01mfrom\u001b[39;00m \u001b[38;5;21;01m.\u001b[39;00m\u001b[38;5;21;01m_capture_qnode\u001b[39;00m \u001b[38;5;28;01mimport\u001b[39;00m capture_qnode  \u001b[38;5;66;03m# pylint: disable=import-outside-toplevel\u001b[39;00m\n\u001b[1;32m    881\u001b[0m     \u001b[38;5;28;01mreturn\u001b[39;00m capture_qnode(\u001b[38;5;28mself\u001b[39m, \u001b[38;5;241m*\u001b[39margs, \u001b[38;5;241m*\u001b[39m\u001b[38;5;241m*\u001b[39mkwargs)\n\u001b[0;32m--> 882\u001b[0m \u001b[38;5;28;01mreturn\u001b[39;00m \u001b[38;5;28;43mself\u001b[39;49m\u001b[38;5;241;43m.\u001b[39;49m\u001b[43m_impl_call\u001b[49m\u001b[43m(\u001b[49m\u001b[38;5;241;43m*\u001b[39;49m\u001b[43margs\u001b[49m\u001b[43m,\u001b[49m\u001b[43m \u001b[49m\u001b[38;5;241;43m*\u001b[39;49m\u001b[38;5;241;43m*\u001b[39;49m\u001b[43mkwargs\u001b[49m\u001b[43m)\u001b[49m\n",
      "File \u001b[0;32m~/miniconda3/envs/qml/lib/python3.11/site-packages/pennylane/workflow/qnode.py:855\u001b[0m, in \u001b[0;36mQNode._impl_call\u001b[0;34m(self, *args, **kwargs)\u001b[0m\n\u001b[1;32m    852\u001b[0m \u001b[38;5;66;03m# Calculate the classical jacobians if necessary\u001b[39;00m\n\u001b[1;32m    853\u001b[0m \u001b[38;5;28mself\u001b[39m\u001b[38;5;241m.\u001b[39m_transform_program\u001b[38;5;241m.\u001b[39mset_classical_component(\u001b[38;5;28mself\u001b[39m, args, kwargs)\n\u001b[0;32m--> 855\u001b[0m res \u001b[38;5;241m=\u001b[39m \u001b[43mqml\u001b[49m\u001b[38;5;241;43m.\u001b[39;49m\u001b[43mexecute\u001b[49m\u001b[43m(\u001b[49m\n\u001b[1;32m    856\u001b[0m \u001b[43m    \u001b[49m\u001b[43m(\u001b[49m\u001b[43mtape\u001b[49m\u001b[43m,\u001b[49m\u001b[43m)\u001b[49m\u001b[43m,\u001b[49m\n\u001b[1;32m    857\u001b[0m \u001b[43m    \u001b[49m\u001b[43mdevice\u001b[49m\u001b[38;5;241;43m=\u001b[39;49m\u001b[38;5;28;43mself\u001b[39;49m\u001b[38;5;241;43m.\u001b[39;49m\u001b[43mdevice\u001b[49m\u001b[43m,\u001b[49m\n\u001b[1;32m    858\u001b[0m \u001b[43m    \u001b[49m\u001b[43mdiff_method\u001b[49m\u001b[38;5;241;43m=\u001b[39;49m\u001b[38;5;28;43mself\u001b[39;49m\u001b[38;5;241;43m.\u001b[39;49m\u001b[43mdiff_method\u001b[49m\u001b[43m,\u001b[49m\n\u001b[1;32m    859\u001b[0m \u001b[43m    \u001b[49m\u001b[43minterface\u001b[49m\u001b[38;5;241;43m=\u001b[39;49m\u001b[38;5;28;43mself\u001b[39;49m\u001b[38;5;241;43m.\u001b[39;49m\u001b[43minterface\u001b[49m\u001b[43m,\u001b[49m\n\u001b[1;32m    860\u001b[0m \u001b[43m    \u001b[49m\u001b[43mtransform_program\u001b[49m\u001b[38;5;241;43m=\u001b[39;49m\u001b[38;5;28;43mself\u001b[39;49m\u001b[38;5;241;43m.\u001b[39;49m\u001b[43m_transform_program\u001b[49m\u001b[43m,\u001b[49m\n\u001b[1;32m    861\u001b[0m \u001b[43m    \u001b[49m\u001b[43mgradient_kwargs\u001b[49m\u001b[38;5;241;43m=\u001b[39;49m\u001b[38;5;28;43mself\u001b[39;49m\u001b[38;5;241;43m.\u001b[39;49m\u001b[43mgradient_kwargs\u001b[49m\u001b[43m,\u001b[49m\n\u001b[1;32m    862\u001b[0m \u001b[43m    \u001b[49m\u001b[38;5;241;43m*\u001b[39;49m\u001b[38;5;241;43m*\u001b[39;49m\u001b[38;5;28;43mself\u001b[39;49m\u001b[38;5;241;43m.\u001b[39;49m\u001b[43mexecute_kwargs\u001b[49m\u001b[43m,\u001b[49m\n\u001b[1;32m    863\u001b[0m \u001b[43m\u001b[49m\u001b[43m)\u001b[49m\n\u001b[1;32m    864\u001b[0m res \u001b[38;5;241m=\u001b[39m res[\u001b[38;5;241m0\u001b[39m]\n\u001b[1;32m    866\u001b[0m \u001b[38;5;66;03m# convert result to the interface in case the qfunc has no parameters\u001b[39;00m\n",
      "File \u001b[0;32m~/miniconda3/envs/qml/lib/python3.11/site-packages/pennylane/workflow/execution.py:244\u001b[0m, in \u001b[0;36mexecute\u001b[0;34m(tapes, device, diff_method, interface, transform_program, grad_on_execution, cache, cachesize, max_diff, device_vjp, postselect_mode, mcm_method, gradient_kwargs, mcm_config, config, inner_transform)\u001b[0m\n\u001b[1;32m    241\u001b[0m \u001b[38;5;28;01mif\u001b[39;00m transform_program\u001b[38;5;241m.\u001b[39mis_informative:\n\u001b[1;32m    242\u001b[0m     \u001b[38;5;28;01mreturn\u001b[39;00m post_processing(tapes)\n\u001b[0;32m--> 244\u001b[0m results \u001b[38;5;241m=\u001b[39m \u001b[43mrun\u001b[49m\u001b[43m(\u001b[49m\u001b[43mtapes\u001b[49m\u001b[43m,\u001b[49m\u001b[43m \u001b[49m\u001b[43mdevice\u001b[49m\u001b[43m,\u001b[49m\u001b[43m \u001b[49m\u001b[43mconfig\u001b[49m\u001b[43m,\u001b[49m\u001b[43m \u001b[49m\u001b[43minner_transform\u001b[49m\u001b[43m)\u001b[49m\n\u001b[1;32m    245\u001b[0m \u001b[38;5;28;01mreturn\u001b[39;00m post_processing(results)\n",
      "File \u001b[0;32m~/miniconda3/envs/qml/lib/python3.11/site-packages/pennylane/workflow/run.py:286\u001b[0m, in \u001b[0;36mrun\u001b[0;34m(tapes, device, config, inner_transform_program)\u001b[0m\n\u001b[1;32m    282\u001b[0m no_interface_boundary_required \u001b[38;5;241m=\u001b[39m (\n\u001b[1;32m    283\u001b[0m     config\u001b[38;5;241m.\u001b[39minterface \u001b[38;5;241m==\u001b[39m Interface\u001b[38;5;241m.\u001b[39mNUMPY \u001b[38;5;129;01mor\u001b[39;00m config\u001b[38;5;241m.\u001b[39mgradient_method \u001b[38;5;241m==\u001b[39m \u001b[38;5;124m\"\u001b[39m\u001b[38;5;124mbackprop\u001b[39m\u001b[38;5;124m\"\u001b[39m\n\u001b[1;32m    284\u001b[0m )\n\u001b[1;32m    285\u001b[0m \u001b[38;5;28;01mif\u001b[39;00m no_interface_boundary_required:\n\u001b[0;32m--> 286\u001b[0m     results \u001b[38;5;241m=\u001b[39m \u001b[43minner_execute\u001b[49m\u001b[43m(\u001b[49m\u001b[43mtapes\u001b[49m\u001b[43m)\u001b[49m\n\u001b[1;32m    287\u001b[0m     \u001b[38;5;28;01mreturn\u001b[39;00m results\n\u001b[1;32m    289\u001b[0m \u001b[38;5;66;03m# TODO: Prune once support for tf-autograph is dropped\u001b[39;00m\n",
      "File \u001b[0;32m~/miniconda3/envs/qml/lib/python3.11/site-packages/pennylane/workflow/run.py:248\u001b[0m, in \u001b[0;36m_make_inner_execute.<locals>.inner_execute\u001b[0;34m(tapes)\u001b[0m\n\u001b[1;32m    239\u001b[0m \u001b[38;5;28;01mdef\u001b[39;00m \u001b[38;5;21minner_execute\u001b[39m(tapes: QuantumScriptBatch) \u001b[38;5;241m-\u001b[39m\u001b[38;5;241m>\u001b[39m ResultBatch:\n\u001b[1;32m    240\u001b[0m \u001b[38;5;250m    \u001b[39m\u001b[38;5;124;03m\"\"\"Execution that occurs within a ML framework boundary.\u001b[39;00m\n\u001b[1;32m    241\u001b[0m \n\u001b[1;32m    242\u001b[0m \u001b[38;5;124;03m    Closure Variables:\u001b[39;00m\n\u001b[0;32m   (...)\u001b[0m\n\u001b[1;32m    245\u001b[0m \u001b[38;5;124;03m        device (qml.devices.Device): a Pennylane device\u001b[39;00m\n\u001b[1;32m    246\u001b[0m \u001b[38;5;124;03m    \"\"\"\u001b[39;00m\n\u001b[0;32m--> 248\u001b[0m     transformed_tapes, transform_post_processing \u001b[38;5;241m=\u001b[39m \u001b[43minner_transform\u001b[49m\u001b[43m(\u001b[49m\u001b[43mtapes\u001b[49m\u001b[43m)\u001b[49m\n\u001b[1;32m    250\u001b[0m     \u001b[38;5;28;01mif\u001b[39;00m transformed_tapes:\n\u001b[1;32m    251\u001b[0m         results \u001b[38;5;241m=\u001b[39m device\u001b[38;5;241m.\u001b[39mexecute(transformed_tapes, execution_config\u001b[38;5;241m=\u001b[39mexecution_config)\n",
      "File \u001b[0;32m~/miniconda3/envs/qml/lib/python3.11/site-packages/pennylane/transforms/core/transform_program.py:643\u001b[0m, in \u001b[0;36mTransformProgram.__call__\u001b[0;34m(self, *args, **kwargs)\u001b[0m\n\u001b[1;32m    641\u001b[0m \u001b[38;5;28;01mif\u001b[39;00m \u001b[38;5;28mtype\u001b[39m(args[\u001b[38;5;241m0\u001b[39m])\u001b[38;5;241m.\u001b[39m\u001b[38;5;18m__name__\u001b[39m \u001b[38;5;241m==\u001b[39m \u001b[38;5;124m\"\u001b[39m\u001b[38;5;124mJaxpr\u001b[39m\u001b[38;5;124m\"\u001b[39m:\n\u001b[1;32m    642\u001b[0m     \u001b[38;5;28;01mreturn\u001b[39;00m \u001b[38;5;28mself\u001b[39m\u001b[38;5;241m.\u001b[39m__call_jaxpr(\u001b[38;5;241m*\u001b[39margs, \u001b[38;5;241m*\u001b[39m\u001b[38;5;241m*\u001b[39mkwargs)\n\u001b[0;32m--> 643\u001b[0m \u001b[38;5;28;01mreturn\u001b[39;00m \u001b[38;5;28;43mself\u001b[39;49m\u001b[38;5;241;43m.\u001b[39;49m\u001b[43m__call_tapes\u001b[49m\u001b[43m(\u001b[49m\u001b[38;5;241;43m*\u001b[39;49m\u001b[43margs\u001b[49m\u001b[43m,\u001b[49m\u001b[43m \u001b[49m\u001b[38;5;241;43m*\u001b[39;49m\u001b[38;5;241;43m*\u001b[39;49m\u001b[43mkwargs\u001b[49m\u001b[43m)\u001b[49m\n",
      "File \u001b[0;32m~/miniconda3/envs/qml/lib/python3.11/site-packages/pennylane/transforms/core/transform_program.py:580\u001b[0m, in \u001b[0;36mTransformProgram.__call_tapes\u001b[0;34m(self, tapes)\u001b[0m\n\u001b[1;32m    578\u001b[0m \u001b[38;5;28;01mif\u001b[39;00m argnums \u001b[38;5;129;01mis\u001b[39;00m \u001b[38;5;129;01mnot\u001b[39;00m \u001b[38;5;28;01mNone\u001b[39;00m:\n\u001b[1;32m    579\u001b[0m     tape\u001b[38;5;241m.\u001b[39mtrainable_params \u001b[38;5;241m=\u001b[39m argnums[j]\n\u001b[0;32m--> 580\u001b[0m new_tapes, fn \u001b[38;5;241m=\u001b[39m \u001b[43mtransform\u001b[49m\u001b[43m(\u001b[49m\u001b[43mtape\u001b[49m\u001b[43m,\u001b[49m\u001b[43m \u001b[49m\u001b[38;5;241;43m*\u001b[39;49m\u001b[43mtargs\u001b[49m\u001b[43m,\u001b[49m\u001b[43m \u001b[49m\u001b[38;5;241;43m*\u001b[39;49m\u001b[38;5;241;43m*\u001b[39;49m\u001b[43mtkwargs\u001b[49m\u001b[43m)\u001b[49m\n\u001b[1;32m    581\u001b[0m execution_tapes\u001b[38;5;241m.\u001b[39mextend(new_tapes)\n\u001b[1;32m    583\u001b[0m fns\u001b[38;5;241m.\u001b[39mappend(fn)\n",
      "File \u001b[0;32m~/miniconda3/envs/qml/lib/python3.11/site-packages/pennylane/devices/preprocess.py:526\u001b[0m, in \u001b[0;36mvalidate_measurements\u001b[0;34m(tape, analytic_measurements, sample_measurements, name)\u001b[0m\n\u001b[1;32m    524\u001b[0m     \u001b[38;5;28;01mfor\u001b[39;00m m \u001b[38;5;129;01min\u001b[39;00m chain(snapshot_measurements, tape\u001b[38;5;241m.\u001b[39mmeasurements):\n\u001b[1;32m    525\u001b[0m         \u001b[38;5;28;01mif\u001b[39;00m \u001b[38;5;129;01mnot\u001b[39;00m sample_measurements(m):\n\u001b[0;32m--> 526\u001b[0m             \u001b[38;5;28;01mraise\u001b[39;00m qml\u001b[38;5;241m.\u001b[39mDeviceError(\u001b[38;5;124mf\u001b[39m\u001b[38;5;124m\"\u001b[39m\u001b[38;5;124mMeasurement \u001b[39m\u001b[38;5;132;01m{\u001b[39;00mm\u001b[38;5;132;01m}\u001b[39;00m\u001b[38;5;124m not accepted with finite shots on \u001b[39m\u001b[38;5;132;01m{\u001b[39;00mname\u001b[38;5;132;01m}\u001b[39;00m\u001b[38;5;124m\"\u001b[39m)\n\u001b[1;32m    528\u001b[0m \u001b[38;5;28;01melse\u001b[39;00m:\n\u001b[1;32m    529\u001b[0m     \u001b[38;5;28;01mfor\u001b[39;00m m \u001b[38;5;129;01min\u001b[39;00m chain(snapshot_measurements, tape\u001b[38;5;241m.\u001b[39mmeasurements):\n",
      "\u001b[0;31mDeviceError\u001b[0m: Measurement state(wires=[]) not accepted with finite shots on lightning.qubit"
     ]
    }
   ],
   "source": [
    "dev = qml.device('lightning.qubit', shots=10, wires=[0])\n",
    "@qml.qnode(dev)\n",
    "def circuit():\n",
    "    qml.Hadamard(wires=0)\n",
    "    qml.Snapshot('tag', qml.state())\n",
    "    # return qml.state()\n",
    "    return qml.probs()\n",
    "\n",
    "qml.snapshots(circuit)()"
   ]
  }
 ],
 "metadata": {
  "kernelspec": {
   "display_name": "qml",
   "language": "python",
   "name": "python3"
  },
  "language_info": {
   "codemirror_mode": {
    "name": "ipython",
    "version": 3
   },
   "file_extension": ".py",
   "mimetype": "text/x-python",
   "name": "python",
   "nbconvert_exporter": "python",
   "pygments_lexer": "ipython3",
   "version": "3.11.11"
  }
 },
 "nbformat": 4,
 "nbformat_minor": 2
}
