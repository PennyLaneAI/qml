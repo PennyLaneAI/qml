{
 "cells": [
  {
   "cell_type": "markdown",
   "metadata": {},
   "source": [
    "## Introduction to FALQON\n",
    "\n",
    "In this demo, we'll be implement the FALQON algorithm, standing for *Feedback-based ALgorithm for Quantum OptimizatioN*, introduced by [Magann, Rudinger, Grace & Sarovar (2021)](https://arxiv.org/pdf/2103.08619.pdf). It is similar in spirit to the [QAOA](https://arxiv.org/pdf/1411.4028.pdf), but scales with resources differently, using iterative feedback steps rather than a global optimization over parameters. We will show how to implement FALQON in PennyLane and test its performance on the **MaxClique** problem in graph theory!\n",
    "\n",
    "### Theory\n",
    "\n",
    "To solve combinatorial optimization problems using a quantum computer, a typical strategy is to encode the solution to the problem as the ground state of *cost Hamiltonian* $H_C$, and choose some strategy to drive the system from a known initial state into this ground state. FALQON falls under this broad scheme. The driving strategy is implemented with a *driving Hamiltonian* $H_D$ with a single control parameter $\\beta(t)$, so the system evolves according to\n",
    "\n",
    "$$\n",
    "i\\partial_t |\\psi(t)\\rangle = (H_C + \\beta(t) H_D) |\\psi(t)\\rangle,\n",
    "$$\n",
    "\n",
    "setting $\\hbar = 1$. We would ultimately like to minimize the expectation value of $\\langle H_C\\rangle$, so a reasonable driving strategy is simply to decrease this expectation with time:\n",
    "\n",
    "$$\n",
    "\\partial_t \\langle H_C\\rangle_t = \\partial_t \\langle \\psi(t)|H_C|\\psi(t)\\rangle = i \\beta(t)\\langle [H_D, H_C] \\rangle_t \\leq 0,\n",
    "$$\n",
    "\n",
    "where we used the product rule and Schrödinger's equation. An easy way to satisfy this equation is to pick $\\beta(t) = -\\langle i[H_D, H_C] \\rangle_t$, so that\n",
    "\n",
    "$$\n",
    "\\partial_t \\langle H_C\\rangle_t = -|\\langle i[H_D, H_C] \\rangle_t|^2 \\leq 0.\n",
    "$$\n",
    "\n",
    "(Note that we bring the $i$ into the expectation to give a Hermitian operator.)\n",
    "Using techniques from [control theory](https://arxiv.org/pdf/1304.3997.pdf), it is possible to show this will eventually drive the system into the ground state. But there are two issues: (a) first, we need to somehow *evaluate* the expectation $A(t) := i\\langle [H_D, H_C] \\rangle_t$ to implement the driving strategy, and (b) we must do so continuously in time! This seems rather impractical. In order to solve the first problem, we can perform a [Trotter-Suzuki](https://en.wikipedia.org/wiki/Lie_product_formula) decomposition of the time evolution operator $|\\psi(t)\\rangle = U(t)|\\psi_0\\rangle$:\n",
    "\n",
    "$$\n",
    "U(t) \\approx U_D(\\beta_\\ell) U_C U_D(\\beta_{\\ell-1}) U_C\\cdots\n",
    "U_D(\\beta_1) U_C, \\quad U_C = e^{-iH_C \\Delta t}, \\quad U_D(\\beta_k) =\n",
    "e^{-i\\beta_k H_D \\Delta t},\n",
    "$$\n",
    "\n",
    "where $\\Delta t = t/2\\ell$ and $\\beta_k = \\beta(2k\\Delta t)$. Our discrete-time driving strategy is to use the value of $A(t)$ at the previous time-step:\n",
    "\n",
    "$$\n",
    "\\beta_{k+1} = -A_k = -A(2k\\Delta t).\n",
    "$$\n",
    "\n",
    "This leads immediately to the FALQON algorithm. On step $k$, we perform the following three substeps:\n",
    "\n",
    "1. Prepare the state $|\\psi_k\\rangle = U_D(\\beta_k) U_C \\cdots U_D(\\beta_1) U_C|\\psi_0\\rangle$,\n",
    "2. Measure the expectation value $A_k = \\langle i[H_C, H_D]\\rangle_k$.\n",
    "3. Set $\\beta_{k+1} = -A_k$.\n",
    "\n",
    "Provided $\\Delta t$ is small enough to ensure negligible error in our Trotter-Suzuki decomposition, after enough steps we will approach the ground state. How small $\\Delta t$ needs to be, and how large $\\ell$, are fiddly and problem-dependent questions we won't get into now. Is this a good algorithm? One simple measure is the *sampling complexity* $N_S$, the number of times we need to run a circuit (ignoring the resources required by the circuit itself). This will obviously depend on\n",
    "\n",
    "- the number of samples $s$ required to perform a single measurement of $i[H_C, H_D]$;\n",
    "- the number of measurements $m$ we want to take in order to approximate the expectation $\\langle i[H_C, H_D]\\rangle$;  and\n",
    "- the total number of steps $\\ell$.\n",
    "\n",
    "Multiplying these gives a rough estimate for the sampling complexity $N_s = \\mathcal{O}(sm\\ell)$. We can contrast this with QAOA, which optimizes $\\langle H_C\\rangle$ over $2\\ell$ parameters (since it modulated the cost Hamiltonian as well). If it uses gradient descent, then each paramter will require separate circuit runs, leading to sampling complexity $N_S = \\mathcal{O}(qm\\ell)$, where $q$ is the number of runs needed for the classical optimization protocol. This suggests that FALQON is favorable when $s \\leq q$, i.e. it takes fewer circuit calls to measure $i[H_C, H_D]$ than it does to classically optimize a single parameter."
   ]
  },
  {
   "cell_type": "markdown",
   "metadata": {},
   "source": [
    "### A flightless FALQON in PennyLane\n",
    "\n",
    "Before launching into a concrete problem, let's describe how to set up the general FALQON algorithm in PennyLane. The code will be illustrative and not executable, but will prepare us for the next section. FALQON shares many structural characteristics with [QAOA](https://pennylane.ai/qml/demos/tutorial_qaoa_intro.html), and in fact, we can use it to perform the subroutines for FALQON! We recommend looking at that tutorial for further background information. Let's start by defining the cost and driving Hamiltonians using PennyLane's `Hamiltonian` operation. We also will typically need to put in the commutator by hand:"
   ]
  },
  {
   "cell_type": "code",
   "execution_count": 3,
   "metadata": {},
   "outputs": [],
   "source": [
    "import pennylane as qml\n",
    "\n",
    "cost_H = qml.Hamiltonian(\n",
    "    # your cost Hamiltonian H_C goes here\n",
    ")\n",
    "\n",
    "drive_H = qml.Hamiltonian(\n",
    "    # your driving Hamiltonian H_D goes here\n",
    ")\n",
    "\n",
    "comm_H = qml.Hamiltonian(\n",
    "    # your commutator i[H_C, H_D] goes here\n",
    ")"
   ]
  },
  {
   "cell_type": "markdown",
   "metadata": {},
   "source": [
    "For step $k$ of FALQON, we prepare state $|\\psi_\\rangle$ by applying $k$ layers, with each layer consisting of a cost step (dependent on $\\Delta t$), and then a driving step (dependent on both $\\Delta t$ and $\\beta$). We can code this using the `cost_layer()` and `mixer_layer()` methods from the QAOA module, which we first import:"
   ]
  },
  {
   "cell_type": "code",
   "execution_count": null,
   "metadata": {},
   "outputs": [],
   "source": [
    "from pennylane import qaoa\n",
    "\n",
    "def falqon_layer(beta, delta_t):\n",
    "    qaoa.cost_layer(delta_t, cost_h)\n",
    "    qaoa.mixer_layer(delta_t*beta, drive_h)"
   ]
  },
  {
   "cell_type": "markdown",
   "metadata": {},
   "source": [
    "We then apply these layers $k$ times using the `layer()` method, and using the iteratively generated list of $\\beta$ values so far:"
   ]
  },
  {
   "cell_type": "code",
   "execution_count": null,
   "metadata": {},
   "outputs": [],
   "source": [
    "def falqon_circuit(step, beta_list, delta_t):\n",
    "    # initial state preparation\n",
    "    qml.layer(falqon_layer, step, beta_list, delta_t)"
   ]
  },
  {
   "cell_type": "markdown",
   "metadata": {},
   "source": [
    "Finally, to determine the next $\\beta$ value, we need to measure the commutator $i[H_C, H_D]$. We run a device on the QULACS simulator, which is designed for large parametric circuits, and append the resulting value of $\\beta$ to an input list of values given so far:"
   ]
  },
  {
   "cell_type": "code",
   "execution_count": null,
   "metadata": {},
   "outputs": [],
   "source": [
    "dev = qml.device(\"qulacs.simulator\", wires=wires)\n",
    "\n",
    "def add_beta(step, beta_list, delta_t):\n",
    "    A = qml.ExpvalCost(circuit(beta_list, delta_t), comm_h, dev)\n",
    "    return beta_list.append(-A)        "
   ]
  },
  {
   "cell_type": "markdown",
   "metadata": {},
   "source": [
    "This computes the expectation of $A_k$ exactly, but on a real device we will have to think much more carefully about how to measure the commutator. Finally, we iterate and produce as an output the estimated cost $\\langle H_C\\rangle_\\ell$ and the resulting sequence $\\{\\beta_k\\}$ which generates our state:"
   ]
  },
  {
   "cell_type": "code",
   "execution_count": null,
   "metadata": {},
   "outputs": [],
   "source": [
    "def falqon(ell, delta_t):\n",
    "    beta_list = [0]\n",
    "    for step in range(ell):\n",
    "        beta_list = add_beta(step, beta_list, delta_t)\n",
    "    min_cost = qml.ExpvalCost(circuit(beta_list, delta_t), cost_h, dev)\n",
    "    return (min_cost, beta_list)"
   ]
  },
  {
   "cell_type": "markdown",
   "metadata": {},
   "source": [
    "Let's see how this works on a real example!"
   ]
  },
  {
   "cell_type": "markdown",
   "metadata": {},
   "source": [
    "### Comments on random graphs\n",
    "\n",
    "Rather than go out and find a data set (the graphs tend to be impractically big), or code up a way to solve small graphs ourselves, let's use a very lazy benchmarking \"trick\": randomize our objects and compare to the mean for these random objects. In this case, we will consider the size of the large clique in an *Erdös-Renyi graph* $G_{n, p}$, obtained by keeping any given edge in the complete graph $K_n$ with probability $p$ (independent of the others). Let's write a function for generating such graphs."
   ]
  },
  {
   "cell_type": "code",
   "execution_count": 16,
   "metadata": {},
   "outputs": [
    {
     "data": {
      "image/png": "[encoded data removed]",
      "text/plain": [
       "<Figure size 432x288 with 1 Axes>"
      ]
     },
     "metadata": {},
     "output_type": "display_data"
    }
   ],
   "source": [
    "import networkx as nx\n",
    "import numpy as np\n",
    "\n",
    "def erdos_renyi(n, p):\n",
    "    edges = []\n",
    "    graph = nx.Graph()\n",
    "    graph.add_nodes_from(range(n))\n",
    "    for i in range(n):\n",
    "        for j in range(i, n):\n",
    "            if np.random.rand() < p:\n",
    "                edges.append((i, j))\n",
    "    graph.add_edges_from(edges)\n",
    "    return graph\n",
    "\n",
    "graph = erdos_renyi(20, 0.2)\n",
    "\n",
    "nx.draw(graph)"
   ]
  },
  {
   "cell_type": "markdown",
   "metadata": {},
   "source": [
    "We will feed these random graphs into our algorithm. In order to benchmark performance, we compare to the typical largest clique size. This is discussed in, e.g., section 7.2 of [Frieze and Karonski (2015)](https://www.math.cmu.edu/~af1p/BOOK.pdf), though we have to take $p \\to 1- p$ in order to exchange independent graphs for cliques. The famous result of [Matula (1976)](https://s2.smu.edu/~matula/Tech-Report76.pdf) is that the size of the largest clique $\\alpha(G)$ obeys\n",
    "\n",
    "$$\n",
    "\\alpha(G_{n,p}) \\approx 2 \\log_{1/p} n\n",
    "$$\n",
    "\n",
    "with probability $1$ as $n\\to \\infty$. For sparse graphs with $p = 1 - d/n$ ($d$ fixed), we have\n",
    "\n",
    "$$\n",
    "\\alpha(G_{n,p}) \\approx \\frac{2 d\\log n}{d}.\n",
    "$$\n",
    "\n",
    "We will take $n$ relatively small and hope it all works! We probably should just use the regular result since we will not be exploiting the nontrivial limit for sparseness. (In fact, this whole approach is suspicious for the graphs we'll be using, but let's just see how it goes.)"
   ]
  },
  {
   "cell_type": "code",
   "execution_count": 33,
   "metadata": {},
   "outputs": [],
   "source": [
    "def er_alpha_dense(n, p):\n",
    "    return 2*np.log(n)/np.log(1/p)\n",
    "\n",
    "def er_alpha_sparse(n, d):\n",
    "    return 2*d*np.log(n)/d"
   ]
  },
  {
   "cell_type": "markdown",
   "metadata": {},
   "source": [
    "### Lazily benchmarking FALQON for MaxClique\n",
    "\n",
    "Let's plagiarize Jack's awesome FALQON code for solving MaxClique:"
   ]
  },
  {
   "cell_type": "code",
   "execution_count": 26,
   "metadata": {},
   "outputs": [],
   "source": [
    "import pennylane as qml\n",
    "from pennylane import qaoa as qaoa\n",
    "from matplotlib import pyplot as plt\n",
    "\n",
    "def build_commutator(graph):\n",
    "    \n",
    "    H = qml.Hamiltonian([], [])\n",
    "    \n",
    "    # Computes the complement of the graph\n",
    "    graph_c = nx.complement(graph)\n",
    "    \n",
    "    \n",
    "    for k in graph_c.nodes:\n",
    "        # Adds the terms in the first sum\n",
    "        for edge in graph_c.edges:\n",
    "            i, j = edge\n",
    "            if k == i:\n",
    "                H += 6 * (qml.PauliY(k) @ qml.PauliZ(j) - qml.PauliY(k))\n",
    "            if k == j:\n",
    "                H += 6 * (qml.PauliZ(i) @ qml.PauliY(k) - qml.PauliY(k))\n",
    "        # Adds the terms in the second sum\n",
    "        H += 6 * qml.PauliY(k)\n",
    "    \n",
    "    return H\n",
    "\n",
    "# Define a layer of the Falqon circuit\n",
    "\n",
    "def falqon_layer(beta):\n",
    "    qaoa.cost_layer(delta_t, cost_h)\n",
    "    qaoa.mixer_layer(delta_t * beta, driver_h)\n",
    "\n",
    "def ansatz(beta, wires, **kwargs):\n",
    "    layers = len(beta)\n",
    "    for w in wires:\n",
    "        qml.Hadamard(wires=w)\n",
    "    qml.layer(falqon_layer, layers, beta)\n",
    "    \n",
    "def falqon(iterations, beta_init, dev):\n",
    "    \n",
    "    beta = [beta_init]\n",
    "    energies = []\n",
    "    \n",
    "    for i in range(iterations):\n",
    "        cost_fn = qml.ExpvalCost(ansatz, hamiltonian, dev)\n",
    "        cost_fn_energy = qml.ExpvalCost(ansatz, cost_h, dev)\n",
    "        \n",
    "        beta.append(-1 * cost_fn(beta))\n",
    "        energy = cost_fn_energy(beta)\n",
    "        energies.append(energy)\n",
    "        \n",
    "        # print(\"Step {} Done, Cost = {}\".format(i, energy))\n",
    "    \n",
    "    return beta, energies"
   ]
  },
  {
   "cell_type": "markdown",
   "metadata": {},
   "source": [
    "So, our goal now is to apply FALQON to a number of graphs on $n$ nodes and fixed $p$, compute the average predicted size of the maximum clique, and then compare to the graph theory result. We will treat this as our figure of merit."
   ]
  },
  {
   "cell_type": "code",
   "execution_count": 27,
   "metadata": {},
   "outputs": [],
   "source": [
    "delta_t = 0.03\n",
    "graphs_per_size = 5\n",
    "prob = 0.2\n",
    "n_list = range(6, 10, 2)\n",
    "iterations = 10\n",
    "beta_init = 0.0\n",
    "\n",
    "averages = []\n",
    "\n",
    "for n in n_list:\n",
    "    max_cliques = []\n",
    "    for reps in range(graphs_per_size):\n",
    "        graph = erdos_renyi(n, prob)\n",
    "        dev = qml.device(\"default.qubit\", wires=graph.nodes)\n",
    "        hamiltonian = build_commutator(graph)\n",
    "        cost_h, driver_h = qaoa.max_clique(graph, constrained=False)\n",
    "\n",
    "        res, res_energies = falqon(iterations, beta_init, dev)\n",
    "        \n",
    "        @qml.qnode(dev)\n",
    "        def test_circuit():\n",
    "            ansatz(res, wires=dev.wires)\n",
    "            return qml.probs(wires=dev.wires)\n",
    "\n",
    "        probs = test_circuit()\n",
    "        convert_to_floats = [float(x) for x in probs]\n",
    "        max_value = max(convert_to_floats)\n",
    "        sol_number = convert_to_floats.index(max_value)\n",
    "        basis_element = bin(sol_number)[2:]\n",
    "        max_clique_size = sum([int(c) for c in basis_element])\n",
    "        \n",
    "        max_cliques.append(max_clique_size)\n",
    "\n",
    "    avg = sum(max_cliques)/graphs_per_size\n",
    "    averages.append(avg)"
   ]
  },
  {
   "cell_type": "markdown",
   "metadata": {},
   "source": [
    "Let's divide these results by the Erdös-Renyi result to obtain a lazy figure of merit:"
   ]
  },
  {
   "cell_type": "code",
   "execution_count": null,
   "metadata": {},
   "outputs": [],
   "source": [
    "er_max = [er_alpha_dense(n, prob) for n in n_list]\n",
    "figure_of_merit = [averages[i]/er_max[i] for i in range(len(n_list))]\n",
    "plt.plot(n_list, figure_of_merit)"
   ]
  }
 ],
 "metadata": {
  "kernelspec": {
   "display_name": "Python 3",
   "language": "python",
   "name": "python3"
  },
  "language_info": {
   "codemirror_mode": {
    "name": "ipython",
    "version": 3
   },
   "file_extension": ".py",
   "mimetype": "text/x-python",
   "name": "python",
   "nbconvert_exporter": "python",
   "pygments_lexer": "ipython3",
   "version": "3.7.6"
  }
 },
 "nbformat": 4,
 "nbformat_minor": 5
}
