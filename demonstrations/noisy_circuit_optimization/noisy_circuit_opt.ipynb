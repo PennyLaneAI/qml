{
 "cells": [
  {
   "cell_type": "code",
   "execution_count": 53,
   "metadata": {
    "collapsed": true
   },
   "outputs": [
    {
     "data": {
      "text/plain": [
       "'\\nOptimizing noisy circuits in Cirq\\n=================================\\n\\n.. meta::\\n    :property=\"og:description\": Learn how to optimize and train noisy quantum computations.\\n    :property=\"og:image\": https://pennylane.ai/qml/_images/noisy_circuit_optimization_thumbnail.png\\n\\nHow does noise influence quantum computing and quantum machine \\nlearning algorithms? Until we have fault-tolerant quantum computers, \\nwe will have to learn to live with noise. There are lots of exciting \\nideas and algorithms in the quantum computing space, but how well do \\nthey survive the reality of today\\'s noisy devices? \\n\\nBackground\\n----------\\n\\nQuantum pure-state simulators are great and readily available in \\na number of quantum software packages. \\nThey allow us to experiment, prototype, test, and validate algorithms\\nand research ideas---up to a certain number of qubits, at least 😉.\\n\\nBut present-day hardware is not ideal. We\\'re forced to confront \\ndecoherence, bit flips, amplitude damping, and so on. Does the \\npresence of noise in near-term devices impact their use in, \\nfor example, \\n:doc:`variational quantum algorithms </glossary/variational_circuit>_`?\\nWon\\'t our models, trained so carefully in simulators, fall apart \\nwhen we run on noisy devices?\\n\\nIn fact, there is some optimism that variational algorithms may be\\nthe best type of algorithms on near-term devices, and may in fact\\nhave an in-built tolerance of noise that \"textbook\" algorithms \\nwould not. \\n\\nIn some ways, variational algorithms are robust against the fact \\nthat the device they are run on may not be ideal. Being variational\\nin nature, they can be tuned to \"work around\" noise to some extent. \\n\\nQuantum machine learning leverages a lot of tools from its \\nclassical counterpart. Fortunately, there is lots of evidence that\\nmachine learning algorithms can not only be robust to noise, but \\ncan even benefit from it! Examples include the use of \\n`reduced-precision arithmetic in deep learning <https://dl.acm.org/doi/abs/10.5555/3045118.3045303>_`,\\nthe strong performance of\\n`stochastic gradient descent <https://en.wikipedia.org/wiki/Stochastic_gradient_descent>`_ \\nand the use of \"dropout\" noise to \\n`prevent overfitting <https://www.cs.toronto.edu/~hinton/absps/JMLRdropout.pdf>`_. \\n\\nSo we undertake to find, extract, and work with the quantum \"signal\" \\nthat is influenced by a device\\'s inhernet noise. \\n\\n\\nNoisy circuits\\n--------------\\n\\nLet\\'s consider a simple quantum circuit which performs a standard\\n\"textbook\" quantum information task: the creation of an entangled\\nstate and the measurement of a \\n`Bell inequality <https://en.wikipedia.org/wiki/Bell%27s_theorem>`_\\n(also known as the \\n`CHSH inequality <https://en.wikipedia.org/wiki/CHSH_inequality>`_).\\n\\nWe\\'ll use the mixed-state device provided by \\n`Cirq <https://cirq.readthedocs.io>`_ to carry out our noisy \\nsimulations.\\n'"
      ]
     },
     "execution_count": 53,
     "metadata": {},
     "output_type": "execute_result"
    }
   ],
   "source": [
    "r\"\"\"\n",
    "Optimizing noisy circuits in Cirq\n",
    "=================================\n",
    "\n",
    ".. meta::\n",
    "    :property=\"og:description\": Learn how to optimize and train noisy quantum computations.\n",
    "    :property=\"og:image\": https://pennylane.ai/qml/_images/noisy_circuit_optimization_thumbnail.png\n",
    "\n",
    "How does noise influence quantum computing and quantum machine \n",
    "learning algorithms? Until we have fault-tolerant quantum computers, \n",
    "we will have to learn to live with noise. There are lots of exciting \n",
    "ideas and algorithms in the quantum computing space, but how well do \n",
    "they survive the reality of today's noisy devices? \n",
    "\n",
    "Background\n",
    "----------\n",
    "\n",
    "Quantum pure-state simulators are great and readily available in \n",
    "a number of quantum software packages. \n",
    "They allow us to experiment, prototype, test, and validate algorithms\n",
    "and research ideas---up to a certain number of qubits, at least 😉.\n",
    "\n",
    "But present-day hardware is not ideal. We're forced to confront \n",
    "decoherence, bit flips, amplitude damping, and so on. Does the \n",
    "presence of noise in near-term devices impact their use in, \n",
    "for example, \n",
    ":doc:`variational quantum algorithms </glossary/variational_circuit>_`?\n",
    "Won't our models, trained so carefully in simulators, fall apart \n",
    "when we run on noisy devices?\n",
    "\n",
    "In fact, there is some optimism that variational algorithms may be\n",
    "the best type of algorithms on near-term devices, and may in fact\n",
    "have an in-built tolerance of noise that \"textbook\" algorithms \n",
    "would not. \n",
    "\n",
    "In some ways, variational algorithms are robust against the fact \n",
    "that the device they are run on may not be ideal. Being variational\n",
    "in nature, they can be tuned to \"work around\" noise to some extent. \n",
    "\n",
    "Quantum machine learning leverages a lot of tools from its \n",
    "classical counterpart. Fortunately, there is lots of evidence that\n",
    "machine learning algorithms can not only be robust to noise, but \n",
    "can even benefit from it! Examples include the use of \n",
    "`reduced-precision arithmetic in deep learning <https://dl.acm.org/doi/abs/10.5555/3045118.3045303>_`,\n",
    "the strong performance of\n",
    "`stochastic gradient descent <https://en.wikipedia.org/wiki/Stochastic_gradient_descent>`_ \n",
    "and the use of \"dropout\" noise to \n",
    "`prevent overfitting <https://www.cs.toronto.edu/~hinton/absps/JMLRdropout.pdf>`_. \n",
    "\n",
    "So we undertake to find, extract, and work with the quantum \"signal\" \n",
    "that is influenced by a device's inhernet noise. \n",
    "\n",
    "\n",
    "Noisy circuits\n",
    "--------------\n",
    "\n",
    "Let's consider a simple quantum circuit which performs a standard\n",
    "\"textbook\" quantum information task: the creation of an entangled\n",
    "state and the measurement of a \n",
    "`Bell inequality <https://en.wikipedia.org/wiki/Bell%27s_theorem>`_\n",
    "(also known as the \n",
    "`CHSH inequality <https://en.wikipedia.org/wiki/CHSH_inequality>`_).\n",
    "\n",
    "We'll use the mixed-state device provided by \n",
    "`Cirq <https://cirq.readthedocs.io>`_ to carry out our noisy \n",
    "simulations.\n",
    "\"\"\""
   ]
  },
  {
   "cell_type": "code",
   "execution_count": 43,
   "metadata": {},
   "outputs": [],
   "source": [
    "import pennylane as qml\n",
    "from pennylane import numpy as np\n",
    "import matplotlib.pyplot as plt\n",
    "\n",
    "dev = qml.device(\"cirq.mixedsimulator\", wires=2)"
   ]
  },
  {
   "cell_type": "code",
   "execution_count": 44,
   "metadata": {},
   "outputs": [],
   "source": [
    "# CHSH observables\n",
    "A1 = qml.PauliZ(0)\n",
    "A2 = qml.PauliX(0)\n",
    "B1 = qml.Hermitian(np.array([[1, 1], [1, -1]]) / np.sqrt(2), wires=1)\n",
    "B2 = qml.Hermitian(np.array([[1, -1], [-1, -1]]) / np.sqrt(2), wires=1)\n",
    "CHSH_observables = [A1 @ B1, A1 @ B2, A2 @ B1, A2 @ B2]\n",
    "\n",
    "# subcircuit for creating an entangled pair of qubits\n",
    "def bell_pair():\n",
    "    qml.Hadamard(wires=0)\n",
    "    qml.CNOT(wires=[0, 1])\n",
    "\n",
    "# circuits for measuring each observable\n",
    "@qml.qnode(dev)\n",
    "def measure_A1B1():\n",
    "    bell_pair()\n",
    "    return qml.expval(A1 @ B1)\n",
    "\n",
    "@qml.qnode(dev)\n",
    "def measure_A1B2():\n",
    "    bell_pair()\n",
    "    return qml.expval(A1 @ B2)\n",
    "\n",
    "@qml.qnode(dev)\n",
    "def measure_A2B1():\n",
    "    bell_pair()\n",
    "    return qml.expval(A2 @ B1)\n",
    "\n",
    "@qml.qnode(dev)\n",
    "def measure_A2B2():\n",
    "    bell_pair()\n",
    "    return qml.expval(A2 @ B2)\n",
    "\n",
    "circuits = qml.QNodeCollection([measure_A1B1, \n",
    "                                measure_A1B2, \n",
    "                                measure_A2B1, \n",
    "                                measure_A2B2])"
   ]
  },
  {
   "cell_type": "code",
   "execution_count": 51,
   "metadata": {
    "scrolled": true
   },
   "outputs": [
    {
     "name": "stdout",
     "output_type": "stream",
     "text": [
      "2.828426718711853\n"
     ]
    }
   ],
   "source": [
    "# now we measure each circuit and construct the Bell inequality\n",
    "expvals = circuits()\n",
    "\n",
    "CHSH_expval = np.sum(expvals[:3]) - expvals[3]\n",
    "print(CHSH_expval)"
   ]
  },
  {
   "cell_type": "code",
   "execution_count": 4,
   "metadata": {},
   "outputs": [],
   "source": [
    "##############################################################################\n",
    "# The output here is the maximal value of the CHSH inequality, which\n",
    "# is :math:`2\\sqrt{2}`. States which have a value \n",
    "# :math:`\\langle CHSH \\geq \\leq 2` can safely be considered\n",
    "# \"quantum\". \n",
    "#\n",
    "# Now let's turn up the noise! 📢 📢 📢\n",
    "#\n",
    "# Cirq provides a number of noisy channels that are not part of\n",
    "# PennyLane core. This is no problem, as the \n",
    "# `PennyLane-Cirq <https://pennylane-cirq.readthedocs.io>`_ \n",
    "# plugin provides these and allows them to be used in PennyLane \n",
    "# circuit declartions."
   ]
  },
  {
   "cell_type": "code",
   "execution_count": 5,
   "metadata": {},
   "outputs": [
    {
     "data": {
      "text/plain": [
       "[('AmplitudeDamp', pennylane_cirq.ops.AmplitudeDamp),\n",
       " ('BitFlip', pennylane_cirq.ops.BitFlip),\n",
       " ('Depolarize', pennylane_cirq.ops.Depolarize),\n",
       " ('Operation', pennylane.operation.Operation),\n",
       " ('PhaseDamp', pennylane_cirq.ops.PhaseDamp),\n",
       " ('PhaseFlip', pennylane_cirq.ops.PhaseFlip)]"
      ]
     },
     "execution_count": 5,
     "metadata": {},
     "output_type": "execute_result"
    }
   ],
   "source": [
    "from pennylane_cirq import ops as cirq_ops\n",
    "import inspect\n",
    "inspect.getmembers(cirq_ops, inspect.isclass)"
   ]
  },
  {
   "cell_type": "code",
   "execution_count": 103,
   "metadata": {},
   "outputs": [],
   "source": [
    "##############################################################################\n",
    "# PennyLane operations and framework-specific operations can be \n",
    "# interwoven freely in circuits that use that plugin's device\n",
    "# for execution.\n",
    "# In this case, the Cirq-provided channels can be used with \n",
    "# Cirq's mixed state simulator.\n",
    "#\n",
    "# We'll use the ``BitFlip`` channel, which has the effect of\n",
    "# randomly flipping the qubits in the computational basis.\n",
    "\n",
    "noise_vals = np.linspace(0, 1, 25)\n",
    "\n",
    "CHSH_vals = []\n",
    "noisy_expvals = []\n",
    "\n",
    "for p in noise_vals:\n",
    "    # we overwrite the ``bell_pair`` subcircuit to add \n",
    "    # extra noisy channels after the entangled state is created \n",
    "    def bell_pair():\n",
    "        qml.Hadamard(wires=0)\n",
    "        qml.CNOT(wires=[0, 1])\n",
    "        cirq_ops.BitFlip(p, wires=0)\n",
    "        cirq_ops.BitFlip(p, wires=1)\n",
    "    # measuring the circuits will now use the new noisy bell_pair function    \n",
    "    expvals = circuits()\n",
    "    noisy_expvals.append(expvals)\n",
    "noisy_expvals = np.array(noisy_expvals)\n",
    "CHSH_expvals = np.sum(noisy_expvals[:,:3], axis=1) - noisy_expvals[:,3]"
   ]
  },
  {
   "cell_type": "code",
   "execution_count": 111,
   "metadata": {
    "scrolled": true
   },
   "outputs": [
    {
     "data": {
      "image/png": "[encoded data removed]",
      "text/plain": [
       "<Figure size 432x288 with 1 Axes>"
      ]
     },
     "metadata": {
      "needs_background": "light"
     },
     "output_type": "display_data"
    }
   ],
   "source": [
    "# Plot the individual observables\n",
    "plt.plot(noise_vals, noisy_expvals[:, 0], 'D', label = \"A1B1\", markersize=5)\n",
    "plt.plot(noise_vals, noisy_expvals[:, 1], 'x', label = \"A1B2\", markersize=12)\n",
    "plt.plot(noise_vals, noisy_expvals[:, 2], '+', label = \"A2B1\", markersize=10)\n",
    "plt.plot(noise_vals, noisy_expvals[:, 3], 'v', label = \"A2B2\", markersize=10)\n",
    "plt.xlabel('Noise parameter')\n",
    "plt.ylabel('Expectation value')\n",
    "plt.legend()\n",
    "plt.show()"
   ]
  },
  {
   "cell_type": "code",
   "execution_count": 115,
   "metadata": {},
   "outputs": [
    {
     "data": {
      "image/png": "[encoded data removed]",
      "text/plain": [
       "<Figure size 432x288 with 1 Axes>"
      ]
     },
     "metadata": {
      "needs_background": "light"
     },
     "output_type": "display_data"
    }
   ],
   "source": [
    "##############################################################################\n",
    "# By adding the bit-flip noise, we've degraded the value of the \n",
    "# CHSH observable. The first two observables :math:`A_1\\otimes B_1` \n",
    "# and :math:`A_1\\otimes B_2` are sensitive to this noise parameter. \n",
    "# Their value is weakened when the noise parameter is not \n",
    "# 0 or 1 (note that the the CHSH inequality is symmetric with \n",
    "# respect to bit-flips).\n",
    "#\n",
    "# The latter two observables, on the other hand, are seemingly \n",
    "# unaffected by the noise at all.\n",
    "#\n",
    "# Even when noise is present, there may still be subspaces \n",
    "# or observables which are minimally affected or unaffected. \n",
    "# This gives us some hope that variational algorithms can learn\n",
    "# to find and exploit such noise-free substructures on otherwise\n",
    "# noisy devices.\n",
    "#\n",
    "# We can also plot the CHSH observable in the noisy case. Remember,\n",
    "# values greater than 2 can safely be considered \"quantum\".\n",
    "\n",
    "plt.plot(noise_vals, CHSH_expvals, label=\"CHSH\")\n",
    "plt.plot(noise_vals, 2 * np.ones_like(noise_vals), label=\"Quantum-classical boundary\")\n",
    "plt.xlabel('Noise parameter')\n",
    "plt.ylabel('CHSH Expectation value')\n",
    "plt.legend()\n",
    "plt.show()"
   ]
  },
  {
   "cell_type": "code",
   "execution_count": null,
   "metadata": {},
   "outputs": [],
   "source": [
    "##############################################################################\n",
    "# Too much noise (around 0.2 in this example), and we lose the \n",
    "# quantumness we created in our circuit. But if we only have a little\n",
    "# noise, the quantumness undeniably remains. So there is still hope\n",
    "# that quantum algorithms can do something useful, even on noisy \n",
    "# near-term devices.\n",
    "#\n",
    "# ..note::\n",
    "#\n",
    "#   In Google's quantum supremacy paper [#arute2019]_, \n",
    "#   they were able to show that some \n",
    "#   small signature of quantumness remained in their computations, \n",
    "#   even after a deep many-qubit circuit was executed."
   ]
  },
  {
   "cell_type": "markdown",
   "metadata": {},
   "source": [
    "Still to do:\n",
    "\n",
    "- Connections of parameter-shift rule with noisy circuits:\n",
    "    - if your circuit is subject to noisy channels, but the gates themselves are not noisy, completely justified to use parameter-shift rule on gates (i.e., you are getting the correct gradients of the circuit that is taking place)\n",
    "    - do have to be careful though that the state/observable that you obtain with a noisy channel is not the same one you might want (e.g., VQE, ground state can never be mixed)\n",
    "    - Interestingly, variants of the parameter-shift rule also hold for a number of \"parameterized\" channels\n",
    "    - these parameters themselves might not be easily controllable, but this could still be useful for some quantum information tasks\n",
    "- Usage demos\n",
    "    - qubit rotation with mixed state\n",
    "    - show how mixed state can achieve same expval as pure state\n",
    "    - show how noisy state cannot reach some expvals that pure state can\n",
    "    - show how parameter-shift rule can work for channels in practice\n",
    "\n",
    "- emphasize that channels don't always act \"in-between\" gates, but it's a suitable model\n"
   ]
  },
  {
   "cell_type": "code",
   "execution_count": 4,
   "metadata": {},
   "outputs": [
    {
     "name": "stdout",
     "output_type": "stream",
     "text": [
      "0.851540632545948\n"
     ]
    }
   ],
   "source": [
    "@qml.qnode(mdev)\n",
    "def circuit(gate_params, noise_param=0.0):\n",
    "    qml.RX(gate_params[0], wires=0)\n",
    "    qml.RY(gate_params[1], wires=0)\n",
    "    cirq_ops.Depolarize(noise_param, wires=0)\n",
    "    return qml.expval(qml.PauliZ(0))\n",
    "\n",
    "gate_pars = [0.54, 0.12]\n",
    "print(circuit(gate_pars))\n",
    "#qml.grad(circuit, argnum=[0])(gate_pars, noise_param=noise_par)"
   ]
  },
  {
   "cell_type": "code",
   "execution_count": 5,
   "metadata": {},
   "outputs": [
    {
     "data": {
      "text/plain": [
       "array([[0.92577034+9.313226e-10j, 0.0513391 +2.570680e-01j],\n",
       "       [0.0513391 -2.570680e-01j, 0.07422971+9.313226e-10j]],\n",
       "      dtype=complex64)"
      ]
     },
     "execution_count": 5,
     "metadata": {},
     "output_type": "execute_result"
    }
   ],
   "source": [
    "# We can query the simulator for its final post-measurement state.\n",
    "# Pure-state simulators, like PennyLane's ``default.qubit`` or\n",
    "# ``cirq.simulator``, represent an N-qubit state using a vector\n",
    "# of dimension :math:`2^N`. For mixed states, the state is \n",
    "# represented as a :math:`2^N\\times 2^N` density matrix.\n",
    "mixed_dev.state"
   ]
  },
  {
   "cell_type": "code",
   "execution_count": null,
   "metadata": {},
   "outputs": [],
   "source": []
  },
  {
   "cell_type": "code",
   "execution_count": null,
   "metadata": {},
   "outputs": [],
   "source": []
  },
  {
   "cell_type": "code",
   "execution_count": 6,
   "metadata": {},
   "outputs": [
    {
     "data": {
      "image/png": "[encoded data removed]",
      "text/plain": [
       "<Figure size 432x288 with 1 Axes>"
      ]
     },
     "metadata": {
      "needs_background": "light"
     },
     "output_type": "display_data"
    }
   ],
   "source": [
    "# Now what happens when we turn up the noise?\n",
    "# In this case, our circuit has a depolarizing channel, which \n",
    "# degrades the density matrix :math:`\\rho` towards the state\n",
    "# ..math::\n",
    "#\n",
    "#   \\tfrac{1}{3}\\left[X\\rho X + Y\\rho Y + Z\\rho Z\\right]\n",
    "#\n",
    "# (at the value :math:`p=\\frac{3}{4}`, it passes through the \n",
    "# maximally mixed state).\n",
    "# We can see this in our circuit by looking at how the final \n",
    "# ``PauliZ`` expectation value changes as a function of the \n",
    "# noise strength \n",
    "# .\n",
    "noise_vals = np.linspace(0., 1., 20)\n",
    "expvals = [circuit(gate_pars, noise_param=p) for p in noise_vals]\n",
    "\n",
    "plt.plot(noise_vals, expvals)\n",
    "plt.ylabel(r\"Expectation value $\\langle \\hat{Z} \\rangle$\") \n",
    "plt.xlabel(\"Noise strength p\");"
   ]
  },
  {
   "cell_type": "markdown",
   "metadata": {},
   "source": [
    "- circuit depth is limited because it introduces more noise\n",
    "- Note: though we can work with noise, it should still be small enough \n",
    "  that it doesn't drown out the quantum features we are looking for"
   ]
  },
  {
   "cell_type": "code",
   "execution_count": 7,
   "metadata": {},
   "outputs": [
    {
     "name": "stdout",
     "output_type": "stream",
     "text": [
      "Step     5. Cost:  0.9961779; Noisy Cost:  0.5993173\n",
      "Step    10. Cost:  0.8974948; Noisy Cost:  0.5941737\n",
      "Step    15. Cost:  0.1440492; Noisy Cost:  0.5527687\n",
      "Step    20. Cost: -0.1536868; Noisy Cost:  0.3309180\n",
      "Step    25. Cost: -0.9152617; Noisy Cost:  0.0470152\n",
      "Step    30. Cost: -0.9994047; Noisy Cost: -0.0519407\n",
      "Step    35. Cost: -0.9999964; Noisy Cost: -0.2980615\n",
      "Step    40. Cost: -1.0000000; Noisy Cost: -0.5561487\n",
      "Step    45. Cost: -1.0000000; Noisy Cost: -0.5969037\n",
      "Step    50. Cost: -1.0000000; Noisy Cost: -0.5997996\n",
      "Step    55. Cost: -1.0000000; Noisy Cost: -0.5999871\n",
      "Step    60. Cost: -1.0000000; Noisy Cost: -0.5999991\n",
      "Step    65. Cost: -1.0000000; Noisy Cost: -0.6000000\n",
      "Step    70. Cost: -1.0000000; Noisy Cost: -0.6000000\n",
      "Step    75. Cost: -1.0000000; Noisy Cost: -0.6000000\n",
      "Step    80. Cost: -1.0000000; Noisy Cost: -0.6000000\n",
      "Step    85. Cost: -1.0000000; Noisy Cost: -0.6000000\n",
      "Step    90. Cost: -1.0000000; Noisy Cost: -0.6000000\n",
      "Step    95. Cost: -1.0000000; Noisy Cost: -0.6000000\n",
      "Step   100. Cost: -1.0000000; Noisy Cost: -0.6000000\n",
      "\n",
      "Optimized rotation angles (noise-free case):\n",
      "( 0.0000000,  3.1415926)\n",
      "Optimized rotation angles (noisy case):\n",
      "( 0.0000000,  3.1415926)\n"
     ]
    }
   ],
   "source": [
    "# Other than the ``Depolarize`` channel, our example is exactly\n",
    "# the same as the \n",
    "# :doc:`qubit rotation tutorial </demos/tutorial_qubit_rotation>`_.\n",
    "# Let's fix the noise parameter and see how the noise affects the\n",
    "# optimization of our circuit. The goal is to tune the qubit state \n",
    "# until it has an ``PauliZ`` expectation value of :math:`-1` (the \n",
    "# lowest possible).\n",
    "\n",
    "# declare the cost functions to be optimized\n",
    "def cost(x):\n",
    "    return circuit(x, noise_param=0.0)\n",
    "def noisy_cost(x):\n",
    "    return circuit(x, noise_param=0.3)\n",
    "\n",
    "# initialise the optimizer\n",
    "opt = qml.GradientDescentOptimizer(stepsize=0.4)\n",
    "\n",
    "# set the number of steps\n",
    "steps = 100\n",
    "# set the initial parameter values\n",
    "init_params = np.array([0.011, 0.012])\n",
    "noisy_circuit_params = init_params\n",
    "params = init_params\n",
    "\n",
    "for i in range(steps):\n",
    "    # update the circuit parameters\n",
    "    # we can optimize both in the same training loop\n",
    "    params = opt.step(cost, params)\n",
    "    noisy_circuit_params = opt.step(noisy_cost, noisy_circuit_params)\n",
    "\n",
    "    if (i + 1) % 5 == 0:\n",
    "        print(\"Step {:5d}. Cost: {: .7f}; Noisy Cost: {: .7f}\"\n",
    "              .format(i + 1, \n",
    "                      cost(params), \n",
    "                      noisy_cost(noisy_circuit_params)))\n",
    "\n",
    "print(\"\\nOptimized rotation angles (noise-free case):\")\n",
    "print(\"({: .7f}, {: .7f})\".format(*params))\n",
    "print(\"Optimized rotation angles (noisy case):\")\n",
    "print(\"({: .7f}, {: .7f})\".format(*noisy_circuit_params))\n"
   ]
  },
  {
   "cell_type": "code",
   "execution_count": 8,
   "metadata": {},
   "outputs": [],
   "source": [
    "# There are a couple interesting observations here. \n",
    "# First, the noisy circuit isn't able to achieve the same final\n",
    "# cost function value as the ideal circuit. This is because \n",
    "# the noise causes the state to be come irreversibly mixed. \n",
    "# Mixed states can't achieve the same extremal expectation values\n",
    "# as pure states.\n",
    "# The second observation is that both circuits still converge to \n",
    "# the same parameter values :math:`(0,\\pi)`, despite having \n",
    "# different final states. \n",
    "#\n",
    "# It could have been the case that noisy devices irreparably \n",
    "# damage the optimization of variational circuits, steering us \n",
    "# towards parameter values which are not useful. Luckily, at least \n",
    "# for the simple example above, this is not the case. \n",
    "# Optimizations on noisy devices can still lead to similar parameter \n",
    "# values as when we run on ideal devices. "
   ]
  },
  {
   "cell_type": "code",
   "execution_count": 9,
   "metadata": {},
   "outputs": [],
   "source": [
    "# Let's dig a bit into the underlying quantum computing theory\n",
    "# to understand better what's happening.\n",
    "# Expectation values of :doc:`variational circuits </glossary/variational_circuit>`_, \n",
    "# like the one we are measuring, are composed of three pieces:\n",
    "# i) an initial quantum state :math:`\\rho` (usually the zero state),\n",
    "# ii) a parameterized unitary transformation :math:`U(\\theta)`), and\n",
    "# iii) measurement of a final observable :math:`\\hat{B}`.\n",
    "#\n",
    "# The equation for the expectation value is given by the Born rule:\n",
    "# ..math::\n",
    "#\n",
    "#   \\langle \\hat{B} \\rangle = \n",
    "#           \\mathrm{Tr}(\\hat{B}U(\\theta)\\rho U^\\dagger(\\theta)).\n",
    "#\n",
    "# When optimizing, we can compute gradients of many common gates \n",
    "# using the :doc:`parameter-shift rule </glossary/parameter_shift>`_:\n",
    "# ..math::\n",
    "#\n",
    "#   \\frac{\\partial}{\\partial \\theta}\\langle \\hat{B} \\rangle(\\theta)`\n",
    "#      =  \\frac{1}{2}\n",
    "#            \\left[\n",
    "#                \\langle \\hat{B} \\rangle(\\theta + \\frac{\\pi}{2})\n",
    "#              - \\langle \\hat{B} \\rangle(\\theta)\n",
    "#            \\right]\n",
    "#\n",
    "# In our example, the unitary is split into two gates, \n",
    "# ``U_1=RX`` and ``U_2=RY``, each of which takes an independent \n",
    "# parameter \\theta_i. \n",
    "# What happens when we apply a \n",
    "# noisy channel :math:`\\Lambda` after the gates? In this case, \n",
    "# the expectation value becomes\n",
    "#\n",
    "# ..math::\n",
    "#\n",
    "#   \\langle \\hat{B} \\rangle = \n",
    "#           \\mathrm{Tr}(\\hat{B}\\Lambda\\left[\n",
    "#                          U(\\theta)\\rho U^\\dagger(\\theta)\n",
    "#                      \\right]).\n",
    "#\n",
    "# Using the Heisenberg picture, we can transfer the channel \n",
    "# \\Lambda acting on the state :math:`U(\\theta)\\rho U^\\dagger(\\theta)`\n",
    "# into the _adjoint channel_ :math:`\\Lambda^\\dagger` acting on the \n",
    "# observable :math:`\\hat{B}`, transforming it to a new observable\n",
    "# :math:`\\hat{B} = \\Lambda^\\dagger[\\hat{B}]=\\hat{B}'`\n",
    "# With the channel present, the expectation value can be interpreted\n",
    "# as if we had the same variational state, but measured a different\n",
    "# observable:\n",
    "#\n",
    "# ..math::\n",
    "#\n",
    "#   \\langle \\hat{B} \\rangle = \n",
    "#           \\mathrm{Tr}(\\hat{B}'(\\theta)\\rho U^\\dagger(\\theta)).\n",
    "#\n",
    "# This has immediate consequences for the parameter-shift rule. With\n",
    "# the channel present, we have simply\n",
    "#\n",
    "# ..math::\n",
    "#\n",
    "#   \\frac{\\partial}{\\partial \\theta}\\langle \\hat{B} \\rangle(\\theta)`\n",
    "#      =  \\frac{1}{2}\n",
    "#            \\left[\n",
    "#                \\langle \\hat{B}' \\rangle(\\theta + \\frac{\\pi}{2})\n",
    "#              - \\langle \\hat{B}' \\rangle(\\theta)\n",
    "#            \\right].\n",
    "#\n",
    "# In other words, the parameter-shift rule continues to hold for all\n",
    "# gates, even when we add additional channels! \n",
    "#\n",
    "# ..note:: In the above, we implicitly assumed that the channel \n",
    "#          th independent of the gate's parameters."
   ]
  },
  {
   "cell_type": "code",
   "execution_count": 10,
   "metadata": {},
   "outputs": [],
   "source": [
    "# Let's confirm the above derivations with our example.\n"
   ]
  },
  {
   "cell_type": "code",
   "execution_count": null,
   "metadata": {},
   "outputs": [],
   "source": []
  },
  {
   "cell_type": "code",
   "execution_count": null,
   "metadata": {},
   "outputs": [],
   "source": [
    "##############################################################################\n",
    "# References\n",
    "# ----------\n",
    "#\n",
    "# .. [#arute2019]\n",
    "#\n",
    "#     Frank Arute et al. \"Quantum supremacy using a programmable \n",
    "#     superconducting processor.\" \n",
    "#     Nature, 574(7779), 505-510.\n",
    "#"
   ]
  }
 ],
 "metadata": {
  "kernelspec": {
   "display_name": "Python 3 (PennyLane-Cirq)",
   "language": "python",
   "name": "pennylane_cirq"
  },
  "language_info": {
   "codemirror_mode": {
    "name": "ipython",
    "version": 3
   },
   "file_extension": ".py",
   "mimetype": "text/x-python",
   "name": "python",
   "nbconvert_exporter": "python",
   "pygments_lexer": "ipython3",
   "version": "3.7.7"
  }
 },
 "nbformat": 4,
 "nbformat_minor": 4
}
